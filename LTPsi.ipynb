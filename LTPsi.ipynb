{
 "metadata": {
  "name": "",
  "signature": "sha256:3366790ba59559dd87fe5da3226d7c99ddad9a552b1ffc6c236be10896f1daa1"
 },
 "nbformat": 3,
 "nbformat_minor": 0,
 "worksheets": [
  {
   "cells": [
    {
     "cell_type": "code",
     "collapsed": false,
     "input": [
      "from Molecule import Molecule"
     ],
     "language": "python",
     "metadata": {},
     "outputs": [],
     "prompt_number": 1
    },
    {
     "cell_type": "code",
     "collapsed": false,
     "input": [
      "from renderMolecule import renderMolecule"
     ],
     "language": "python",
     "metadata": {},
     "outputs": [],
     "prompt_number": 2
    },
    {
     "cell_type": "code",
     "collapsed": false,
     "input": [
      "import NumericalDerivative as dx"
     ],
     "language": "python",
     "metadata": {},
     "outputs": [],
     "prompt_number": 3
    },
    {
     "cell_type": "code",
     "collapsed": false,
     "input": [
      "BadMeth = Molecule(\"Molecules/badmeth.mol\")"
     ],
     "language": "python",
     "metadata": {},
     "outputs": [],
     "prompt_number": 4
    },
    {
     "cell_type": "code",
     "collapsed": false,
     "input": [
      "CartArray = dx.Optimize(BadMeth,m=True)"
     ],
     "language": "python",
     "metadata": {},
     "outputs": [
      {
       "output_type": "stream",
       "stream": "stdout",
       "text": [
        "Number of Orbitals: 9\n",
        "Number of Primitive Gaussians: 105\n",
        "Integration Complete in 0.056312084198 seconds"
       ]
      },
      {
       "output_type": "stream",
       "stream": "stdout",
       "text": [
        "\n",
        "Number of Orbitals: 9\n",
        "Number of Primitive Gaussians: 105\n",
        "Integration Complete in 0.0369539260864 seconds\n",
        "Number of Orbitals: 9"
       ]
      },
      {
       "output_type": "stream",
       "stream": "stdout",
       "text": [
        "\n",
        "Number of Primitive Gaussians: 105\n",
        "Integration Complete in 0.0344231128693 seconds\n",
        "Number of Orbitals: 9\n",
        "Number of Primitive Gaussians: 105\n",
        "Integration Complete in 0.0280838012695 seconds"
       ]
      },
      {
       "output_type": "stream",
       "stream": "stdout",
       "text": [
        "\n",
        "Number of Orbitals: 9\n",
        "Number of Primitive Gaussians: 105\n",
        "Integration Complete in 0.0344080924988 seconds\n",
        "Number of Orbitals: 9"
       ]
      },
      {
       "output_type": "stream",
       "stream": "stdout",
       "text": [
        "\n",
        "Number of Primitive Gaussians: 105\n",
        "Integration Complete in 0.0273520946503 seconds\n",
        "Number of Orbitals: 9\n",
        "Number of Primitive Gaussians: 105\n",
        "Integration Complete in 0.0253078937531 seconds"
       ]
      },
      {
       "output_type": "stream",
       "stream": "stdout",
       "text": [
        "\n",
        "Number of Orbitals: 9\n",
        "Number of Primitive Gaussians: 105\n",
        "Integration Complete in 0.0264890193939 seconds\n",
        "Number of Orbitals: 9\n",
        "Number of Primitive Gaussians: 105\n",
        "Integration Complete in 0.0253019332886 seconds"
       ]
      },
      {
       "output_type": "stream",
       "stream": "stdout",
       "text": [
        "\n",
        "Number of Orbitals: 9\n",
        "Number of Primitive Gaussians: 105\n",
        "Integration Complete in 0.0272331237793 seconds\n",
        "Number of Orbitals: 9\n",
        "Number of Primitive Gaussians: 105\n",
        "Integration Complete in 0.0252051353455 seconds"
       ]
      },
      {
       "output_type": "stream",
       "stream": "stdout",
       "text": [
        "\n",
        "Number of Orbitals: 9\n",
        "Number of Primitive Gaussians: 105\n",
        "Integration Complete in 0.0266771316528 seconds\n",
        "Number of Orbitals: 9\n",
        "Number of Primitive Gaussians: 105\n",
        "Integration Complete in 0.0252618789673 seconds"
       ]
      },
      {
       "output_type": "stream",
       "stream": "stdout",
       "text": [
        "\n",
        "Number of Orbitals: 9\n",
        "Number of Primitive Gaussians: 105\n",
        "Integration Complete in 0.027284860611 seconds\n",
        "Number of Orbitals: 9\n",
        "Number of Primitive Gaussians: 105\n",
        "Integration Complete in 0.0252377986908 seconds"
       ]
      },
      {
       "output_type": "stream",
       "stream": "stdout",
       "text": [
        "\n",
        "Number of Orbitals: 9\n",
        "Number of Primitive Gaussians: 105\n",
        "Integration Complete in 0.0275950431824 seconds\n",
        "Number of Orbitals: 9\n",
        "Number of Primitive Gaussians: 105\n",
        "Integration Complete in 0.0252301692963 seconds"
       ]
      },
      {
       "output_type": "stream",
       "stream": "stdout",
       "text": [
        "\n",
        "Number of Orbitals: 9\n",
        "Number of Primitive Gaussians: 105\n",
        "Integration Complete in 0.028302192688 seconds\n",
        "Number of Orbitals: 9\n",
        "Number of Primitive Gaussians: 105\n",
        "Integration Complete in 0.0252890586853 seconds"
       ]
      },
      {
       "output_type": "stream",
       "stream": "stdout",
       "text": [
        "\n",
        "Number of Orbitals: 9\n",
        "Number of Primitive Gaussians: 105\n",
        "Integration Complete in 0.0279080867767 seconds\n",
        "Number of Orbitals: 9\n",
        "Number of Primitive Gaussians: 105\n",
        "Integration Complete in 0.0251908302307 seconds"
       ]
      },
      {
       "output_type": "stream",
       "stream": "stdout",
       "text": [
        "\n",
        "Number of Orbitals: 9\n",
        "Number of Primitive Gaussians: 105\n",
        "Integration Complete in 0.027902841568 seconds\n",
        "Number of Orbitals: 9\n",
        "Number of Primitive Gaussians: 105\n",
        "Integration Complete in 0.0263991355896 seconds"
       ]
      },
      {
       "output_type": "stream",
       "stream": "stdout",
       "text": [
        "\n",
        "Number of Orbitals: 9\n",
        "Number of Primitive Gaussians: 105\n",
        "Integration Complete in 0.0386209487915 seconds\n",
        "Number of Orbitals: 9"
       ]
      },
      {
       "output_type": "stream",
       "stream": "stdout",
       "text": [
        "\n",
        "Number of Primitive Gaussians: 105\n",
        "Integration Complete in 0.0262570381165 seconds\n",
        "Number of Orbitals: 9\n",
        "Number of Primitive Gaussians: 105\n",
        "Integration Complete in 0.0253121852875 seconds"
       ]
      },
      {
       "output_type": "stream",
       "stream": "stdout",
       "text": [
        "\n",
        "Number of Orbitals: 9\n",
        "Number of Primitive Gaussians: 105\n",
        "Integration Complete in 0.0279068946838 seconds\n",
        "Number of Orbitals: 9\n",
        "Number of Primitive Gaussians: 105\n",
        "Integration Complete in 0.0252261161804 seconds"
       ]
      },
      {
       "output_type": "stream",
       "stream": "stdout",
       "text": [
        "\n",
        "Number of Orbitals: 9\n",
        "Number of Primitive Gaussians: 105\n",
        "Integration Complete in 0.0292639732361 seconds\n",
        "Number of Orbitals: 9\n",
        "Number of Primitive Gaussians: 105\n",
        "Integration Complete in 0.0252320766449 seconds"
       ]
      },
      {
       "output_type": "stream",
       "stream": "stdout",
       "text": [
        "\n",
        "Number of Orbitals: 9\n",
        "Number of Primitive Gaussians: 105\n",
        "Integration Complete in 0.0293560028076 seconds\n",
        "Number of Orbitals: 9\n",
        "Number of Primitive Gaussians: 105\n",
        "Integration Complete in 0.025386095047 seconds"
       ]
      },
      {
       "output_type": "stream",
       "stream": "stdout",
       "text": [
        "\n",
        "Number of Orbitals: 9\n",
        "Number of Primitive Gaussians: 105\n",
        "Integration Complete in 0.0294451713562 seconds\n",
        "Number of Orbitals: 9\n",
        "Number of Primitive Gaussians: 105\n",
        "Integration Complete in 0.0297358036041 seconds"
       ]
      },
      {
       "output_type": "stream",
       "stream": "stdout",
       "text": [
        "\n",
        "Number of Orbitals: 9\n",
        "Number of Primitive Gaussians: 105\n",
        "Integration Complete in 0.0286989212036 seconds\n",
        "Number of Orbitals: 9\n",
        "Number of Primitive Gaussians: 105\n",
        "Integration Complete in 0.0254271030426 seconds"
       ]
      },
      {
       "output_type": "stream",
       "stream": "stdout",
       "text": [
        "\n",
        "Number of Orbitals: 9\n",
        "Number of Primitive Gaussians: 105\n",
        "Integration Complete in 0.0294020175934 seconds\n",
        "Number of Orbitals: 9\n",
        "Number of Primitive Gaussians: 105\n",
        "Integration Complete in 0.0254490375519 seconds"
       ]
      },
      {
       "output_type": "stream",
       "stream": "stdout",
       "text": [
        "\n",
        "Number of Orbitals: 9\n",
        "Number of Primitive Gaussians: 105\n",
        "Integration Complete in 0.0282580852509 seconds\n",
        "Number of Orbitals: 9\n",
        "Number of Primitive Gaussians: 105\n",
        "Integration Complete in 0.0252871513367 seconds"
       ]
      },
      {
       "output_type": "stream",
       "stream": "stdout",
       "text": [
        "\n",
        "Number of Orbitals: 9\n",
        "Number of Primitive Gaussians: 105\n",
        "Integration Complete in 0.0282080173492 seconds\n",
        "Number of Orbitals: 9\n",
        "Number of Primitive Gaussians: 105\n",
        "Integration Complete in 0.0253031253815 seconds"
       ]
      },
      {
       "output_type": "stream",
       "stream": "stdout",
       "text": [
        "\n",
        "Number of Orbitals: 9\n",
        "Number of Primitive Gaussians: 105\n",
        "Integration Complete in 0.0289700031281 seconds\n",
        "Number of Orbitals: 9\n",
        "Number of Primitive Gaussians: 105\n",
        "Integration Complete in 0.0253059864044 seconds"
       ]
      },
      {
       "output_type": "stream",
       "stream": "stdout",
       "text": [
        "\n",
        "Number of Orbitals: 9\n",
        "Number of Primitive Gaussians: 105\n",
        "Integration Complete in 0.0278151035309 seconds\n",
        "Number of Orbitals: 9\n",
        "Number of Primitive Gaussians: 105\n",
        "Integration Complete in 0.0253548622131 seconds"
       ]
      },
      {
       "output_type": "stream",
       "stream": "stdout",
       "text": [
        "\n",
        "Number of Orbitals: 9\n",
        "Number of Primitive Gaussians: 105\n",
        "Integration Complete in 0.027706861496 seconds\n",
        "Number of Orbitals: 9\n",
        "Number of Primitive Gaussians: 105\n",
        "Integration Complete in 0.0254871845245 seconds"
       ]
      },
      {
       "output_type": "stream",
       "stream": "stdout",
       "text": [
        "\n",
        "Number of Orbitals: 9\n",
        "Number of Primitive Gaussians: 105\n",
        "Integration Complete in 0.027617931366 seconds\n",
        "Number of Orbitals: 9\n",
        "Number of Primitive Gaussians: 105\n",
        "Integration Complete in 0.0253119468689 seconds"
       ]
      },
      {
       "output_type": "stream",
       "stream": "stdout",
       "text": [
        "\n",
        "Number of Orbitals: 9\n",
        "Number of Primitive Gaussians: 105\n",
        "Integration Complete in 0.0272459983826 seconds\n",
        "Number of Orbitals: 9\n",
        "Number of Primitive Gaussians: 105\n",
        "Integration Complete in 0.0253820419312 seconds"
       ]
      },
      {
       "output_type": "stream",
       "stream": "stdout",
       "text": [
        "\n",
        "Number of Orbitals: 9\n",
        "Number of Primitive Gaussians: 105\n",
        "Integration Complete in 0.0274238586426 seconds\n",
        "Number of Orbitals: 9\n",
        "Number of Primitive Gaussians: 105\n",
        "Integration Complete in 0.0253269672394 seconds"
       ]
      },
      {
       "output_type": "stream",
       "stream": "stdout",
       "text": [
        "\n",
        "Number of Orbitals: 9\n",
        "Number of Primitive Gaussians: 105\n",
        "Integration Complete in 0.028244972229 seconds\n",
        "Number of Orbitals: 9\n",
        "Number of Primitive Gaussians: 105\n",
        "Integration Complete in 0.0253319740295 seconds"
       ]
      },
      {
       "output_type": "stream",
       "stream": "stdout",
       "text": [
        "\n",
        "Number of Orbitals: 9\n",
        "Number of Primitive Gaussians: 105\n",
        "Integration Complete in 0.0287170410156 seconds\n",
        "Number of Orbitals: 9\n",
        "Number of Primitive Gaussians: 105\n",
        "Integration Complete in 0.0253939628601 seconds"
       ]
      },
      {
       "output_type": "stream",
       "stream": "stdout",
       "text": [
        "\n",
        "Number of Orbitals: 9\n",
        "Number of Primitive Gaussians: 105\n",
        "Integration Complete in 0.0275750160217 seconds\n",
        "Number of Orbitals: 9\n",
        "Number of Primitive Gaussians: 105\n",
        "Integration Complete in 0.0252909660339 seconds"
       ]
      },
      {
       "output_type": "stream",
       "stream": "stdout",
       "text": [
        "\n",
        "Number of Orbitals: 9\n",
        "Number of Primitive Gaussians: 105\n",
        "Integration Complete in 0.0263018608093 seconds\n",
        "Number of Orbitals: 9\n",
        "Number of Primitive Gaussians: 105\n",
        "Integration Complete in 0.0296680927277 seconds"
       ]
      },
      {
       "output_type": "stream",
       "stream": "stdout",
       "text": [
        "\n",
        "Number of Orbitals: 9\n",
        "Number of Primitive Gaussians: 105\n",
        "Integration Complete in 0.0269999504089 seconds\n",
        "Number of Orbitals: 9\n",
        "Number of Primitive Gaussians: 105\n",
        "Integration Complete in 0.0258309841156 seconds"
       ]
      },
      {
       "output_type": "stream",
       "stream": "stdout",
       "text": [
        "\n",
        "Number of Orbitals: 9\n",
        "Number of Primitive Gaussians: 105\n",
        "Integration Complete in 0.0270121097565 seconds\n",
        "Number of Orbitals: 9\n",
        "Number of Primitive Gaussians: 105\n",
        "Integration Complete in 0.0254259109497 seconds"
       ]
      },
      {
       "output_type": "stream",
       "stream": "stdout",
       "text": [
        "\n",
        "Number of Orbitals: 9\n",
        "Number of Primitive Gaussians: 105\n",
        "Integration Complete in 0.0269989967346 seconds\n",
        "Number of Orbitals: 9\n",
        "Number of Primitive Gaussians: 105\n",
        "Integration Complete in 0.0252559185028 seconds"
       ]
      },
      {
       "output_type": "stream",
       "stream": "stdout",
       "text": [
        "\n",
        "Number of Orbitals: 9\n",
        "Number of Primitive Gaussians: 105\n",
        "Integration Complete in 0.0269179344177 seconds\n",
        "Number of Orbitals: 9\n",
        "Number of Primitive Gaussians: 105\n",
        "Integration Complete in 0.0257270336151 seconds"
       ]
      },
      {
       "output_type": "stream",
       "stream": "stdout",
       "text": [
        "\n",
        "Number of Orbitals: 9\n",
        "Number of Primitive Gaussians: 105\n",
        "Integration Complete in 0.0268731117249 seconds\n",
        "Number of Orbitals: 9\n",
        "Number of Primitive Gaussians: 105\n",
        "Integration Complete in 0.0255789756775 seconds"
       ]
      },
      {
       "output_type": "stream",
       "stream": "stdout",
       "text": [
        "\n",
        "Number of Orbitals: 9\n",
        "Number of Primitive Gaussians: 105\n",
        "Integration Complete in 0.0266749858856 seconds\n",
        "Number of Orbitals: 9\n",
        "Number of Primitive Gaussians: 105\n",
        "Integration Complete in 0.0253338813782 seconds"
       ]
      },
      {
       "output_type": "stream",
       "stream": "stdout",
       "text": [
        "\n",
        "Number of Orbitals: 9\n",
        "Number of Primitive Gaussians: 105\n",
        "Integration Complete in 0.0268199443817 seconds\n",
        "Number of Orbitals: 9\n",
        "Number of Primitive Gaussians: 105\n",
        "Integration Complete in 0.0252740383148 seconds"
       ]
      },
      {
       "output_type": "stream",
       "stream": "stdout",
       "text": [
        "\n",
        "Number of Orbitals: 9\n",
        "Number of Primitive Gaussians: 105\n",
        "Integration Complete in 0.0267879962921 seconds\n",
        "Number of Orbitals: 9\n",
        "Number of Primitive Gaussians: 105\n",
        "Integration Complete in 0.0253059864044 seconds"
       ]
      },
      {
       "output_type": "stream",
       "stream": "stdout",
       "text": [
        "\n",
        "Number of Orbitals: 9\n",
        "Number of Primitive Gaussians: 105\n",
        "Integration Complete in 0.0267579555511 seconds\n",
        "Number of Orbitals: 9\n",
        "Number of Primitive Gaussians: 105\n",
        "Integration Complete in 0.0253190994263 seconds"
       ]
      },
      {
       "output_type": "stream",
       "stream": "stdout",
       "text": [
        "\n",
        "Number of Orbitals: 9\n",
        "Number of Primitive Gaussians: 105\n",
        "Integration Complete in 0.026869058609 seconds\n",
        "Number of Orbitals: 9\n",
        "Number of Primitive Gaussians: 105\n",
        "Integration Complete in 0.0259609222412 seconds"
       ]
      },
      {
       "output_type": "stream",
       "stream": "stdout",
       "text": [
        "\n",
        "Number of Orbitals: 9\n",
        "Number of Primitive Gaussians: 105\n",
        "Integration Complete in 0.0268800258636 seconds\n",
        "Number of Orbitals: 9\n",
        "Number of Primitive Gaussians: 105\n",
        "Integration Complete in 0.0253307819366 seconds"
       ]
      },
      {
       "output_type": "stream",
       "stream": "stdout",
       "text": [
        "\n",
        "Number of Orbitals: 9\n",
        "Number of Primitive Gaussians: 105\n",
        "Integration Complete in 0.0264148712158 seconds\n",
        "Number of Orbitals: 9\n",
        "Number of Primitive Gaussians: 105\n",
        "Integration Complete in 0.0254549980164 seconds"
       ]
      },
      {
       "output_type": "stream",
       "stream": "stdout",
       "text": [
        "\n",
        "Number of Orbitals: 9\n",
        "Number of Primitive Gaussians: 105\n",
        "Integration Complete in 0.0271799564362 seconds\n",
        "Number of Orbitals: 9\n",
        "Number of Primitive Gaussians: 105\n",
        "Integration Complete in 0.0254411697388 seconds"
       ]
      },
      {
       "output_type": "stream",
       "stream": "stdout",
       "text": [
        "\n",
        "Number of Orbitals: 9\n",
        "Number of Primitive Gaussians: 105\n",
        "Integration Complete in 0.0268862247467 seconds\n",
        "Number of Orbitals: 9\n",
        "Number of Primitive Gaussians: 105\n",
        "Integration Complete in 0.0255041122437 seconds"
       ]
      },
      {
       "output_type": "stream",
       "stream": "stdout",
       "text": [
        "\n",
        "Number of Orbitals: 9\n",
        "Number of Primitive Gaussians: 105\n",
        "Integration Complete in 0.0268359184265 seconds\n",
        "Number of Orbitals: 9\n",
        "Number of Primitive Gaussians: 105\n",
        "Integration Complete in 0.0259099006653 seconds"
       ]
      },
      {
       "output_type": "stream",
       "stream": "stdout",
       "text": [
        "\n",
        "Number of Orbitals: 9\n",
        "Number of Primitive Gaussians: 105\n",
        "Integration Complete in 0.0268080234528 seconds\n",
        "Number of Orbitals: 9\n",
        "Number of Primitive Gaussians: 105\n",
        "Integration Complete in 0.0256390571594 seconds"
       ]
      },
      {
       "output_type": "stream",
       "stream": "stdout",
       "text": [
        "\n",
        "Number of Orbitals: 9\n",
        "Number of Primitive Gaussians: 105\n",
        "Integration Complete in 0.0322041511536 seconds\n",
        "Number of Orbitals: 9\n",
        "Number of Primitive Gaussians: 105\n",
        "Integration Complete in 0.025671005249 seconds"
       ]
      },
      {
       "output_type": "stream",
       "stream": "stdout",
       "text": [
        "\n",
        "Number of Orbitals: 9\n",
        "Number of Primitive Gaussians: 105\n",
        "Integration Complete in 0.0268888473511 seconds\n",
        "Number of Orbitals: 9\n",
        "Number of Primitive Gaussians: 105\n",
        "Integration Complete in 0.0252668857574 seconds"
       ]
      },
      {
       "output_type": "stream",
       "stream": "stdout",
       "text": [
        "\n",
        "Number of Orbitals: 9\n",
        "Number of Primitive Gaussians: 105\n",
        "Integration Complete in 0.0269148349762 seconds\n",
        "Number of Orbitals: 9\n",
        "Number of Primitive Gaussians: 105\n",
        "Integration Complete in 0.025242805481 seconds"
       ]
      },
      {
       "output_type": "stream",
       "stream": "stdout",
       "text": [
        "\n",
        "Number of Orbitals: 9\n",
        "Number of Primitive Gaussians: 105\n",
        "Integration Complete in 0.0262441635132 seconds\n",
        "Number of Orbitals: 9\n",
        "Number of Primitive Gaussians: 105\n",
        "Integration Complete in 0.0253260135651 seconds"
       ]
      },
      {
       "output_type": "stream",
       "stream": "stdout",
       "text": [
        "\n",
        "Number of Orbitals: 9\n",
        "Number of Primitive Gaussians: 105\n",
        "Integration Complete in 0.0268259048462 seconds\n",
        "Number of Orbitals: 9\n",
        "Number of Primitive Gaussians: 105\n",
        "Integration Complete in 0.0252928733826 seconds"
       ]
      },
      {
       "output_type": "stream",
       "stream": "stdout",
       "text": [
        "\n",
        "Number of Orbitals: 9\n",
        "Number of Primitive Gaussians: 105\n",
        "Integration Complete in 0.0268740653992 seconds\n",
        "Number of Orbitals: 9\n",
        "Number of Primitive Gaussians: 105\n",
        "Integration Complete in 0.0255560874939 seconds"
       ]
      },
      {
       "output_type": "stream",
       "stream": "stdout",
       "text": [
        "\n",
        "Number of Orbitals: 9\n",
        "Number of Primitive Gaussians: 105\n",
        "Integration Complete in 0.026820898056 seconds\n",
        "Number of Orbitals: 9\n",
        "Number of Primitive Gaussians: 105\n",
        "Integration Complete in 0.025995016098 seconds"
       ]
      },
      {
       "output_type": "stream",
       "stream": "stdout",
       "text": [
        "\n",
        "Number of Orbitals: 9\n",
        "Number of Primitive Gaussians: 105\n",
        "Integration Complete in 0.0268909931183 seconds\n",
        "Number of Orbitals: 9\n",
        "Number of Primitive Gaussians: 105\n",
        "Integration Complete in 0.0252149105072 seconds"
       ]
      },
      {
       "output_type": "stream",
       "stream": "stdout",
       "text": [
        "\n",
        "Number of Orbitals: 9\n",
        "Number of Primitive Gaussians: 105\n",
        "Integration Complete in 0.0268371105194 seconds\n",
        "Number of Orbitals: 9\n",
        "Number of Primitive Gaussians: 105\n",
        "Integration Complete in 0.0253291130066 seconds"
       ]
      },
      {
       "output_type": "stream",
       "stream": "stdout",
       "text": [
        "\n",
        "Number of Orbitals: 9\n",
        "Number of Primitive Gaussians: 105\n",
        "Integration Complete in 0.026517868042 seconds\n",
        "Number of Orbitals: 9\n",
        "Number of Primitive Gaussians: 105\n",
        "Integration Complete in 0.0263540744781 seconds"
       ]
      },
      {
       "output_type": "stream",
       "stream": "stdout",
       "text": [
        "\n",
        "Number of Orbitals: 9\n",
        "Number of Primitive Gaussians: 105\n",
        "Integration Complete in 0.0268428325653 seconds\n",
        "Number of Orbitals: 9\n",
        "Number of Primitive Gaussians: 105\n",
        "Integration Complete in 0.0255439281464 seconds"
       ]
      },
      {
       "output_type": "stream",
       "stream": "stdout",
       "text": [
        "\n",
        "Number of Orbitals: 9\n",
        "Number of Primitive Gaussians: 105\n",
        "Integration Complete in 0.0269179344177 seconds\n",
        "Number of Orbitals: 9\n",
        "Number of Primitive Gaussians: 105\n",
        "Integration Complete in 0.0252709388733 seconds"
       ]
      },
      {
       "output_type": "stream",
       "stream": "stdout",
       "text": [
        "\n",
        "Number of Orbitals: 9\n",
        "Number of Primitive Gaussians: 105\n",
        "Integration Complete in 0.0269129276276 seconds\n",
        "Number of Orbitals: 9\n",
        "Number of Primitive Gaussians: 105\n",
        "Integration Complete in 0.0252649784088 seconds"
       ]
      },
      {
       "output_type": "stream",
       "stream": "stdout",
       "text": [
        "\n",
        "Number of Orbitals: 9\n",
        "Number of Primitive Gaussians: 105\n",
        "Integration Complete in 0.0268409252167 seconds\n",
        "Number of Orbitals: 9\n",
        "Number of Primitive Gaussians: 105\n",
        "Integration Complete in 0.0252940654755 seconds"
       ]
      },
      {
       "output_type": "stream",
       "stream": "stdout",
       "text": [
        "\n",
        "Number of Orbitals: 9\n",
        "Number of Primitive Gaussians: 105\n",
        "Integration Complete in 0.0268180370331 seconds\n",
        "Number of Orbitals: 9\n",
        "Number of Primitive Gaussians: 105\n",
        "Integration Complete in 0.0263168811798 seconds"
       ]
      },
      {
       "output_type": "stream",
       "stream": "stdout",
       "text": [
        "\n",
        "Number of Orbitals: 9\n",
        "Number of Primitive Gaussians: 105\n",
        "Integration Complete in 0.0269291400909 seconds\n",
        "Number of Orbitals: 9\n",
        "Number of Primitive Gaussians: 105\n",
        "Integration Complete in 0.0254590511322 seconds"
       ]
      },
      {
       "output_type": "stream",
       "stream": "stdout",
       "text": [
        "\n",
        "Number of Orbitals: 9\n",
        "Number of Primitive Gaussians: 105\n",
        "Integration Complete in 0.0271739959717 seconds\n",
        "Number of Orbitals: 9\n",
        "Number of Primitive Gaussians: 105\n",
        "Integration Complete in 0.0253019332886 seconds"
       ]
      },
      {
       "output_type": "stream",
       "stream": "stdout",
       "text": [
        "\n",
        "Number of Orbitals: 9\n",
        "Number of Primitive Gaussians: 105\n",
        "Integration Complete in 0.0269351005554 seconds\n",
        "Number of Orbitals: 9\n",
        "Number of Primitive Gaussians: 105\n",
        "Integration Complete in 0.0252168178558 seconds"
       ]
      },
      {
       "output_type": "stream",
       "stream": "stdout",
       "text": [
        "\n",
        "Number of Orbitals: 9\n",
        "Number of Primitive Gaussians: 105\n",
        "Integration Complete in 0.0272498130798 seconds\n",
        "Number of Orbitals: 9\n",
        "Number of Primitive Gaussians: 105\n",
        "Integration Complete in 0.0254018306732 seconds"
       ]
      },
      {
       "output_type": "stream",
       "stream": "stdout",
       "text": [
        "\n",
        "Number of Orbitals: 9\n",
        "Number of Primitive Gaussians: 105\n",
        "Integration Complete in 0.0272219181061 seconds\n",
        "Number of Orbitals: 9\n",
        "Number of Primitive Gaussians: 105\n",
        "Integration Complete in 0.0252211093903 seconds"
       ]
      },
      {
       "output_type": "stream",
       "stream": "stdout",
       "text": [
        "\n",
        "Number of Orbitals: 9\n",
        "Number of Primitive Gaussians: 105\n",
        "Integration Complete in 0.0271611213684 seconds\n",
        "Number of Orbitals: 9\n",
        "Number of Primitive Gaussians: 105\n",
        "Integration Complete in 0.0252659320831 seconds"
       ]
      },
      {
       "output_type": "stream",
       "stream": "stdout",
       "text": [
        "\n",
        "Number of Orbitals: 9\n",
        "Number of Primitive Gaussians: 105\n",
        "Integration Complete in 0.0271270275116 seconds\n",
        "Number of Orbitals: 9\n",
        "Number of Primitive Gaussians: 105\n",
        "Integration Complete in 0.0252680778503 seconds"
       ]
      },
      {
       "output_type": "stream",
       "stream": "stdout",
       "text": [
        "\n",
        "Number of Orbitals: 9\n",
        "Number of Primitive Gaussians: 105\n",
        "Integration Complete in 0.0292420387268 seconds\n",
        "Number of Orbitals: 9\n",
        "Number of Primitive Gaussians: 105\n",
        "Integration Complete in 0.0251638889313 seconds"
       ]
      },
      {
       "output_type": "stream",
       "stream": "stdout",
       "text": [
        "\n",
        "Number of Orbitals: 9\n",
        "Number of Primitive Gaussians: 105\n",
        "Integration Complete in 0.0296220779419 seconds\n",
        "Number of Orbitals: 9\n",
        "Number of Primitive Gaussians: 105\n",
        "Integration Complete in 0.0251979827881 seconds"
       ]
      },
      {
       "output_type": "stream",
       "stream": "stdout",
       "text": [
        "\n",
        "Number of Orbitals: 9\n",
        "Number of Primitive Gaussians: 105\n",
        "Integration Complete in 0.0293731689453 seconds\n",
        "Number of Orbitals: 9\n",
        "Number of Primitive Gaussians: 105\n",
        "Integration Complete in 0.0254988670349 seconds"
       ]
      },
      {
       "output_type": "stream",
       "stream": "stdout",
       "text": [
        "\n",
        "Number of Orbitals: 9\n",
        "Number of Primitive Gaussians: 105\n",
        "Integration Complete in 0.0292840003967 seconds\n",
        "Number of Orbitals: 9\n",
        "Number of Primitive Gaussians: 105\n",
        "Integration Complete in 0.0252158641815 seconds"
       ]
      },
      {
       "output_type": "stream",
       "stream": "stdout",
       "text": [
        "\n",
        "Number of Orbitals: 9\n",
        "Number of Primitive Gaussians: 105\n",
        "Integration Complete in 0.0292589664459 seconds\n",
        "Number of Orbitals: 9\n",
        "Number of Primitive Gaussians: 105\n",
        "Integration Complete in 0.0251820087433 seconds"
       ]
      },
      {
       "output_type": "stream",
       "stream": "stdout",
       "text": [
        "\n",
        "Number of Orbitals: 9\n",
        "Number of Primitive Gaussians: 105\n",
        "Integration Complete in 0.0291910171509 seconds\n",
        "Number of Orbitals: 9\n",
        "Number of Primitive Gaussians: 105\n",
        "Integration Complete in 0.0261650085449 seconds"
       ]
      },
      {
       "output_type": "stream",
       "stream": "stdout",
       "text": [
        "\n",
        "Number of Orbitals: 9\n",
        "Number of Primitive Gaussians: 105\n",
        "Integration Complete in 0.0292880535126 seconds\n",
        "Number of Orbitals: 9\n",
        "Number of Primitive Gaussians: 105\n",
        "Integration Complete in 0.0265138149261 seconds"
       ]
      },
      {
       "output_type": "stream",
       "stream": "stdout",
       "text": [
        "\n",
        "Number of Orbitals: 9\n",
        "Number of Primitive Gaussians: 105\n",
        "Integration Complete in 0.0296680927277 seconds\n",
        "Number of Orbitals: 9\n",
        "Number of Primitive Gaussians: 105\n",
        "Integration Complete in 0.0252380371094 seconds"
       ]
      },
      {
       "output_type": "stream",
       "stream": "stdout",
       "text": [
        "\n",
        "Number of Orbitals: 9\n",
        "Number of Primitive Gaussians: 105\n",
        "Integration Complete in 0.037584066391 seconds\n",
        "Number of Orbitals: 9\n",
        "Number of Primitive Gaussians: 105\n",
        "Integration Complete in 0.025496006012 seconds"
       ]
      },
      {
       "output_type": "stream",
       "stream": "stdout",
       "text": [
        "\n",
        "Number of Orbitals: 9\n",
        "Number of Primitive Gaussians: 105\n",
        "Integration Complete in 0.0267930030823 seconds\n",
        "Number of Orbitals: 9\n",
        "Number of Primitive Gaussians: 105\n",
        "Integration Complete in 0.0251979827881 seconds"
       ]
      },
      {
       "output_type": "stream",
       "stream": "stdout",
       "text": [
        "\n",
        "Number of Orbitals: 9\n",
        "Number of Primitive Gaussians: 105\n",
        "Integration Complete in 0.0268230438232 seconds\n",
        "Number of Orbitals: 9\n",
        "Number of Primitive Gaussians: 105\n",
        "Integration Complete in 0.0252339839935 seconds"
       ]
      },
      {
       "output_type": "stream",
       "stream": "stdout",
       "text": [
        "\n",
        "Number of Orbitals: 9\n",
        "Number of Primitive Gaussians: 105\n",
        "Integration Complete in 0.0264749526978 seconds\n",
        "Number of Orbitals: 9\n",
        "Number of Primitive Gaussians: 105\n",
        "Integration Complete in 0.0252139568329 seconds"
       ]
      },
      {
       "output_type": "stream",
       "stream": "stdout",
       "text": [
        "\n",
        "Number of Orbitals: 9\n",
        "Number of Primitive Gaussians: 105\n",
        "Integration Complete in 0.0268409252167 seconds\n",
        "Number of Orbitals: 9\n",
        "Number of Primitive Gaussians: 105\n",
        "Integration Complete in 0.0252270698547 seconds"
       ]
      },
      {
       "output_type": "stream",
       "stream": "stdout",
       "text": [
        "\n",
        "Number of Orbitals: 9\n",
        "Number of Primitive Gaussians: 105\n",
        "Integration Complete in 0.0268309116364 seconds\n",
        "Number of Orbitals: 9\n",
        "Number of Primitive Gaussians: 105\n",
        "Integration Complete in 0.0252661705017 seconds"
       ]
      },
      {
       "output_type": "stream",
       "stream": "stdout",
       "text": [
        "\n",
        "Number of Orbitals: 9\n",
        "Number of Primitive Gaussians: 105\n",
        "Integration Complete in 0.0263781547546 seconds\n",
        "Number of Orbitals: 9\n",
        "Number of Primitive Gaussians: 105\n",
        "Integration Complete in 0.0252871513367 seconds"
       ]
      },
      {
       "output_type": "stream",
       "stream": "stdout",
       "text": [
        "\n",
        "Number of Orbitals: 9\n",
        "Number of Primitive Gaussians: 105\n",
        "Integration Complete in 0.0268068313599 seconds\n",
        "Number of Orbitals: 9\n",
        "Number of Primitive Gaussians: 105\n",
        "Integration Complete in 0.0256931781769 seconds"
       ]
      },
      {
       "output_type": "stream",
       "stream": "stdout",
       "text": [
        "\n",
        "Number of Orbitals: 9\n",
        "Number of Primitive Gaussians: 105\n",
        "Integration Complete in 0.0267210006714 seconds\n",
        "Number of Orbitals: 9\n",
        "Number of Primitive Gaussians: 105\n",
        "Integration Complete in 0.0253520011902 seconds"
       ]
      },
      {
       "output_type": "stream",
       "stream": "stdout",
       "text": [
        "\n",
        "Number of Orbitals: 9\n",
        "Number of Primitive Gaussians: 105\n",
        "Integration Complete in 0.0268330574036 seconds\n",
        "Number of Orbitals: 9\n",
        "Number of Primitive Gaussians: 105\n",
        "Integration Complete in 0.0252449512482 seconds"
       ]
      },
      {
       "output_type": "stream",
       "stream": "stdout",
       "text": [
        "\n",
        "Number of Orbitals: 9\n",
        "Number of Primitive Gaussians: 105\n",
        "Integration Complete in 0.0268251895905 seconds\n",
        "Number of Orbitals: 9\n",
        "Number of Primitive Gaussians: 105\n",
        "Integration Complete in 0.0263180732727 seconds"
       ]
      },
      {
       "output_type": "stream",
       "stream": "stdout",
       "text": [
        "\n",
        "Number of Orbitals: 9\n",
        "Number of Primitive Gaussians: 105\n",
        "Integration Complete in 0.0268738269806 seconds\n",
        "Number of Orbitals: 9\n",
        "Number of Primitive Gaussians: 105\n",
        "Integration Complete in 0.0268371105194 seconds"
       ]
      },
      {
       "output_type": "stream",
       "stream": "stdout",
       "text": [
        "\n",
        "Number of Orbitals: 9\n",
        "Number of Primitive Gaussians: 105\n",
        "Integration Complete in 0.0325469970703 seconds\n",
        "Number of Orbitals: 9\n",
        "Number of Primitive Gaussians: 105\n",
        "Integration Complete in 0.0253090858459 seconds"
       ]
      },
      {
       "output_type": "stream",
       "stream": "stdout",
       "text": [
        "\n",
        "Number of Orbitals: 9\n",
        "Number of Primitive Gaussians: 105\n",
        "Integration Complete in 0.0297968387604 seconds\n",
        "Number of Orbitals: 9\n",
        "Number of Primitive Gaussians: 105\n",
        "Integration Complete in 0.0252869129181 seconds"
       ]
      },
      {
       "output_type": "stream",
       "stream": "stdout",
       "text": [
        "\n",
        "Number of Orbitals: 9\n",
        "Number of Primitive Gaussians: 105\n",
        "Integration Complete in 0.0271461009979 seconds\n",
        "Number of Orbitals: 9\n",
        "Number of Primitive Gaussians: 105\n",
        "Integration Complete in 0.0253469944 seconds"
       ]
      },
      {
       "output_type": "stream",
       "stream": "stdout",
       "text": [
        "\n",
        "Number of Orbitals: 9\n",
        "Number of Primitive Gaussians: 105\n",
        "Integration Complete in 0.0307161808014 seconds\n",
        "Number of Orbitals: 9\n",
        "Number of Primitive Gaussians: 105\n",
        "Integration Complete in 0.0253930091858 seconds"
       ]
      },
      {
       "output_type": "stream",
       "stream": "stdout",
       "text": [
        "\n",
        "Number of Orbitals: 9\n",
        "Number of Primitive Gaussians: 105\n",
        "Integration Complete in 0.0306148529053 seconds\n",
        "Number of Orbitals: 9\n",
        "Number of Primitive Gaussians: 105\n",
        "Integration Complete in 0.0256190299988 seconds"
       ]
      },
      {
       "output_type": "stream",
       "stream": "stdout",
       "text": [
        "\n",
        "Number of Orbitals: 9\n",
        "Number of Primitive Gaussians: 105\n",
        "Integration Complete in 0.0274310112 seconds\n",
        "Number of Orbitals: 9\n",
        "Number of Primitive Gaussians: 105\n",
        "Integration Complete in 0.0254399776459 seconds"
       ]
      },
      {
       "output_type": "stream",
       "stream": "stdout",
       "text": [
        "\n",
        "Number of Orbitals: 9\n",
        "Number of Primitive Gaussians: 105\n",
        "Integration Complete in 0.0278539657593 seconds\n",
        "Number of Orbitals: 9\n",
        "Number of Primitive Gaussians: 105\n",
        "Integration Complete in 0.0252480506897 seconds"
       ]
      },
      {
       "output_type": "stream",
       "stream": "stdout",
       "text": [
        "\n",
        "Number of Orbitals: 9\n",
        "Number of Primitive Gaussians: 105\n",
        "Integration Complete in 0.0270001888275 seconds\n",
        "Number of Orbitals: 9\n",
        "Number of Primitive Gaussians: 105\n",
        "Integration Complete in 0.0263450145721 seconds"
       ]
      },
      {
       "output_type": "stream",
       "stream": "stdout",
       "text": [
        "\n",
        "Number of Orbitals: 9\n",
        "Number of Primitive Gaussians: 105\n",
        "Integration Complete in 0.0269420146942 seconds\n",
        "Number of Orbitals: 9\n",
        "Number of Primitive Gaussians: 105\n",
        "Integration Complete in 0.0253059864044 seconds"
       ]
      },
      {
       "output_type": "stream",
       "stream": "stdout",
       "text": [
        "\n",
        "Number of Orbitals: 9\n",
        "Number of Primitive Gaussians: 105\n",
        "Integration Complete in 0.0270237922668 seconds\n",
        "Number of Orbitals: 9\n",
        "Number of Primitive Gaussians: 105\n",
        "Integration Complete in 0.0252830982208 seconds"
       ]
      },
      {
       "output_type": "stream",
       "stream": "stdout",
       "text": [
        "\n",
        "Number of Orbitals: 9\n",
        "Number of Primitive Gaussians: 105\n",
        "Integration Complete in 0.0270090103149 seconds\n",
        "Number of Orbitals: 9\n",
        "Number of Primitive Gaussians: 105\n",
        "Integration Complete in 0.025337934494 seconds"
       ]
      },
      {
       "output_type": "stream",
       "stream": "stdout",
       "text": [
        "\n",
        "Number of Orbitals: 9\n",
        "Number of Primitive Gaussians: 105\n",
        "Integration Complete in 0.0269930362701 seconds\n",
        "Number of Orbitals: 9\n",
        "Number of Primitive Gaussians: 105\n",
        "Integration Complete in 0.0252149105072 seconds"
       ]
      },
      {
       "output_type": "stream",
       "stream": "stdout",
       "text": [
        "\n",
        "Number of Orbitals: 9\n",
        "Number of Primitive Gaussians: 105\n",
        "Integration Complete in 0.0269868373871 seconds\n",
        "Number of Orbitals: 9\n",
        "Number of Primitive Gaussians: 105\n",
        "Integration Complete in 0.0253100395203 seconds"
       ]
      },
      {
       "output_type": "stream",
       "stream": "stdout",
       "text": [
        "\n",
        "Number of Orbitals: 9\n",
        "Number of Primitive Gaussians: 105\n",
        "Integration Complete in 0.0273320674896 seconds\n",
        "Number of Orbitals: 9\n",
        "Number of Primitive Gaussians: 105\n",
        "Integration Complete in 0.0265991687775 seconds"
       ]
      },
      {
       "output_type": "stream",
       "stream": "stdout",
       "text": [
        "\n",
        "Number of Orbitals: 9\n",
        "Number of Primitive Gaussians: 105\n",
        "Integration Complete in 0.0273220539093 seconds\n",
        "Number of Orbitals: 9\n",
        "Number of Primitive Gaussians: 105\n",
        "Integration Complete in 0.0259749889374 seconds"
       ]
      },
      {
       "output_type": "stream",
       "stream": "stdout",
       "text": [
        "\n",
        "Number of Orbitals: 9\n",
        "Number of Primitive Gaussians: 105\n",
        "Integration Complete in 0.0269429683685 seconds\n",
        "Number of Orbitals: 9\n",
        "Number of Primitive Gaussians: 105\n",
        "Integration Complete in 0.0253901481628 seconds"
       ]
      },
      {
       "output_type": "stream",
       "stream": "stdout",
       "text": [
        "\n",
        "Number of Orbitals: 9\n",
        "Number of Primitive Gaussians: 105\n",
        "Integration Complete in 0.0270450115204 seconds\n",
        "Number of Orbitals: 9\n",
        "Number of Primitive Gaussians: 105\n",
        "Integration Complete in 0.0252928733826 seconds"
       ]
      },
      {
       "output_type": "stream",
       "stream": "stdout",
       "text": [
        "\n",
        "Number of Orbitals: 9\n",
        "Number of Primitive Gaussians: 105\n",
        "Integration Complete in 0.0273840427399 seconds\n",
        "Number of Orbitals: 9\n",
        "Number of Primitive Gaussians: 105\n",
        "Integration Complete in 0.0265960693359 seconds"
       ]
      },
      {
       "output_type": "stream",
       "stream": "stdout",
       "text": [
        "\n",
        "Number of Orbitals: 9\n",
        "Number of Primitive Gaussians: 105\n",
        "Integration Complete in 0.026871919632 seconds\n",
        "Number of Orbitals: 9\n",
        "Number of Primitive Gaussians: 105\n",
        "Integration Complete in 0.0252768993378 seconds"
       ]
      },
      {
       "output_type": "stream",
       "stream": "stdout",
       "text": [
        "\n",
        "Number of Orbitals: 9\n",
        "Number of Primitive Gaussians: 105\n",
        "Integration Complete in 0.0269448757172 seconds\n",
        "Number of Orbitals: 9\n",
        "Number of Primitive Gaussians: 105\n",
        "Integration Complete in 0.0275309085846 seconds"
       ]
      },
      {
       "output_type": "stream",
       "stream": "stdout",
       "text": [
        "\n",
        "Number of Orbitals: 9\n",
        "Number of Primitive Gaussians: 105\n",
        "Integration Complete in 0.02738904953 seconds\n",
        "Number of Orbitals: 9\n",
        "Number of Primitive Gaussians: 105\n",
        "Integration Complete in 0.0258309841156 seconds"
       ]
      },
      {
       "output_type": "stream",
       "stream": "stdout",
       "text": [
        "\n",
        "Number of Orbitals: 9\n",
        "Number of Primitive Gaussians: 105\n",
        "Integration Complete in 0.0273811817169 seconds\n",
        "Number of Orbitals: 9\n",
        "Number of Primitive Gaussians: 105\n",
        "Integration Complete in 0.0265860557556 seconds"
       ]
      },
      {
       "output_type": "stream",
       "stream": "stdout",
       "text": [
        "\n",
        "Number of Orbitals: 9\n",
        "Number of Primitive Gaussians: 105\n",
        "Integration Complete in 0.0274608135223 seconds\n",
        "Number of Orbitals: 9\n",
        "Number of Primitive Gaussians: 105\n",
        "Integration Complete in 0.0253219604492 seconds"
       ]
      },
      {
       "output_type": "stream",
       "stream": "stdout",
       "text": [
        "\n",
        "Number of Orbitals: 9\n",
        "Number of Primitive Gaussians: 105\n",
        "Integration Complete in 0.027529001236 seconds\n",
        "Number of Orbitals: 9\n",
        "Number of Primitive Gaussians: 105\n",
        "Integration Complete in 0.0255270004272 seconds"
       ]
      },
      {
       "output_type": "stream",
       "stream": "stdout",
       "text": [
        "\n",
        "Number of Orbitals: 9\n",
        "Number of Primitive Gaussians: 105\n",
        "Integration Complete in 0.0273251533508 seconds\n",
        "Number of Orbitals: 9\n",
        "Number of Primitive Gaussians: 105\n",
        "Integration Complete in 0.026654958725 seconds"
       ]
      },
      {
       "output_type": "stream",
       "stream": "stdout",
       "text": [
        "\n",
        "Number of Orbitals: 9\n",
        "Number of Primitive Gaussians: 105\n",
        "Integration Complete in 0.0272550582886 seconds\n",
        "Number of Orbitals: 9\n",
        "Number of Primitive Gaussians: 105\n",
        "Integration Complete in 0.0266609191895 seconds"
       ]
      },
      {
       "output_type": "stream",
       "stream": "stdout",
       "text": [
        "\n",
        "Number of Orbitals: 9\n",
        "Number of Primitive Gaussians: 105\n",
        "Integration Complete in 0.02716588974 seconds\n",
        "Number of Orbitals: 9\n",
        "Number of Primitive Gaussians: 105\n",
        "Integration Complete in 0.0253868103027 seconds"
       ]
      },
      {
       "output_type": "stream",
       "stream": "stdout",
       "text": [
        "\n",
        "Number of Orbitals: 9\n",
        "Number of Primitive Gaussians: 105\n",
        "Integration Complete in 0.0274369716644 seconds\n",
        "Number of Orbitals: 9\n",
        "Number of Primitive Gaussians: 105\n",
        "Integration Complete in 0.025533914566 seconds"
       ]
      },
      {
       "output_type": "stream",
       "stream": "stdout",
       "text": [
        "\n",
        "Number of Orbitals: 9\n",
        "Number of Primitive Gaussians: 105\n",
        "Integration Complete in 0.0273160934448 seconds\n",
        "Number of Orbitals: 9\n",
        "Number of Primitive Gaussians: 105\n",
        "Integration Complete in 0.0252020359039 seconds"
       ]
      },
      {
       "output_type": "stream",
       "stream": "stdout",
       "text": [
        "\n",
        "Number of Orbitals: 9\n",
        "Number of Primitive Gaussians: 105\n",
        "Integration Complete in 0.0271999835968 seconds\n",
        "Number of Orbitals: 9\n",
        "Number of Primitive Gaussians: 105\n",
        "Integration Complete in 0.0265800952911 seconds"
       ]
      },
      {
       "output_type": "stream",
       "stream": "stdout",
       "text": [
        "\n",
        "Number of Orbitals: 9\n",
        "Number of Primitive Gaussians: 105\n",
        "Integration Complete in 0.027202129364 seconds\n",
        "Number of Orbitals: 9\n",
        "Number of Primitive Gaussians: 105\n",
        "Integration Complete in 0.0268309116364 seconds"
       ]
      },
      {
       "output_type": "stream",
       "stream": "stdout",
       "text": [
        "\n",
        "Number of Orbitals: 9\n",
        "Number of Primitive Gaussians: 105\n",
        "Integration Complete in 0.0273859500885 seconds\n",
        "Number of Orbitals: 9\n",
        "Number of Primitive Gaussians: 105\n",
        "Integration Complete in 0.0261459350586 seconds"
       ]
      },
      {
       "output_type": "stream",
       "stream": "stdout",
       "text": [
        "\n",
        "Number of Orbitals: 9\n",
        "Number of Primitive Gaussians: 105\n",
        "Integration Complete in 0.0273060798645 seconds\n",
        "Number of Orbitals: 9\n",
        "Number of Primitive Gaussians: 105\n",
        "Integration Complete in 0.0253150463104 seconds"
       ]
      },
      {
       "output_type": "stream",
       "stream": "stdout",
       "text": [
        "\n",
        "Number of Orbitals: 9\n",
        "Number of Primitive Gaussians: 105\n",
        "Integration Complete in 0.0275640487671 seconds\n",
        "Number of Orbitals: 9\n",
        "Number of Primitive Gaussians: 105\n",
        "Integration Complete in 0.0254061222076 seconds"
       ]
      },
      {
       "output_type": "stream",
       "stream": "stdout",
       "text": [
        "\n",
        "Number of Orbitals: 9\n",
        "Number of Primitive Gaussians: 105\n",
        "Integration Complete in 0.0275940895081 seconds\n",
        "Number of Orbitals: 9\n",
        "Number of Primitive Gaussians: 105\n",
        "Integration Complete in 0.0256810188293 seconds"
       ]
      },
      {
       "output_type": "stream",
       "stream": "stdout",
       "text": [
        "\n",
        "Number of Orbitals: 9\n",
        "Number of Primitive Gaussians: 105\n",
        "Integration Complete in 0.0314869880676 seconds\n",
        "Number of Orbitals: 9\n",
        "Number of Primitive Gaussians: 105\n",
        "Integration Complete in 0.0291171073914 seconds"
       ]
      },
      {
       "output_type": "stream",
       "stream": "stdout",
       "text": [
        "\n",
        "Number of Orbitals: 9\n",
        "Number of Primitive Gaussians: 105\n",
        "Integration Complete in 0.0313668251038 seconds\n",
        "Number of Orbitals: 9\n",
        "Number of Primitive Gaussians: 105\n",
        "Integration Complete in 0.0266358852386 seconds"
       ]
      },
      {
       "output_type": "stream",
       "stream": "stdout",
       "text": [
        "\n",
        "Number of Orbitals: 9\n",
        "Number of Primitive Gaussians: 105\n",
        "Integration Complete in 0.0325078964233 seconds\n",
        "Number of Orbitals: 9\n",
        "Number of Primitive Gaussians: 105\n",
        "Integration Complete in 0.0266687870026 seconds"
       ]
      },
      {
       "output_type": "stream",
       "stream": "stdout",
       "text": [
        "\n",
        "Number of Orbitals: 9\n",
        "Number of Primitive Gaussians: 105\n",
        "Integration Complete in 0.0317120552063 seconds\n",
        "Number of Orbitals: 9\n",
        "Number of Primitive Gaussians: 105\n",
        "Integration Complete in 0.0267000198364 seconds"
       ]
      },
      {
       "output_type": "stream",
       "stream": "stdout",
       "text": [
        "\n",
        "Number of Orbitals: 9\n",
        "Number of Primitive Gaussians: 105\n",
        "Integration Complete in 0.0367498397827 seconds\n",
        "Number of Orbitals: 9\n",
        "Number of Primitive Gaussians: 105\n",
        "Integration Complete in 0.0253059864044 seconds"
       ]
      },
      {
       "output_type": "stream",
       "stream": "stdout",
       "text": [
        "\n",
        "Number of Orbitals: 9\n",
        "Number of Primitive Gaussians: 105\n",
        "Integration Complete in 0.0360839366913 seconds\n",
        "Number of Orbitals: 9\n",
        "Number of Primitive Gaussians: 105\n",
        "Integration Complete in 0.026379108429 seconds"
       ]
      },
      {
       "output_type": "stream",
       "stream": "stdout",
       "text": [
        "\n",
        "Number of Orbitals: 9\n",
        "Number of Primitive Gaussians: 105\n",
        "Integration Complete in 0.0327360630035 seconds\n",
        "Number of Orbitals: 9\n",
        "Number of Primitive Gaussians: 105\n",
        "Integration Complete in 0.0252959728241 seconds"
       ]
      },
      {
       "output_type": "stream",
       "stream": "stdout",
       "text": [
        "\n",
        "Number of Orbitals: 9\n",
        "Number of Primitive Gaussians: 105\n",
        "Integration Complete in 0.0330410003662 seconds\n",
        "Number of Orbitals: 9\n",
        "Number of Primitive Gaussians: 105\n",
        "Integration Complete in 0.0252480506897 seconds"
       ]
      },
      {
       "output_type": "stream",
       "stream": "stdout",
       "text": [
        "\n",
        "Number of Orbitals: 9\n",
        "Number of Primitive Gaussians: 105\n",
        "Integration Complete in 0.0347511768341 seconds\n",
        "Number of Orbitals: 9\n",
        "Number of Primitive Gaussians: 105\n",
        "Integration Complete in 0.0253360271454 seconds"
       ]
      },
      {
       "output_type": "stream",
       "stream": "stdout",
       "text": [
        "\n",
        "Number of Orbitals: 9\n",
        "Number of Primitive Gaussians: 105\n",
        "Integration Complete in 0.0319440364838 seconds\n",
        "Number of Orbitals: 9\n",
        "Number of Primitive Gaussians: 105\n",
        "Integration Complete in 0.0263991355896 seconds"
       ]
      },
      {
       "output_type": "stream",
       "stream": "stdout",
       "text": [
        "\n",
        "Number of Orbitals: 9\n",
        "Number of Primitive Gaussians: 105\n",
        "Integration Complete in 0.0322620868683 seconds\n",
        "Number of Orbitals: 9\n",
        "Number of Primitive Gaussians: 105\n",
        "Integration Complete in 0.0265600681305 seconds"
       ]
      },
      {
       "output_type": "stream",
       "stream": "stdout",
       "text": [
        "\n",
        "Number of Orbitals: 9\n",
        "Number of Primitive Gaussians: 105\n",
        "Integration Complete in 0.0326821804047 seconds\n",
        "Number of Orbitals: 9\n",
        "Number of Primitive Gaussians: 105\n",
        "Integration Complete in 0.0253660678864 seconds"
       ]
      },
      {
       "output_type": "stream",
       "stream": "stdout",
       "text": [
        "\n",
        "Number of Orbitals: 9\n",
        "Number of Primitive Gaussians: 105\n",
        "Integration Complete in 0.0332889556885 seconds\n",
        "Number of Orbitals: 9\n",
        "Number of Primitive Gaussians: 105\n",
        "Integration Complete in 0.0269460678101 seconds"
       ]
      },
      {
       "output_type": "stream",
       "stream": "stdout",
       "text": [
        "\n",
        "Number of Orbitals: 9\n",
        "Number of Primitive Gaussians: 105\n",
        "Integration Complete in 0.0330488681793 seconds\n",
        "Number of Orbitals: 9\n",
        "Number of Primitive Gaussians: 105\n",
        "Integration Complete in 0.0251979827881 seconds"
       ]
      },
      {
       "output_type": "stream",
       "stream": "stdout",
       "text": [
        "\n",
        "Number of Orbitals: 9\n",
        "Number of Primitive Gaussians: 105\n",
        "Integration Complete in 0.0269601345062 seconds\n",
        "Number of Orbitals: 9\n",
        "Number of Primitive Gaussians: 105\n",
        "Integration Complete in 0.0253021717072 seconds"
       ]
      },
      {
       "output_type": "stream",
       "stream": "stdout",
       "text": [
        "\n",
        "Number of Orbitals: 9\n",
        "Number of Primitive Gaussians: 105\n",
        "Integration Complete in 0.0278041362762 seconds\n",
        "Number of Orbitals: 9\n",
        "Number of Primitive Gaussians: 105\n",
        "Integration Complete in 0.025269985199 seconds"
       ]
      },
      {
       "output_type": "stream",
       "stream": "stdout",
       "text": [
        "\n",
        "Number of Orbitals: 9\n",
        "Number of Primitive Gaussians: 105\n",
        "Integration Complete in 0.027193069458 seconds\n",
        "Number of Orbitals: 9\n",
        "Number of Primitive Gaussians: 105\n",
        "Integration Complete in 0.0252170562744 seconds"
       ]
      },
      {
       "output_type": "stream",
       "stream": "stdout",
       "text": [
        "\n",
        "Number of Orbitals: 9\n",
        "Number of Primitive Gaussians: 105\n",
        "Integration Complete in 0.0273020267487 seconds\n",
        "Number of Orbitals: 9\n",
        "Number of Primitive Gaussians: 105\n",
        "Integration Complete in 0.0252420902252 seconds"
       ]
      },
      {
       "output_type": "stream",
       "stream": "stdout",
       "text": [
        "\n",
        "Number of Orbitals: 9\n",
        "Number of Primitive Gaussians: 105\n",
        "Integration Complete in 0.0269889831543 seconds\n",
        "Number of Orbitals: 9\n",
        "Number of Primitive Gaussians: 105\n",
        "Integration Complete in 0.0251789093018 seconds"
       ]
      },
      {
       "output_type": "stream",
       "stream": "stdout",
       "text": [
        "\n",
        "Number of Orbitals: 9\n",
        "Number of Primitive Gaussians: 105\n",
        "Integration Complete in 0.0272829532623 seconds\n",
        "Number of Orbitals: 9\n",
        "Number of Primitive Gaussians: 105\n",
        "Integration Complete in 0.0252959728241 seconds"
       ]
      },
      {
       "output_type": "stream",
       "stream": "stdout",
       "text": [
        "\n",
        "Number of Orbitals: 9\n",
        "Number of Primitive Gaussians: 105\n",
        "Integration Complete in 0.0267899036407 seconds\n",
        "Number of Orbitals: 9\n",
        "Number of Primitive Gaussians: 105\n",
        "Integration Complete in 0.0252170562744 seconds"
       ]
      },
      {
       "output_type": "stream",
       "stream": "stdout",
       "text": [
        "\n",
        "Number of Orbitals: 9\n",
        "Number of Primitive Gaussians: 105\n",
        "Integration Complete in 0.0272400379181 seconds\n",
        "Number of Orbitals: 9\n",
        "Number of Primitive Gaussians: 105\n",
        "Integration Complete in 0.0255551338196 seconds"
       ]
      },
      {
       "output_type": "stream",
       "stream": "stdout",
       "text": [
        "\n",
        "Number of Orbitals: 9\n",
        "Number of Primitive Gaussians: 105\n",
        "Integration Complete in 0.0272619724274 seconds\n",
        "Number of Orbitals: 9\n",
        "Number of Primitive Gaussians: 105\n",
        "Integration Complete in 0.0264999866486 seconds"
       ]
      },
      {
       "output_type": "stream",
       "stream": "stdout",
       "text": [
        "\n",
        "Number of Orbitals: 9\n",
        "Number of Primitive Gaussians: 105\n",
        "Integration Complete in 0.0336198806763 seconds\n",
        "Number of Orbitals: 9\n",
        "Number of Primitive Gaussians: 105\n",
        "Integration Complete in 0.0253541469574 seconds"
       ]
      },
      {
       "output_type": "stream",
       "stream": "stdout",
       "text": [
        "\n",
        "Number of Orbitals: 9\n",
        "Number of Primitive Gaussians: 105\n",
        "Integration Complete in 0.0273990631104 seconds\n",
        "Number of Orbitals: 9\n",
        "Number of Primitive Gaussians: 105\n",
        "Integration Complete in 0.0252280235291 seconds"
       ]
      },
      {
       "output_type": "stream",
       "stream": "stdout",
       "text": [
        "\n",
        "Number of Orbitals: 9\n",
        "Number of Primitive Gaussians: 105\n",
        "Integration Complete in 0.0269730091095 seconds\n",
        "Number of Orbitals: 9\n",
        "Number of Primitive Gaussians: 105\n",
        "Integration Complete in 0.0255689620972 seconds"
       ]
      },
      {
       "output_type": "stream",
       "stream": "stdout",
       "text": [
        "\n",
        "Number of Orbitals: 9\n",
        "Number of Primitive Gaussians: 105\n",
        "Integration Complete in 0.0280649662018 seconds\n",
        "Number of Orbitals: 9\n",
        "Number of Primitive Gaussians: 105\n",
        "Integration Complete in 0.0266230106354 seconds"
       ]
      },
      {
       "output_type": "stream",
       "stream": "stdout",
       "text": [
        "\n",
        "Number of Orbitals: 9\n",
        "Number of Primitive Gaussians: 105\n",
        "Integration Complete in 0.0271480083466 seconds\n",
        "Number of Orbitals: 9\n",
        "Number of Primitive Gaussians: 105\n",
        "Integration Complete in 0.0252890586853 seconds"
       ]
      },
      {
       "output_type": "stream",
       "stream": "stdout",
       "text": [
        "\n",
        "Number of Orbitals: 9\n",
        "Number of Primitive Gaussians: 105\n",
        "Integration Complete in 0.0270268917084 seconds\n",
        "Number of Orbitals: 9\n",
        "Number of Primitive Gaussians: 105\n",
        "Integration Complete in 0.0266580581665 seconds"
       ]
      },
      {
       "output_type": "stream",
       "stream": "stdout",
       "text": [
        "\n",
        "Number of Orbitals: 9\n",
        "Number of Primitive Gaussians: 105\n",
        "Integration Complete in 0.0278918743134 seconds\n",
        "Number of Orbitals: 9\n",
        "Number of Primitive Gaussians: 105\n",
        "Integration Complete in 0.025407075882 seconds"
       ]
      },
      {
       "output_type": "stream",
       "stream": "stdout",
       "text": [
        "\n",
        "Number of Orbitals: 9\n",
        "Number of Primitive Gaussians: 105\n",
        "Integration Complete in 0.0271599292755 seconds\n",
        "Number of Orbitals: 9\n",
        "Number of Primitive Gaussians: 105\n",
        "Integration Complete in 0.0253319740295 seconds"
       ]
      },
      {
       "output_type": "stream",
       "stream": "stdout",
       "text": [
        "\n",
        "Number of Orbitals: 9\n",
        "Number of Primitive Gaussians: 105\n",
        "Integration Complete in 0.027899980545 seconds\n",
        "Number of Orbitals: 9\n",
        "Number of Primitive Gaussians: 105\n",
        "Integration Complete in 0.0253999233246 seconds"
       ]
      },
      {
       "output_type": "stream",
       "stream": "stdout",
       "text": [
        "\n",
        "Number of Orbitals: 9\n",
        "Number of Primitive Gaussians: 105\n",
        "Integration Complete in 0.0268759727478 seconds\n",
        "Number of Orbitals: 9\n",
        "Number of Primitive Gaussians: 105\n",
        "Integration Complete in 0.0252821445465 seconds"
       ]
      },
      {
       "output_type": "stream",
       "stream": "stdout",
       "text": [
        "\n",
        "Number of Orbitals: 9\n",
        "Number of Primitive Gaussians: 105\n",
        "Integration Complete in 0.0277898311615 seconds\n",
        "Number of Orbitals: 9\n",
        "Number of Primitive Gaussians: 105\n",
        "Integration Complete in 0.0252561569214 seconds"
       ]
      },
      {
       "output_type": "stream",
       "stream": "stdout",
       "text": [
        "\n",
        "Number of Orbitals: 9\n",
        "Number of Primitive Gaussians: 105\n",
        "Integration Complete in 0.0270230770111 seconds\n",
        "Number of Orbitals: 9\n",
        "Number of Primitive Gaussians: 105\n",
        "Integration Complete in 0.0265810489655 seconds"
       ]
      },
      {
       "output_type": "stream",
       "stream": "stdout",
       "text": [
        "\n",
        "Number of Orbitals: 9\n",
        "Number of Primitive Gaussians: 105\n",
        "Integration Complete in 0.027214050293 seconds\n",
        "Number of Orbitals: 9\n",
        "Number of Primitive Gaussians: 105\n",
        "Integration Complete in 0.0266299247742 seconds"
       ]
      },
      {
       "output_type": "stream",
       "stream": "stdout",
       "text": [
        "\n",
        "Number of Orbitals: 9\n",
        "Number of Primitive Gaussians: 105\n",
        "Integration Complete in 0.0269968509674 seconds\n",
        "Number of Orbitals: 9\n",
        "Number of Primitive Gaussians: 105\n",
        "Integration Complete in 0.0253279209137 seconds"
       ]
      },
      {
       "output_type": "stream",
       "stream": "stdout",
       "text": [
        "\n",
        "Number of Orbitals: 9\n",
        "Number of Primitive Gaussians: 105\n",
        "Integration Complete in 0.027370929718 seconds\n",
        "Number of Orbitals: 9\n",
        "Number of Primitive Gaussians: 105\n",
        "Integration Complete in 0.0267260074615 seconds"
       ]
      },
      {
       "output_type": "stream",
       "stream": "stdout",
       "text": [
        "\n",
        "Number of Orbitals: 9\n",
        "Number of Primitive Gaussians: 105\n",
        "Integration Complete in 0.0273032188416 seconds\n",
        "Number of Orbitals: 9\n",
        "Number of Primitive Gaussians: 105\n",
        "Integration Complete in 0.0257160663605 seconds"
       ]
      },
      {
       "output_type": "stream",
       "stream": "stdout",
       "text": [
        "\n",
        "Number of Orbitals: 9\n",
        "Number of Primitive Gaussians: 105\n",
        "Integration Complete in 0.0274000167847 seconds\n",
        "Number of Orbitals: 9\n",
        "Number of Primitive Gaussians: 105\n",
        "Integration Complete in 0.0256369113922 seconds"
       ]
      },
      {
       "output_type": "stream",
       "stream": "stdout",
       "text": [
        "\n",
        "Number of Orbitals: 9\n",
        "Number of Primitive Gaussians: 105\n",
        "Integration Complete in 0.027058839798 seconds\n",
        "Number of Orbitals: 9\n",
        "Number of Primitive Gaussians: 105\n",
        "Integration Complete in 0.0255811214447 seconds"
       ]
      },
      {
       "output_type": "stream",
       "stream": "stdout",
       "text": [
        "\n",
        "Number of Orbitals: 9\n",
        "Number of Primitive Gaussians: 105\n",
        "Integration Complete in 0.0274460315704 seconds\n",
        "Number of Orbitals: 9\n",
        "Number of Primitive Gaussians: 105\n",
        "Integration Complete in 0.0254888534546 seconds"
       ]
      },
      {
       "output_type": "stream",
       "stream": "stdout",
       "text": [
        "\n",
        "Number of Orbitals: 9\n",
        "Number of Primitive Gaussians: 105\n",
        "Integration Complete in 0.0273230075836 seconds\n",
        "Number of Orbitals: 9\n",
        "Number of Primitive Gaussians: 105\n",
        "Integration Complete in 0.0267059803009 seconds"
       ]
      },
      {
       "output_type": "stream",
       "stream": "stdout",
       "text": [
        "\n",
        "Number of Orbitals: 9\n",
        "Number of Primitive Gaussians: 105\n",
        "Integration Complete in 0.0271060466766 seconds\n",
        "Number of Orbitals: 9\n",
        "Number of Primitive Gaussians: 105\n",
        "Integration Complete in 0.0255990028381 seconds"
       ]
      },
      {
       "output_type": "stream",
       "stream": "stdout",
       "text": [
        "\n",
        "Number of Orbitals: 9\n",
        "Number of Primitive Gaussians: 105\n",
        "Integration Complete in 0.027538061142 seconds\n",
        "Number of Orbitals: 9\n",
        "Number of Primitive Gaussians: 105\n",
        "Integration Complete in 0.0252819061279 seconds"
       ]
      },
      {
       "output_type": "stream",
       "stream": "stdout",
       "text": [
        "\n",
        "Number of Orbitals: 9\n",
        "Number of Primitive Gaussians: 105\n",
        "Integration Complete in 0.029757976532 seconds\n",
        "Number of Orbitals: 9\n",
        "Number of Primitive Gaussians: 105\n",
        "Integration Complete in 0.0251488685608 seconds"
       ]
      },
      {
       "output_type": "stream",
       "stream": "stdout",
       "text": [
        "\n",
        "Number of Orbitals: 9\n",
        "Number of Primitive Gaussians: 105\n",
        "Integration Complete in 0.0269939899445 seconds\n",
        "Number of Orbitals: 9\n",
        "Number of Primitive Gaussians: 105\n",
        "Integration Complete in 0.0255100727081 seconds"
       ]
      },
      {
       "output_type": "stream",
       "stream": "stdout",
       "text": [
        "\n",
        "Number of Orbitals: 9\n",
        "Number of Primitive Gaussians: 105\n",
        "Integration Complete in 0.0270760059357 seconds\n",
        "Number of Orbitals: 9\n",
        "Number of Primitive Gaussians: 105\n",
        "Integration Complete in 0.0252749919891 seconds"
       ]
      },
      {
       "output_type": "stream",
       "stream": "stdout",
       "text": [
        "\n",
        "Number of Orbitals: 9\n",
        "Number of Primitive Gaussians: 105\n",
        "Integration Complete in 0.0271201133728 seconds\n",
        "Number of Orbitals: 9\n",
        "Number of Primitive Gaussians: 105\n",
        "Integration Complete in 0.0253510475159 seconds"
       ]
      },
      {
       "output_type": "stream",
       "stream": "stdout",
       "text": [
        "\n",
        "Number of Orbitals: 9\n",
        "Number of Primitive Gaussians: 105\n",
        "Integration Complete in 0.0269861221313 seconds\n",
        "Number of Orbitals: 9\n",
        "Number of Primitive Gaussians: 105\n",
        "Integration Complete in 0.0253520011902 seconds"
       ]
      },
      {
       "output_type": "stream",
       "stream": "stdout",
       "text": [
        "\n",
        "Number of Orbitals: 9\n",
        "Number of Primitive Gaussians: 105\n",
        "Integration Complete in 0.0274510383606 seconds\n",
        "Number of Orbitals: 9\n",
        "Number of Primitive Gaussians: 105\n",
        "Integration Complete in 0.0254290103912 seconds"
       ]
      },
      {
       "output_type": "stream",
       "stream": "stdout",
       "text": [
        "\n",
        "Number of Orbitals: 9\n",
        "Number of Primitive Gaussians: 105\n",
        "Integration Complete in 0.0271182060242 seconds\n",
        "Number of Orbitals: 9\n",
        "Number of Primitive Gaussians: 105\n",
        "Integration Complete in 0.025260925293 seconds"
       ]
      },
      {
       "output_type": "stream",
       "stream": "stdout",
       "text": [
        "\n",
        "Number of Orbitals: 9\n",
        "Number of Primitive Gaussians: 105\n",
        "Integration Complete in 0.027083158493 seconds\n",
        "Number of Orbitals: 9\n",
        "Number of Primitive Gaussians: 105\n",
        "Integration Complete in 0.026683807373 seconds"
       ]
      },
      {
       "output_type": "stream",
       "stream": "stdout",
       "text": [
        "\n",
        "Number of Orbitals: 9\n",
        "Number of Primitive Gaussians: 105\n",
        "Integration Complete in 0.0269949436188 seconds\n",
        "Number of Orbitals: 9\n",
        "Number of Primitive Gaussians: 105\n",
        "Integration Complete in 0.025221824646 seconds"
       ]
      },
      {
       "output_type": "stream",
       "stream": "stdout",
       "text": [
        "\n",
        "Number of Orbitals: 9\n",
        "Number of Primitive Gaussians: 105\n",
        "Integration Complete in 0.028135061264 seconds\n",
        "Number of Orbitals: 9\n",
        "Number of Primitive Gaussians: 105\n",
        "Integration Complete in 0.0264132022858 seconds"
       ]
      },
      {
       "output_type": "stream",
       "stream": "stdout",
       "text": [
        "\n",
        "Number of Orbitals: 9\n",
        "Number of Primitive Gaussians: 105\n",
        "Integration Complete in 0.0270001888275 seconds\n",
        "Number of Orbitals: 9\n",
        "Number of Primitive Gaussians: 105\n",
        "Integration Complete in 0.0254199504852 seconds"
       ]
      },
      {
       "output_type": "stream",
       "stream": "stdout",
       "text": [
        "\n",
        "Number of Orbitals: 9\n",
        "Number of Primitive Gaussians: 105\n",
        "Integration Complete in 0.0271060466766 seconds\n",
        "Number of Orbitals: 9\n",
        "Number of Primitive Gaussians: 105\n",
        "Integration Complete in 0.0257821083069 seconds"
       ]
      },
      {
       "output_type": "stream",
       "stream": "stdout",
       "text": [
        "\n",
        "Number of Orbitals: 9\n",
        "Number of Primitive Gaussians: 105\n",
        "Integration Complete in 0.0274820327759 seconds\n",
        "Number of Orbitals: 9\n",
        "Number of Primitive Gaussians: 105\n",
        "Integration Complete in 0.0254321098328 seconds"
       ]
      },
      {
       "output_type": "stream",
       "stream": "stdout",
       "text": [
        "\n",
        "Number of Orbitals: 9\n",
        "Number of Primitive Gaussians: 105\n",
        "Integration Complete in 0.0278539657593 seconds\n",
        "Number of Orbitals: 9\n",
        "Number of Primitive Gaussians: 105\n",
        "Integration Complete in 0.0252480506897 seconds"
       ]
      },
      {
       "output_type": "stream",
       "stream": "stdout",
       "text": [
        "\n",
        "Number of Orbitals: 9\n",
        "Number of Primitive Gaussians: 105\n",
        "Integration Complete in 0.0269980430603 seconds\n",
        "Number of Orbitals: 9\n",
        "Number of Primitive Gaussians: 105\n",
        "Integration Complete in 0.026848077774 seconds"
       ]
      },
      {
       "output_type": "stream",
       "stream": "stdout",
       "text": [
        "\n",
        "Number of Orbitals: 9\n",
        "Number of Primitive Gaussians: 105\n",
        "Integration Complete in 0.0271489620209 seconds\n",
        "Number of Orbitals: 9\n",
        "Number of Primitive Gaussians: 105\n",
        "Integration Complete in 0.0267488956451 seconds"
       ]
      },
      {
       "output_type": "stream",
       "stream": "stdout",
       "text": [
        "\n",
        "Number of Orbitals: 9\n",
        "Number of Primitive Gaussians: 105\n",
        "Integration Complete in 0.0305972099304 seconds\n",
        "Number of Orbitals: 9\n",
        "Number of Primitive Gaussians: 105\n",
        "Integration Complete in 0.0252468585968 seconds"
       ]
      },
      {
       "output_type": "stream",
       "stream": "stdout",
       "text": [
        "\n",
        "Number of Orbitals: 9\n",
        "Number of Primitive Gaussians: 105\n",
        "Integration Complete in 0.0268840789795 seconds\n",
        "Number of Orbitals: 9\n",
        "Number of Primitive Gaussians: 105\n",
        "Integration Complete in 0.0253899097443 seconds"
       ]
      },
      {
       "output_type": "stream",
       "stream": "stdout",
       "text": [
        "\n",
        "Number of Orbitals: 9\n",
        "Number of Primitive Gaussians: 105\n",
        "Integration Complete in 0.0270171165466 seconds\n",
        "Number of Orbitals: 9\n",
        "Number of Primitive Gaussians: 105\n",
        "Integration Complete in 0.0269260406494 seconds"
       ]
      },
      {
       "output_type": "stream",
       "stream": "stdout",
       "text": [
        "\n",
        "Number of Orbitals: 9\n",
        "Number of Primitive Gaussians: 105\n",
        "Integration Complete in 0.0274248123169 seconds\n",
        "Number of Orbitals: 9\n",
        "Number of Primitive Gaussians: 105\n",
        "Integration Complete in 0.0257339477539 seconds"
       ]
      },
      {
       "output_type": "stream",
       "stream": "stdout",
       "text": [
        "\n",
        "Number of Orbitals: 9\n",
        "Number of Primitive Gaussians: 105\n",
        "Integration Complete in 0.0270459651947 seconds\n",
        "Number of Orbitals: 9\n",
        "Number of Primitive Gaussians: 105\n",
        "Integration Complete in 0.0266139507294 seconds"
       ]
      },
      {
       "output_type": "stream",
       "stream": "stdout",
       "text": [
        "\n",
        "Number of Orbitals: 9\n",
        "Number of Primitive Gaussians: 105\n",
        "Integration Complete in 0.026948928833 seconds\n",
        "Number of Orbitals: 9\n",
        "Number of Primitive Gaussians: 105\n",
        "Integration Complete in 0.0252530574799 seconds"
       ]
      },
      {
       "output_type": "stream",
       "stream": "stdout",
       "text": [
        "\n",
        "Number of Orbitals: 9\n",
        "Number of Primitive Gaussians: 105\n",
        "Integration Complete in 0.0269689559937 seconds\n",
        "Number of Orbitals: 9\n",
        "Number of Primitive Gaussians: 105\n",
        "Integration Complete in 0.0254580974579 seconds"
       ]
      },
      {
       "output_type": "stream",
       "stream": "stdout",
       "text": [
        "\n",
        "Number of Orbitals: 9\n",
        "Number of Primitive Gaussians: 105\n",
        "Integration Complete in 0.0275218486786 seconds\n",
        "Number of Orbitals: 9\n",
        "Number of Primitive Gaussians: 105\n",
        "Integration Complete in 0.0258111953735 seconds"
       ]
      },
      {
       "output_type": "stream",
       "stream": "stdout",
       "text": [
        "\n",
        "Number of Orbitals: 9\n",
        "Number of Primitive Gaussians: 105\n",
        "Integration Complete in 0.0270121097565 seconds\n",
        "Number of Orbitals: 9\n",
        "Number of Primitive Gaussians: 105\n",
        "Integration Complete in 0.0266199111938 seconds"
       ]
      },
      {
       "output_type": "stream",
       "stream": "stdout",
       "text": [
        "\n",
        "Number of Orbitals: 9\n",
        "Number of Primitive Gaussians: 105\n",
        "Integration Complete in 0.0273480415344 seconds\n",
        "Number of Orbitals: 9\n",
        "Number of Primitive Gaussians: 105\n",
        "Integration Complete in 0.0253689289093 seconds"
       ]
      },
      {
       "output_type": "stream",
       "stream": "stdout",
       "text": [
        "\n",
        "Number of Orbitals: 9\n",
        "Number of Primitive Gaussians: 105\n",
        "Integration Complete in 0.0270369052887 seconds\n",
        "Number of Orbitals: 9\n",
        "Number of Primitive Gaussians: 105\n",
        "Integration Complete in 0.025349855423 seconds"
       ]
      },
      {
       "output_type": "stream",
       "stream": "stdout",
       "text": [
        "\n",
        "Number of Orbitals: 9\n",
        "Number of Primitive Gaussians: 105\n",
        "Integration Complete in 0.0270159244537 seconds\n",
        "Number of Orbitals: 9\n",
        "Number of Primitive Gaussians: 105\n",
        "Integration Complete in 0.0314271450043 seconds"
       ]
      },
      {
       "output_type": "stream",
       "stream": "stdout",
       "text": [
        "\n",
        "Number of Orbitals: 9\n",
        "Number of Primitive Gaussians: 105\n",
        "Integration Complete in 0.0269479751587 seconds\n",
        "Number of Orbitals: 9\n",
        "Number of Primitive Gaussians: 105\n",
        "Integration Complete in 0.0254080295563 seconds"
       ]
      },
      {
       "output_type": "stream",
       "stream": "stdout",
       "text": [
        "\n",
        "Number of Orbitals: 9\n",
        "Number of Primitive Gaussians: 105\n",
        "Integration Complete in 0.0271790027618 seconds\n",
        "Number of Orbitals: 9\n",
        "Number of Primitive Gaussians: 105\n",
        "Integration Complete in 0.0254361629486 seconds"
       ]
      },
      {
       "output_type": "stream",
       "stream": "stdout",
       "text": [
        "\n",
        "Number of Orbitals: 9\n",
        "Number of Primitive Gaussians: 105\n",
        "Integration Complete in 0.0270898342133 seconds\n",
        "Number of Orbitals: 9\n",
        "Number of Primitive Gaussians: 105\n",
        "Integration Complete in 0.025575876236 seconds"
       ]
      },
      {
       "output_type": "stream",
       "stream": "stdout",
       "text": [
        "\n",
        "Number of Orbitals: 9\n",
        "Number of Primitive Gaussians: 105\n",
        "Integration Complete in 0.0273048877716 seconds\n",
        "Number of Orbitals: 9\n",
        "Number of Primitive Gaussians: 105\n",
        "Integration Complete in 0.0267291069031 seconds"
       ]
      },
      {
       "output_type": "stream",
       "stream": "stdout",
       "text": [
        "\n",
        "Number of Orbitals: 9\n",
        "Number of Primitive Gaussians: 105\n",
        "Integration Complete in 0.0272569656372 seconds\n",
        "Number of Orbitals: 9\n",
        "Number of Primitive Gaussians: 105\n",
        "Integration Complete in 0.0284168720245 seconds"
       ]
      },
      {
       "output_type": "stream",
       "stream": "stdout",
       "text": [
        "\n",
        "Number of Orbitals: 9\n",
        "Number of Primitive Gaussians: 105\n",
        "Integration Complete in 0.0269989967346 seconds\n",
        "Number of Orbitals: 9\n",
        "Number of Primitive Gaussians: 105\n",
        "Integration Complete in 0.0261158943176 seconds"
       ]
      },
      {
       "output_type": "stream",
       "stream": "stdout",
       "text": [
        "\n",
        "Number of Orbitals: 9\n",
        "Number of Primitive Gaussians: 105\n",
        "Integration Complete in 0.0269930362701 seconds\n",
        "Number of Orbitals: 9\n",
        "Number of Primitive Gaussians: 105\n",
        "Integration Complete in 0.0264480113983 seconds"
       ]
      },
      {
       "output_type": "stream",
       "stream": "stdout",
       "text": [
        "\n",
        "Number of Orbitals: 9\n",
        "Number of Primitive Gaussians: 105\n",
        "Integration Complete in 0.0270628929138 seconds\n",
        "Number of Orbitals: 9\n",
        "Number of Primitive Gaussians: 105\n",
        "Integration Complete in 0.0253291130066 seconds"
       ]
      },
      {
       "output_type": "stream",
       "stream": "stdout",
       "text": [
        "\n",
        "Number of Orbitals: 9\n",
        "Number of Primitive Gaussians: 105\n",
        "Integration Complete in 0.0274131298065 seconds\n",
        "Number of Orbitals: 9\n",
        "Number of Primitive Gaussians: 105\n",
        "Integration Complete in 0.0266828536987 seconds"
       ]
      },
      {
       "output_type": "stream",
       "stream": "stdout",
       "text": [
        "\n",
        "Number of Orbitals: 9\n",
        "Number of Primitive Gaussians: 105\n",
        "Integration Complete in 0.0269448757172 seconds\n",
        "Number of Orbitals: 9\n",
        "Number of Primitive Gaussians: 105\n",
        "Integration Complete in 0.0253639221191 seconds"
       ]
      },
      {
       "output_type": "stream",
       "stream": "stdout",
       "text": [
        "\n",
        "Number of Orbitals: 9\n",
        "Number of Primitive Gaussians: 105\n",
        "Integration Complete in 0.0274569988251 seconds\n",
        "Number of Orbitals: 9\n",
        "Number of Primitive Gaussians: 105\n",
        "Integration Complete in 0.0258030891418 seconds"
       ]
      },
      {
       "output_type": "stream",
       "stream": "stdout",
       "text": [
        "\n",
        "Number of Orbitals: 9\n",
        "Number of Primitive Gaussians: 105\n",
        "Integration Complete in 0.0271139144897 seconds\n",
        "Number of Orbitals: 9\n",
        "Number of Primitive Gaussians: 105\n",
        "Integration Complete in 0.0253469944 seconds"
       ]
      },
      {
       "output_type": "stream",
       "stream": "stdout",
       "text": [
        "\n",
        "Number of Orbitals: 9\n",
        "Number of Primitive Gaussians: 105\n",
        "Integration Complete in 0.0274319648743 seconds\n",
        "Number of Orbitals: 9\n",
        "Number of Primitive Gaussians: 105\n",
        "Integration Complete in 0.0256068706512 seconds"
       ]
      },
      {
       "output_type": "stream",
       "stream": "stdout",
       "text": [
        "\n",
        "Number of Orbitals: 9\n",
        "Number of Primitive Gaussians: 105\n",
        "Integration Complete in 0.0269830226898 seconds\n",
        "Number of Orbitals: 9\n",
        "Number of Primitive Gaussians: 105\n",
        "Integration Complete in 0.0266728401184 seconds"
       ]
      },
      {
       "output_type": "stream",
       "stream": "stdout",
       "text": [
        "\n",
        "Number of Orbitals: 9\n",
        "Number of Primitive Gaussians: 105\n",
        "Integration Complete in 0.0273489952087 seconds\n",
        "Number of Orbitals: 9\n",
        "Number of Primitive Gaussians: 105\n",
        "Integration Complete in 0.02610206604 seconds"
       ]
      },
      {
       "output_type": "stream",
       "stream": "stdout",
       "text": [
        "\n",
        "Number of Orbitals: 9\n",
        "Number of Primitive Gaussians: 105\n",
        "Integration Complete in 0.0270228385925 seconds\n",
        "Number of Orbitals: 9\n",
        "Number of Primitive Gaussians: 105\n",
        "Integration Complete in 0.0254321098328 seconds"
       ]
      },
      {
       "output_type": "stream",
       "stream": "stdout",
       "text": [
        "\n",
        "Number of Orbitals: 9\n",
        "Number of Primitive Gaussians: 105\n",
        "Integration Complete in 0.0271050930023 seconds\n",
        "Number of Orbitals: 9\n",
        "Number of Primitive Gaussians: 105\n",
        "Integration Complete in 0.025475025177 seconds"
       ]
      },
      {
       "output_type": "stream",
       "stream": "stdout",
       "text": [
        "\n",
        "Number of Orbitals: 9\n",
        "Number of Primitive Gaussians: 105\n",
        "Integration Complete in 0.0274109840393 seconds\n",
        "Number of Orbitals: 9\n",
        "Number of Primitive Gaussians: 105\n",
        "Integration Complete in 0.0259170532227 seconds"
       ]
      },
      {
       "output_type": "stream",
       "stream": "stdout",
       "text": [
        "\n",
        "Number of Orbitals: 9\n",
        "Number of Primitive Gaussians: 105\n",
        "Integration Complete in 0.0288889408112 seconds\n",
        "Number of Orbitals: 9\n",
        "Number of Primitive Gaussians: 105\n",
        "Integration Complete in 0.0267350673676 seconds"
       ]
      },
      {
       "output_type": "stream",
       "stream": "stdout",
       "text": [
        "\n",
        "Number of Orbitals: 9\n",
        "Number of Primitive Gaussians: 105\n",
        "Integration Complete in 0.0270409584045 seconds\n",
        "Number of Orbitals: 9\n",
        "Number of Primitive Gaussians: 105\n",
        "Integration Complete in 0.0265591144562 seconds"
       ]
      },
      {
       "output_type": "stream",
       "stream": "stdout",
       "text": [
        "\n",
        "Number of Orbitals: 9\n",
        "Number of Primitive Gaussians: 105\n",
        "Integration Complete in 0.0272748470306 seconds\n",
        "Number of Orbitals: 9\n",
        "Number of Primitive Gaussians: 105\n",
        "Integration Complete in 0.0294318199158 seconds"
       ]
      },
      {
       "output_type": "stream",
       "stream": "stdout",
       "text": [
        "\n",
        "Number of Orbitals: 9\n",
        "Number of Primitive Gaussians: 105\n",
        "Integration Complete in 0.0277137756348 seconds\n",
        "Number of Orbitals: 9\n",
        "Number of Primitive Gaussians: 105\n",
        "Integration Complete in 0.025563955307 seconds"
       ]
      },
      {
       "output_type": "stream",
       "stream": "stdout",
       "text": [
        "\n",
        "Number of Orbitals: 9\n",
        "Number of Primitive Gaussians: 105\n",
        "Integration Complete in 0.0277400016785 seconds\n",
        "Number of Orbitals: 9\n",
        "Number of Primitive Gaussians: 105\n",
        "Integration Complete in 0.0259680747986 seconds"
       ]
      },
      {
       "output_type": "stream",
       "stream": "stdout",
       "text": [
        "\n",
        "Number of Orbitals: 9\n",
        "Number of Primitive Gaussians: 105\n",
        "Integration Complete in 0.0277378559113 seconds\n",
        "Number of Orbitals: 9\n",
        "Number of Primitive Gaussians: 105\n",
        "Integration Complete in 0.0281329154968 seconds"
       ]
      },
      {
       "output_type": "stream",
       "stream": "stdout",
       "text": [
        "\n",
        "Number of Orbitals: 9\n",
        "Number of Primitive Gaussians: 105\n",
        "Integration Complete in 0.0282897949219 seconds\n",
        "Number of Orbitals: 9\n",
        "Number of Primitive Gaussians: 105\n",
        "Integration Complete in 0.0254309177399 seconds"
       ]
      },
      {
       "output_type": "stream",
       "stream": "stdout",
       "text": [
        "\n",
        "Number of Orbitals: 9\n",
        "Number of Primitive Gaussians: 105\n",
        "Integration Complete in 0.0274021625519 seconds\n",
        "Number of Orbitals: 9\n",
        "Number of Primitive Gaussians: 105\n",
        "Integration Complete in 0.0254580974579 seconds"
       ]
      },
      {
       "output_type": "stream",
       "stream": "stdout",
       "text": [
        "\n",
        "Number of Orbitals: 9\n",
        "Number of Primitive Gaussians: 105\n",
        "Integration Complete in 0.0275309085846 seconds\n",
        "Number of Orbitals: 9\n",
        "Number of Primitive Gaussians: 105\n",
        "Integration Complete in 0.0273451805115 seconds"
       ]
      },
      {
       "output_type": "stream",
       "stream": "stdout",
       "text": [
        "\n",
        "Number of Orbitals: 9\n",
        "Number of Primitive Gaussians: 105\n",
        "Integration Complete in 0.0317299365997 seconds\n",
        "Number of Orbitals: 9\n",
        "Number of Primitive Gaussians: 105\n",
        "Integration Complete in 0.0269768238068 seconds"
       ]
      },
      {
       "output_type": "stream",
       "stream": "stdout",
       "text": [
        "\n",
        "Number of Orbitals: 9\n",
        "Number of Primitive Gaussians: 105\n",
        "Integration Complete in 0.0319378376007 seconds\n",
        "Number of Orbitals: 9\n",
        "Number of Primitive Gaussians: 105\n",
        "Integration Complete in 0.0253341197968 seconds"
       ]
      },
      {
       "output_type": "stream",
       "stream": "stdout",
       "text": [
        "\n",
        "Number of Orbitals: 9\n",
        "Number of Primitive Gaussians: 105\n",
        "Integration Complete in 0.0317838191986 seconds\n",
        "Number of Orbitals: 9\n",
        "Number of Primitive Gaussians: 105\n",
        "Integration Complete in 0.0254528522491 seconds"
       ]
      },
      {
       "output_type": "stream",
       "stream": "stdout",
       "text": [
        "\n",
        "Number of Orbitals: 9\n",
        "Number of Primitive Gaussians: 105\n",
        "Integration Complete in 0.0315599441528 seconds\n",
        "Number of Orbitals: 9\n",
        "Number of Primitive Gaussians: 105\n",
        "Integration Complete in 0.0255980491638 seconds"
       ]
      },
      {
       "output_type": "stream",
       "stream": "stdout",
       "text": [
        "\n",
        "Number of Orbitals: 9\n",
        "Number of Primitive Gaussians: 105\n",
        "Integration Complete in 0.0314900875092 seconds\n",
        "Number of Orbitals: 9\n",
        "Number of Primitive Gaussians: 105\n",
        "Integration Complete in 0.0287461280823 seconds"
       ]
      },
      {
       "output_type": "stream",
       "stream": "stdout",
       "text": [
        "\n",
        "Number of Orbitals: 9\n",
        "Number of Primitive Gaussians: 105\n",
        "Integration Complete in 0.0398769378662 seconds\n",
        "Number of Orbitals: 9"
       ]
      },
      {
       "output_type": "stream",
       "stream": "stdout",
       "text": [
        "\n",
        "Number of Primitive Gaussians: 105\n",
        "Integration Complete in 0.0325150489807 seconds\n",
        "Number of Orbitals: 9\n",
        "Number of Primitive Gaussians: 105\n",
        "Integration Complete in 0.0255818367004 seconds"
       ]
      },
      {
       "output_type": "stream",
       "stream": "stdout",
       "text": [
        "\n",
        "Number of Orbitals: 9\n",
        "Number of Primitive Gaussians: 105\n",
        "Integration Complete in 0.0314979553223 seconds\n",
        "Number of Orbitals: 9\n",
        "Number of Primitive Gaussians: 105\n",
        "Integration Complete in 0.0253939628601 seconds"
       ]
      },
      {
       "output_type": "stream",
       "stream": "stdout",
       "text": [
        "\n",
        "Number of Orbitals: 9\n",
        "Number of Primitive Gaussians: 105\n",
        "Integration Complete in 0.031613111496 seconds\n",
        "Number of Orbitals: 9\n",
        "Number of Primitive Gaussians: 105\n",
        "Integration Complete in 0.0252969264984 seconds"
       ]
      },
      {
       "output_type": "stream",
       "stream": "stdout",
       "text": [
        "\n",
        "Number of Orbitals: 9\n",
        "Number of Primitive Gaussians: 105\n",
        "Integration Complete in 0.0322120189667 seconds\n",
        "Number of Orbitals: 9\n",
        "Number of Primitive Gaussians: 105\n",
        "Integration Complete in 0.0268290042877 seconds"
       ]
      },
      {
       "output_type": "stream",
       "stream": "stdout",
       "text": [
        "\n",
        "Number of Orbitals: 9\n",
        "Number of Primitive Gaussians: 105\n",
        "Integration Complete in 0.0274920463562 seconds\n",
        "Number of Orbitals: 9\n",
        "Number of Primitive Gaussians: 105\n",
        "Integration Complete in 0.0254690647125 seconds"
       ]
      },
      {
       "output_type": "stream",
       "stream": "stdout",
       "text": [
        "\n",
        "Number of Orbitals: 9\n",
        "Number of Primitive Gaussians: 105\n",
        "Integration Complete in 0.0272471904755 seconds\n",
        "Number of Orbitals: 9\n",
        "Number of Primitive Gaussians: 105\n",
        "Integration Complete in 0.0259690284729 seconds"
       ]
      },
      {
       "output_type": "stream",
       "stream": "stdout",
       "text": [
        "\n",
        "Number of Orbitals: 9\n",
        "Number of Primitive Gaussians: 105\n",
        "Integration Complete in 0.0270450115204 seconds\n",
        "Number of Orbitals: 9\n",
        "Number of Primitive Gaussians: 105\n",
        "Integration Complete in 0.0266091823578 seconds"
       ]
      },
      {
       "output_type": "stream",
       "stream": "stdout",
       "text": [
        "\n",
        "Number of Orbitals: 9\n",
        "Number of Primitive Gaussians: 105\n",
        "Integration Complete in 0.0270788669586 seconds\n",
        "Number of Orbitals: 9\n",
        "Number of Primitive Gaussians: 105\n",
        "Integration Complete in 0.0260970592499 seconds"
       ]
      },
      {
       "output_type": "stream",
       "stream": "stdout",
       "text": [
        "\n",
        "Number of Orbitals: 9\n",
        "Number of Primitive Gaussians: 105\n",
        "Integration Complete in 0.0270709991455 seconds\n",
        "Number of Orbitals: 9\n",
        "Number of Primitive Gaussians: 105\n",
        "Integration Complete in 0.0274448394775 seconds"
       ]
      },
      {
       "output_type": "stream",
       "stream": "stdout",
       "text": [
        "\n",
        "Number of Orbitals: 9\n",
        "Number of Primitive Gaussians: 105\n",
        "Integration Complete in 0.0276160240173 seconds\n",
        "Number of Orbitals: 9\n",
        "Number of Primitive Gaussians: 105\n",
        "Integration Complete in 0.0257139205933 seconds"
       ]
      },
      {
       "output_type": "stream",
       "stream": "stdout",
       "text": [
        "\n",
        "Number of Orbitals: 9\n",
        "Number of Primitive Gaussians: 105\n",
        "Integration Complete in 0.0314559936523 seconds\n",
        "Number of Orbitals: 9\n",
        "Number of Primitive Gaussians: 105\n",
        "Integration Complete in 0.0268001556396 seconds"
       ]
      },
      {
       "output_type": "stream",
       "stream": "stdout",
       "text": [
        "\n",
        "Number of Orbitals: 9\n",
        "Number of Primitive Gaussians: 105\n",
        "Integration Complete in 0.0313999652863 seconds\n",
        "Number of Orbitals: 9\n",
        "Number of Primitive Gaussians: 105\n",
        "Integration Complete in 0.0258209705353 seconds"
       ]
      },
      {
       "output_type": "stream",
       "stream": "stdout",
       "text": [
        "\n",
        "Number of Orbitals: 9\n",
        "Number of Primitive Gaussians: 105\n",
        "Integration Complete in 0.0400199890137 seconds\n",
        "Number of Orbitals: 9"
       ]
      },
      {
       "output_type": "stream",
       "stream": "stdout",
       "text": [
        "\n",
        "Number of Primitive Gaussians: 105\n",
        "Integration Complete in 0.0302879810333 seconds\n",
        "Number of Orbitals: 9\n",
        "Number of Primitive Gaussians: 105\n",
        "Integration Complete in 0.0292570590973 seconds"
       ]
      },
      {
       "output_type": "stream",
       "stream": "stdout",
       "text": [
        "\n",
        "Number of Orbitals: 9\n",
        "Number of Primitive Gaussians: 105\n",
        "Integration Complete in 0.0345129966736 seconds\n",
        "Number of Orbitals: 9\n",
        "Number of Primitive Gaussians: 105\n",
        "Integration Complete in 0.029953956604 seconds"
       ]
      },
      {
       "output_type": "stream",
       "stream": "stdout",
       "text": [
        "\n",
        "Number of Orbitals: 9\n",
        "Number of Primitive Gaussians: 105\n",
        "Integration Complete in 0.0296969413757 seconds\n",
        "Number of Orbitals: 9\n",
        "Number of Primitive Gaussians: 105\n",
        "Integration Complete in 0.0306360721588 seconds"
       ]
      },
      {
       "output_type": "stream",
       "stream": "stdout",
       "text": [
        "\n",
        "Number of Orbitals: 9\n",
        "Number of Primitive Gaussians: 105\n",
        "Integration Complete in 0.0281472206116 seconds\n",
        "Number of Orbitals: 9\n",
        "Number of Primitive Gaussians: 105\n",
        "Integration Complete in 0.0287001132965 seconds"
       ]
      },
      {
       "output_type": "stream",
       "stream": "stdout",
       "text": [
        "\n",
        "Number of Orbitals: 9\n",
        "Number of Primitive Gaussians: 105\n",
        "Integration Complete in 0.0375299453735 seconds\n",
        "Number of Orbitals: 9\n",
        "Number of Primitive Gaussians: 105\n",
        "Integration Complete in 0.0346059799194 seconds"
       ]
      },
      {
       "output_type": "stream",
       "stream": "stdout",
       "text": [
        "\n",
        "Number of Orbitals: 9\n",
        "Number of Primitive Gaussians: 105\n",
        "Integration Complete in 0.0312130451202 seconds\n",
        "Number of Orbitals: 9\n",
        "Number of Primitive Gaussians: 105\n",
        "Integration Complete in 0.0334379673004 seconds"
       ]
      },
      {
       "output_type": "stream",
       "stream": "stdout",
       "text": [
        "\n",
        "Number of Orbitals: 9\n",
        "Number of Primitive Gaussians: 105\n",
        "Integration Complete in 0.0291929244995 seconds\n",
        "Number of Orbitals: 9\n",
        "Number of Primitive Gaussians: 105\n",
        "Integration Complete in 0.0310740470886 seconds"
       ]
      },
      {
       "output_type": "stream",
       "stream": "stdout",
       "text": [
        "\n",
        "Number of Orbitals: 9\n",
        "Number of Primitive Gaussians: 105\n",
        "Integration Complete in 0.0278859138489 seconds\n",
        "Number of Orbitals: 9\n",
        "Number of Primitive Gaussians: 105\n",
        "Integration Complete in 0.0257768630981 seconds"
       ]
      },
      {
       "output_type": "stream",
       "stream": "stdout",
       "text": [
        "\n",
        "Number of Orbitals: 9\n",
        "Number of Primitive Gaussians: 105\n",
        "Integration Complete in 0.0273559093475 seconds\n",
        "Number of Orbitals: 9\n",
        "Number of Primitive Gaussians: 105\n",
        "Integration Complete in 0.025584936142 seconds"
       ]
      },
      {
       "output_type": "stream",
       "stream": "stdout",
       "text": [
        "\n",
        "Number of Orbitals: 9\n",
        "Number of Primitive Gaussians: 105\n",
        "Integration Complete in 0.0277378559113 seconds\n",
        "Number of Orbitals: 9\n",
        "Number of Primitive Gaussians: 105\n",
        "Integration Complete in 0.0253429412842 seconds"
       ]
      },
      {
       "output_type": "stream",
       "stream": "stdout",
       "text": [
        "\n",
        "Number of Orbitals: 9\n",
        "Number of Primitive Gaussians: 105\n",
        "Integration Complete in 0.0272209644318 seconds\n",
        "Number of Orbitals: 9\n",
        "Number of Primitive Gaussians: 105\n",
        "Integration Complete in 0.025454044342 seconds"
       ]
      },
      {
       "output_type": "stream",
       "stream": "stdout",
       "text": [
        "\n",
        "Number of Orbitals: 9\n",
        "Number of Primitive Gaussians: 105\n",
        "Integration Complete in 0.0269269943237 seconds\n",
        "Number of Orbitals: 9\n",
        "Number of Primitive Gaussians: 105\n",
        "Integration Complete in 0.0257730484009 seconds"
       ]
      },
      {
       "output_type": "stream",
       "stream": "stdout",
       "text": [
        "\n",
        "Number of Orbitals: 9\n",
        "Number of Primitive Gaussians: 105\n",
        "Integration Complete in 0.0272970199585 seconds\n",
        "Number of Orbitals: 9\n",
        "Number of Primitive Gaussians: 105\n",
        "Integration Complete in 0.0267488956451 seconds"
       ]
      },
      {
       "output_type": "stream",
       "stream": "stdout",
       "text": [
        "\n",
        "Number of Orbitals: 9\n",
        "Number of Primitive Gaussians: 105\n",
        "Integration Complete in 0.0285301208496 seconds\n",
        "Number of Orbitals: 9\n",
        "Number of Primitive Gaussians: 105\n",
        "Integration Complete in 0.0254888534546 seconds"
       ]
      },
      {
       "output_type": "stream",
       "stream": "stdout",
       "text": [
        "\n",
        "Number of Orbitals: 9\n",
        "Number of Primitive Gaussians: 105\n",
        "Integration Complete in 0.0326101779938 seconds\n",
        "Number of Orbitals: 9\n",
        "Number of Primitive Gaussians: 105\n",
        "Integration Complete in 0.0372629165649 seconds"
       ]
      },
      {
       "output_type": "stream",
       "stream": "stdout",
       "text": [
        "\n",
        "Number of Orbitals: 9\n",
        "Number of Primitive Gaussians: 105\n",
        "Integration Complete in 0.0323610305786 seconds\n",
        "Number of Orbitals: 9\n",
        "Number of Primitive Gaussians: 105\n",
        "Integration Complete in 0.0382630825043 seconds"
       ]
      },
      {
       "output_type": "stream",
       "stream": "stdout",
       "text": [
        "\n",
        "Number of Orbitals: 9\n",
        "Number of Primitive Gaussians: 105\n",
        "Integration Complete in 0.0336158275604 seconds\n",
        "Number of Orbitals: 9\n",
        "Number of Primitive Gaussians: 105\n",
        "Integration Complete in 0.0299961566925 seconds"
       ]
      },
      {
       "output_type": "stream",
       "stream": "stdout",
       "text": [
        "\n",
        "Number of Orbitals: 9\n",
        "Number of Primitive Gaussians: 105\n",
        "Integration Complete in 0.0400261878967 seconds\n",
        "Number of Orbitals: 9"
       ]
      },
      {
       "output_type": "stream",
       "stream": "stdout",
       "text": [
        "\n",
        "Number of Primitive Gaussians: 105\n",
        "Integration Complete in 0.0336148738861 seconds\n",
        "Number of Orbitals: 9\n",
        "Number of Primitive Gaussians: 105\n",
        "Integration Complete in 0.0411989688873 seconds"
       ]
      },
      {
       "output_type": "stream",
       "stream": "stdout",
       "text": [
        "\n",
        "Number of Orbitals: 9\n",
        "Number of Primitive Gaussians: 105\n",
        "Integration Complete in 0.0331721305847 seconds\n",
        "Number of Orbitals: 9\n",
        "Number of Primitive Gaussians: 105\n",
        "Integration Complete in 0.0285730361938 seconds"
       ]
      },
      {
       "output_type": "stream",
       "stream": "stdout",
       "text": [
        "\n",
        "Number of Orbitals: 9\n",
        "Number of Primitive Gaussians: 105\n",
        "Integration Complete in 0.0426290035248 seconds\n",
        "Number of Orbitals: 9"
       ]
      },
      {
       "output_type": "stream",
       "stream": "stdout",
       "text": [
        "\n",
        "Number of Primitive Gaussians: 105\n",
        "Integration Complete in 0.0378711223602 seconds\n",
        "Number of Orbitals: 9\n",
        "Number of Primitive Gaussians: 105\n",
        "Integration Complete in 0.0269589424133 seconds"
       ]
      },
      {
       "output_type": "stream",
       "stream": "stdout",
       "text": [
        "\n",
        "Number of Orbitals: 9\n",
        "Number of Primitive Gaussians: 105\n",
        "Integration Complete in 0.0374011993408 seconds\n",
        "Number of Orbitals: 9\n",
        "Number of Primitive Gaussians: 105\n",
        "Integration Complete in 0.0258929729462 seconds"
       ]
      },
      {
       "output_type": "stream",
       "stream": "stdout",
       "text": [
        "\n",
        "Number of Orbitals: 9\n",
        "Number of Primitive Gaussians: 105\n",
        "Integration Complete in 0.0277469158173 seconds\n",
        "Number of Orbitals: 9\n",
        "Number of Primitive Gaussians: 105\n",
        "Integration Complete in 0.025918006897 seconds"
       ]
      },
      {
       "output_type": "stream",
       "stream": "stdout",
       "text": [
        "\n",
        "Number of Orbitals: 9\n",
        "Number of Primitive Gaussians: 105\n",
        "Integration Complete in 0.0272498130798 seconds\n",
        "Number of Orbitals: 9\n",
        "Number of Primitive Gaussians: 105\n",
        "Integration Complete in 0.0266299247742 seconds"
       ]
      },
      {
       "output_type": "stream",
       "stream": "stdout",
       "text": [
        "\n",
        "Number of Orbitals: 9\n",
        "Number of Primitive Gaussians: 105\n",
        "Integration Complete in 0.0339169502258 seconds\n",
        "Number of Orbitals: 9\n",
        "Number of Primitive Gaussians: 105\n",
        "Integration Complete in 0.0255370140076 seconds"
       ]
      },
      {
       "output_type": "stream",
       "stream": "stdout",
       "text": [
        "\n",
        "Number of Orbitals: 9\n",
        "Number of Primitive Gaussians: 105\n",
        "Integration Complete in 0.0276288986206 seconds\n",
        "Number of Orbitals: 9\n",
        "Number of Primitive Gaussians: 105\n",
        "Integration Complete in 0.0270330905914 seconds"
       ]
      },
      {
       "output_type": "stream",
       "stream": "stdout",
       "text": [
        "\n",
        "Number of Orbitals: 9\n",
        "Number of Primitive Gaussians: 105\n",
        "Integration Complete in 0.042751789093 seconds\n",
        "Number of Orbitals: 9"
       ]
      },
      {
       "output_type": "stream",
       "stream": "stdout",
       "text": [
        "\n",
        "Number of Primitive Gaussians: 105\n",
        "Integration Complete in 0.0403962135315 seconds\n",
        "Number of Orbitals: 9\n",
        "Number of Primitive Gaussians: 105\n",
        "Integration Complete in 0.0260782241821 seconds"
       ]
      },
      {
       "output_type": "stream",
       "stream": "stdout",
       "text": [
        "\n",
        "Number of Orbitals: 9\n",
        "Number of Primitive Gaussians: 105\n",
        "Integration Complete in 0.0388979911804 seconds\n",
        "Number of Orbitals: 9\n",
        "Number of Primitive Gaussians: 105\n",
        "Integration Complete in 0.0257921218872 seconds"
       ]
      },
      {
       "output_type": "stream",
       "stream": "stdout",
       "text": [
        "\n",
        "Number of Orbitals: 9\n",
        "Number of Primitive Gaussians: 105\n",
        "Integration Complete in 0.0389308929443 seconds\n",
        "Number of Orbitals: 9\n",
        "Number of Primitive Gaussians: 105\n",
        "Integration Complete in 0.0255370140076 seconds"
       ]
      },
      {
       "output_type": "stream",
       "stream": "stdout",
       "text": [
        "\n",
        "Number of Orbitals: 9\n",
        "Number of Primitive Gaussians: 105\n",
        "Integration Complete in 0.0390701293945 seconds\n",
        "Number of Orbitals: 9\n",
        "Number of Primitive Gaussians: 105\n",
        "Integration Complete in 0.0258729457855 seconds"
       ]
      },
      {
       "output_type": "stream",
       "stream": "stdout",
       "text": [
        "\n",
        "Number of Orbitals: 9\n",
        "Number of Primitive Gaussians: 105\n",
        "Integration Complete in 0.0370221138 seconds\n",
        "Number of Orbitals: 9\n",
        "Number of Primitive Gaussians: 105\n",
        "Integration Complete in 0.0268750190735 seconds"
       ]
      },
      {
       "output_type": "stream",
       "stream": "stdout",
       "text": [
        "\n",
        "Number of Orbitals: 9\n",
        "Number of Primitive Gaussians: 105\n",
        "Integration Complete in 0.0274801254272 seconds\n",
        "Number of Orbitals: 9\n",
        "Number of Primitive Gaussians: 105\n",
        "Integration Complete in 0.0254671573639 seconds"
       ]
      },
      {
       "output_type": "stream",
       "stream": "stdout",
       "text": [
        "\n",
        "Number of Orbitals: 9\n",
        "Number of Primitive Gaussians: 105\n",
        "Integration Complete in 0.0272879600525 seconds\n",
        "Number of Orbitals: 9\n",
        "Number of Primitive Gaussians: 105\n",
        "Integration Complete in 0.0269420146942 seconds"
       ]
      },
      {
       "output_type": "stream",
       "stream": "stdout",
       "text": [
        "\n",
        "Number of Orbitals: 9\n",
        "Number of Primitive Gaussians: 105\n",
        "Integration Complete in 0.0314631462097 seconds\n",
        "Number of Orbitals: 9\n",
        "Number of Primitive Gaussians: 105\n",
        "Integration Complete in 0.0258460044861 seconds"
       ]
      },
      {
       "output_type": "stream",
       "stream": "stdout",
       "text": [
        "\n",
        "Number of Orbitals: 9\n",
        "Number of Primitive Gaussians: 105\n",
        "Integration Complete in 0.0307891368866 seconds\n",
        "Number of Orbitals: 9\n",
        "Number of Primitive Gaussians: 105\n",
        "Integration Complete in 0.0261750221252 seconds"
       ]
      },
      {
       "output_type": "stream",
       "stream": "stdout",
       "text": [
        "\n",
        "Number of Orbitals: 9\n",
        "Number of Primitive Gaussians: 105\n",
        "Integration Complete in 0.0274629592896 seconds\n",
        "Number of Orbitals: 9\n",
        "Number of Primitive Gaussians: 105\n",
        "Integration Complete in 0.0312778949738 seconds"
       ]
      },
      {
       "output_type": "stream",
       "stream": "stdout",
       "text": [
        "\n",
        "Number of Orbitals: 9\n",
        "Number of Primitive Gaussians: 105\n",
        "Integration Complete in 0.0308680534363 seconds\n",
        "Number of Orbitals: 9\n",
        "Number of Primitive Gaussians: 105\n",
        "Integration Complete in 0.0259029865265 seconds"
       ]
      },
      {
       "output_type": "stream",
       "stream": "stdout",
       "text": [
        "\n",
        "Number of Orbitals: 9\n",
        "Number of Primitive Gaussians: 105\n",
        "Integration Complete in 0.0309150218964 seconds\n",
        "Number of Orbitals: 9\n",
        "Number of Primitive Gaussians: 105\n",
        "Integration Complete in 0.0262060165405 seconds"
       ]
      },
      {
       "output_type": "stream",
       "stream": "stdout",
       "text": [
        "\n",
        "Number of Orbitals: 9\n",
        "Number of Primitive Gaussians: 105\n",
        "Integration Complete in 0.0275211334229 seconds\n",
        "Number of Orbitals: 9\n",
        "Number of Primitive Gaussians: 105\n",
        "Integration Complete in 0.0254948139191 seconds"
       ]
      },
      {
       "output_type": "stream",
       "stream": "stdout",
       "text": [
        "\n",
        "Number of Orbitals: 9\n",
        "Number of Primitive Gaussians: 105\n",
        "Integration Complete in 0.0273427963257 seconds\n",
        "Number of Orbitals: 9\n",
        "Number of Primitive Gaussians: 105\n",
        "Integration Complete in 0.0256509780884 seconds"
       ]
      },
      {
       "output_type": "stream",
       "stream": "stdout",
       "text": [
        "\n",
        "Number of Orbitals: 9\n",
        "Number of Primitive Gaussians: 105\n",
        "Integration Complete in 0.0275580883026 seconds\n",
        "Number of Orbitals: 9\n",
        "Number of Primitive Gaussians: 105\n",
        "Integration Complete in 0.0255150794983 seconds"
       ]
      },
      {
       "output_type": "stream",
       "stream": "stdout",
       "text": [
        "\n",
        "Number of Orbitals: 9\n",
        "Number of Primitive Gaussians: 105\n",
        "Integration Complete in 0.0274610519409 seconds\n",
        "Number of Orbitals: 9\n",
        "Number of Primitive Gaussians: 105\n",
        "Integration Complete in 0.0255839824677 seconds"
       ]
      },
      {
       "output_type": "stream",
       "stream": "stdout",
       "text": [
        "\n",
        "Number of Orbitals: 9\n",
        "Number of Primitive Gaussians: 105\n",
        "Integration Complete in 0.027508020401 seconds\n",
        "Number of Orbitals: 9\n",
        "Number of Primitive Gaussians: 105\n",
        "Integration Complete in 0.0253911018372 seconds"
       ]
      },
      {
       "output_type": "stream",
       "stream": "stdout",
       "text": [
        "\n",
        "Number of Orbitals: 9\n",
        "Number of Primitive Gaussians: 105\n",
        "Integration Complete in 0.0270240306854 seconds\n",
        "Number of Orbitals: 9\n",
        "Number of Primitive Gaussians: 105\n",
        "Integration Complete in 0.0273089408875 seconds"
       ]
      },
      {
       "output_type": "stream",
       "stream": "stdout",
       "text": [
        "\n",
        "Number of Orbitals: 9\n",
        "Number of Primitive Gaussians: 105\n",
        "Integration Complete in 0.0271511077881 seconds\n",
        "Number of Orbitals: 9\n",
        "Number of Primitive Gaussians: 105\n",
        "Integration Complete in 0.0259120464325 seconds"
       ]
      },
      {
       "output_type": "stream",
       "stream": "stdout",
       "text": [
        "\n",
        "Number of Orbitals: 9\n",
        "Number of Primitive Gaussians: 105\n",
        "Integration Complete in 0.0272769927979 seconds\n",
        "Number of Orbitals: 9\n",
        "Number of Primitive Gaussians: 105\n",
        "Integration Complete in 0.0263431072235 seconds"
       ]
      },
      {
       "output_type": "stream",
       "stream": "stdout",
       "text": [
        "\n",
        "Number of Orbitals: 9\n",
        "Number of Primitive Gaussians: 105\n",
        "Integration Complete in 0.0275959968567 seconds\n",
        "Number of Orbitals: 9\n",
        "Number of Primitive Gaussians: 105\n",
        "Integration Complete in 0.0255031585693 seconds"
       ]
      },
      {
       "output_type": "stream",
       "stream": "stdout",
       "text": [
        "\n",
        "Number of Orbitals: 9\n",
        "Number of Primitive Gaussians: 105\n",
        "Integration Complete in 0.0272679328918 seconds\n",
        "Number of Orbitals: 9\n",
        "Number of Primitive Gaussians: 105\n",
        "Integration Complete in 0.0254058837891 seconds"
       ]
      },
      {
       "output_type": "stream",
       "stream": "stdout",
       "text": [
        "\n",
        "Number of Orbitals: 9\n",
        "Number of Primitive Gaussians: 105\n",
        "Integration Complete in 0.0272879600525 seconds\n",
        "Number of Orbitals: 9\n",
        "Number of Primitive Gaussians: 105\n",
        "Integration Complete in 0.025465965271 seconds"
       ]
      },
      {
       "output_type": "stream",
       "stream": "stdout",
       "text": [
        "\n",
        "Number of Orbitals: 9\n",
        "Number of Primitive Gaussians: 105\n",
        "Integration Complete in 0.0272920131683 seconds\n",
        "Number of Orbitals: 9\n",
        "Number of Primitive Gaussians: 105\n",
        "Integration Complete in 0.0267310142517 seconds"
       ]
      },
      {
       "output_type": "stream",
       "stream": "stdout",
       "text": [
        "\n",
        "Number of Orbitals: 9\n",
        "Number of Primitive Gaussians: 105\n",
        "Integration Complete in 0.0275299549103 seconds\n",
        "Number of Orbitals: 9\n",
        "Number of Primitive Gaussians: 105\n",
        "Integration Complete in 0.0254800319672 seconds"
       ]
      },
      {
       "output_type": "stream",
       "stream": "stdout",
       "text": [
        "\n",
        "Number of Orbitals: 9\n",
        "Number of Primitive Gaussians: 105\n",
        "Integration Complete in 0.0270168781281 seconds\n",
        "Number of Orbitals: 9\n",
        "Number of Primitive Gaussians: 105\n",
        "Integration Complete in 0.0268688201904 seconds"
       ]
      },
      {
       "output_type": "stream",
       "stream": "stdout",
       "text": [
        "\n",
        "Number of Orbitals: 9\n",
        "Number of Primitive Gaussians: 105\n",
        "Integration Complete in 0.0274350643158 seconds\n",
        "Number of Orbitals: 9\n",
        "Number of Primitive Gaussians: 105\n",
        "Integration Complete in 0.0259881019592 seconds"
       ]
      },
      {
       "output_type": "stream",
       "stream": "stdout",
       "text": [
        "\n",
        "Number of Orbitals: 9\n",
        "Number of Primitive Gaussians: 105\n",
        "Integration Complete in 0.0270490646362 seconds\n",
        "Number of Orbitals: 9\n",
        "Number of Primitive Gaussians: 105\n",
        "Integration Complete in 0.0257251262665 seconds"
       ]
      },
      {
       "output_type": "stream",
       "stream": "stdout",
       "text": [
        "\n",
        "Number of Orbitals: 9\n",
        "Number of Primitive Gaussians: 105\n",
        "Integration Complete in 0.0270080566406 seconds\n",
        "Number of Orbitals: 9\n",
        "Number of Primitive Gaussians: 105\n",
        "Integration Complete in 0.0255320072174 seconds"
       ]
      },
      {
       "output_type": "stream",
       "stream": "stdout",
       "text": [
        "\n",
        "Number of Orbitals: 9\n",
        "Number of Primitive Gaussians: 105\n",
        "Integration Complete in 0.0269980430603 seconds\n",
        "Number of Orbitals: 9\n",
        "Number of Primitive Gaussians: 105\n",
        "Integration Complete in 0.0254509449005 seconds"
       ]
      },
      {
       "output_type": "stream",
       "stream": "stdout",
       "text": [
        "\n",
        "Number of Orbitals: 9\n",
        "Number of Primitive Gaussians: 105\n",
        "Integration Complete in 0.0272450447083 seconds\n",
        "Number of Orbitals: 9\n",
        "Number of Primitive Gaussians: 105\n",
        "Integration Complete in 0.025398015976 seconds"
       ]
      },
      {
       "output_type": "stream",
       "stream": "stdout",
       "text": [
        "\n",
        "Number of Orbitals: 9\n",
        "Number of Primitive Gaussians: 105\n",
        "Integration Complete in 0.0274641513824 seconds\n",
        "Number of Orbitals: 9\n",
        "Number of Primitive Gaussians: 105\n",
        "Integration Complete in 0.0254797935486 seconds"
       ]
      },
      {
       "output_type": "stream",
       "stream": "stdout",
       "text": [
        "\n",
        "Number of Orbitals: 9\n",
        "Number of Primitive Gaussians: 105\n",
        "Integration Complete in 0.0413081645966 seconds\n",
        "Number of Orbitals: 9"
       ]
      },
      {
       "output_type": "stream",
       "stream": "stdout",
       "text": [
        "\n",
        "Number of Primitive Gaussians: 105\n",
        "Integration Complete in 0.0295088291168 seconds\n",
        "Number of Orbitals: 9\n",
        "Number of Primitive Gaussians: 105\n",
        "Integration Complete in 0.025682926178 seconds"
       ]
      },
      {
       "output_type": "stream",
       "stream": "stdout",
       "text": [
        "\n",
        "Number of Orbitals: 9\n",
        "Number of Primitive Gaussians: 105\n",
        "Integration Complete in 0.0307610034943 seconds\n",
        "Number of Orbitals: 9\n",
        "Number of Primitive Gaussians: 105\n",
        "Integration Complete in 0.0255110263824 seconds"
       ]
      },
      {
       "output_type": "stream",
       "stream": "stdout",
       "text": [
        "\n",
        "Number of Orbitals: 9\n",
        "Number of Primitive Gaussians: 105\n",
        "Integration Complete in 0.0313429832458 seconds\n",
        "Number of Orbitals: 9\n",
        "Number of Primitive Gaussians: 105\n",
        "Integration Complete in 0.0260012149811 seconds"
       ]
      },
      {
       "output_type": "stream",
       "stream": "stdout",
       "text": [
        "\n",
        "Number of Orbitals: 9\n",
        "Number of Primitive Gaussians: 105\n",
        "Integration Complete in 0.0308609008789 seconds\n",
        "Number of Orbitals: 9\n",
        "Number of Primitive Gaussians: 105\n",
        "Integration Complete in 0.0257160663605 seconds"
       ]
      },
      {
       "output_type": "stream",
       "stream": "stdout",
       "text": [
        "\n",
        "Number of Orbitals: 9\n",
        "Number of Primitive Gaussians: 105\n",
        "Integration Complete in 0.0406928062439 seconds\n",
        "Number of Orbitals: 9"
       ]
      },
      {
       "output_type": "stream",
       "stream": "stdout",
       "text": [
        "\n",
        "Number of Primitive Gaussians: 105\n",
        "Integration Complete in 0.0296549797058 seconds\n",
        "Number of Orbitals: 9\n",
        "Number of Primitive Gaussians: 105\n",
        "Integration Complete in 0.0269129276276 seconds"
       ]
      },
      {
       "output_type": "stream",
       "stream": "stdout",
       "text": [
        "\n",
        "Number of Orbitals: 9\n",
        "Number of Primitive Gaussians: 105\n",
        "Integration Complete in 0.0308010578156 seconds\n",
        "Number of Orbitals: 9\n",
        "Number of Primitive Gaussians: 105\n",
        "Integration Complete in 0.0269260406494 seconds"
       ]
      },
      {
       "output_type": "stream",
       "stream": "stdout",
       "text": [
        "\n",
        "Number of Orbitals: 9\n",
        "Number of Primitive Gaussians: 105\n",
        "Integration Complete in 0.0312480926514 seconds\n",
        "Number of Orbitals: 9\n",
        "Number of Primitive Gaussians: 105\n",
        "Integration Complete in 0.0255110263824 seconds"
       ]
      },
      {
       "output_type": "stream",
       "stream": "stdout",
       "text": [
        "\n",
        "Number of Orbitals: 9\n",
        "Number of Primitive Gaussians: 105\n",
        "Integration Complete in 0.0271801948547 seconds\n",
        "Number of Orbitals: 9\n",
        "Number of Primitive Gaussians: 105\n",
        "Integration Complete in 0.025731086731 seconds"
       ]
      },
      {
       "output_type": "stream",
       "stream": "stdout",
       "text": [
        "\n",
        "Number of Orbitals: 9\n",
        "Number of Primitive Gaussians: 105\n",
        "Integration Complete in 0.0273678302765 seconds\n",
        "Number of Orbitals: 9\n",
        "Number of Primitive Gaussians: 105\n",
        "Integration Complete in 0.0257539749146 seconds"
       ]
      },
      {
       "output_type": "stream",
       "stream": "stdout",
       "text": [
        "\n",
        "Number of Orbitals: 9\n",
        "Number of Primitive Gaussians: 105\n",
        "Integration Complete in 0.0271770954132 seconds\n",
        "Number of Orbitals: 9\n",
        "Number of Primitive Gaussians: 105\n",
        "Integration Complete in 0.0260741710663 seconds"
       ]
      },
      {
       "output_type": "stream",
       "stream": "stdout",
       "text": [
        "\n",
        "Number of Orbitals: 9\n",
        "Number of Primitive Gaussians: 105\n",
        "Integration Complete in 0.0273289680481 seconds\n",
        "Number of Orbitals: 9\n",
        "Number of Primitive Gaussians: 105\n",
        "Integration Complete in 0.0255620479584 seconds"
       ]
      },
      {
       "output_type": "stream",
       "stream": "stdout",
       "text": [
        "\n",
        "Number of Orbitals: 9\n",
        "Number of Primitive Gaussians: 105\n",
        "Integration Complete in 0.0272500514984 seconds\n",
        "Number of Orbitals: 9\n",
        "Number of Primitive Gaussians: 105\n",
        "Integration Complete in 0.0259909629822 seconds"
       ]
      },
      {
       "output_type": "stream",
       "stream": "stdout",
       "text": [
        "\n",
        "Number of Orbitals: 9\n",
        "Number of Primitive Gaussians: 105\n",
        "Integration Complete in 0.0271809101105 seconds\n",
        "Number of Orbitals: 9\n",
        "Number of Primitive Gaussians: 105\n",
        "Integration Complete in 0.0260810852051 seconds"
       ]
      },
      {
       "output_type": "stream",
       "stream": "stdout",
       "text": [
        "\n",
        "Number of Orbitals: 9\n",
        "Number of Primitive Gaussians: 105\n",
        "Integration Complete in 0.0370800495148 seconds\n",
        "Number of Orbitals: 9\n",
        "Number of Primitive Gaussians: 105\n",
        "Integration Complete in 0.0255689620972 seconds"
       ]
      },
      {
       "output_type": "stream",
       "stream": "stdout",
       "text": [
        "\n",
        "Number of Orbitals: 9\n",
        "Number of Primitive Gaussians: 105\n",
        "Integration Complete in 0.0269730091095 seconds\n",
        "Number of Orbitals: 9\n",
        "Number of Primitive Gaussians: 105\n",
        "Integration Complete in 0.0255229473114 seconds"
       ]
      },
      {
       "output_type": "stream",
       "stream": "stdout",
       "text": [
        "\n",
        "Number of Orbitals: 9\n",
        "Number of Primitive Gaussians: 105\n",
        "Integration Complete in 0.0268459320068 seconds\n",
        "Number of Orbitals: 9\n",
        "Number of Primitive Gaussians: 105\n",
        "Integration Complete in 0.0256991386414 seconds"
       ]
      },
      {
       "output_type": "stream",
       "stream": "stdout",
       "text": [
        "\n",
        "Number of Orbitals: 9\n",
        "Number of Primitive Gaussians: 105\n",
        "Integration Complete in 0.0269799232483 seconds\n",
        "Number of Orbitals: 9\n",
        "Number of Primitive Gaussians: 105\n",
        "Integration Complete in 0.0267422199249 seconds"
       ]
      },
      {
       "output_type": "stream",
       "stream": "stdout",
       "text": [
        "\n",
        "Number of Orbitals: 9\n",
        "Number of Primitive Gaussians: 105\n",
        "Integration Complete in 0.0292940139771 seconds\n",
        "Number of Orbitals: 9\n",
        "Number of Primitive Gaussians: 105\n",
        "Integration Complete in 0.0260691642761 seconds"
       ]
      },
      {
       "output_type": "stream",
       "stream": "stdout",
       "text": [
        "\n",
        "Number of Orbitals: 9\n",
        "Number of Primitive Gaussians: 105\n",
        "Integration Complete in 0.0279929637909 seconds\n",
        "Number of Orbitals: 9\n",
        "Number of Primitive Gaussians: 105\n",
        "Integration Complete in 0.0254712104797 seconds"
       ]
      },
      {
       "output_type": "stream",
       "stream": "stdout",
       "text": [
        "\n",
        "Number of Orbitals: 9\n",
        "Number of Primitive Gaussians: 105\n",
        "Integration Complete in 0.026869058609 seconds\n",
        "Number of Orbitals: 9\n",
        "Number of Primitive Gaussians: 105\n",
        "Integration Complete in 0.0257730484009 seconds"
       ]
      },
      {
       "output_type": "stream",
       "stream": "stdout",
       "text": [
        "\n",
        "Number of Orbitals: 9\n",
        "Number of Primitive Gaussians: 105\n",
        "Integration Complete in 0.0269181728363 seconds\n",
        "Number of Orbitals: 9\n",
        "Number of Primitive Gaussians: 105\n",
        "Integration Complete in 0.0264070034027 seconds"
       ]
      },
      {
       "output_type": "stream",
       "stream": "stdout",
       "text": [
        "\n",
        "Number of Orbitals: 9\n",
        "Number of Primitive Gaussians: 105\n",
        "Integration Complete in 0.027046918869 seconds\n",
        "Number of Orbitals: 9\n",
        "Number of Primitive Gaussians: 105\n",
        "Integration Complete in 0.0259737968445 seconds"
       ]
      },
      {
       "output_type": "stream",
       "stream": "stdout",
       "text": [
        "\n",
        "Number of Orbitals: 9\n",
        "Number of Primitive Gaussians: 105\n",
        "Integration Complete in 0.0273368358612 seconds\n",
        "Number of Orbitals: 9\n",
        "Number of Primitive Gaussians: 105\n",
        "Integration Complete in 0.025554895401 seconds"
       ]
      },
      {
       "output_type": "stream",
       "stream": "stdout",
       "text": [
        "\n",
        "Number of Orbitals: 9\n",
        "Number of Primitive Gaussians: 105\n",
        "Integration Complete in 0.0273869037628 seconds\n",
        "Number of Orbitals: 9\n",
        "Number of Primitive Gaussians: 105\n",
        "Integration Complete in 0.0254008769989 seconds"
       ]
      },
      {
       "output_type": "stream",
       "stream": "stdout",
       "text": [
        "\n",
        "Number of Orbitals: 9\n",
        "Number of Primitive Gaussians: 105\n",
        "Integration Complete in 0.0276811122894 seconds\n",
        "Number of Orbitals: 9\n",
        "Number of Primitive Gaussians: 105\n",
        "Integration Complete in 0.0255701541901 seconds"
       ]
      },
      {
       "output_type": "stream",
       "stream": "stdout",
       "text": [
        "\n",
        "Number of Orbitals: 9\n",
        "Number of Primitive Gaussians: 105\n",
        "Integration Complete in 0.0276770591736 seconds\n",
        "Number of Orbitals: 9\n",
        "Number of Primitive Gaussians: 105\n",
        "Integration Complete in 0.025463104248 seconds"
       ]
      },
      {
       "output_type": "stream",
       "stream": "stdout",
       "text": [
        "\n",
        "Number of Orbitals: 9\n",
        "Number of Primitive Gaussians: 105\n",
        "Integration Complete in 0.0268931388855 seconds\n",
        "Number of Orbitals: 9\n",
        "Number of Primitive Gaussians: 105\n",
        "Integration Complete in 0.0257449150085 seconds"
       ]
      },
      {
       "output_type": "stream",
       "stream": "stdout",
       "text": [
        "\n",
        "Number of Orbitals: 9\n",
        "Number of Primitive Gaussians: 105\n",
        "Integration Complete in 0.0269458293915 seconds\n",
        "Number of Orbitals: 9\n",
        "Number of Primitive Gaussians: 105\n",
        "Integration Complete in 0.0256879329681 seconds"
       ]
      },
      {
       "output_type": "stream",
       "stream": "stdout",
       "text": [
        "\n",
        "Number of Orbitals: 9\n",
        "Number of Primitive Gaussians: 105\n",
        "Integration Complete in 0.030797958374 seconds\n",
        "Number of Orbitals: 9\n",
        "Number of Primitive Gaussians: 105\n",
        "Integration Complete in 0.0267810821533 seconds"
       ]
      },
      {
       "output_type": "stream",
       "stream": "stdout",
       "text": [
        "\n",
        "Number of Orbitals: 9\n",
        "Number of Primitive Gaussians: 105\n",
        "Integration Complete in 0.030769109726 seconds\n",
        "Number of Orbitals: 9\n",
        "Number of Primitive Gaussians: 105\n",
        "Integration Complete in 0.0254688262939 seconds"
       ]
      },
      {
       "output_type": "stream",
       "stream": "stdout",
       "text": [
        "\n",
        "Number of Orbitals: 9\n",
        "Number of Primitive Gaussians: 105\n",
        "Integration Complete in 0.0308821201324 seconds\n",
        "Number of Orbitals: 9\n",
        "Number of Primitive Gaussians: 105\n",
        "Integration Complete in 0.0265209674835 seconds"
       ]
      },
      {
       "output_type": "stream",
       "stream": "stdout",
       "text": [
        "\n",
        "Number of Orbitals: 9\n",
        "Number of Primitive Gaussians: 105\n",
        "Integration Complete in 0.0394289493561 seconds\n",
        "Number of Orbitals: 9\n",
        "Number of Primitive Gaussians: 105\n",
        "Integration Complete in 0.0257289409637 seconds"
       ]
      },
      {
       "output_type": "stream",
       "stream": "stdout",
       "text": [
        "\n",
        "Number of Orbitals: 9\n",
        "Number of Primitive Gaussians: 105\n",
        "Integration Complete in 0.0307500362396 seconds\n",
        "Number of Orbitals: 9\n",
        "Number of Primitive Gaussians: 105\n",
        "Integration Complete in 0.0260169506073 seconds"
       ]
      },
      {
       "output_type": "stream",
       "stream": "stdout",
       "text": [
        "\n",
        "Number of Orbitals: 9\n",
        "Number of Primitive Gaussians: 105\n",
        "Integration Complete in 0.0308051109314 seconds\n",
        "Number of Orbitals: 9\n",
        "Number of Primitive Gaussians: 105\n",
        "Integration Complete in 0.0261399745941 seconds"
       ]
      },
      {
       "output_type": "stream",
       "stream": "stdout",
       "text": [
        "\n",
        "Number of Orbitals: 9\n",
        "Number of Primitive Gaussians: 105\n",
        "Integration Complete in 0.0307879447937 seconds\n",
        "Number of Orbitals: 9\n",
        "Number of Primitive Gaussians: 105\n",
        "Integration Complete in 0.0255160331726 seconds"
       ]
      },
      {
       "output_type": "stream",
       "stream": "stdout",
       "text": [
        "\n",
        "Number of Orbitals: 9\n",
        "Number of Primitive Gaussians: 105\n",
        "Integration Complete in 0.0307619571686 seconds\n",
        "Number of Orbitals: 9\n",
        "Number of Primitive Gaussians: 105\n",
        "Integration Complete in 0.0269091129303 seconds"
       ]
      },
      {
       "output_type": "stream",
       "stream": "stdout",
       "text": [
        "\n",
        "Number of Orbitals: 9\n",
        "Number of Primitive Gaussians: 105\n",
        "Integration Complete in 0.0307879447937 seconds\n",
        "Number of Orbitals: 9\n",
        "Number of Primitive Gaussians: 105\n",
        "Integration Complete in 0.0260229110718 seconds"
       ]
      },
      {
       "output_type": "stream",
       "stream": "stdout",
       "text": [
        "\n",
        "Number of Orbitals: 9\n",
        "Number of Primitive Gaussians: 105\n",
        "Integration Complete in 0.0307629108429 seconds\n",
        "Number of Orbitals: 9\n",
        "Number of Primitive Gaussians: 105\n",
        "Integration Complete in 0.0255341529846 seconds"
       ]
      },
      {
       "output_type": "stream",
       "stream": "stdout",
       "text": [
        "\n",
        "Number of Orbitals: 9\n",
        "Number of Primitive Gaussians: 105\n",
        "Integration Complete in 0.0310800075531 seconds\n",
        "Number of Orbitals: 9\n",
        "Number of Primitive Gaussians: 105\n",
        "Integration Complete in 0.0259740352631 seconds"
       ]
      },
      {
       "output_type": "stream",
       "stream": "stdout",
       "text": [
        "\n",
        "Number of Orbitals: 9\n",
        "Number of Primitive Gaussians: 105\n",
        "Integration Complete in 0.0307869911194 seconds\n",
        "Number of Orbitals: 9\n",
        "Number of Primitive Gaussians: 105\n",
        "Integration Complete in 0.0257790088654 seconds"
       ]
      },
      {
       "output_type": "stream",
       "stream": "stdout",
       "text": [
        "\n",
        "Number of Orbitals: 9\n",
        "Number of Primitive Gaussians: 105\n",
        "Integration Complete in 0.0305168628693 seconds\n",
        "Number of Orbitals: 9\n",
        "Number of Primitive Gaussians: 105\n",
        "Integration Complete in 0.0257081985474 seconds"
       ]
      },
      {
       "output_type": "stream",
       "stream": "stdout",
       "text": [
        "\n",
        "Number of Orbitals: 9\n",
        "Number of Primitive Gaussians: 105\n",
        "Integration Complete in 0.0269870758057 seconds\n",
        "Number of Orbitals: 9\n",
        "Number of Primitive Gaussians: 105\n",
        "Integration Complete in 0.0314090251923 seconds"
       ]
      },
      {
       "output_type": "stream",
       "stream": "stdout",
       "text": [
        "\n",
        "Number of Orbitals: 9\n",
        "Number of Primitive Gaussians: 105\n",
        "Integration Complete in 0.0307819843292 seconds\n",
        "Number of Orbitals: 9\n",
        "Number of Primitive Gaussians: 105\n",
        "Integration Complete in 0.0258748531342 seconds"
       ]
      },
      {
       "output_type": "stream",
       "stream": "stdout",
       "text": [
        "\n",
        "Number of Orbitals: 9\n",
        "Number of Primitive Gaussians: 105\n",
        "Integration Complete in 0.0308430194855 seconds\n",
        "Number of Orbitals: 9\n",
        "Number of Primitive Gaussians: 105\n",
        "Integration Complete in 0.0256638526917 seconds"
       ]
      },
      {
       "output_type": "stream",
       "stream": "stdout",
       "text": [
        "\n",
        "Number of Orbitals: 9\n",
        "Number of Primitive Gaussians: 105\n",
        "Integration Complete in 0.0305869579315 seconds\n",
        "Number of Orbitals: 9\n",
        "Number of Primitive Gaussians: 105\n",
        "Integration Complete in 0.0258040428162 seconds"
       ]
      },
      {
       "output_type": "stream",
       "stream": "stdout",
       "text": [
        "\n",
        "Number of Orbitals: 9\n",
        "Number of Primitive Gaussians: 105\n",
        "Integration Complete in 0.0308480262756 seconds\n",
        "Number of Orbitals: 9\n",
        "Number of Primitive Gaussians: 105\n",
        "Integration Complete in 0.0320658683777 seconds"
       ]
      },
      {
       "output_type": "stream",
       "stream": "stdout",
       "text": [
        "\n",
        "Number of Orbitals: 9\n",
        "Number of Primitive Gaussians: 105\n",
        "Integration Complete in 0.0269799232483 seconds\n",
        "Number of Orbitals: 9\n",
        "Number of Primitive Gaussians: 105\n",
        "Integration Complete in 0.0256838798523 seconds"
       ]
      },
      {
       "output_type": "stream",
       "stream": "stdout",
       "text": [
        "\n",
        "Number of Orbitals: 9\n",
        "Number of Primitive Gaussians: 105\n",
        "Integration Complete in 0.0269420146942 seconds\n",
        "Number of Orbitals: 9\n",
        "Number of Primitive Gaussians: 105\n",
        "Integration Complete in 0.0256049633026 seconds"
       ]
      },
      {
       "output_type": "stream",
       "stream": "stdout",
       "text": [
        "\n",
        "Number of Orbitals: 9\n",
        "Number of Primitive Gaussians: 105\n",
        "Integration Complete in 0.0267629623413 seconds\n",
        "Number of Orbitals: 9\n",
        "Number of Primitive Gaussians: 105\n",
        "Integration Complete in 0.0257279872894 seconds"
       ]
      },
      {
       "output_type": "stream",
       "stream": "stdout",
       "text": [
        "\n",
        "Number of Orbitals: 9\n",
        "Number of Primitive Gaussians: 105\n",
        "Integration Complete in 0.0268468856812 seconds\n",
        "Number of Orbitals: 9\n",
        "Number of Primitive Gaussians: 105\n",
        "Integration Complete in 0.0256080627441 seconds"
       ]
      },
      {
       "output_type": "stream",
       "stream": "stdout",
       "text": [
        "\n",
        "Number of Orbitals: 9\n",
        "Number of Primitive Gaussians: 105\n",
        "Integration Complete in 0.0268609523773 seconds\n",
        "Number of Orbitals: 9\n",
        "Number of Primitive Gaussians: 105\n",
        "Integration Complete in 0.026880979538 seconds"
       ]
      },
      {
       "output_type": "stream",
       "stream": "stdout",
       "text": [
        "\n",
        "Number of Orbitals: 9\n",
        "Number of Primitive Gaussians: 105\n",
        "Integration Complete in 0.0268561840057 seconds\n",
        "Number of Orbitals: 9\n",
        "Number of Primitive Gaussians: 105\n",
        "Integration Complete in 0.0269639492035 seconds"
       ]
      },
      {
       "output_type": "stream",
       "stream": "stdout",
       "text": [
        "\n",
        "Number of Orbitals: 9\n",
        "Number of Primitive Gaussians: 105\n",
        "Integration Complete in 0.0269119739532 seconds\n",
        "Number of Orbitals: 9\n",
        "Number of Primitive Gaussians: 105\n",
        "Integration Complete in 0.0269520282745 seconds"
       ]
      },
      {
       "output_type": "stream",
       "stream": "stdout",
       "text": [
        "\n",
        "Number of Orbitals: 9\n",
        "Number of Primitive Gaussians: 105\n",
        "Integration Complete in 0.0268449783325 seconds\n",
        "Number of Orbitals: 9\n",
        "Number of Primitive Gaussians: 105\n",
        "Integration Complete in 0.0262520313263 seconds"
       ]
      },
      {
       "output_type": "stream",
       "stream": "stdout",
       "text": [
        "\n",
        "Number of Orbitals: 9\n",
        "Number of Primitive Gaussians: 105\n",
        "Integration Complete in 0.0271100997925 seconds\n",
        "Number of Orbitals: 9\n",
        "Number of Primitive Gaussians: 105\n",
        "Integration Complete in 0.0270121097565 seconds"
       ]
      },
      {
       "output_type": "stream",
       "stream": "stdout",
       "text": [
        "\n",
        "Number of Orbitals: 9\n",
        "Number of Primitive Gaussians: 105\n",
        "Integration Complete in 0.0271081924438 seconds\n",
        "Number of Orbitals: 9\n",
        "Number of Primitive Gaussians: 105\n",
        "Integration Complete in 0.0268630981445 seconds"
       ]
      },
      {
       "output_type": "stream",
       "stream": "stdout",
       "text": [
        "\n",
        "Number of Orbitals: 9\n",
        "Number of Primitive Gaussians: 105\n",
        "Integration Complete in 0.0269460678101 seconds\n",
        "Number of Orbitals: 9\n",
        "Number of Primitive Gaussians: 105\n",
        "Integration Complete in 0.025750875473 seconds"
       ]
      },
      {
       "output_type": "stream",
       "stream": "stdout",
       "text": [
        "\n",
        "Number of Orbitals: 9\n",
        "Number of Primitive Gaussians: 105\n",
        "Integration Complete in 0.0268459320068 seconds\n",
        "Number of Orbitals: 9\n",
        "Number of Primitive Gaussians: 105\n",
        "Integration Complete in 0.0258059501648 seconds"
       ]
      },
      {
       "output_type": "stream",
       "stream": "stdout",
       "text": [
        "\n",
        "Number of Orbitals: 9\n",
        "Number of Primitive Gaussians: 105\n",
        "Integration Complete in 0.0270080566406 seconds\n",
        "Number of Orbitals: 9\n",
        "Number of Primitive Gaussians: 105\n",
        "Integration Complete in 0.0264360904694 seconds"
       ]
      },
      {
       "output_type": "stream",
       "stream": "stdout",
       "text": [
        "\n",
        "Number of Orbitals: 9\n",
        "Number of Primitive Gaussians: 105\n",
        "Integration Complete in 0.0269830226898 seconds\n",
        "Number of Orbitals: 9\n",
        "Number of Primitive Gaussians: 105\n",
        "Integration Complete in 0.0255999565125 seconds"
       ]
      },
      {
       "output_type": "stream",
       "stream": "stdout",
       "text": [
        "\n",
        "Number of Orbitals: 9\n",
        "Number of Primitive Gaussians: 105\n",
        "Integration Complete in 0.0268330574036 seconds\n",
        "Number of Orbitals: 9\n",
        "Number of Primitive Gaussians: 105\n",
        "Integration Complete in 0.0258250236511 seconds"
       ]
      },
      {
       "output_type": "stream",
       "stream": "stdout",
       "text": [
        "\n",
        "Number of Orbitals: 9\n",
        "Number of Primitive Gaussians: 105\n",
        "Integration Complete in 0.0268521308899 seconds\n",
        "Number of Orbitals: 9\n",
        "Number of Primitive Gaussians: 105\n",
        "Integration Complete in 0.0271220207214 seconds"
       ]
      },
      {
       "output_type": "stream",
       "stream": "stdout",
       "text": [
        "\n",
        "Number of Orbitals: 9\n",
        "Number of Primitive Gaussians: 105\n",
        "Integration Complete in 0.0270278453827 seconds\n",
        "Number of Orbitals: 9\n",
        "Number of Primitive Gaussians: 105\n",
        "Integration Complete in 0.026556968689 seconds"
       ]
      },
      {
       "output_type": "stream",
       "stream": "stdout",
       "text": [
        "\n",
        "Number of Orbitals: 9\n",
        "Number of Primitive Gaussians: 105\n",
        "Integration Complete in 0.0269720554352 seconds\n",
        "Number of Orbitals: 9\n",
        "Number of Primitive Gaussians: 105\n",
        "Integration Complete in 0.0262010097504 seconds"
       ]
      },
      {
       "output_type": "stream",
       "stream": "stdout",
       "text": [
        "\n",
        "Number of Orbitals: 9\n",
        "Number of Primitive Gaussians: 105\n",
        "Integration Complete in 0.0269799232483 seconds\n",
        "Number of Orbitals: 9\n",
        "Number of Primitive Gaussians: 105\n",
        "Integration Complete in 0.0276970863342 seconds"
       ]
      },
      {
       "output_type": "stream",
       "stream": "stdout",
       "text": [
        "\n",
        "Number of Orbitals: 9\n",
        "Number of Primitive Gaussians: 105\n",
        "Integration Complete in 0.0269429683685 seconds\n",
        "Number of Orbitals: 9\n",
        "Number of Primitive Gaussians: 105\n",
        "Integration Complete in 0.0257329940796 seconds"
       ]
      },
      {
       "output_type": "stream",
       "stream": "stdout",
       "text": [
        "\n",
        "Number of Orbitals: 9\n",
        "Number of Primitive Gaussians: 105\n",
        "Integration Complete in 0.0268940925598 seconds\n",
        "Number of Orbitals: 9\n",
        "Number of Primitive Gaussians: 105\n",
        "Integration Complete in 0.0270531177521 seconds"
       ]
      },
      {
       "output_type": "stream",
       "stream": "stdout",
       "text": [
        "\n",
        "Number of Orbitals: 9\n",
        "Number of Primitive Gaussians: 105\n",
        "Integration Complete in 0.0268640518188 seconds\n",
        "Number of Orbitals: 9\n",
        "Number of Primitive Gaussians: 105\n",
        "Integration Complete in 0.0259330272675 seconds"
       ]
      },
      {
       "output_type": "stream",
       "stream": "stdout",
       "text": [
        "\n",
        "Number of Orbitals: 9\n",
        "Number of Primitive Gaussians: 105\n",
        "Integration Complete in 0.0272750854492 seconds\n",
        "Number of Orbitals: 9\n",
        "Number of Primitive Gaussians: 105\n",
        "Integration Complete in 0.0272510051727 seconds"
       ]
      },
      {
       "output_type": "stream",
       "stream": "stdout",
       "text": [
        "\n",
        "Number of Orbitals: 9\n",
        "Number of Primitive Gaussians: 105\n",
        "Integration Complete in 0.0267899036407 seconds\n",
        "Number of Orbitals: 9\n",
        "Number of Primitive Gaussians: 105\n",
        "Integration Complete in 0.0270168781281 seconds"
       ]
      },
      {
       "output_type": "stream",
       "stream": "stdout",
       "text": [
        "\n",
        "Number of Orbitals: 9\n",
        "Number of Primitive Gaussians: 105\n",
        "Integration Complete in 0.026820898056 seconds\n",
        "Number of Orbitals: 9\n",
        "Number of Primitive Gaussians: 105\n",
        "Integration Complete in 0.0269629955292 seconds"
       ]
      },
      {
       "output_type": "stream",
       "stream": "stdout",
       "text": [
        "\n",
        "Number of Orbitals: 9\n",
        "Number of Primitive Gaussians: 105\n",
        "Integration Complete in 0.0292100906372 seconds\n",
        "Number of Orbitals: 9\n",
        "Number of Primitive Gaussians: 105\n",
        "Integration Complete in 0.0256819725037 seconds"
       ]
      },
      {
       "output_type": "stream",
       "stream": "stdout",
       "text": [
        "\n",
        "Number of Orbitals: 9\n",
        "Number of Primitive Gaussians: 105\n",
        "Integration Complete in 0.029422044754 seconds\n",
        "Number of Orbitals: 9\n",
        "Number of Primitive Gaussians: 105\n",
        "Integration Complete in 0.0257971286774 seconds"
       ]
      },
      {
       "output_type": "stream",
       "stream": "stdout",
       "text": [
        "\n",
        "Number of Orbitals: 9\n",
        "Number of Primitive Gaussians: 105\n",
        "Integration Complete in 0.0293829441071 seconds\n",
        "Number of Orbitals: 9\n",
        "Number of Primitive Gaussians: 105\n",
        "Integration Complete in 0.0269229412079 seconds"
       ]
      },
      {
       "output_type": "stream",
       "stream": "stdout",
       "text": [
        "\n",
        "Number of Orbitals: 9\n",
        "Number of Primitive Gaussians: 105\n",
        "Integration Complete in 0.0294990539551 seconds\n",
        "Number of Orbitals: 9\n",
        "Number of Primitive Gaussians: 105\n",
        "Integration Complete in 0.0260820388794 seconds"
       ]
      },
      {
       "output_type": "stream",
       "stream": "stdout",
       "text": [
        "\n",
        "Number of Orbitals: 9\n",
        "Number of Primitive Gaussians: 105\n",
        "Integration Complete in 0.0393650531769 seconds\n",
        "Number of Orbitals: 9"
       ]
      },
      {
       "output_type": "stream",
       "stream": "stdout",
       "text": [
        "\n",
        "Number of Primitive Gaussians: 105\n",
        "Integration Complete in 0.0372290611267 seconds\n",
        "Number of Orbitals: 9\n",
        "Number of Primitive Gaussians: 105\n",
        "Integration Complete in 0.0360960960388 seconds"
       ]
      },
      {
       "output_type": "stream",
       "stream": "stdout",
       "text": [
        "\n",
        "Number of Orbitals: 9\n",
        "Number of Primitive Gaussians: 105\n",
        "Integration Complete in 0.0371079444885 seconds\n",
        "Number of Orbitals: 9\n",
        "Number of Primitive Gaussians: 105\n",
        "Integration Complete in 0.0330321788788 seconds"
       ]
      },
      {
       "output_type": "stream",
       "stream": "stdout",
       "text": [
        "\n",
        "Number of Orbitals: 9\n",
        "Number of Primitive Gaussians: 105\n",
        "Integration Complete in 0.0280411243439 seconds\n",
        "Number of Orbitals: 9\n",
        "Number of Primitive Gaussians: 105\n",
        "Integration Complete in 0.0293481349945 seconds"
       ]
      },
      {
       "output_type": "stream",
       "stream": "stdout",
       "text": [
        "\n",
        "Number of Orbitals: 9\n",
        "Number of Primitive Gaussians: 105\n",
        "Integration Complete in 0.0270648002625 seconds\n",
        "Number of Orbitals: 9\n",
        "Number of Primitive Gaussians: 105\n",
        "Integration Complete in 0.029098033905 seconds"
       ]
      },
      {
       "output_type": "stream",
       "stream": "stdout",
       "text": [
        "\n",
        "Number of Orbitals: 9\n",
        "Number of Primitive Gaussians: 105\n",
        "Integration Complete in 0.0270628929138 seconds\n",
        "Number of Orbitals: 9\n",
        "Number of Primitive Gaussians: 105\n",
        "Integration Complete in 0.029317855835 seconds"
       ]
      },
      {
       "output_type": "stream",
       "stream": "stdout",
       "text": [
        "\n",
        "Number of Orbitals: 9\n",
        "Number of Primitive Gaussians: 105\n",
        "Integration Complete in 0.0290780067444 seconds\n",
        "Number of Orbitals: 9\n",
        "Number of Primitive Gaussians: 105\n",
        "Integration Complete in 0.0326368808746 seconds"
       ]
      },
      {
       "output_type": "stream",
       "stream": "stdout",
       "text": [
        "\n",
        "Number of Orbitals: 9\n",
        "Number of Primitive Gaussians: 105\n",
        "Integration Complete in 0.0276579856873 seconds\n",
        "Number of Orbitals: 9\n",
        "Number of Primitive Gaussians: 105\n",
        "Integration Complete in 0.0289239883423 seconds"
       ]
      },
      {
       "output_type": "stream",
       "stream": "stdout",
       "text": [
        "\n",
        "Number of Orbitals: 9\n",
        "Number of Primitive Gaussians: 105\n",
        "Integration Complete in 0.0350370407104 seconds\n",
        "Number of Orbitals: 9\n",
        "Number of Primitive Gaussians: 105\n",
        "Integration Complete in 0.0265800952911 seconds"
       ]
      },
      {
       "output_type": "stream",
       "stream": "stdout",
       "text": [
        "\n",
        "Number of Orbitals: 9\n",
        "Number of Primitive Gaussians: 105\n",
        "Integration Complete in 0.0268459320068 seconds\n",
        "Number of Orbitals: 9\n",
        "Number of Primitive Gaussians: 105\n",
        "Integration Complete in 0.0295729637146 seconds"
       ]
      },
      {
       "output_type": "stream",
       "stream": "stdout",
       "text": [
        "\n",
        "Number of Orbitals: 9\n",
        "Number of Primitive Gaussians: 105\n",
        "Integration Complete in 0.0306279659271 seconds\n",
        "Number of Orbitals: 9\n",
        "Number of Primitive Gaussians: 105\n",
        "Integration Complete in 0.0265870094299 seconds"
       ]
      },
      {
       "output_type": "stream",
       "stream": "stdout",
       "text": [
        "\n",
        "Number of Orbitals: 9\n",
        "Number of Primitive Gaussians: 105\n",
        "Integration Complete in 0.0268800258636 seconds\n",
        "Number of Orbitals: 9\n",
        "Number of Primitive Gaussians: 105\n",
        "Integration Complete in 0.027449131012 seconds"
       ]
      },
      {
       "output_type": "stream",
       "stream": "stdout",
       "text": [
        "\n",
        "Number of Orbitals: 9\n",
        "Number of Primitive Gaussians: 105\n",
        "Integration Complete in 0.0269401073456 seconds\n",
        "Number of Orbitals: 9\n",
        "Number of Primitive Gaussians: 105\n",
        "Integration Complete in 0.0272898674011 seconds"
       ]
      },
      {
       "output_type": "stream",
       "stream": "stdout",
       "text": [
        "\n",
        "Number of Orbitals: 9\n",
        "Number of Primitive Gaussians: 105\n",
        "Integration Complete in 0.0269958972931 seconds\n",
        "Number of Orbitals: 9\n",
        "Number of Primitive Gaussians: 105\n",
        "Integration Complete in 0.0273299217224 seconds"
       ]
      },
      {
       "output_type": "stream",
       "stream": "stdout",
       "text": [
        "\n",
        "Number of Orbitals: 9\n",
        "Number of Primitive Gaussians: 105\n",
        "Integration Complete in 0.040130853653 seconds\n",
        "Number of Orbitals: 9"
       ]
      },
      {
       "output_type": "stream",
       "stream": "stdout",
       "text": [
        "\n",
        "Number of Primitive Gaussians: 105\n",
        "Integration Complete in 0.030210018158 seconds\n",
        "Number of Orbitals: 9\n",
        "Number of Primitive Gaussians: 105\n",
        "Integration Complete in 0.0318288803101 seconds"
       ]
      },
      {
       "output_type": "stream",
       "stream": "stdout",
       "text": [
        "\n",
        "Number of Orbitals: 9\n",
        "Number of Primitive Gaussians: 105\n",
        "Integration Complete in 0.0286309719086 seconds\n",
        "Number of Orbitals: 9\n",
        "Number of Primitive Gaussians: 105\n",
        "Integration Complete in 0.0299060344696 seconds"
       ]
      },
      {
       "output_type": "stream",
       "stream": "stdout",
       "text": [
        "\n",
        "Number of Orbitals: 9\n",
        "Number of Primitive Gaussians: 105\n",
        "Integration Complete in 0.0286591053009 seconds\n",
        "Number of Orbitals: 9\n",
        "Number of Primitive Gaussians: 105\n",
        "Integration Complete in 0.0292348861694 seconds"
       ]
      },
      {
       "output_type": "stream",
       "stream": "stdout",
       "text": [
        "\n",
        "Number of Orbitals: 9\n",
        "Number of Primitive Gaussians: 105\n",
        "Integration Complete in 0.0284640789032 seconds\n",
        "Number of Orbitals: 9\n",
        "Number of Primitive Gaussians: 105\n",
        "Integration Complete in 0.0289840698242 seconds"
       ]
      },
      {
       "output_type": "stream",
       "stream": "stdout",
       "text": [
        "\n",
        "Number of Orbitals: 9\n",
        "Number of Primitive Gaussians: 105\n",
        "Integration Complete in 0.0285968780518 seconds\n",
        "Number of Orbitals: 9\n",
        "Number of Primitive Gaussians: 105\n",
        "Integration Complete in 0.0278518199921 seconds"
       ]
      },
      {
       "output_type": "stream",
       "stream": "stdout",
       "text": [
        "\n",
        "Number of Orbitals: 9\n",
        "Number of Primitive Gaussians: 105\n",
        "Integration Complete in 0.0273451805115 seconds\n",
        "Number of Orbitals: 9\n",
        "Number of Primitive Gaussians: 105\n",
        "Integration Complete in 0.0274062156677 seconds"
       ]
      },
      {
       "output_type": "stream",
       "stream": "stdout",
       "text": [
        "\n",
        "Number of Orbitals: 9\n",
        "Number of Primitive Gaussians: 105\n",
        "Integration Complete in 0.0269169807434 seconds\n",
        "Number of Orbitals: 9\n",
        "Number of Primitive Gaussians: 105\n",
        "Integration Complete in 0.0265738964081 seconds"
       ]
      },
      {
       "output_type": "stream",
       "stream": "stdout",
       "text": [
        "\n",
        "Number of Orbitals: 9\n",
        "Number of Primitive Gaussians: 105\n",
        "Integration Complete in 0.0269310474396 seconds\n",
        "Number of Orbitals: 9\n",
        "Number of Primitive Gaussians: 105\n",
        "Integration Complete in 0.0288920402527 seconds"
       ]
      },
      {
       "output_type": "stream",
       "stream": "stdout",
       "text": [
        "\n",
        "Number of Orbitals: 9\n",
        "Number of Primitive Gaussians: 105\n",
        "Integration Complete in 0.0275630950928 seconds\n",
        "Number of Orbitals: 9\n",
        "Number of Primitive Gaussians: 105\n",
        "Integration Complete in 0.0302121639252 seconds"
       ]
      },
      {
       "output_type": "stream",
       "stream": "stdout",
       "text": [
        "\n",
        "Number of Orbitals: 9\n",
        "Number of Primitive Gaussians: 105\n",
        "Integration Complete in 0.0283789634705 seconds\n",
        "Number of Orbitals: 9\n",
        "Number of Primitive Gaussians: 105\n",
        "Integration Complete in 0.0299608707428 seconds"
       ]
      },
      {
       "output_type": "stream",
       "stream": "stdout",
       "text": [
        "\n",
        "Number of Orbitals: 9\n",
        "Number of Primitive Gaussians: 105\n",
        "Integration Complete in 0.0270309448242 seconds\n",
        "Number of Orbitals: 9\n",
        "Number of Primitive Gaussians: 105\n",
        "Integration Complete in 0.0313010215759 seconds"
       ]
      },
      {
       "output_type": "stream",
       "stream": "stdout",
       "text": [
        "\n",
        "Number of Orbitals: 9\n",
        "Number of Primitive Gaussians: 105\n",
        "Integration Complete in 0.0351769924164 seconds\n",
        "Number of Orbitals: 9\n",
        "Number of Primitive Gaussians: 105\n",
        "Integration Complete in 0.026969909668 seconds"
       ]
      },
      {
       "output_type": "stream",
       "stream": "stdout",
       "text": [
        "\n",
        "Number of Orbitals: 9\n",
        "Number of Primitive Gaussians: 105\n",
        "Integration Complete in 0.0267148017883 seconds\n",
        "Number of Orbitals: 9\n",
        "Number of Primitive Gaussians: 105\n",
        "Integration Complete in 0.0268189907074 seconds"
       ]
      },
      {
       "output_type": "stream",
       "stream": "stdout",
       "text": [
        "\n",
        "Number of Orbitals: 9\n",
        "Number of Primitive Gaussians: 105\n",
        "Integration Complete in 0.0267770290375 seconds\n",
        "Number of Orbitals: 9\n",
        "Number of Primitive Gaussians: 105\n",
        "Integration Complete in 0.0270578861237 seconds"
       ]
      },
      {
       "output_type": "stream",
       "stream": "stdout",
       "text": [
        "\n",
        "Number of Orbitals: 9\n",
        "Number of Primitive Gaussians: 105\n",
        "Integration Complete in 0.0266628265381 seconds\n",
        "Number of Orbitals: 9\n",
        "Number of Primitive Gaussians: 105\n",
        "Integration Complete in 0.0270991325378 seconds"
       ]
      },
      {
       "output_type": "stream",
       "stream": "stdout",
       "text": [
        "\n",
        "Number of Orbitals: 9\n",
        "Number of Primitive Gaussians: 105\n",
        "Integration Complete in 0.0267090797424 seconds\n",
        "Number of Orbitals: 9\n",
        "Number of Primitive Gaussians: 105\n",
        "Integration Complete in 0.0271408557892 seconds"
       ]
      },
      {
       "output_type": "stream",
       "stream": "stdout",
       "text": [
        "\n",
        "Number of Orbitals: 9\n",
        "Number of Primitive Gaussians: 105\n",
        "Integration Complete in 0.026713848114 seconds\n",
        "Number of Orbitals: 9\n",
        "Number of Primitive Gaussians: 105\n",
        "Integration Complete in 0.0271220207214 seconds"
       ]
      },
      {
       "output_type": "stream",
       "stream": "stdout",
       "text": [
        "\n",
        "Number of Orbitals: 9\n",
        "Number of Primitive Gaussians: 105\n",
        "Integration Complete in 0.0267150402069 seconds\n",
        "Number of Orbitals: 9\n",
        "Number of Primitive Gaussians: 105\n",
        "Integration Complete in 0.027174949646 seconds"
       ]
      },
      {
       "output_type": "stream",
       "stream": "stdout",
       "text": [
        "\n",
        "Number of Orbitals: 9\n",
        "Number of Primitive Gaussians: 105\n",
        "Integration Complete in 0.0266699790955 seconds\n",
        "Number of Orbitals: 9\n",
        "Number of Primitive Gaussians: 105\n",
        "Integration Complete in 0.0271360874176 seconds"
       ]
      },
      {
       "output_type": "stream",
       "stream": "stdout",
       "text": [
        "\n",
        "Number of Orbitals: 9\n",
        "Number of Primitive Gaussians: 105\n",
        "Integration Complete in 0.0266699790955 seconds\n",
        "Number of Orbitals: 9\n",
        "Number of Primitive Gaussians: 105\n",
        "Integration Complete in 0.0269858837128 seconds"
       ]
      },
      {
       "output_type": "stream",
       "stream": "stdout",
       "text": [
        "\n",
        "Number of Orbitals: 9\n",
        "Number of Primitive Gaussians: 105\n",
        "Integration Complete in 0.0267150402069 seconds\n",
        "Number of Orbitals: 9\n",
        "Number of Primitive Gaussians: 105\n",
        "Integration Complete in 0.0272059440613 seconds"
       ]
      },
      {
       "output_type": "stream",
       "stream": "stdout",
       "text": [
        "\n",
        "Number of Orbitals: 9\n",
        "Number of Primitive Gaussians: 105\n",
        "Integration Complete in 0.0268170833588 seconds\n",
        "Number of Orbitals: 9\n",
        "Number of Primitive Gaussians: 105\n",
        "Integration Complete in 0.0271701812744 seconds"
       ]
      },
      {
       "output_type": "stream",
       "stream": "stdout",
       "text": [
        "\n",
        "Number of Orbitals: 9\n",
        "Number of Primitive Gaussians: 105\n",
        "Integration Complete in 0.0267059803009 seconds\n",
        "Number of Orbitals: 9\n",
        "Number of Primitive Gaussians: 105\n",
        "Integration Complete in 0.0273580551147 seconds"
       ]
      },
      {
       "output_type": "stream",
       "stream": "stdout",
       "text": [
        "\n",
        "Number of Orbitals: 9\n",
        "Number of Primitive Gaussians: 105\n",
        "Integration Complete in 0.0266888141632 seconds\n",
        "Number of Orbitals: 9\n",
        "Number of Primitive Gaussians: 105\n",
        "Integration Complete in 0.0294849872589 seconds"
       ]
      },
      {
       "output_type": "stream",
       "stream": "stdout",
       "text": [
        "\n",
        "Number of Orbitals: 9\n",
        "Number of Primitive Gaussians: 105\n",
        "Integration Complete in 0.0269980430603 seconds\n",
        "Number of Orbitals: 9\n",
        "Number of Primitive Gaussians: 105\n",
        "Integration Complete in 0.0275800228119 seconds"
       ]
      },
      {
       "output_type": "stream",
       "stream": "stdout",
       "text": [
        "\n",
        "Number of Orbitals: 9\n",
        "Number of Primitive Gaussians: 105\n",
        "Integration Complete in 0.0268890857697 seconds\n",
        "Number of Orbitals: 9\n",
        "Number of Primitive Gaussians: 105\n",
        "Integration Complete in 0.027498960495 seconds"
       ]
      },
      {
       "output_type": "stream",
       "stream": "stdout",
       "text": [
        "\n",
        "Number of Orbitals: 9\n",
        "Number of Primitive Gaussians: 105\n",
        "Integration Complete in 0.0268130302429 seconds\n",
        "Number of Orbitals: 9\n",
        "Number of Primitive Gaussians: 105\n",
        "Integration Complete in 0.0279850959778 seconds"
       ]
      },
      {
       "output_type": "stream",
       "stream": "stdout",
       "text": [
        "\n",
        "Number of Orbitals: 9\n",
        "Number of Primitive Gaussians: 105\n",
        "Integration Complete in 0.0267560482025 seconds\n",
        "Number of Orbitals: 9\n",
        "Number of Primitive Gaussians: 105\n",
        "Integration Complete in 0.0273599624634 seconds"
       ]
      },
      {
       "output_type": "stream",
       "stream": "stdout",
       "text": [
        "\n",
        "Number of Orbitals: 9\n",
        "Number of Primitive Gaussians: 105\n",
        "Integration Complete in 0.026829957962 seconds\n",
        "Number of Orbitals: 9\n",
        "Number of Primitive Gaussians: 105\n",
        "Integration Complete in 0.0275959968567 seconds"
       ]
      },
      {
       "output_type": "stream",
       "stream": "stdout",
       "text": [
        "\n",
        "Number of Orbitals: 9\n",
        "Number of Primitive Gaussians: 105\n",
        "Integration Complete in 0.0268409252167 seconds\n",
        "Number of Orbitals: 9\n",
        "Number of Primitive Gaussians: 105\n",
        "Integration Complete in 0.0273499488831 seconds"
       ]
      },
      {
       "output_type": "stream",
       "stream": "stdout",
       "text": [
        "\n",
        "Number of Orbitals: 9\n",
        "Number of Primitive Gaussians: 105\n",
        "Integration Complete in 0.0268578529358 seconds\n",
        "Number of Orbitals: 9\n",
        "Number of Primitive Gaussians: 105\n",
        "Integration Complete in 0.0274019241333 seconds"
       ]
      },
      {
       "output_type": "stream",
       "stream": "stdout",
       "text": [
        "\n",
        "Number of Orbitals: 9\n",
        "Number of Primitive Gaussians: 105\n",
        "Integration Complete in 0.0378830432892 seconds\n",
        "Number of Orbitals: 9\n",
        "Number of Primitive Gaussians: 105\n",
        "Integration Complete in 0.0308918952942 seconds"
       ]
      },
      {
       "output_type": "stream",
       "stream": "stdout",
       "text": [
        "\n",
        "Number of Orbitals: 9\n",
        "Number of Primitive Gaussians: 105\n",
        "Integration Complete in 0.0266661643982 seconds\n",
        "Number of Orbitals: 9\n",
        "Number of Primitive Gaussians: 105\n",
        "Integration Complete in 0.0267391204834 seconds"
       ]
      },
      {
       "output_type": "stream",
       "stream": "stdout",
       "text": [
        "\n",
        "Number of Orbitals: 9\n",
        "Number of Primitive Gaussians: 105\n",
        "Integration Complete in 0.0267381668091 seconds\n",
        "Number of Orbitals: 9\n",
        "Number of Primitive Gaussians: 105\n",
        "Integration Complete in 0.0269229412079 seconds"
       ]
      },
      {
       "output_type": "stream",
       "stream": "stdout",
       "text": [
        "\n",
        "Number of Orbitals: 9\n",
        "Number of Primitive Gaussians: 105\n",
        "Integration Complete in 0.0266859531403 seconds\n",
        "Number of Orbitals: 9\n",
        "Number of Primitive Gaussians: 105\n",
        "Integration Complete in 0.0267889499664 seconds"
       ]
      },
      {
       "output_type": "stream",
       "stream": "stdout",
       "text": [
        "\n",
        "Number of Orbitals: 9\n",
        "Number of Primitive Gaussians: 105\n",
        "Integration Complete in 0.0267510414124 seconds\n",
        "Number of Orbitals: 9\n",
        "Number of Primitive Gaussians: 105\n",
        "Integration Complete in 0.0270302295685 seconds"
       ]
      },
      {
       "output_type": "stream",
       "stream": "stdout",
       "text": [
        "\n",
        "Number of Orbitals: 9\n",
        "Number of Primitive Gaussians: 105\n",
        "Integration Complete in 0.0268080234528 seconds\n",
        "Number of Orbitals: 9\n",
        "Number of Primitive Gaussians: 105\n",
        "Integration Complete in 0.0268840789795 seconds"
       ]
      },
      {
       "output_type": "stream",
       "stream": "stdout",
       "text": [
        "\n",
        "Number of Orbitals: 9\n",
        "Number of Primitive Gaussians: 105\n",
        "Integration Complete in 0.0268640518188 seconds\n",
        "Number of Orbitals: 9\n",
        "Number of Primitive Gaussians: 105\n",
        "Integration Complete in 0.0272319316864 seconds"
       ]
      },
      {
       "output_type": "stream",
       "stream": "stdout",
       "text": [
        "\n",
        "Number of Orbitals: 9\n",
        "Number of Primitive Gaussians: 105\n",
        "Integration Complete in 0.0269479751587 seconds\n",
        "Number of Orbitals: 9\n",
        "Number of Primitive Gaussians: 105\n",
        "Integration Complete in 0.0272030830383 seconds"
       ]
      },
      {
       "output_type": "stream",
       "stream": "stdout",
       "text": [
        "\n",
        "Number of Orbitals: 9\n",
        "Number of Primitive Gaussians: 105\n",
        "Integration Complete in 0.0269260406494 seconds\n",
        "Number of Orbitals: 9\n",
        "Number of Primitive Gaussians: 105\n",
        "Integration Complete in 0.0275051593781 seconds"
       ]
      },
      {
       "output_type": "stream",
       "stream": "stdout",
       "text": [
        "\n",
        "Number of Orbitals: 9\n",
        "Number of Primitive Gaussians: 105\n",
        "Integration Complete in 0.027036190033 seconds\n",
        "Number of Orbitals: 9\n",
        "Number of Primitive Gaussians: 105\n",
        "Integration Complete in 0.0277981758118 seconds"
       ]
      },
      {
       "output_type": "stream",
       "stream": "stdout",
       "text": [
        "\n",
        "Number of Orbitals: 9\n",
        "Number of Primitive Gaussians: 105\n",
        "Integration Complete in 0.033126115799 seconds\n",
        "Number of Orbitals: 9\n",
        "Number of Primitive Gaussians: 105\n",
        "Integration Complete in 0.0300679206848 seconds"
       ]
      },
      {
       "output_type": "stream",
       "stream": "stdout",
       "text": [
        "\n",
        "Number of Orbitals: 9\n",
        "Number of Primitive Gaussians: 105\n",
        "Integration Complete in 0.0270099639893 seconds\n",
        "Number of Orbitals: 9\n",
        "Number of Primitive Gaussians: 105\n",
        "Integration Complete in 0.0275559425354 seconds"
       ]
      },
      {
       "output_type": "stream",
       "stream": "stdout",
       "text": [
        "\n",
        "Number of Orbitals: 9\n",
        "Number of Primitive Gaussians: 105\n",
        "Integration Complete in 0.0379600524902 seconds\n",
        "Number of Orbitals: 9\n",
        "Number of Primitive Gaussians: 105\n",
        "Integration Complete in 0.0316181182861 seconds"
       ]
      },
      {
       "output_type": "stream",
       "stream": "stdout",
       "text": [
        "\n",
        "Number of Orbitals: 9\n",
        "Number of Primitive Gaussians: 105\n",
        "Integration Complete in 0.0269439220428 seconds\n",
        "Number of Orbitals: 9\n",
        "Number of Primitive Gaussians: 105\n",
        "Integration Complete in 0.0279381275177 seconds"
       ]
      },
      {
       "output_type": "stream",
       "stream": "stdout",
       "text": [
        "\n",
        "Number of Orbitals: 9\n",
        "Number of Primitive Gaussians: 105\n",
        "Integration Complete in 0.0270581245422 seconds\n",
        "Number of Orbitals: 9\n",
        "Number of Primitive Gaussians: 105\n",
        "Integration Complete in 0.0282208919525 seconds"
       ]
      },
      {
       "output_type": "stream",
       "stream": "stdout",
       "text": [
        "\n",
        "Number of Orbitals: 9\n",
        "Number of Primitive Gaussians: 105\n",
        "Integration Complete in 0.0268778800964 seconds\n",
        "Number of Orbitals: 9\n",
        "Number of Primitive Gaussians: 105\n",
        "Integration Complete in 0.0275218486786 seconds"
       ]
      },
      {
       "output_type": "stream",
       "stream": "stdout",
       "text": [
        "\n",
        "Number of Orbitals: 9\n",
        "Number of Primitive Gaussians: 105\n",
        "Integration Complete in 0.0344309806824 seconds\n",
        "Number of Orbitals: 9\n",
        "Number of Primitive Gaussians: 105\n",
        "Integration Complete in 0.027116060257 seconds"
       ]
      },
      {
       "output_type": "stream",
       "stream": "stdout",
       "text": [
        "\n",
        "Number of Orbitals: 9\n",
        "Number of Primitive Gaussians: 105\n",
        "Integration Complete in 0.0266399383545 seconds\n",
        "Number of Orbitals: 9\n",
        "Number of Primitive Gaussians: 105\n",
        "Integration Complete in 0.0271589756012 seconds"
       ]
      },
      {
       "output_type": "stream",
       "stream": "stdout",
       "text": [
        "\n",
        "Number of Orbitals: 9\n",
        "Number of Primitive Gaussians: 105\n",
        "Integration Complete in 0.0268352031708 seconds\n",
        "Number of Orbitals: 9\n",
        "Number of Primitive Gaussians: 105\n",
        "Integration Complete in 0.0266079902649 seconds"
       ]
      },
      {
       "output_type": "stream",
       "stream": "stdout",
       "text": [
        "\n",
        "Number of Orbitals: 9\n",
        "Number of Primitive Gaussians: 105\n",
        "Integration Complete in 0.026792049408 seconds\n",
        "Number of Orbitals: 9\n",
        "Number of Primitive Gaussians: 105\n",
        "Integration Complete in 0.0264990329742 seconds"
       ]
      },
      {
       "output_type": "stream",
       "stream": "stdout",
       "text": [
        "\n",
        "Number of Orbitals: 9\n",
        "Number of Primitive Gaussians: 105\n",
        "Integration Complete in 0.0267400741577 seconds\n",
        "Number of Orbitals: 9\n",
        "Number of Primitive Gaussians: 105\n",
        "Integration Complete in 0.0311920642853 seconds"
       ]
      },
      {
       "output_type": "stream",
       "stream": "stdout",
       "text": [
        "\n",
        "Number of Orbitals: 9\n",
        "Number of Primitive Gaussians: 105\n",
        "Integration Complete in 0.0267689228058 seconds\n",
        "Number of Orbitals: 9\n",
        "Number of Primitive Gaussians: 105\n",
        "Integration Complete in 0.0310261249542 seconds"
       ]
      },
      {
       "output_type": "stream",
       "stream": "stdout",
       "text": [
        "\n",
        "Number of Orbitals: 9\n",
        "Number of Primitive Gaussians: 105\n",
        "Integration Complete in 0.0268030166626 seconds\n",
        "Number of Orbitals: 9\n",
        "Number of Primitive Gaussians: 105\n",
        "Integration Complete in 0.0310578346252 seconds"
       ]
      },
      {
       "output_type": "stream",
       "stream": "stdout",
       "text": [
        "\n",
        "Number of Orbitals: 9\n",
        "Number of Primitive Gaussians: 105\n",
        "Integration Complete in 0.026645898819 seconds\n",
        "Number of Orbitals: 9\n",
        "Number of Primitive Gaussians: 105\n",
        "Integration Complete in 0.0338668823242 seconds"
       ]
      },
      {
       "output_type": "stream",
       "stream": "stdout",
       "text": [
        "\n",
        "Number of Orbitals: 9\n",
        "Number of Primitive Gaussians: 105\n",
        "Integration Complete in 0.0266220569611 seconds\n",
        "Number of Orbitals: 9\n",
        "Number of Primitive Gaussians: 105\n",
        "Integration Complete in 0.0312929153442 seconds"
       ]
      },
      {
       "output_type": "stream",
       "stream": "stdout",
       "text": [
        "\n",
        "Number of Orbitals: 9\n",
        "Number of Primitive Gaussians: 105\n",
        "Integration Complete in 0.0307898521423 seconds\n",
        "Number of Orbitals: 9\n",
        "Number of Primitive Gaussians: 105\n",
        "Integration Complete in 0.0313289165497 seconds"
       ]
      },
      {
       "output_type": "stream",
       "stream": "stdout",
       "text": [
        "\n",
        "Number of Orbitals: 9\n",
        "Number of Primitive Gaussians: 105\n",
        "Integration Complete in 0.0374059677124 seconds\n",
        "Number of Orbitals: 9\n",
        "Number of Primitive Gaussians: 105\n",
        "Integration Complete in 0.0267879962921 seconds"
       ]
      },
      {
       "output_type": "stream",
       "stream": "stdout",
       "text": [
        "\n",
        "Number of Orbitals: 9\n",
        "Number of Primitive Gaussians: 105\n",
        "Integration Complete in 0.0266630649567 seconds\n",
        "Number of Orbitals: 9\n",
        "Number of Primitive Gaussians: 105\n",
        "Integration Complete in 0.0267400741577 seconds"
       ]
      },
      {
       "output_type": "stream",
       "stream": "stdout",
       "text": [
        "\n",
        "Number of Orbitals: 9\n",
        "Number of Primitive Gaussians: 105\n",
        "Integration Complete in 0.02663397789 seconds\n",
        "Number of Orbitals: 9\n",
        "Number of Primitive Gaussians: 105\n",
        "Integration Complete in 0.0262179374695 seconds"
       ]
      },
      {
       "output_type": "stream",
       "stream": "stdout",
       "text": [
        "\n",
        "Number of Orbitals: 9\n",
        "Number of Primitive Gaussians: 105\n",
        "Integration Complete in 0.0267050266266 seconds\n",
        "Number of Orbitals: 9\n",
        "Number of Primitive Gaussians: 105\n",
        "Integration Complete in 0.026869058609 seconds"
       ]
      },
      {
       "output_type": "stream",
       "stream": "stdout",
       "text": [
        "\n",
        "Number of Orbitals: 9\n",
        "Number of Primitive Gaussians: 105\n",
        "Integration Complete in 0.0267338752747 seconds\n",
        "Number of Orbitals: 9\n",
        "Number of Primitive Gaussians: 105\n",
        "Integration Complete in 0.0266489982605 seconds"
       ]
      },
      {
       "output_type": "stream",
       "stream": "stdout",
       "text": [
        "\n",
        "Number of Orbitals: 9\n",
        "Number of Primitive Gaussians: 105\n",
        "Integration Complete in 0.0266690254211 seconds\n",
        "Number of Orbitals: 9\n",
        "Number of Primitive Gaussians: 105\n",
        "Integration Complete in 0.026960849762 seconds"
       ]
      },
      {
       "output_type": "stream",
       "stream": "stdout",
       "text": [
        "\n",
        "Number of Orbitals: 9\n",
        "Number of Primitive Gaussians: 105\n",
        "Integration Complete in 0.0266969203949 seconds\n",
        "Number of Orbitals: 9\n",
        "Number of Primitive Gaussians: 105\n",
        "Integration Complete in 0.0273180007935 seconds"
       ]
      },
      {
       "output_type": "stream",
       "stream": "stdout",
       "text": [
        "\n",
        "Number of Orbitals: 9\n",
        "Number of Primitive Gaussians: 105\n",
        "Integration Complete in 0.0268120765686 seconds\n",
        "Number of Orbitals: 9\n",
        "Number of Primitive Gaussians: 105\n",
        "Integration Complete in 0.0268380641937 seconds"
       ]
      },
      {
       "output_type": "stream",
       "stream": "stdout",
       "text": [
        "\n",
        "Number of Orbitals: 9\n",
        "Number of Primitive Gaussians: 105\n",
        "Integration Complete in 0.026752948761 seconds\n",
        "Number of Orbitals: 9\n",
        "Number of Primitive Gaussians: 105\n",
        "Integration Complete in 0.0272250175476 seconds"
       ]
      },
      {
       "output_type": "stream",
       "stream": "stdout",
       "text": [
        "\n",
        "Number of Orbitals: 9\n",
        "Number of Primitive Gaussians: 105\n",
        "Integration Complete in 0.0270252227783 seconds\n",
        "Number of Orbitals: 9\n",
        "Number of Primitive Gaussians: 105\n",
        "Integration Complete in 0.0273010730743 seconds"
       ]
      },
      {
       "output_type": "stream",
       "stream": "stdout",
       "text": [
        "\n",
        "Number of Orbitals: 9\n",
        "Number of Primitive Gaussians: 105\n",
        "Integration Complete in 0.026829957962 seconds\n",
        "Number of Orbitals: 9\n",
        "Number of Primitive Gaussians: 105\n",
        "Integration Complete in 0.0271022319794 seconds"
       ]
      },
      {
       "output_type": "stream",
       "stream": "stdout",
       "text": [
        "\n",
        "Number of Orbitals: 9\n",
        "Number of Primitive Gaussians: 105\n",
        "Integration Complete in 0.0266921520233 seconds\n",
        "Number of Orbitals: 9\n",
        "Number of Primitive Gaussians: 105\n",
        "Integration Complete in 0.0271389484406 seconds"
       ]
      },
      {
       "output_type": "stream",
       "stream": "stdout",
       "text": [
        "\n",
        "Number of Orbitals: 9\n",
        "Number of Primitive Gaussians: 105\n",
        "Integration Complete in 0.0269620418549 seconds\n",
        "Number of Orbitals: 9\n",
        "Number of Primitive Gaussians: 105\n",
        "Integration Complete in 0.0280568599701 seconds"
       ]
      },
      {
       "output_type": "stream",
       "stream": "stdout",
       "text": [
        "\n",
        "Number of Orbitals: 9\n",
        "Number of Primitive Gaussians: 105\n",
        "Integration Complete in 0.0293607711792 seconds\n",
        "Number of Orbitals: 9\n",
        "Number of Primitive Gaussians: 105\n",
        "Integration Complete in 0.026967048645 seconds"
       ]
      },
      {
       "output_type": "stream",
       "stream": "stdout",
       "text": [
        "\n",
        "Number of Orbitals: 9\n",
        "Number of Primitive Gaussians: 105\n",
        "Integration Complete in 0.0279550552368 seconds\n",
        "Number of Orbitals: 9\n",
        "Number of Primitive Gaussians: 105\n",
        "Integration Complete in 0.0276961326599 seconds"
       ]
      },
      {
       "output_type": "stream",
       "stream": "stdout",
       "text": [
        "\n",
        "Number of Orbitals: 9\n",
        "Number of Primitive Gaussians: 105\n",
        "Integration Complete in 0.0333540439606 seconds\n",
        "Number of Orbitals: 9\n",
        "Number of Primitive Gaussians: 105\n",
        "Integration Complete in 0.0331840515137 seconds"
       ]
      },
      {
       "output_type": "stream",
       "stream": "stdout",
       "text": [
        "\n",
        "Number of Orbitals: 9\n",
        "Number of Primitive Gaussians: 105\n",
        "Integration Complete in 0.0267469882965 seconds\n",
        "Number of Orbitals: 9\n",
        "Number of Primitive Gaussians: 105\n",
        "Integration Complete in 0.0271830558777 seconds"
       ]
      },
      {
       "output_type": "stream",
       "stream": "stdout",
       "text": [
        "\n",
        "Number of Orbitals: 9\n",
        "Number of Primitive Gaussians: 105\n",
        "Integration Complete in 0.0267159938812 seconds\n",
        "Number of Orbitals: 9\n",
        "Number of Primitive Gaussians: 105\n",
        "Integration Complete in 0.0278220176697 seconds"
       ]
      },
      {
       "output_type": "stream",
       "stream": "stdout",
       "text": [
        "\n",
        "Number of Orbitals: 9\n",
        "Number of Primitive Gaussians: 105\n",
        "Integration Complete in 0.0266289710999 seconds\n",
        "Number of Orbitals: 9\n",
        "Number of Primitive Gaussians: 105\n",
        "Integration Complete in 0.0271809101105 seconds"
       ]
      },
      {
       "output_type": "stream",
       "stream": "stdout",
       "text": [
        "\n",
        "Number of Orbitals: 9\n",
        "Number of Primitive Gaussians: 105\n",
        "Integration Complete in 0.034784078598 seconds\n",
        "Number of Orbitals: 9\n",
        "Number of Primitive Gaussians: 105\n",
        "Integration Complete in 0.0322029590607 seconds"
       ]
      },
      {
       "output_type": "stream",
       "stream": "stdout",
       "text": [
        "\n",
        "Number of Orbitals: 9\n",
        "Number of Primitive Gaussians: 105\n",
        "Integration Complete in 0.0266568660736 seconds\n",
        "Number of Orbitals: 9\n",
        "Number of Primitive Gaussians: 105\n",
        "Integration Complete in 0.0358090400696 seconds"
       ]
      },
      {
       "output_type": "stream",
       "stream": "stdout",
       "text": [
        "\n",
        "Number of Orbitals: 9\n",
        "Number of Primitive Gaussians: 105\n",
        "Integration Complete in 0.026673078537 seconds\n",
        "Number of Orbitals: 9\n",
        "Number of Primitive Gaussians: 105\n",
        "Integration Complete in 0.0312130451202 seconds"
       ]
      },
      {
       "output_type": "stream",
       "stream": "stdout",
       "text": [
        "\n",
        "Number of Orbitals: 9\n",
        "Number of Primitive Gaussians: 105\n",
        "Integration Complete in 0.0267398357391 seconds\n",
        "Number of Orbitals: 9\n",
        "Number of Primitive Gaussians: 105\n",
        "Integration Complete in 0.0321600437164 seconds"
       ]
      },
      {
       "output_type": "stream",
       "stream": "stdout",
       "text": [
        "\n",
        "Number of Orbitals: 9\n",
        "Number of Primitive Gaussians: 105\n",
        "Integration Complete in 0.0285141468048 seconds\n",
        "Number of Orbitals: 9\n",
        "Number of Primitive Gaussians: 105\n",
        "Integration Complete in 0.0346970558167 seconds"
       ]
      },
      {
       "output_type": "stream",
       "stream": "stdout",
       "text": [
        "\n",
        "Number of Orbitals: 9\n",
        "Number of Primitive Gaussians: 105\n",
        "Integration Complete in 0.0290379524231 seconds\n",
        "Number of Orbitals: 9\n",
        "Number of Primitive Gaussians: 105\n",
        "Integration Complete in 0.0314221382141 seconds"
       ]
      },
      {
       "output_type": "stream",
       "stream": "stdout",
       "text": [
        "\n",
        "Number of Orbitals: 9\n",
        "Number of Primitive Gaussians: 105\n",
        "Integration Complete in 0.0266790390015 seconds\n",
        "Number of Orbitals: 9\n",
        "Number of Primitive Gaussians: 105\n",
        "Integration Complete in 0.0312750339508 seconds"
       ]
      },
      {
       "output_type": "stream",
       "stream": "stdout",
       "text": [
        "\n",
        "Number of Orbitals: 9\n",
        "Number of Primitive Gaussians: 105\n",
        "Integration Complete in 0.0266380310059 seconds\n",
        "Number of Orbitals: 9\n",
        "Number of Primitive Gaussians: 105\n",
        "Integration Complete in 0.0282878875732 seconds"
       ]
      },
      {
       "output_type": "stream",
       "stream": "stdout",
       "text": [
        "\n",
        "Number of Orbitals: 9\n",
        "Number of Primitive Gaussians: 105\n",
        "Integration Complete in 0.0266721248627 seconds\n",
        "Number of Orbitals: 9\n",
        "Number of Primitive Gaussians: 105\n",
        "Integration Complete in 0.0280160903931 seconds"
       ]
      },
      {
       "output_type": "stream",
       "stream": "stdout",
       "text": [
        "\n",
        "Number of Orbitals: 9\n",
        "Number of Primitive Gaussians: 105\n",
        "Integration Complete in 0.0294830799103 seconds\n",
        "Number of Orbitals: 9\n",
        "Number of Primitive Gaussians: 105\n",
        "Integration Complete in 0.0284380912781 seconds"
       ]
      },
      {
       "output_type": "stream",
       "stream": "stdout",
       "text": [
        "\n",
        "Number of Orbitals: 9\n",
        "Number of Primitive Gaussians: 105\n",
        "Integration Complete in 0.0318109989166 seconds\n",
        "Number of Orbitals: 9\n",
        "Number of Primitive Gaussians: 105\n",
        "Integration Complete in 0.0275740623474 seconds"
       ]
      },
      {
       "output_type": "stream",
       "stream": "stdout",
       "text": [
        "\n",
        "Number of Orbitals: 9\n",
        "Number of Primitive Gaussians: 105\n",
        "Integration Complete in 0.0266308784485 seconds\n",
        "Number of Orbitals: 9\n",
        "Number of Primitive Gaussians: 105\n",
        "Integration Complete in 0.0281732082367 seconds"
       ]
      },
      {
       "output_type": "stream",
       "stream": "stdout",
       "text": [
        "\n",
        "Number of Orbitals: 9\n",
        "Number of Primitive Gaussians: 105\n",
        "Integration Complete in 0.0266740322113 seconds\n",
        "Number of Orbitals: 9\n",
        "Number of Primitive Gaussians: 105\n",
        "Integration Complete in 0.0278508663177 seconds"
       ]
      },
      {
       "output_type": "stream",
       "stream": "stdout",
       "text": [
        "\n",
        "Number of Orbitals: 9\n",
        "Number of Primitive Gaussians: 105\n",
        "Integration Complete in 0.026734828949 seconds\n",
        "Number of Orbitals: 9\n",
        "Number of Primitive Gaussians: 105\n",
        "Integration Complete in 0.0278570652008 seconds"
       ]
      },
      {
       "output_type": "stream",
       "stream": "stdout",
       "text": [
        "\n",
        "Number of Orbitals: 9\n",
        "Number of Primitive Gaussians: 105\n",
        "Integration Complete in 0.026643037796 seconds\n",
        "Number of Orbitals: 9\n",
        "Number of Primitive Gaussians: 105\n",
        "Integration Complete in 0.0272581577301 seconds"
       ]
      },
      {
       "output_type": "stream",
       "stream": "stdout",
       "text": [
        "\n",
        "Number of Orbitals: 9\n",
        "Number of Primitive Gaussians: 105\n",
        "Integration Complete in 0.0266289710999 seconds\n",
        "Number of Orbitals: 9\n",
        "Number of Primitive Gaussians: 105\n",
        "Integration Complete in 0.0305018424988 seconds"
       ]
      },
      {
       "output_type": "stream",
       "stream": "stdout",
       "text": [
        "\n",
        "Number of Orbitals: 9\n",
        "Number of Primitive Gaussians: 105\n",
        "Integration Complete in 0.0294370651245 seconds\n",
        "Number of Orbitals: 9\n",
        "Number of Primitive Gaussians: 105\n",
        "Integration Complete in 0.0365078449249 seconds"
       ]
      },
      {
       "output_type": "stream",
       "stream": "stdout",
       "text": [
        "\n",
        "Number of Orbitals: 9\n",
        "Number of Primitive Gaussians: 105\n",
        "Integration Complete in 0.0276670455933 seconds\n",
        "Number of Orbitals: 9\n",
        "Number of Primitive Gaussians: 105\n",
        "Integration Complete in 0.0305781364441 seconds"
       ]
      },
      {
       "output_type": "stream",
       "stream": "stdout",
       "text": [
        "\n",
        "Number of Orbitals: 9\n",
        "Number of Primitive Gaussians: 105\n",
        "Integration Complete in 0.0267770290375 seconds\n",
        "Number of Orbitals: 9\n",
        "Number of Primitive Gaussians: 105\n",
        "Integration Complete in 0.0323538780212 seconds"
       ]
      },
      {
       "output_type": "stream",
       "stream": "stdout",
       "text": [
        "\n",
        "Number of Orbitals: 9\n",
        "Number of Primitive Gaussians: 105\n",
        "Integration Complete in 0.0293297767639 seconds\n",
        "Number of Orbitals: 9\n",
        "Number of Primitive Gaussians: 105\n",
        "Integration Complete in 0.0317578315735 seconds"
       ]
      },
      {
       "output_type": "stream",
       "stream": "stdout",
       "text": [
        "\n",
        "Number of Orbitals: 9\n",
        "Number of Primitive Gaussians: 105\n",
        "Integration Complete in 0.0294549465179 seconds\n",
        "Number of Orbitals: 9\n",
        "Number of Primitive Gaussians: 105\n",
        "Integration Complete in 0.0316410064697 seconds"
       ]
      },
      {
       "output_type": "stream",
       "stream": "stdout",
       "text": [
        "\n",
        "Number of Orbitals: 9\n",
        "Number of Primitive Gaussians: 105\n",
        "Integration Complete in 0.0267128944397 seconds\n",
        "Number of Orbitals: 9\n",
        "Number of Primitive Gaussians: 105\n",
        "Integration Complete in 0.0289189815521 seconds"
       ]
      },
      {
       "output_type": "stream",
       "stream": "stdout",
       "text": [
        "\n",
        "Number of Orbitals: 9\n",
        "Number of Primitive Gaussians: 105\n",
        "Integration Complete in 0.0266060829163 seconds\n",
        "Number of Orbitals: 9\n",
        "Number of Primitive Gaussians: 105\n",
        "Integration Complete in 0.0276188850403 seconds"
       ]
      },
      {
       "output_type": "stream",
       "stream": "stdout",
       "text": [
        "\n",
        "Number of Orbitals: 9\n",
        "Number of Primitive Gaussians: 105\n",
        "Integration Complete in 0.0266420841217 seconds\n",
        "Number of Orbitals: 9\n",
        "Number of Primitive Gaussians: 105\n",
        "Integration Complete in 0.0280568599701 seconds"
       ]
      },
      {
       "output_type": "stream",
       "stream": "stdout",
       "text": [
        "\n",
        "Number of Orbitals: 9\n",
        "Number of Primitive Gaussians: 105\n",
        "Integration Complete in 0.0292618274689 seconds\n",
        "Number of Orbitals: 9\n",
        "Number of Primitive Gaussians: 105\n",
        "Integration Complete in 0.0280020236969 seconds"
       ]
      },
      {
       "output_type": "stream",
       "stream": "stdout",
       "text": [
        "\n",
        "Number of Orbitals: 9\n",
        "Number of Primitive Gaussians: 105\n",
        "Integration Complete in 0.0269820690155 seconds\n",
        "Number of Orbitals: 9\n",
        "Number of Primitive Gaussians: 105\n",
        "Integration Complete in 0.0278840065002 seconds"
       ]
      },
      {
       "output_type": "stream",
       "stream": "stdout",
       "text": [
        "\n",
        "Number of Orbitals: 9\n",
        "Number of Primitive Gaussians: 105\n",
        "Integration Complete in 0.027067899704 seconds\n",
        "Number of Orbitals: 9\n",
        "Number of Primitive Gaussians: 105\n",
        "Integration Complete in 0.0279819965363 seconds"
       ]
      },
      {
       "output_type": "stream",
       "stream": "stdout",
       "text": [
        "\n",
        "Number of Orbitals: 9\n",
        "Number of Primitive Gaussians: 105\n",
        "Integration Complete in 0.0270090103149 seconds\n",
        "Number of Orbitals: 9\n",
        "Number of Primitive Gaussians: 105\n",
        "Integration Complete in 0.0277800559998 seconds"
       ]
      },
      {
       "output_type": "stream",
       "stream": "stdout",
       "text": [
        "\n",
        "Number of Orbitals: 9\n",
        "Number of Primitive Gaussians: 105\n",
        "Integration Complete in 0.026759147644 seconds\n",
        "Number of Orbitals: 9\n",
        "Number of Primitive Gaussians: 105\n",
        "Integration Complete in 0.027893781662 seconds"
       ]
      },
      {
       "output_type": "stream",
       "stream": "stdout",
       "text": [
        "\n",
        "Number of Orbitals: 9\n",
        "Number of Primitive Gaussians: 105\n",
        "Integration Complete in 0.0267641544342 seconds\n",
        "Number of Orbitals: 9\n",
        "Number of Primitive Gaussians: 105\n",
        "Integration Complete in 0.02911901474 seconds"
       ]
      },
      {
       "output_type": "stream",
       "stream": "stdout",
       "text": [
        "\n",
        "Number of Orbitals: 9\n",
        "Number of Primitive Gaussians: 105\n",
        "Integration Complete in 0.0267939567566 seconds\n",
        "Number of Orbitals: 9\n",
        "Number of Primitive Gaussians: 105\n",
        "Integration Complete in 0.0313129425049 seconds"
       ]
      },
      {
       "output_type": "stream",
       "stream": "stdout",
       "text": [
        "\n",
        "Number of Orbitals: 9\n",
        "Number of Primitive Gaussians: 105\n",
        "Integration Complete in 0.0405550003052 seconds\n",
        "Number of Orbitals: 9"
       ]
      },
      {
       "output_type": "stream",
       "stream": "stdout",
       "text": [
        "\n",
        "Number of Primitive Gaussians: 105\n",
        "Integration Complete in 0.0322229862213 seconds\n",
        "Number of Orbitals: 9\n",
        "Number of Primitive Gaussians: 105\n",
        "Integration Complete in 0.0311980247498 seconds"
       ]
      },
      {
       "output_type": "stream",
       "stream": "stdout",
       "text": [
        "\n",
        "Number of Orbitals: 9\n",
        "Number of Primitive Gaussians: 105\n",
        "Integration Complete in 0.0266618728638 seconds\n",
        "Number of Orbitals: 9\n",
        "Number of Primitive Gaussians: 105\n",
        "Integration Complete in 0.0313889980316 seconds"
       ]
      },
      {
       "output_type": "stream",
       "stream": "stdout",
       "text": [
        "\n",
        "Number of Orbitals: 9\n",
        "Number of Primitive Gaussians: 105\n",
        "Integration Complete in 0.036908864975 seconds\n",
        "Number of Orbitals: 9\n",
        "Number of Primitive Gaussians: 105\n",
        "Integration Complete in 0.032534122467 seconds"
       ]
      },
      {
       "output_type": "stream",
       "stream": "stdout",
       "text": [
        "\n",
        "Number of Orbitals: 9\n",
        "Number of Primitive Gaussians: 105\n",
        "Integration Complete in 0.0267090797424 seconds\n",
        "Number of Orbitals: 9\n",
        "Number of Primitive Gaussians: 105\n",
        "Integration Complete in 0.0318019390106 seconds"
       ]
      },
      {
       "output_type": "stream",
       "stream": "stdout",
       "text": [
        "\n",
        "Number of Orbitals: 9\n",
        "Number of Primitive Gaussians: 105\n",
        "Integration Complete in 0.0266189575195 seconds\n",
        "Number of Orbitals: 9\n",
        "Number of Primitive Gaussians: 105\n",
        "Integration Complete in 0.0310859680176 seconds"
       ]
      },
      {
       "output_type": "stream",
       "stream": "stdout",
       "text": [
        "\n",
        "Number of Orbitals: 9\n",
        "Number of Primitive Gaussians: 105\n",
        "Integration Complete in 0.0267431735992 seconds\n",
        "Number of Orbitals: 9\n",
        "Number of Primitive Gaussians: 105\n",
        "Integration Complete in 0.031907081604 seconds"
       ]
      },
      {
       "output_type": "stream",
       "stream": "stdout",
       "text": [
        "\n",
        "Number of Orbitals: 9\n",
        "Number of Primitive Gaussians: 105\n",
        "Integration Complete in 0.026743888855 seconds\n",
        "Number of Orbitals: 9\n",
        "Number of Primitive Gaussians: 105\n",
        "Integration Complete in 0.0314259529114 seconds"
       ]
      },
      {
       "output_type": "stream",
       "stream": "stdout",
       "text": [
        "\n",
        "Number of Orbitals: 9\n",
        "Number of Primitive Gaussians: 105\n",
        "Integration Complete in 0.0403180122375 seconds\n",
        "Number of Orbitals: 9"
       ]
      },
      {
       "output_type": "stream",
       "stream": "stdout",
       "text": [
        "\n",
        "Number of Primitive Gaussians: 105\n",
        "Integration Complete in 0.0312879085541 seconds\n",
        "Number of Orbitals: 9\n",
        "Number of Primitive Gaussians: 105\n",
        "Integration Complete in 0.035343170166 seconds"
       ]
      },
      {
       "output_type": "stream",
       "stream": "stdout",
       "text": [
        "\n",
        "Number of Orbitals: 9\n",
        "Number of Primitive Gaussians: 105\n",
        "Integration Complete in 0.026703119278 seconds\n",
        "Number of Orbitals: 9\n",
        "Number of Primitive Gaussians: 105\n",
        "Integration Complete in 0.0319058895111 seconds"
       ]
      },
      {
       "output_type": "stream",
       "stream": "stdout",
       "text": [
        "\n",
        "Number of Orbitals: 9\n",
        "Number of Primitive Gaussians: 105\n",
        "Integration Complete in 0.0266630649567 seconds\n",
        "Number of Orbitals: 9\n",
        "Number of Primitive Gaussians: 105\n",
        "Integration Complete in 0.0318009853363 seconds"
       ]
      },
      {
       "output_type": "stream",
       "stream": "stdout",
       "text": [
        "\n",
        "Number of Orbitals: 9\n",
        "Number of Primitive Gaussians: 105\n",
        "Integration Complete in 0.0267741680145 seconds\n",
        "Number of Orbitals: 9\n",
        "Number of Primitive Gaussians: 105\n",
        "Integration Complete in 0.0331330299377 seconds"
       ]
      },
      {
       "output_type": "stream",
       "stream": "stdout",
       "text": [
        "\n",
        "Number of Orbitals: 9\n",
        "Number of Primitive Gaussians: 105\n",
        "Integration Complete in 0.0266149044037 seconds\n",
        "Number of Orbitals: 9\n",
        "Number of Primitive Gaussians: 105\n",
        "Integration Complete in 0.0334460735321 seconds"
       ]
      },
      {
       "output_type": "stream",
       "stream": "stdout",
       "text": [
        "\n",
        "Number of Orbitals: 9\n",
        "Number of Primitive Gaussians: 105\n",
        "Integration Complete in 0.0267059803009 seconds\n",
        "Number of Orbitals: 9\n",
        "Number of Primitive Gaussians: 105\n",
        "Integration Complete in 0.0314159393311 seconds"
       ]
      },
      {
       "output_type": "stream",
       "stream": "stdout",
       "text": [
        "\n",
        "Number of Orbitals: 9\n",
        "Number of Primitive Gaussians: 105\n",
        "Integration Complete in 0.0266649723053 seconds\n",
        "Number of Orbitals: 9\n",
        "Number of Primitive Gaussians: 105\n",
        "Integration Complete in 0.0320010185242 seconds"
       ]
      },
      {
       "output_type": "stream",
       "stream": "stdout",
       "text": [
        "\n",
        "Number of Orbitals: 9\n",
        "Number of Primitive Gaussians: 105\n",
        "Integration Complete in 0.0266630649567 seconds\n",
        "Number of Orbitals: 9\n",
        "Number of Primitive Gaussians: 105\n",
        "Integration Complete in 0.0386350154877 seconds"
       ]
      },
      {
       "output_type": "stream",
       "stream": "stdout",
       "text": [
        "\n",
        "Number of Orbitals: 9\n",
        "Number of Primitive Gaussians: 105\n",
        "Integration Complete in 0.0450029373169 seconds"
       ]
      },
      {
       "output_type": "stream",
       "stream": "stdout",
       "text": [
        "\n",
        "Number of Orbitals: 9\n",
        "Number of Primitive Gaussians: 105\n",
        "Integration Complete in 0.0379590988159 seconds\n",
        "Number of Orbitals: 9\n",
        "Number of Primitive Gaussians: 105\n",
        "Integration Complete in 0.0286560058594 seconds"
       ]
      },
      {
       "output_type": "stream",
       "stream": "stdout",
       "text": [
        "\n",
        "Number of Orbitals: 9\n",
        "Number of Primitive Gaussians: 105\n",
        "Integration Complete in 0.0288760662079 seconds\n",
        "Number of Orbitals: 9\n",
        "Number of Primitive Gaussians: 105\n",
        "Integration Complete in 0.0297698974609 seconds"
       ]
      },
      {
       "output_type": "stream",
       "stream": "stdout",
       "text": [
        "\n",
        "Number of Orbitals: 9\n",
        "Number of Primitive Gaussians: 105\n",
        "Integration Complete in 0.0292329788208 seconds\n",
        "Number of Orbitals: 9\n",
        "Number of Primitive Gaussians: 105\n",
        "Integration Complete in 0.0314269065857 seconds"
       ]
      },
      {
       "output_type": "stream",
       "stream": "stdout",
       "text": [
        "\n",
        "Number of Orbitals: 9\n",
        "Number of Primitive Gaussians: 105\n",
        "Integration Complete in 0.0285449028015 seconds\n",
        "Number of Orbitals: 9\n",
        "Number of Primitive Gaussians: 105\n",
        "Integration Complete in 0.0310218334198 seconds"
       ]
      },
      {
       "output_type": "stream",
       "stream": "stdout",
       "text": [
        "\n",
        "Number of Orbitals: 9\n",
        "Number of Primitive Gaussians: 105\n",
        "Integration Complete in 0.0278270244598 seconds\n",
        "Number of Orbitals: 9\n",
        "Number of Primitive Gaussians: 105\n",
        "Integration Complete in 0.0278759002686 seconds"
       ]
      },
      {
       "output_type": "stream",
       "stream": "stdout",
       "text": [
        "\n",
        "Number of Orbitals: 9\n",
        "Number of Primitive Gaussians: 105\n",
        "Integration Complete in 0.0266931056976 seconds\n",
        "Number of Orbitals: 9\n",
        "Number of Primitive Gaussians: 105\n",
        "Integration Complete in 0.0284779071808 seconds"
       ]
      },
      {
       "output_type": "stream",
       "stream": "stdout",
       "text": [
        "\n",
        "Number of Orbitals: 9\n",
        "Number of Primitive Gaussians: 105\n",
        "Integration Complete in 0.0267159938812 seconds\n",
        "Number of Orbitals: 9\n",
        "Number of Primitive Gaussians: 105\n",
        "Integration Complete in 0.0283980369568 seconds"
       ]
      },
      {
       "output_type": "stream",
       "stream": "stdout",
       "text": [
        "\n",
        "Number of Orbitals: 9\n",
        "Number of Primitive Gaussians: 105\n",
        "Integration Complete in 0.0267479419708 seconds\n",
        "Number of Orbitals: 9\n",
        "Number of Primitive Gaussians: 105\n",
        "Integration Complete in 0.0282859802246 seconds"
       ]
      },
      {
       "output_type": "stream",
       "stream": "stdout",
       "text": [
        "\n",
        "Number of Orbitals: 9\n",
        "Number of Primitive Gaussians: 105\n",
        "Integration Complete in 0.0266699790955 seconds\n",
        "Number of Orbitals: 9\n",
        "Number of Primitive Gaussians: 105\n",
        "Integration Complete in 0.0300171375275 seconds"
       ]
      },
      {
       "output_type": "stream",
       "stream": "stdout",
       "text": [
        "\n",
        "Number of Orbitals: 9\n",
        "Number of Primitive Gaussians: 105\n",
        "Integration Complete in 0.0268189907074 seconds\n",
        "Number of Orbitals: 9\n",
        "Number of Primitive Gaussians: 105\n",
        "Integration Complete in 0.031965970993 seconds"
       ]
      },
      {
       "output_type": "stream",
       "stream": "stdout",
       "text": [
        "\n",
        "Number of Orbitals: 9\n",
        "Number of Primitive Gaussians: 105\n",
        "Integration Complete in 0.027911901474 seconds\n",
        "Number of Orbitals: 9\n",
        "Number of Primitive Gaussians: 105\n",
        "Integration Complete in 0.0316109657288 seconds"
       ]
      },
      {
       "output_type": "stream",
       "stream": "stdout",
       "text": [
        "\n",
        "Number of Orbitals: 9\n",
        "Number of Primitive Gaussians: 105\n",
        "Integration Complete in 0.0287311077118 seconds\n",
        "Number of Orbitals: 9\n",
        "Number of Primitive Gaussians: 105\n",
        "Integration Complete in 0.0270991325378 seconds"
       ]
      },
      {
       "output_type": "stream",
       "stream": "stdout",
       "text": [
        "\n",
        "Number of Orbitals: 9\n",
        "Number of Primitive Gaussians: 105\n",
        "Integration Complete in 0.0267109870911 seconds\n",
        "Number of Orbitals: 9\n",
        "Number of Primitive Gaussians: 105\n",
        "Integration Complete in 0.0263991355896 seconds"
       ]
      },
      {
       "output_type": "stream",
       "stream": "stdout",
       "text": [
        "\n",
        "Number of Orbitals: 9\n",
        "Number of Primitive Gaussians: 105\n",
        "Integration Complete in 0.0268790721893 seconds\n",
        "Number of Orbitals: 9\n",
        "Number of Primitive Gaussians: 105\n",
        "Integration Complete in 0.0336039066315 seconds"
       ]
      },
      {
       "output_type": "stream",
       "stream": "stdout",
       "text": [
        "\n",
        "Number of Orbitals: 9\n",
        "Number of Primitive Gaussians: 105\n",
        "Integration Complete in 0.026703119278 seconds\n",
        "Number of Orbitals: 9\n",
        "Number of Primitive Gaussians: 105\n",
        "Integration Complete in 0.0314328670502 seconds"
       ]
      },
      {
       "output_type": "stream",
       "stream": "stdout",
       "text": [
        "\n",
        "Number of Orbitals: 9\n",
        "Number of Primitive Gaussians: 105\n",
        "Integration Complete in 0.0267548561096 seconds\n",
        "Number of Orbitals: 9\n",
        "Number of Primitive Gaussians: 105\n",
        "Integration Complete in 0.0270030498505 seconds"
       ]
      },
      {
       "output_type": "stream",
       "stream": "stdout",
       "text": [
        "\n",
        "Number of Orbitals: 9\n",
        "Number of Primitive Gaussians: 105\n",
        "Integration Complete in 0.0267617702484 seconds\n",
        "Number of Orbitals: 9\n",
        "Number of Primitive Gaussians: 105\n",
        "Integration Complete in 0.0273690223694 seconds"
       ]
      },
      {
       "output_type": "stream",
       "stream": "stdout",
       "text": [
        "\n",
        "Number of Orbitals: 9\n",
        "Number of Primitive Gaussians: 105\n",
        "Integration Complete in 0.0268030166626 seconds\n",
        "Number of Orbitals: 9\n",
        "Number of Primitive Gaussians: 105\n",
        "Integration Complete in 0.0317168235779 seconds"
       ]
      },
      {
       "output_type": "stream",
       "stream": "stdout",
       "text": [
        "\n",
        "Number of Orbitals: 9\n",
        "Number of Primitive Gaussians: 105\n",
        "Integration Complete in 0.0267100334167 seconds\n",
        "Number of Orbitals: 9\n",
        "Number of Primitive Gaussians: 105\n",
        "Integration Complete in 0.0313549041748 seconds"
       ]
      },
      {
       "output_type": "stream",
       "stream": "stdout",
       "text": [
        "\n",
        "Number of Orbitals: 9\n",
        "Number of Primitive Gaussians: 105\n",
        "Integration Complete in 0.0267100334167 seconds\n",
        "Number of Orbitals: 9\n",
        "Number of Primitive Gaussians: 105\n",
        "Integration Complete in 0.0316898822784 seconds"
       ]
      },
      {
       "output_type": "stream",
       "stream": "stdout",
       "text": [
        "\n",
        "Number of Orbitals: 9\n",
        "Number of Primitive Gaussians: 105\n",
        "Integration Complete in 0.0266699790955 seconds\n",
        "Number of Orbitals: 9\n",
        "Number of Primitive Gaussians: 105\n",
        "Integration Complete in 0.0318059921265 seconds"
       ]
      },
      {
       "output_type": "stream",
       "stream": "stdout",
       "text": [
        "\n",
        "Number of Orbitals: 9\n",
        "Number of Primitive Gaussians: 105\n",
        "Integration Complete in 0.0266990661621 seconds\n",
        "Number of Orbitals: 9\n",
        "Number of Primitive Gaussians: 105\n",
        "Integration Complete in 0.0333957672119 seconds"
       ]
      },
      {
       "output_type": "stream",
       "stream": "stdout",
       "text": [
        "\n",
        "Number of Orbitals: 9\n",
        "Number of Primitive Gaussians: 105\n",
        "Integration Complete in 0.0266699790955 seconds\n",
        "Number of Orbitals: 9\n",
        "Number of Primitive Gaussians: 105\n",
        "Integration Complete in 0.0317080020905 seconds"
       ]
      },
      {
       "output_type": "stream",
       "stream": "stdout",
       "text": [
        "\n",
        "Number of Orbitals: 9\n",
        "Number of Primitive Gaussians: 105\n",
        "Integration Complete in 0.0266680717468 seconds\n",
        "Number of Orbitals: 9\n",
        "Number of Primitive Gaussians: 105\n",
        "Integration Complete in 0.0326931476593 seconds"
       ]
      },
      {
       "output_type": "stream",
       "stream": "stdout",
       "text": [
        "\n",
        "Number of Orbitals: 9\n",
        "Number of Primitive Gaussians: 105\n",
        "Integration Complete in 0.0268111228943 seconds\n",
        "Number of Orbitals: 9\n",
        "Number of Primitive Gaussians: 105\n",
        "Integration Complete in 0.0318350791931 seconds"
       ]
      },
      {
       "output_type": "stream",
       "stream": "stdout",
       "text": [
        "\n",
        "Number of Orbitals: 9\n",
        "Number of Primitive Gaussians: 105\n",
        "Integration Complete in 0.026712179184 seconds\n",
        "Number of Orbitals: 9\n",
        "Number of Primitive Gaussians: 105\n",
        "Integration Complete in 0.0311031341553 seconds"
       ]
      },
      {
       "output_type": "stream",
       "stream": "stdout",
       "text": [
        "\n",
        "Number of Orbitals: 9\n",
        "Number of Primitive Gaussians: 105\n",
        "Integration Complete in 0.0374710559845 seconds\n",
        "Number of Orbitals: 9\n",
        "Number of Primitive Gaussians: 105\n",
        "Integration Complete in 0.0316689014435 seconds"
       ]
      },
      {
       "output_type": "stream",
       "stream": "stdout",
       "text": [
        "\n",
        "Number of Orbitals: 9\n",
        "Number of Primitive Gaussians: 105\n",
        "Integration Complete in 0.0266840457916 seconds\n",
        "Number of Orbitals: 9\n",
        "Number of Primitive Gaussians: 105\n",
        "Integration Complete in 0.0311541557312 seconds"
       ]
      },
      {
       "output_type": "stream",
       "stream": "stdout",
       "text": [
        "\n",
        "Number of Orbitals: 9\n",
        "Number of Primitive Gaussians: 105\n",
        "Integration Complete in 0.0266330242157 seconds\n",
        "Number of Orbitals: 9\n",
        "Number of Primitive Gaussians: 105\n",
        "Integration Complete in 0.0314831733704 seconds"
       ]
      },
      {
       "output_type": "stream",
       "stream": "stdout",
       "text": [
        "\n",
        "Number of Orbitals: 9\n",
        "Number of Primitive Gaussians: 105\n",
        "Integration Complete in 0.0267012119293 seconds\n",
        "Number of Orbitals: 9\n",
        "Number of Primitive Gaussians: 105\n",
        "Integration Complete in 0.0317969322205 seconds"
       ]
      },
      {
       "output_type": "stream",
       "stream": "stdout",
       "text": [
        "\n",
        "Number of Orbitals: 9\n",
        "Number of Primitive Gaussians: 105\n",
        "Integration Complete in 0.0267040729523 seconds\n",
        "Number of Orbitals: 9\n",
        "Number of Primitive Gaussians: 105\n",
        "Integration Complete in 0.031033039093 seconds"
       ]
      },
      {
       "output_type": "stream",
       "stream": "stdout",
       "text": [
        "\n",
        "Number of Orbitals: 9\n",
        "Number of Primitive Gaussians: 105\n",
        "Integration Complete in 0.0268039703369 seconds\n",
        "Number of Orbitals: 9\n",
        "Number of Primitive Gaussians: 105\n",
        "Integration Complete in 0.0317070484161 seconds"
       ]
      },
      {
       "output_type": "stream",
       "stream": "stdout",
       "text": [
        "\n",
        "Number of Orbitals: 9\n",
        "Number of Primitive Gaussians: 105\n",
        "Integration Complete in 0.026890039444 seconds\n",
        "Number of Orbitals: 9\n",
        "Number of Primitive Gaussians: 105\n",
        "Integration Complete in 0.0313830375671 seconds"
       ]
      },
      {
       "output_type": "stream",
       "stream": "stdout",
       "text": [
        "\n",
        "Number of Orbitals: 9\n",
        "Number of Primitive Gaussians: 105\n",
        "Integration Complete in 0.0268378257751 seconds\n",
        "Number of Orbitals: 9\n",
        "Number of Primitive Gaussians: 105\n",
        "Integration Complete in 0.0377581119537 seconds"
       ]
      },
      {
       "output_type": "stream",
       "stream": "stdout",
       "text": [
        "\n",
        "Number of Orbitals: 9\n",
        "Number of Primitive Gaussians: 105\n",
        "Integration Complete in 0.0388920307159 seconds\n",
        "Number of Orbitals: 9\n",
        "Number of Primitive Gaussians: 105\n",
        "Integration Complete in 0.0302062034607 seconds"
       ]
      },
      {
       "output_type": "stream",
       "stream": "stdout",
       "text": [
        "\n",
        "Number of Orbitals: 9\n",
        "Number of Primitive Gaussians: 105\n",
        "Integration Complete in 0.0288841724396 seconds\n",
        "Number of Orbitals: 9\n",
        "Number of Primitive Gaussians: 105\n",
        "Integration Complete in 0.0345470905304 seconds"
       ]
      },
      {
       "output_type": "stream",
       "stream": "stdout",
       "text": [
        "\n",
        "Number of Orbitals: 9\n",
        "Number of Primitive Gaussians: 105\n",
        "Integration Complete in 0.0296189785004 seconds\n",
        "Number of Orbitals: 9\n",
        "Number of Primitive Gaussians: 105\n",
        "Integration Complete in 0.0384740829468 seconds"
       ]
      },
      {
       "output_type": "stream",
       "stream": "stdout",
       "text": [
        "\n",
        "Number of Orbitals: 9\n",
        "Number of Primitive Gaussians: 105\n",
        "Integration Complete in 0.026967048645 seconds\n",
        "Number of Orbitals: 9\n",
        "Number of Primitive Gaussians: 105\n",
        "Integration Complete in 0.0387270450592 seconds"
       ]
      },
      {
       "output_type": "stream",
       "stream": "stdout",
       "text": [
        "\n",
        "Number of Orbitals: 9\n",
        "Number of Primitive Gaussians: 105\n",
        "Integration Complete in 0.0270419120789 seconds\n",
        "Number of Orbitals: 9\n",
        "Number of Primitive Gaussians: 105\n",
        "Integration Complete in 0.0326638221741 seconds"
       ]
      },
      {
       "output_type": "stream",
       "stream": "stdout",
       "text": [
        "\n",
        "Number of Orbitals: 9\n",
        "Number of Primitive Gaussians: 105\n",
        "Integration Complete in 0.0376691818237 seconds\n",
        "Number of Orbitals: 9\n",
        "Number of Primitive Gaussians: 105\n",
        "Integration Complete in 0.026654958725 seconds"
       ]
      },
      {
       "output_type": "stream",
       "stream": "stdout",
       "text": [
        "\n",
        "Number of Orbitals: 9\n",
        "Number of Primitive Gaussians: 105\n",
        "Integration Complete in 0.0267708301544 seconds\n",
        "Number of Orbitals: 9\n",
        "Number of Primitive Gaussians: 105\n",
        "Integration Complete in 0.0268750190735 seconds"
       ]
      },
      {
       "output_type": "stream",
       "stream": "stdout",
       "text": [
        "\n",
        "Number of Orbitals: 9\n",
        "Number of Primitive Gaussians: 105\n",
        "Integration Complete in 0.0266768932343 seconds\n",
        "Number of Orbitals: 9\n",
        "Number of Primitive Gaussians: 105\n",
        "Integration Complete in 0.0269391536713 seconds"
       ]
      },
      {
       "output_type": "stream",
       "stream": "stdout",
       "text": [
        "\n",
        "Number of Orbitals: 9\n",
        "Number of Primitive Gaussians: 105\n",
        "Integration Complete in 0.026734828949 seconds\n",
        "Number of Orbitals: 9\n",
        "Number of Primitive Gaussians: 105\n",
        "Integration Complete in 0.0269069671631 seconds"
       ]
      },
      {
       "output_type": "stream",
       "stream": "stdout",
       "text": [
        "\n",
        "Number of Orbitals: 9\n",
        "Number of Primitive Gaussians: 105\n",
        "Integration Complete in 0.0266990661621 seconds\n",
        "Number of Orbitals: 9\n",
        "Number of Primitive Gaussians: 105\n",
        "Integration Complete in 0.0270240306854 seconds"
       ]
      },
      {
       "output_type": "stream",
       "stream": "stdout",
       "text": [
        "\n",
        "Number of Orbitals: 9\n",
        "Number of Primitive Gaussians: 105\n",
        "Integration Complete in 0.0266740322113 seconds\n",
        "Number of Orbitals: 9\n",
        "Number of Primitive Gaussians: 105\n",
        "Integration Complete in 0.0269021987915 seconds"
       ]
      },
      {
       "output_type": "stream",
       "stream": "stdout",
       "text": [
        "\n",
        "Number of Orbitals: 9\n",
        "Number of Primitive Gaussians: 105\n",
        "Integration Complete in 0.0267360210419 seconds\n",
        "Number of Orbitals: 9\n",
        "Number of Primitive Gaussians: 105\n",
        "Integration Complete in 0.0269560813904 seconds"
       ]
      },
      {
       "output_type": "stream",
       "stream": "stdout",
       "text": [
        "\n",
        "Number of Orbitals: 9\n",
        "Number of Primitive Gaussians: 105\n",
        "Integration Complete in 0.0267870426178 seconds\n",
        "Number of Orbitals: 9\n",
        "Number of Primitive Gaussians: 105\n",
        "Integration Complete in 0.0268428325653 seconds"
       ]
      },
      {
       "output_type": "stream",
       "stream": "stdout",
       "text": [
        "\n",
        "Number of Orbitals: 9\n",
        "Number of Primitive Gaussians: 105\n",
        "Integration Complete in 0.0267689228058 seconds\n",
        "Number of Orbitals: 9\n",
        "Number of Primitive Gaussians: 105\n",
        "Integration Complete in 0.0269989967346 seconds"
       ]
      },
      {
       "output_type": "stream",
       "stream": "stdout",
       "text": [
        "\n",
        "Number of Orbitals: 9\n",
        "Number of Primitive Gaussians: 105\n",
        "Integration Complete in 0.0270071029663 seconds\n",
        "Number of Orbitals: 9\n",
        "Number of Primitive Gaussians: 105\n",
        "Integration Complete in 0.0268950462341 seconds"
       ]
      },
      {
       "output_type": "stream",
       "stream": "stdout",
       "text": [
        "\n",
        "Number of Orbitals: 9\n",
        "Number of Primitive Gaussians: 105\n",
        "Integration Complete in 0.0267660617828 seconds\n",
        "Number of Orbitals: 9\n",
        "Number of Primitive Gaussians: 105\n",
        "Integration Complete in 0.0277869701385 seconds"
       ]
      },
      {
       "output_type": "stream",
       "stream": "stdout",
       "text": [
        "\n",
        "Number of Orbitals: 9\n",
        "Number of Primitive Gaussians: 105\n",
        "Integration Complete in 0.0270709991455 seconds\n",
        "Number of Orbitals: 9\n",
        "Number of Primitive Gaussians: 105\n",
        "Integration Complete in 0.0286650657654 seconds"
       ]
      },
      {
       "output_type": "stream",
       "stream": "stdout",
       "text": [
        "\n",
        "Number of Orbitals: 9\n",
        "Number of Primitive Gaussians: 105\n",
        "Integration Complete in 0.0273549556732 seconds\n",
        "Number of Orbitals: 9\n",
        "Number of Primitive Gaussians: 105\n",
        "Integration Complete in 0.0277359485626 seconds"
       ]
      },
      {
       "output_type": "stream",
       "stream": "stdout",
       "text": [
        "\n",
        "Number of Orbitals: 9\n",
        "Number of Primitive Gaussians: 105\n",
        "Integration Complete in 0.0283551216125 seconds\n",
        "Number of Orbitals: 9\n",
        "Number of Primitive Gaussians: 105\n",
        "Integration Complete in 0.0269300937653 seconds"
       ]
      },
      {
       "output_type": "stream",
       "stream": "stdout",
       "text": [
        "\n",
        "Number of Orbitals: 9\n",
        "Number of Primitive Gaussians: 105\n",
        "Integration Complete in 0.026713848114 seconds\n",
        "Number of Orbitals: 9\n",
        "Number of Primitive Gaussians: 105\n",
        "Integration Complete in 0.0269780158997 seconds"
       ]
      },
      {
       "output_type": "stream",
       "stream": "stdout",
       "text": [
        "\n",
        "Number of Orbitals: 9\n",
        "Number of Primitive Gaussians: 105\n",
        "Integration Complete in 0.0267739295959 seconds\n",
        "Number of Orbitals: 9\n",
        "Number of Primitive Gaussians: 105\n",
        "Integration Complete in 0.0269641876221 seconds"
       ]
      },
      {
       "output_type": "stream",
       "stream": "stdout",
       "text": [
        "\n",
        "Number of Orbitals: 9\n",
        "Number of Primitive Gaussians: 105\n",
        "Integration Complete in 0.0267140865326 seconds\n",
        "Number of Orbitals: 9\n",
        "Number of Primitive Gaussians: 105\n",
        "Integration Complete in 0.0269889831543 seconds"
       ]
      },
      {
       "output_type": "stream",
       "stream": "stdout",
       "text": [
        "\n",
        "Number of Orbitals: 9\n",
        "Number of Primitive Gaussians: 105\n",
        "Integration Complete in 0.0266950130463 seconds\n",
        "Number of Orbitals: 9\n",
        "Number of Primitive Gaussians: 105\n",
        "Integration Complete in 0.0268959999084 seconds"
       ]
      },
      {
       "output_type": "stream",
       "stream": "stdout",
       "text": [
        "\n",
        "Number of Orbitals: 9\n",
        "Number of Primitive Gaussians: 105\n",
        "Integration Complete in 0.0267169475555 seconds\n",
        "Number of Orbitals: 9\n",
        "Number of Primitive Gaussians: 105\n",
        "Integration Complete in 0.0270020961761 seconds"
       ]
      },
      {
       "output_type": "stream",
       "stream": "stdout",
       "text": [
        "\n",
        "Number of Orbitals: 9\n",
        "Number of Primitive Gaussians: 105\n",
        "Integration Complete in 0.0266861915588 seconds\n",
        "Number of Orbitals: 9\n",
        "Number of Primitive Gaussians: 105\n",
        "Integration Complete in 0.0267040729523 seconds"
       ]
      },
      {
       "output_type": "stream",
       "stream": "stdout",
       "text": [
        "\n",
        "Number of Orbitals: 9\n",
        "Number of Primitive Gaussians: 105\n",
        "Integration Complete in 0.0267698764801 seconds\n",
        "Number of Orbitals: 9\n",
        "Number of Primitive Gaussians: 105\n",
        "Integration Complete in 0.0270030498505 seconds"
       ]
      },
      {
       "output_type": "stream",
       "stream": "stdout",
       "text": [
        "\n",
        "Number of Orbitals: 9\n",
        "Number of Primitive Gaussians: 105\n",
        "Integration Complete in 0.026759147644 seconds\n",
        "Number of Orbitals: 9\n",
        "Number of Primitive Gaussians: 105\n",
        "Integration Complete in 0.0269658565521 seconds"
       ]
      },
      {
       "output_type": "stream",
       "stream": "stdout",
       "text": [
        "\n",
        "Number of Orbitals: 9\n",
        "Number of Primitive Gaussians: 105\n",
        "Integration Complete in 0.0268590450287 seconds\n",
        "Number of Orbitals: 9\n",
        "Number of Primitive Gaussians: 105\n",
        "Integration Complete in 0.0266671180725 seconds"
       ]
      },
      {
       "output_type": "stream",
       "stream": "stdout",
       "text": [
        "\n",
        "Number of Orbitals: 9\n",
        "Number of Primitive Gaussians: 105\n",
        "Integration Complete in 0.0268130302429 seconds\n",
        "Number of Orbitals: 9\n",
        "Number of Primitive Gaussians: 105\n",
        "Integration Complete in 0.0269079208374 seconds"
       ]
      },
      {
       "output_type": "stream",
       "stream": "stdout",
       "text": [
        "\n",
        "Number of Orbitals: 9\n",
        "Number of Primitive Gaussians: 105\n",
        "Integration Complete in 0.0267939567566 seconds\n",
        "Number of Orbitals: 9\n",
        "Number of Primitive Gaussians: 105\n",
        "Integration Complete in 0.0271000862122 seconds"
       ]
      },
      {
       "output_type": "stream",
       "stream": "stdout",
       "text": [
        "\n",
        "Number of Orbitals: 9\n",
        "Number of Primitive Gaussians: 105\n",
        "Integration Complete in 0.0268049240112 seconds\n",
        "Number of Orbitals: 9\n",
        "Number of Primitive Gaussians: 105\n",
        "Integration Complete in 0.0270221233368 seconds"
       ]
      },
      {
       "output_type": "stream",
       "stream": "stdout",
       "text": [
        "\n",
        "Number of Orbitals: 9\n",
        "Number of Primitive Gaussians: 105\n",
        "Integration Complete in 0.0267810821533 seconds\n",
        "Number of Orbitals: 9\n",
        "Number of Primitive Gaussians: 105\n",
        "Integration Complete in 0.026771068573 seconds"
       ]
      },
      {
       "output_type": "stream",
       "stream": "stdout",
       "text": [
        "\n",
        "Number of Orbitals: 9\n",
        "Number of Primitive Gaussians: 105\n",
        "Integration Complete in 0.0267190933228 seconds\n",
        "Number of Orbitals: 9\n",
        "Number of Primitive Gaussians: 105\n",
        "Integration Complete in 0.0270829200745 seconds"
       ]
      },
      {
       "output_type": "stream",
       "stream": "stdout",
       "text": [
        "\n",
        "Number of Orbitals: 9\n",
        "Number of Primitive Gaussians: 105\n",
        "Integration Complete in 0.0268521308899 seconds\n",
        "Number of Orbitals: 9\n",
        "Number of Primitive Gaussians: 105\n",
        "Integration Complete in 0.0277559757233 seconds"
       ]
      },
      {
       "output_type": "stream",
       "stream": "stdout",
       "text": [
        "\n",
        "Number of Orbitals: 9\n",
        "Number of Primitive Gaussians: 105\n",
        "Integration Complete in 0.0267009735107 seconds\n",
        "Number of Orbitals: 9\n",
        "Number of Primitive Gaussians: 105\n",
        "Integration Complete in 0.0269160270691 seconds"
       ]
      },
      {
       "output_type": "stream",
       "stream": "stdout",
       "text": [
        "\n",
        "Number of Orbitals: 9\n",
        "Number of Primitive Gaussians: 105\n",
        "Integration Complete in 0.0268249511719 seconds\n",
        "Number of Orbitals: 9\n",
        "Number of Primitive Gaussians: 105\n",
        "Integration Complete in 0.0273809432983 seconds"
       ]
      },
      {
       "output_type": "stream",
       "stream": "stdout",
       "text": [
        "\n",
        "Number of Orbitals: 9\n",
        "Number of Primitive Gaussians: 105\n",
        "Integration Complete in 0.0267748832703 seconds\n",
        "Number of Orbitals: 9\n",
        "Number of Primitive Gaussians: 105\n",
        "Integration Complete in 0.0276219844818 seconds"
       ]
      },
      {
       "output_type": "stream",
       "stream": "stdout",
       "text": [
        "\n",
        "Number of Orbitals: 9\n",
        "Number of Primitive Gaussians: 105\n",
        "Integration Complete in 0.0267879962921 seconds\n",
        "Number of Orbitals: 9\n",
        "Number of Primitive Gaussians: 105\n",
        "Integration Complete in 0.0272760391235 seconds"
       ]
      },
      {
       "output_type": "stream",
       "stream": "stdout",
       "text": [
        "\n",
        "Number of Orbitals: 9\n",
        "Number of Primitive Gaussians: 105\n",
        "Integration Complete in 0.0267481803894 seconds\n",
        "Number of Orbitals: 9\n",
        "Number of Primitive Gaussians: 105\n",
        "Integration Complete in 0.0275979042053 seconds"
       ]
      },
      {
       "output_type": "stream",
       "stream": "stdout",
       "text": [
        "\n",
        "Number of Orbitals: 9\n",
        "Number of Primitive Gaussians: 105\n",
        "Integration Complete in 0.0268430709839 seconds\n",
        "Number of Orbitals: 9\n",
        "Number of Primitive Gaussians: 105\n",
        "Integration Complete in 0.0276479721069 seconds"
       ]
      },
      {
       "output_type": "stream",
       "stream": "stdout",
       "text": [
        "\n",
        "Number of Orbitals: 9\n",
        "Number of Primitive Gaussians: 105\n",
        "Integration Complete in 0.0267479419708 seconds\n",
        "Number of Orbitals: 9\n",
        "Number of Primitive Gaussians: 105\n",
        "Integration Complete in 0.0276260375977 seconds"
       ]
      },
      {
       "output_type": "stream",
       "stream": "stdout",
       "text": [
        "\n",
        "Number of Orbitals: 9\n",
        "Number of Primitive Gaussians: 105\n",
        "Integration Complete in 0.0268239974976 seconds\n",
        "Number of Orbitals: 9\n",
        "Number of Primitive Gaussians: 105\n",
        "Integration Complete in 0.027496099472 seconds"
       ]
      },
      {
       "output_type": "stream",
       "stream": "stdout",
       "text": [
        "\n",
        "Number of Orbitals: 9\n",
        "Number of Primitive Gaussians: 105\n",
        "Integration Complete in 0.026664018631 seconds\n",
        "Number of Orbitals: 9\n",
        "Number of Primitive Gaussians: 105\n",
        "Integration Complete in 0.0277590751648 seconds"
       ]
      },
      {
       "output_type": "stream",
       "stream": "stdout",
       "text": [
        "\n",
        "Number of Orbitals: 9\n",
        "Number of Primitive Gaussians: 105\n",
        "Integration Complete in 0.0365350246429 seconds\n",
        "Number of Orbitals: 9\n",
        "Number of Primitive Gaussians: 105\n",
        "Integration Complete in 0.0325899124146 seconds"
       ]
      },
      {
       "output_type": "stream",
       "stream": "stdout",
       "text": [
        "\n",
        "Number of Orbitals: 9\n",
        "Number of Primitive Gaussians: 105\n",
        "Integration Complete in 0.027281999588 seconds\n",
        "Number of Orbitals: 9\n",
        "Number of Primitive Gaussians: 105\n",
        "Integration Complete in 0.0329492092133 seconds"
       ]
      },
      {
       "output_type": "stream",
       "stream": "stdout",
       "text": [
        "\n",
        "Number of Orbitals: 9\n",
        "Number of Primitive Gaussians: 105\n",
        "Integration Complete in 0.0267329216003 seconds\n",
        "Number of Orbitals: 9\n",
        "Number of Primitive Gaussians: 105\n",
        "Integration Complete in 0.0273079872131 seconds"
       ]
      },
      {
       "output_type": "stream",
       "stream": "stdout",
       "text": [
        "\n",
        "Number of Orbitals: 9\n",
        "Number of Primitive Gaussians: 105\n",
        "Integration Complete in 0.0267231464386 seconds\n",
        "Number of Orbitals: 9\n",
        "Number of Primitive Gaussians: 105\n",
        "Integration Complete in 0.0273408889771 seconds"
       ]
      },
      {
       "output_type": "stream",
       "stream": "stdout",
       "text": [
        "\n",
        "Number of Orbitals: 9\n",
        "Number of Primitive Gaussians: 105\n",
        "Integration Complete in 0.0266859531403 seconds\n",
        "Number of Orbitals: 9\n",
        "Number of Primitive Gaussians: 105\n",
        "Integration Complete in 0.0272500514984 seconds"
       ]
      },
      {
       "output_type": "stream",
       "stream": "stdout",
       "text": [
        "\n",
        "Number of Orbitals: 9\n",
        "Number of Primitive Gaussians: 105\n",
        "Integration Complete in 0.0270581245422 seconds\n",
        "Number of Orbitals: 9\n",
        "Number of Primitive Gaussians: 105\n",
        "Integration Complete in 0.0274951457977 seconds"
       ]
      },
      {
       "output_type": "stream",
       "stream": "stdout",
       "text": [
        "\n",
        "Number of Orbitals: 9\n",
        "Number of Primitive Gaussians: 105\n",
        "Integration Complete in 0.027302980423 seconds\n",
        "Number of Orbitals: 9\n",
        "Number of Primitive Gaussians: 105\n",
        "Integration Complete in 0.0274980068207 seconds"
       ]
      },
      {
       "output_type": "stream",
       "stream": "stdout",
       "text": [
        "\n",
        "Number of Orbitals: 9\n",
        "Number of Primitive Gaussians: 105\n",
        "Integration Complete in 0.0267548561096 seconds\n",
        "Number of Orbitals: 9\n",
        "Number of Primitive Gaussians: 105\n",
        "Integration Complete in 0.0272271633148 seconds"
       ]
      },
      {
       "output_type": "stream",
       "stream": "stdout",
       "text": [
        "\n",
        "Number of Orbitals: 9\n",
        "Number of Primitive Gaussians: 105\n",
        "Integration Complete in 0.0267088413239 seconds\n",
        "Number of Orbitals: 9\n",
        "Number of Primitive Gaussians: 105\n",
        "Integration Complete in 0.0272700786591 seconds"
       ]
      },
      {
       "output_type": "stream",
       "stream": "stdout",
       "text": [
        "\n",
        "Number of Orbitals: 9\n",
        "Number of Primitive Gaussians: 105\n",
        "Integration Complete in 0.0268738269806 seconds\n",
        "Number of Orbitals: 9\n",
        "Number of Primitive Gaussians: 105\n",
        "Integration Complete in 0.0270178318024 seconds"
       ]
      },
      {
       "output_type": "stream",
       "stream": "stdout",
       "text": [
        "\n",
        "Number of Orbitals: 9\n",
        "Number of Primitive Gaussians: 105\n",
        "Integration Complete in 0.0269448757172 seconds\n",
        "Number of Orbitals: 9\n",
        "Number of Primitive Gaussians: 105\n",
        "Integration Complete in 0.0329489707947 seconds"
       ]
      },
      {
       "output_type": "stream",
       "stream": "stdout",
       "text": [
        "\n",
        "Number of Orbitals: 9\n",
        "Number of Primitive Gaussians: 105\n",
        "Integration Complete in 0.0267632007599 seconds\n",
        "Number of Orbitals: 9\n",
        "Number of Primitive Gaussians: 105\n",
        "Integration Complete in 0.0326910018921 seconds"
       ]
      },
      {
       "output_type": "stream",
       "stream": "stdout",
       "text": [
        "\n",
        "Number of Orbitals: 9\n",
        "Number of Primitive Gaussians: 105\n",
        "Integration Complete in 0.0350689888 seconds\n",
        "Number of Orbitals: 9\n",
        "Number of Primitive Gaussians: 105\n",
        "Integration Complete in 0.0269010066986 seconds"
       ]
      },
      {
       "output_type": "stream",
       "stream": "stdout",
       "text": [
        "\n",
        "Number of Orbitals: 9\n",
        "Number of Primitive Gaussians: 105\n",
        "Integration Complete in 0.0267670154572 seconds\n",
        "Number of Orbitals: 9\n",
        "Number of Primitive Gaussians: 105\n",
        "Integration Complete in 0.0269000530243 seconds"
       ]
      },
      {
       "output_type": "stream",
       "stream": "stdout",
       "text": [
        "\n",
        "Number of Orbitals: 9\n",
        "Number of Primitive Gaussians: 105\n",
        "Integration Complete in 0.0267090797424 seconds\n",
        "Number of Orbitals: 9\n",
        "Number of Primitive Gaussians: 105\n",
        "Integration Complete in 0.0269029140472 seconds"
       ]
      },
      {
       "output_type": "stream",
       "stream": "stdout",
       "text": [
        "\n",
        "Number of Orbitals: 9\n",
        "Number of Primitive Gaussians: 105\n",
        "Integration Complete in 0.0266778469086 seconds\n",
        "Number of Orbitals: 9\n",
        "Number of Primitive Gaussians: 105\n",
        "Integration Complete in 0.0269110202789 seconds"
       ]
      },
      {
       "output_type": "stream",
       "stream": "stdout",
       "text": [
        "\n",
        "Number of Orbitals: 9\n",
        "Number of Primitive Gaussians: 105\n",
        "Integration Complete in 0.0267300605774 seconds\n",
        "Number of Orbitals: 9\n",
        "Number of Primitive Gaussians: 105\n",
        "Integration Complete in 0.0270428657532 seconds"
       ]
      },
      {
       "output_type": "stream",
       "stream": "stdout",
       "text": [
        "\n",
        "Number of Orbitals: 9\n",
        "Number of Primitive Gaussians: 105\n",
        "Integration Complete in 0.0268311500549 seconds\n",
        "Number of Orbitals: 9\n",
        "Number of Primitive Gaussians: 105\n",
        "Integration Complete in 0.0269060134888 seconds"
       ]
      },
      {
       "output_type": "stream",
       "stream": "stdout",
       "text": [
        "\n",
        "Number of Orbitals: 9\n",
        "Number of Primitive Gaussians: 105\n",
        "Integration Complete in 0.026789188385 seconds\n",
        "Number of Orbitals: 9\n",
        "Number of Primitive Gaussians: 105\n",
        "Integration Complete in 0.0269110202789 seconds"
       ]
      },
      {
       "output_type": "stream",
       "stream": "stdout",
       "text": [
        "\n",
        "Number of Orbitals: 9\n",
        "Number of Primitive Gaussians: 105\n",
        "Integration Complete in 0.0267491340637 seconds\n",
        "Number of Orbitals: 9\n",
        "Number of Primitive Gaussians: 105\n",
        "Integration Complete in 0.0269589424133 seconds"
       ]
      },
      {
       "output_type": "stream",
       "stream": "stdout",
       "text": [
        "\n",
        "Number of Orbitals: 9\n",
        "Number of Primitive Gaussians: 105\n",
        "Integration Complete in 0.0268130302429 seconds\n",
        "Number of Orbitals: 9\n",
        "Number of Primitive Gaussians: 105\n",
        "Integration Complete in 0.0269918441772 seconds"
       ]
      },
      {
       "output_type": "stream",
       "stream": "stdout",
       "text": [
        "\n",
        "Number of Orbitals: 9\n",
        "Number of Primitive Gaussians: 105\n",
        "Integration Complete in 0.0283441543579 seconds\n",
        "Number of Orbitals: 9\n",
        "Number of Primitive Gaussians: 105\n",
        "Integration Complete in 0.0280110836029 seconds"
       ]
      },
      {
       "output_type": "stream",
       "stream": "stdout",
       "text": [
        "\n",
        "Number of Orbitals: 9\n",
        "Number of Primitive Gaussians: 105\n",
        "Integration Complete in 0.0365350246429 seconds\n",
        "Number of Orbitals: 9\n",
        "Number of Primitive Gaussians: 105\n",
        "Integration Complete in 0.0273280143738 seconds"
       ]
      },
      {
       "output_type": "stream",
       "stream": "stdout",
       "text": [
        "\n",
        "Number of Orbitals: 9\n",
        "Number of Primitive Gaussians: 105\n",
        "Integration Complete in 0.0267570018768 seconds\n",
        "Number of Orbitals: 9\n",
        "Number of Primitive Gaussians: 105\n",
        "Integration Complete in 0.0272958278656 seconds"
       ]
      },
      {
       "output_type": "stream",
       "stream": "stdout",
       "text": [
        "\n",
        "Number of Orbitals: 9\n",
        "Number of Primitive Gaussians: 105\n",
        "Integration Complete in 0.0267970561981 seconds\n",
        "Number of Orbitals: 9\n",
        "Number of Primitive Gaussians: 105\n",
        "Integration Complete in 0.0272600650787 seconds"
       ]
      },
      {
       "output_type": "stream",
       "stream": "stdout",
       "text": [
        "\n",
        "Number of Orbitals: 9\n",
        "Number of Primitive Gaussians: 105\n",
        "Integration Complete in 0.0267820358276 seconds\n",
        "Number of Orbitals: 9\n",
        "Number of Primitive Gaussians: 105\n",
        "Integration Complete in 0.0275158882141 seconds"
       ]
      },
      {
       "output_type": "stream",
       "stream": "stdout",
       "text": [
        "\n",
        "Number of Orbitals: 9\n",
        "Number of Primitive Gaussians: 105\n",
        "Integration Complete in 0.026750087738 seconds\n",
        "Number of Orbitals: 9\n",
        "Number of Primitive Gaussians: 105\n",
        "Integration Complete in 0.0286321640015 seconds"
       ]
      },
      {
       "output_type": "stream",
       "stream": "stdout",
       "text": [
        "\n",
        "Number of Orbitals: 9\n",
        "Number of Primitive Gaussians: 105\n",
        "Integration Complete in 0.0267970561981 seconds\n",
        "Number of Orbitals: 9\n",
        "Number of Primitive Gaussians: 105\n",
        "Integration Complete in 0.0280158519745 seconds"
       ]
      },
      {
       "output_type": "stream",
       "stream": "stdout",
       "text": [
        "\n",
        "Number of Orbitals: 9\n",
        "Number of Primitive Gaussians: 105\n",
        "Integration Complete in 0.0267860889435 seconds\n",
        "Number of Orbitals: 9\n",
        "Number of Primitive Gaussians: 105\n",
        "Integration Complete in 0.0283670425415 seconds"
       ]
      },
      {
       "output_type": "stream",
       "stream": "stdout",
       "text": [
        "\n",
        "Number of Orbitals: 9\n",
        "Number of Primitive Gaussians: 105\n",
        "Integration Complete in 0.026832818985 seconds\n",
        "Number of Orbitals: 9\n",
        "Number of Primitive Gaussians: 105\n",
        "Integration Complete in 0.0284748077393 seconds"
       ]
      },
      {
       "output_type": "stream",
       "stream": "stdout",
       "text": [
        "\n",
        "Number of Orbitals: 9\n",
        "Number of Primitive Gaussians: 105\n",
        "Integration Complete in 0.0291419029236 seconds\n",
        "Number of Orbitals: 9\n",
        "Number of Primitive Gaussians: 105\n",
        "Integration Complete in 0.0323250293732 seconds"
       ]
      },
      {
       "output_type": "stream",
       "stream": "stdout",
       "text": [
        "\n",
        "Number of Orbitals: 9\n",
        "Number of Primitive Gaussians: 105\n",
        "Integration Complete in 0.0292661190033 seconds\n",
        "Number of Orbitals: 9\n",
        "Number of Primitive Gaussians: 105\n",
        "Integration Complete in 0.0293710231781 seconds"
       ]
      },
      {
       "output_type": "stream",
       "stream": "stdout",
       "text": [
        "\n",
        "Number of Orbitals: 9\n",
        "Number of Primitive Gaussians: 105\n",
        "Integration Complete in 0.0291678905487 seconds\n",
        "Number of Orbitals: 9\n",
        "Number of Primitive Gaussians: 105\n",
        "Integration Complete in 0.0299289226532 seconds"
       ]
      },
      {
       "output_type": "stream",
       "stream": "stdout",
       "text": [
        "\n",
        "Number of Orbitals: 9\n",
        "Number of Primitive Gaussians: 105\n",
        "Integration Complete in 0.0318989753723 seconds\n",
        "Number of Orbitals: 9\n",
        "Number of Primitive Gaussians: 105\n",
        "Integration Complete in 0.0284638404846 seconds"
       ]
      },
      {
       "output_type": "stream",
       "stream": "stdout",
       "text": [
        "\n",
        "Number of Orbitals: 9\n",
        "Number of Primitive Gaussians: 105\n",
        "Integration Complete in 0.0267469882965 seconds\n",
        "Number of Orbitals: 9\n",
        "Number of Primitive Gaussians: 105\n",
        "Integration Complete in 0.029837846756 seconds"
       ]
      },
      {
       "output_type": "stream",
       "stream": "stdout",
       "text": [
        "\n",
        "Number of Orbitals: 9\n",
        "Number of Primitive Gaussians: 105\n",
        "Integration Complete in 0.0270760059357 seconds\n",
        "Number of Orbitals: 9\n",
        "Number of Primitive Gaussians: 105\n",
        "Integration Complete in 0.0273241996765 seconds"
       ]
      },
      {
       "output_type": "stream",
       "stream": "stdout",
       "text": [
        "\n",
        "Number of Orbitals: 9\n",
        "Number of Primitive Gaussians: 105\n",
        "Integration Complete in 0.0419979095459 seconds\n",
        "Number of Orbitals: 9"
       ]
      },
      {
       "output_type": "stream",
       "stream": "stdout",
       "text": [
        "\n",
        "Number of Primitive Gaussians: 105\n",
        "Integration Complete in 0.0335509777069 seconds\n",
        "Number of Orbitals: 9\n",
        "Number of Primitive Gaussians: 105\n",
        "Integration Complete in 0.028391122818 seconds"
       ]
      },
      {
       "output_type": "stream",
       "stream": "stdout",
       "text": [
        "\n",
        "Number of Orbitals: 9\n",
        "Number of Primitive Gaussians: 105\n",
        "Integration Complete in 0.0266890525818 seconds\n",
        "Number of Orbitals: 9\n",
        "Number of Primitive Gaussians: 105\n",
        "Integration Complete in 0.0303101539612 seconds"
       ]
      },
      {
       "output_type": "stream",
       "stream": "stdout",
       "text": [
        "\n",
        "Number of Orbitals: 9\n",
        "Number of Primitive Gaussians: 105\n",
        "Integration Complete in 0.0271270275116 seconds\n",
        "Number of Orbitals: 9\n",
        "Number of Primitive Gaussians: 105\n",
        "Integration Complete in 0.0277819633484 seconds"
       ]
      },
      {
       "output_type": "stream",
       "stream": "stdout",
       "text": [
        "\n",
        "Number of Orbitals: 9\n",
        "Number of Primitive Gaussians: 105\n",
        "Integration Complete in 0.0299580097198 seconds\n",
        "Number of Orbitals: 9\n",
        "Number of Primitive Gaussians: 105\n",
        "Integration Complete in 0.0273320674896 seconds"
       ]
      },
      {
       "output_type": "stream",
       "stream": "stdout",
       "text": [
        "\n",
        "Number of Orbitals: 9\n",
        "Number of Primitive Gaussians: 105\n",
        "Integration Complete in 0.0268590450287 seconds\n",
        "Number of Orbitals: 9\n",
        "Number of Primitive Gaussians: 105\n",
        "Integration Complete in 0.0332548618317 seconds"
       ]
      },
      {
       "output_type": "stream",
       "stream": "stdout",
       "text": [
        "\n",
        "Number of Orbitals: 9\n",
        "Number of Primitive Gaussians: 105\n",
        "Integration Complete in 0.0279190540314 seconds\n",
        "Number of Orbitals: 9\n",
        "Number of Primitive Gaussians: 105\n",
        "Integration Complete in 0.0292770862579 seconds"
       ]
      },
      {
       "output_type": "stream",
       "stream": "stdout",
       "text": [
        "\n",
        "Number of Orbitals: 9\n",
        "Number of Primitive Gaussians: 105\n",
        "Integration Complete in 0.0345239639282 seconds\n",
        "Number of Orbitals: 9\n",
        "Number of Primitive Gaussians: 105\n",
        "Integration Complete in 0.038763999939 seconds"
       ]
      },
      {
       "output_type": "stream",
       "stream": "stdout",
       "text": [
        "\n",
        "Number of Orbitals: 9\n",
        "Number of Primitive Gaussians: 105\n",
        "Integration Complete in 0.0269558429718 seconds\n",
        "Number of Orbitals: 9\n",
        "Number of Primitive Gaussians: 105\n",
        "Integration Complete in 0.0354380607605 seconds"
       ]
      },
      {
       "output_type": "stream",
       "stream": "stdout",
       "text": [
        "\n",
        "Number of Orbitals: 9\n",
        "Number of Primitive Gaussians: 105\n",
        "Integration Complete in 0.0299489498138 seconds\n",
        "Number of Orbitals: 9\n",
        "Number of Primitive Gaussians: 105\n",
        "Integration Complete in 0.0371618270874 seconds"
       ]
      },
      {
       "output_type": "stream",
       "stream": "stdout",
       "text": [
        "\n",
        "Number of Orbitals: 9\n",
        "Number of Primitive Gaussians: 105\n",
        "Integration Complete in 0.0276989936829 seconds\n",
        "Number of Orbitals: 9\n",
        "Number of Primitive Gaussians: 105\n",
        "Integration Complete in 0.0322179794312 seconds"
       ]
      },
      {
       "output_type": "stream",
       "stream": "stdout",
       "text": [
        "\n",
        "Number of Orbitals: 9\n",
        "Number of Primitive Gaussians: 105\n",
        "Integration Complete in 0.0267579555511 seconds\n",
        "Number of Orbitals: 9\n",
        "Number of Primitive Gaussians: 105\n",
        "Integration Complete in 0.0271232128143 seconds"
       ]
      },
      {
       "output_type": "stream",
       "stream": "stdout",
       "text": [
        "\n",
        "Number of Orbitals: 9\n",
        "Number of Primitive Gaussians: 105\n",
        "Integration Complete in 0.030993938446 seconds\n",
        "Number of Orbitals: 9\n",
        "Number of Primitive Gaussians: 105\n",
        "Integration Complete in 0.0332820415497 seconds"
       ]
      },
      {
       "output_type": "stream",
       "stream": "stdout",
       "text": [
        "\n",
        "Number of Orbitals: 9\n",
        "Number of Primitive Gaussians: 105\n",
        "Integration Complete in 0.0386979579926 seconds\n",
        "Number of Orbitals: 9\n",
        "Number of Primitive Gaussians: 105\n",
        "Integration Complete in 0.0320339202881 seconds"
       ]
      },
      {
       "output_type": "stream",
       "stream": "stdout",
       "text": [
        "\n",
        "Number of Orbitals: 9\n",
        "Number of Primitive Gaussians: 105\n",
        "Integration Complete in 0.0266659259796 seconds\n",
        "Number of Orbitals: 9\n",
        "Number of Primitive Gaussians: 105\n",
        "Integration Complete in 0.0270068645477 seconds"
       ]
      },
      {
       "output_type": "stream",
       "stream": "stdout",
       "text": [
        "\n",
        "Number of Orbitals: 9\n",
        "Number of Primitive Gaussians: 105\n",
        "Integration Complete in 0.0266830921173 seconds\n",
        "Number of Orbitals: 9\n",
        "Number of Primitive Gaussians: 105\n",
        "Integration Complete in 0.0279369354248 seconds"
       ]
      },
      {
       "output_type": "stream",
       "stream": "stdout",
       "text": [
        "\n",
        "Number of Orbitals: 9\n",
        "Number of Primitive Gaussians: 105\n",
        "Integration Complete in 0.0322120189667 seconds\n",
        "Number of Orbitals: 9\n",
        "Number of Primitive Gaussians: 105\n",
        "Integration Complete in 0.0330638885498 seconds"
       ]
      },
      {
       "output_type": "stream",
       "stream": "stdout",
       "text": [
        "\n",
        "Number of Orbitals: 9\n",
        "Number of Primitive Gaussians: 105\n",
        "Integration Complete in 0.0287590026855 seconds\n",
        "Number of Orbitals: 9\n",
        "Number of Primitive Gaussians: 105\n",
        "Integration Complete in 0.0337839126587 seconds"
       ]
      },
      {
       "output_type": "stream",
       "stream": "stdout",
       "text": [
        "\n",
        "Number of Orbitals: 9\n",
        "Number of Primitive Gaussians: 105\n",
        "Integration Complete in 0.0317468643188 seconds\n",
        "Number of Orbitals: 9\n",
        "Number of Primitive Gaussians: 105\n",
        "Integration Complete in 0.0324659347534 seconds"
       ]
      },
      {
       "output_type": "stream",
       "stream": "stdout",
       "text": [
        "\n",
        "Number of Orbitals: 9\n",
        "Number of Primitive Gaussians: 105\n",
        "Integration Complete in 0.027351140976 seconds\n",
        "Number of Orbitals: 9\n",
        "Number of Primitive Gaussians: 105\n",
        "Integration Complete in 0.0284731388092 seconds"
       ]
      },
      {
       "output_type": "stream",
       "stream": "stdout",
       "text": [
        "\n",
        "Number of Orbitals: 9\n",
        "Number of Primitive Gaussians: 105\n",
        "Integration Complete in 0.0372130870819 seconds\n",
        "Number of Orbitals: 9\n",
        "Number of Primitive Gaussians: 105\n",
        "Integration Complete in 0.0288848876953 seconds"
       ]
      },
      {
       "output_type": "stream",
       "stream": "stdout",
       "text": [
        "\n",
        "Number of Orbitals: 9\n",
        "Number of Primitive Gaussians: 105\n",
        "Integration Complete in 0.0267241001129 seconds\n",
        "Number of Orbitals: 9\n",
        "Number of Primitive Gaussians: 105\n",
        "Integration Complete in 0.0284168720245 seconds"
       ]
      },
      {
       "output_type": "stream",
       "stream": "stdout",
       "text": [
        "\n",
        "Number of Orbitals: 9\n",
        "Number of Primitive Gaussians: 105\n",
        "Integration Complete in 0.0266618728638 seconds\n",
        "Number of Orbitals: 9\n",
        "Number of Primitive Gaussians: 105\n",
        "Integration Complete in 0.028373003006 seconds"
       ]
      },
      {
       "output_type": "stream",
       "stream": "stdout",
       "text": [
        "\n",
        "Number of Orbitals: 9\n",
        "Number of Primitive Gaussians: 105\n",
        "Integration Complete in 0.0267040729523 seconds\n",
        "Number of Orbitals: 9\n",
        "Number of Primitive Gaussians: 105\n",
        "Integration Complete in 0.0281898975372 seconds"
       ]
      },
      {
       "output_type": "stream",
       "stream": "stdout",
       "text": [
        "\n",
        "Number of Orbitals: 9\n",
        "Number of Primitive Gaussians: 105\n",
        "Integration Complete in 0.0266561508179 seconds\n",
        "Number of Orbitals: 9\n",
        "Number of Primitive Gaussians: 105\n",
        "Integration Complete in 0.0282921791077 seconds"
       ]
      },
      {
       "output_type": "stream",
       "stream": "stdout",
       "text": [
        "\n",
        "Number of Orbitals: 9\n",
        "Number of Primitive Gaussians: 105\n",
        "Integration Complete in 0.0267000198364 seconds\n",
        "Number of Orbitals: 9\n",
        "Number of Primitive Gaussians: 105\n",
        "Integration Complete in 0.0286018848419 seconds"
       ]
      },
      {
       "output_type": "stream",
       "stream": "stdout",
       "text": [
        "\n",
        "Number of Orbitals: 9\n",
        "Number of Primitive Gaussians: 105\n",
        "Integration Complete in 0.026682138443 seconds\n",
        "Number of Orbitals: 9\n",
        "Number of Primitive Gaussians: 105\n",
        "Integration Complete in 0.0284209251404 seconds"
       ]
      },
      {
       "output_type": "stream",
       "stream": "stdout",
       "text": [
        "\n",
        "Number of Orbitals: 9\n",
        "Number of Primitive Gaussians: 105\n",
        "Integration Complete in 0.0266890525818 seconds\n",
        "Number of Orbitals: 9\n",
        "Number of Primitive Gaussians: 105\n",
        "Integration Complete in 0.0283219814301 seconds"
       ]
      },
      {
       "output_type": "stream",
       "stream": "stdout",
       "text": [
        "\n",
        "Number of Orbitals: 9\n",
        "Number of Primitive Gaussians: 105\n",
        "Integration Complete in 0.0266788005829 seconds\n",
        "Number of Orbitals: 9\n",
        "Number of Primitive Gaussians: 105\n",
        "Integration Complete in 0.0281660556793 seconds"
       ]
      },
      {
       "output_type": "stream",
       "stream": "stdout",
       "text": [
        "\n",
        "Number of Orbitals: 9\n",
        "Number of Primitive Gaussians: 105\n",
        "Integration Complete in 0.0267539024353 seconds\n",
        "Number of Orbitals: 9\n",
        "Number of Primitive Gaussians: 105\n",
        "Integration Complete in 0.0284719467163 seconds"
       ]
      },
      {
       "output_type": "stream",
       "stream": "stdout",
       "text": [
        "\n",
        "Number of Orbitals: 9\n",
        "Number of Primitive Gaussians: 105\n",
        "Integration Complete in 0.0268449783325 seconds\n",
        "Number of Orbitals: 9\n",
        "Number of Primitive Gaussians: 105\n",
        "Integration Complete in 0.0297000408173 seconds"
       ]
      },
      {
       "output_type": "stream",
       "stream": "stdout",
       "text": [
        "\n",
        "Number of Orbitals: 9\n",
        "Number of Primitive Gaussians: 105\n",
        "Integration Complete in 0.0266940593719 seconds\n",
        "Number of Orbitals: 9\n",
        "Number of Primitive Gaussians: 105\n",
        "Integration Complete in 0.040806055069 seconds"
       ]
      },
      {
       "output_type": "stream",
       "stream": "stdout",
       "text": [
        "\n",
        "Number of Orbitals: 9\n",
        "Number of Primitive Gaussians: 105\n",
        "Integration Complete in 0.0362420082092 seconds\n",
        "Number of Orbitals: 9\n",
        "Number of Primitive Gaussians: 105\n",
        "Integration Complete in 0.0316500663757 seconds"
       ]
      },
      {
       "output_type": "stream",
       "stream": "stdout",
       "text": [
        "\n",
        "Number of Orbitals: 9\n",
        "Number of Primitive Gaussians: 105\n",
        "Integration Complete in 0.0268399715424 seconds\n",
        "Number of Orbitals: 9\n",
        "Number of Primitive Gaussians: 105\n",
        "Integration Complete in 0.0270020961761 seconds"
       ]
      },
      {
       "output_type": "stream",
       "stream": "stdout",
       "text": [
        "\n",
        "Number of Orbitals: 9\n",
        "Number of Primitive Gaussians: 105\n",
        "Integration Complete in 0.0267021656036 seconds\n",
        "Number of Orbitals: 9\n",
        "Number of Primitive Gaussians: 105\n",
        "Integration Complete in 0.026948928833 seconds"
       ]
      },
      {
       "output_type": "stream",
       "stream": "stdout",
       "text": [
        "\n",
        "Number of Orbitals: 9\n",
        "Number of Primitive Gaussians: 105\n",
        "Integration Complete in 0.0267009735107 seconds\n",
        "Number of Orbitals: 9\n",
        "Number of Primitive Gaussians: 105\n",
        "Integration Complete in 0.0269541740417 seconds"
       ]
      },
      {
       "output_type": "stream",
       "stream": "stdout",
       "text": [
        "\n",
        "Number of Orbitals: 9\n",
        "Number of Primitive Gaussians: 105\n",
        "Integration Complete in 0.0266878604889 seconds\n",
        "Number of Orbitals: 9\n",
        "Number of Primitive Gaussians: 105\n",
        "Integration Complete in 0.0268619060516 seconds"
       ]
      },
      {
       "output_type": "stream",
       "stream": "stdout",
       "text": [
        "\n",
        "Number of Orbitals: 9\n",
        "Number of Primitive Gaussians: 105\n",
        "Integration Complete in 0.0267281532288 seconds\n",
        "Number of Orbitals: 9\n",
        "Number of Primitive Gaussians: 105\n",
        "Integration Complete in 0.0269160270691 seconds"
       ]
      },
      {
       "output_type": "stream",
       "stream": "stdout",
       "text": [
        "\n",
        "Number of Orbitals: 9\n",
        "Number of Primitive Gaussians: 105\n",
        "Integration Complete in 0.0284421443939 seconds\n",
        "Number of Orbitals: 9\n",
        "Number of Primitive Gaussians: 105\n",
        "Integration Complete in 0.0267870426178 seconds"
       ]
      },
      {
       "output_type": "stream",
       "stream": "stdout",
       "text": [
        "\n",
        "Number of Orbitals: 9\n",
        "Number of Primitive Gaussians: 105\n",
        "Integration Complete in 0.0297729969025 seconds\n",
        "Number of Orbitals: 9\n",
        "Number of Primitive Gaussians: 105\n",
        "Integration Complete in 0.0325679779053 seconds"
       ]
      },
      {
       "output_type": "stream",
       "stream": "stdout",
       "text": [
        "\n",
        "Number of Orbitals: 9\n",
        "Number of Primitive Gaussians: 105\n",
        "Integration Complete in 0.0267419815063 seconds\n",
        "Number of Orbitals: 9\n",
        "Number of Primitive Gaussians: 105\n",
        "Integration Complete in 0.0330212116241 seconds"
       ]
      },
      {
       "output_type": "stream",
       "stream": "stdout",
       "text": [
        "\n",
        "Number of Orbitals: 9\n",
        "Number of Primitive Gaussians: 105\n",
        "Integration Complete in 0.0391900539398 seconds\n",
        "Number of Orbitals: 9\n",
        "Number of Primitive Gaussians: 105\n",
        "Integration Complete in 0.0344150066376 seconds"
       ]
      },
      {
       "output_type": "stream",
       "stream": "stdout",
       "text": [
        "\n",
        "Number of Orbitals: 9\n",
        "Number of Primitive Gaussians: 105\n",
        "Integration Complete in 0.0293729305267 seconds\n",
        "Number of Orbitals: 9\n",
        "Number of Primitive Gaussians: 105\n",
        "Integration Complete in 0.0361359119415 seconds"
       ]
      },
      {
       "output_type": "stream",
       "stream": "stdout",
       "text": [
        "\n",
        "Number of Orbitals: 9\n",
        "Number of Primitive Gaussians: 105\n",
        "Integration Complete in 0.0285840034485 seconds\n",
        "Number of Orbitals: 9\n",
        "Number of Primitive Gaussians: 105\n",
        "Integration Complete in 0.0350818634033 seconds"
       ]
      },
      {
       "output_type": "stream",
       "stream": "stdout",
       "text": [
        "\n",
        "Number of Orbitals: 9\n",
        "Number of Primitive Gaussians: 105\n",
        "Integration Complete in 0.0458447933197 seconds"
       ]
      },
      {
       "output_type": "stream",
       "stream": "stdout",
       "text": [
        "\n",
        "Number of Orbitals: 9\n",
        "Number of Primitive Gaussians: 105\n",
        "Integration Complete in 0.0301661491394 seconds\n",
        "Number of Orbitals: 9\n",
        "Number of Primitive Gaussians: 105\n",
        "Integration Complete in 0.0271410942078 seconds"
       ]
      },
      {
       "output_type": "stream",
       "stream": "stdout",
       "text": [
        "\n",
        "Number of Orbitals: 9\n",
        "Number of Primitive Gaussians: 105\n",
        "Integration Complete in 0.0299849510193 seconds\n",
        "Number of Orbitals: 9\n",
        "Number of Primitive Gaussians: 105\n",
        "Integration Complete in 0.0276870727539 seconds"
       ]
      },
      {
       "output_type": "stream",
       "stream": "stdout",
       "text": [
        "\n",
        "Number of Orbitals: 9\n",
        "Number of Primitive Gaussians: 105\n",
        "Integration Complete in 0.0295979976654 seconds\n",
        "Number of Orbitals: 9\n",
        "Number of Primitive Gaussians: 105\n",
        "Integration Complete in 0.0269019603729 seconds"
       ]
      },
      {
       "output_type": "stream",
       "stream": "stdout",
       "text": [
        "\n",
        "Number of Orbitals: 9\n",
        "Number of Primitive Gaussians: 105\n",
        "Integration Complete in 0.0308430194855 seconds\n",
        "Number of Orbitals: 9\n",
        "Number of Primitive Gaussians: 105\n",
        "Integration Complete in 0.0317709445953 seconds"
       ]
      },
      {
       "output_type": "stream",
       "stream": "stdout",
       "text": [
        "\n",
        "Number of Orbitals: 9\n",
        "Number of Primitive Gaussians: 105\n",
        "Integration Complete in 0.0296859741211 seconds\n",
        "Number of Orbitals: 9\n",
        "Number of Primitive Gaussians: 105\n",
        "Integration Complete in 0.0294508934021 seconds"
       ]
      },
      {
       "output_type": "stream",
       "stream": "stdout",
       "text": [
        "\n",
        "Number of Orbitals: 9\n",
        "Number of Primitive Gaussians: 105\n",
        "Integration Complete in 0.0292019844055 seconds\n",
        "Number of Orbitals: 9\n",
        "Number of Primitive Gaussians: 105\n",
        "Integration Complete in 0.0287489891052 seconds"
       ]
      },
      {
       "output_type": "stream",
       "stream": "stdout",
       "text": [
        "\n",
        "Number of Orbitals: 9\n",
        "Number of Primitive Gaussians: 105\n",
        "Integration Complete in 0.0267450809479 seconds\n",
        "Number of Orbitals: 9\n",
        "Number of Primitive Gaussians: 105\n",
        "Integration Complete in 0.0287280082703 seconds"
       ]
      },
      {
       "output_type": "stream",
       "stream": "stdout",
       "text": [
        "\n",
        "Number of Orbitals: 9\n",
        "Number of Primitive Gaussians: 105\n",
        "Integration Complete in 0.0267000198364 seconds\n",
        "Number of Orbitals: 9\n",
        "Number of Primitive Gaussians: 105\n",
        "Integration Complete in 0.0285470485687 seconds"
       ]
      },
      {
       "output_type": "stream",
       "stream": "stdout",
       "text": [
        "\n",
        "Number of Orbitals: 9\n",
        "Number of Primitive Gaussians: 105\n",
        "Integration Complete in 0.026782989502 seconds\n",
        "Number of Orbitals: 9\n",
        "Number of Primitive Gaussians: 105\n",
        "Integration Complete in 0.0288939476013 seconds"
       ]
      },
      {
       "output_type": "stream",
       "stream": "stdout",
       "text": [
        "\n",
        "Number of Orbitals: 9\n",
        "Number of Primitive Gaussians: 105\n",
        "Integration Complete in 0.026782989502 seconds\n",
        "Number of Orbitals: 9\n",
        "Number of Primitive Gaussians: 105\n",
        "Integration Complete in 0.0287628173828 seconds"
       ]
      },
      {
       "output_type": "stream",
       "stream": "stdout",
       "text": [
        "\n",
        "Number of Orbitals: 9\n",
        "Number of Primitive Gaussians: 105\n",
        "Integration Complete in 0.0268230438232 seconds\n",
        "Number of Orbitals: 9\n",
        "Number of Primitive Gaussians: 105\n",
        "Integration Complete in 0.0287690162659 seconds"
       ]
      },
      {
       "output_type": "stream",
       "stream": "stdout",
       "text": [
        "\n",
        "Number of Orbitals: 9\n",
        "Number of Primitive Gaussians: 105\n",
        "Integration Complete in 0.0268368721008 seconds\n",
        "Number of Orbitals: 9\n",
        "Number of Primitive Gaussians: 105\n",
        "Integration Complete in 0.0299279689789 seconds"
       ]
      },
      {
       "output_type": "stream",
       "stream": "stdout",
       "text": [
        "\n",
        "Number of Orbitals: 9\n",
        "Number of Primitive Gaussians: 105\n",
        "Integration Complete in 0.0276880264282 seconds\n",
        "Number of Orbitals: 9\n",
        "Number of Primitive Gaussians: 105\n",
        "Integration Complete in 0.0289309024811 seconds"
       ]
      },
      {
       "output_type": "stream",
       "stream": "stdout",
       "text": [
        "\n",
        "Number of Orbitals: 9\n",
        "Number of Primitive Gaussians: 105\n",
        "Integration Complete in 0.0267779827118 seconds\n",
        "Number of Orbitals: 9\n",
        "Number of Primitive Gaussians: 105\n",
        "Integration Complete in 0.0287919044495 seconds"
       ]
      },
      {
       "output_type": "stream",
       "stream": "stdout",
       "text": [
        "\n",
        "Number of Orbitals: 9\n",
        "Number of Primitive Gaussians: 105\n",
        "Integration Complete in 0.0267820358276 seconds\n",
        "Number of Orbitals: 9\n",
        "Number of Primitive Gaussians: 105\n",
        "Integration Complete in 0.028776884079 seconds"
       ]
      },
      {
       "output_type": "stream",
       "stream": "stdout",
       "text": [
        "\n",
        "Number of Orbitals: 9\n",
        "Number of Primitive Gaussians: 105\n",
        "Integration Complete in 0.0268499851227 seconds\n",
        "Number of Orbitals: 9\n",
        "Number of Primitive Gaussians: 105\n",
        "Integration Complete in 0.0314931869507 seconds"
       ]
      },
      {
       "output_type": "stream",
       "stream": "stdout",
       "text": [
        "\n",
        "Number of Orbitals: 9\n",
        "Number of Primitive Gaussians: 105\n",
        "Integration Complete in 0.0268161296844 seconds\n",
        "Number of Orbitals: 9\n",
        "Number of Primitive Gaussians: 105\n",
        "Integration Complete in 0.0288391113281 seconds"
       ]
      },
      {
       "output_type": "stream",
       "stream": "stdout",
       "text": [
        "\n",
        "Number of Orbitals: 9\n",
        "Number of Primitive Gaussians: 105\n",
        "Integration Complete in 0.0268030166626 seconds\n",
        "Number of Orbitals: 9\n",
        "Number of Primitive Gaussians: 105\n",
        "Integration Complete in 0.0287771224976 seconds"
       ]
      },
      {
       "output_type": "stream",
       "stream": "stdout",
       "text": [
        "\n",
        "Number of Orbitals: 9\n",
        "Number of Primitive Gaussians: 105\n",
        "Integration Complete in 0.0268588066101 seconds\n",
        "Number of Orbitals: 9\n",
        "Number of Primitive Gaussians: 105\n",
        "Integration Complete in 0.0287790298462 seconds"
       ]
      },
      {
       "output_type": "stream",
       "stream": "stdout",
       "text": [
        "\n",
        "Number of Orbitals: 9\n",
        "Number of Primitive Gaussians: 105\n",
        "Integration Complete in 0.0267379283905 seconds\n",
        "Number of Orbitals: 9\n",
        "Number of Primitive Gaussians: 105\n",
        "Integration Complete in 0.0287878513336 seconds"
       ]
      },
      {
       "output_type": "stream",
       "stream": "stdout",
       "text": [
        "\n",
        "Number of Orbitals: 9\n",
        "Number of Primitive Gaussians: 105\n",
        "Integration Complete in 0.0267510414124 seconds\n",
        "Number of Orbitals: 9\n",
        "Number of Primitive Gaussians: 105\n",
        "Integration Complete in 0.0288381576538 seconds"
       ]
      },
      {
       "output_type": "stream",
       "stream": "stdout",
       "text": [
        "\n",
        "Number of Orbitals: 9\n",
        "Number of Primitive Gaussians: 105\n",
        "Integration Complete in 0.026762008667 seconds\n",
        "Number of Orbitals: 9\n",
        "Number of Primitive Gaussians: 105\n",
        "Integration Complete in 0.0287530422211 seconds"
       ]
      },
      {
       "output_type": "stream",
       "stream": "stdout",
       "text": [
        "\n",
        "Number of Orbitals: 9\n",
        "Number of Primitive Gaussians: 105\n",
        "Integration Complete in 0.0267548561096 seconds\n",
        "Number of Orbitals: 9\n",
        "Number of Primitive Gaussians: 105\n",
        "Integration Complete in 0.0287230014801 seconds"
       ]
      },
      {
       "output_type": "stream",
       "stream": "stdout",
       "text": [
        "\n",
        "Number of Orbitals: 9\n",
        "Number of Primitive Gaussians: 105\n",
        "Integration Complete in 0.0266909599304 seconds\n",
        "Number of Orbitals: 9\n",
        "Number of Primitive Gaussians: 105\n",
        "Integration Complete in 0.0286631584167 seconds"
       ]
      },
      {
       "output_type": "stream",
       "stream": "stdout",
       "text": [
        "\n",
        "Number of Orbitals: 9\n",
        "Number of Primitive Gaussians: 105\n",
        "Integration Complete in 0.0267479419708 seconds\n",
        "Number of Orbitals: 9\n",
        "Number of Primitive Gaussians: 105\n",
        "Integration Complete in 0.0287969112396 seconds"
       ]
      },
      {
       "output_type": "stream",
       "stream": "stdout",
       "text": [
        "\n",
        "Number of Orbitals: 9\n",
        "Number of Primitive Gaussians: 105\n",
        "Integration Complete in 0.026771068573 seconds\n",
        "Number of Orbitals: 9\n",
        "Number of Primitive Gaussians: 105\n",
        "Integration Complete in 0.028804063797 seconds"
       ]
      },
      {
       "output_type": "stream",
       "stream": "stdout",
       "text": [
        "\n",
        "Number of Orbitals: 9\n",
        "Number of Primitive Gaussians: 105\n",
        "Integration Complete in 0.0268249511719 seconds\n",
        "Number of Orbitals: 9\n",
        "Number of Primitive Gaussians: 105\n",
        "Integration Complete in 0.0287179946899 seconds"
       ]
      },
      {
       "output_type": "stream",
       "stream": "stdout",
       "text": [
        "\n",
        "Number of Orbitals: 9\n",
        "Number of Primitive Gaussians: 105\n",
        "Integration Complete in 0.0267679691315 seconds\n",
        "Number of Orbitals: 9\n",
        "Number of Primitive Gaussians: 105\n",
        "Integration Complete in 0.0287239551544 seconds"
       ]
      },
      {
       "output_type": "stream",
       "stream": "stdout",
       "text": [
        "\n",
        "Number of Orbitals: 9\n",
        "Number of Primitive Gaussians: 105\n",
        "Integration Complete in 0.0267241001129 seconds\n",
        "Number of Orbitals: 9\n",
        "Number of Primitive Gaussians: 105\n",
        "Integration Complete in 0.0287978649139 seconds"
       ]
      },
      {
       "output_type": "stream",
       "stream": "stdout",
       "text": [
        "\n",
        "Number of Orbitals: 9\n",
        "Number of Primitive Gaussians: 105\n",
        "Integration Complete in 0.0267360210419 seconds\n",
        "Number of Orbitals: 9\n",
        "Number of Primitive Gaussians: 105\n",
        "Integration Complete in 0.0287809371948 seconds"
       ]
      },
      {
       "output_type": "stream",
       "stream": "stdout",
       "text": [
        "\n",
        "Number of Orbitals: 9\n",
        "Number of Primitive Gaussians: 105\n",
        "Integration Complete in 0.0267400741577 seconds\n",
        "Number of Orbitals: 9\n",
        "Number of Primitive Gaussians: 105\n",
        "Integration Complete in 0.0294480323792 seconds"
       ]
      },
      {
       "output_type": "stream",
       "stream": "stdout",
       "text": [
        "\n",
        "Number of Orbitals: 9\n",
        "Number of Primitive Gaussians: 105\n",
        "Integration Complete in 0.0278878211975 seconds\n",
        "Number of Orbitals: 9\n",
        "Number of Primitive Gaussians: 105\n",
        "Integration Complete in 0.0287089347839 seconds"
       ]
      },
      {
       "output_type": "stream",
       "stream": "stdout",
       "text": [
        "\n",
        "Number of Orbitals: 9\n",
        "Number of Primitive Gaussians: 105\n",
        "Integration Complete in 0.026752948761 seconds\n",
        "Number of Orbitals: 9\n",
        "Number of Primitive Gaussians: 105\n",
        "Integration Complete in 0.0287318229675 seconds"
       ]
      },
      {
       "output_type": "stream",
       "stream": "stdout",
       "text": [
        "\n",
        "Number of Orbitals: 9\n",
        "Number of Primitive Gaussians: 105\n",
        "Integration Complete in 0.0267748832703 seconds\n",
        "Number of Orbitals: 9\n",
        "Number of Primitive Gaussians: 105\n",
        "Integration Complete in 0.028687953949 seconds"
       ]
      },
      {
       "output_type": "stream",
       "stream": "stdout",
       "text": [
        "\n",
        "Number of Orbitals: 9\n",
        "Number of Primitive Gaussians: 105\n",
        "Integration Complete in 0.026839017868 seconds\n",
        "Number of Orbitals: 9\n",
        "Number of Primitive Gaussians: 105\n",
        "Integration Complete in 0.0287458896637 seconds"
       ]
      },
      {
       "output_type": "stream",
       "stream": "stdout",
       "text": [
        "\n",
        "Number of Orbitals: 9\n",
        "Number of Primitive Gaussians: 105\n",
        "Integration Complete in 0.0267260074615 seconds\n",
        "Number of Orbitals: 9\n",
        "Number of Primitive Gaussians: 105\n",
        "Integration Complete in 0.0287411212921 seconds"
       ]
      },
      {
       "output_type": "stream",
       "stream": "stdout",
       "text": [
        "\n",
        "Number of Orbitals: 9\n",
        "Number of Primitive Gaussians: 105\n",
        "Integration Complete in 0.0268108844757 seconds\n",
        "Number of Orbitals: 9\n",
        "Number of Primitive Gaussians: 105\n",
        "Integration Complete in 0.0278949737549 seconds"
       ]
      },
      {
       "output_type": "stream",
       "stream": "stdout",
       "text": [
        "\n",
        "Number of Orbitals: 9\n",
        "Number of Primitive Gaussians: 105\n",
        "Integration Complete in 0.0268020629883 seconds\n",
        "Number of Orbitals: 9\n",
        "Number of Primitive Gaussians: 105\n",
        "Integration Complete in 0.0271320343018 seconds"
       ]
      },
      {
       "output_type": "stream",
       "stream": "stdout",
       "text": [
        "\n",
        "Number of Orbitals: 9\n",
        "Number of Primitive Gaussians: 105\n",
        "Integration Complete in 0.0269548892975 seconds\n",
        "Number of Orbitals: 9\n",
        "Number of Primitive Gaussians: 105\n",
        "Integration Complete in 0.0271601676941 seconds"
       ]
      },
      {
       "output_type": "stream",
       "stream": "stdout",
       "text": [
        "\n",
        "Number of Orbitals: 9\n",
        "Number of Primitive Gaussians: 105\n",
        "Integration Complete in 0.0267720222473 seconds\n",
        "Number of Orbitals: 9\n",
        "Number of Primitive Gaussians: 105\n",
        "Integration Complete in 0.0271980762482 seconds"
       ]
      },
      {
       "output_type": "stream",
       "stream": "stdout",
       "text": [
        "\n",
        "Number of Orbitals: 9\n",
        "Number of Primitive Gaussians: 105\n",
        "Integration Complete in 0.0268590450287 seconds\n",
        "Number of Orbitals: 9\n",
        "Number of Primitive Gaussians: 105\n",
        "Integration Complete in 0.0271730422974 seconds"
       ]
      },
      {
       "output_type": "stream",
       "stream": "stdout",
       "text": [
        "\n",
        "Number of Orbitals: 9\n",
        "Number of Primitive Gaussians: 105\n",
        "Integration Complete in 0.0394718647003 seconds\n",
        "Number of Orbitals: 9\n",
        "Number of Primitive Gaussians: 105\n",
        "Integration Complete in 0.0268499851227 seconds"
       ]
      },
      {
       "output_type": "stream",
       "stream": "stdout",
       "text": [
        "\n",
        "Number of Orbitals: 9\n",
        "Number of Primitive Gaussians: 105\n",
        "Integration Complete in 0.0267901420593 seconds\n",
        "Number of Orbitals: 9\n",
        "Number of Primitive Gaussians: 105\n",
        "Integration Complete in 0.0287981033325 seconds"
       ]
      },
      {
       "output_type": "stream",
       "stream": "stdout",
       "text": [
        "\n",
        "Number of Orbitals: 9\n",
        "Number of Primitive Gaussians: 105\n",
        "Integration Complete in 0.0267570018768 seconds\n",
        "Number of Orbitals: 9\n",
        "Number of Primitive Gaussians: 105\n",
        "Integration Complete in 0.0287938117981 seconds"
       ]
      },
      {
       "output_type": "stream",
       "stream": "stdout",
       "text": [
        "\n",
        "Number of Orbitals: 9\n",
        "Number of Primitive Gaussians: 105\n",
        "Integration Complete in 0.0268089771271 seconds\n",
        "Number of Orbitals: 9\n",
        "Number of Primitive Gaussians: 105\n",
        "Integration Complete in 0.0287759304047 seconds"
       ]
      },
      {
       "output_type": "stream",
       "stream": "stdout",
       "text": [
        "\n",
        "Number of Orbitals: 9\n",
        "Number of Primitive Gaussians: 105\n",
        "Integration Complete in 0.0267679691315 seconds\n",
        "Number of Orbitals: 9\n",
        "Number of Primitive Gaussians: 105\n",
        "Integration Complete in 0.0287449359894 seconds"
       ]
      },
      {
       "output_type": "stream",
       "stream": "stdout",
       "text": [
        "\n",
        "Number of Orbitals: 9\n",
        "Number of Primitive Gaussians: 105\n",
        "Integration Complete in 0.0275790691376 seconds\n",
        "Number of Orbitals: 9\n",
        "Number of Primitive Gaussians: 105\n",
        "Integration Complete in 0.0307199954987 seconds"
       ]
      },
      {
       "output_type": "stream",
       "stream": "stdout",
       "text": [
        "\n",
        "Number of Orbitals: 9\n",
        "Number of Primitive Gaussians: 105\n",
        "Integration Complete in 0.0267419815063 seconds\n",
        "Number of Orbitals: 9\n",
        "Number of Primitive Gaussians: 105\n",
        "Integration Complete in 0.0286979675293 seconds"
       ]
      },
      {
       "output_type": "stream",
       "stream": "stdout",
       "text": [
        "\n",
        "Number of Orbitals: 9\n",
        "Number of Primitive Gaussians: 105\n",
        "Integration Complete in 0.0267939567566 seconds\n",
        "Number of Orbitals: 9\n",
        "Number of Primitive Gaussians: 105\n",
        "Integration Complete in 0.0287258625031 seconds"
       ]
      },
      {
       "output_type": "stream",
       "stream": "stdout",
       "text": [
        "\n",
        "Number of Orbitals: 9\n",
        "Number of Primitive Gaussians: 105\n",
        "Integration Complete in 0.0268151760101 seconds\n",
        "Number of Orbitals: 9\n",
        "Number of Primitive Gaussians: 105\n",
        "Integration Complete in 0.0288028717041 seconds"
       ]
      },
      {
       "output_type": "stream",
       "stream": "stdout",
       "text": [
        "\n",
        "Number of Orbitals: 9\n",
        "Number of Primitive Gaussians: 105\n",
        "Integration Complete in 0.0267429351807 seconds\n",
        "Number of Orbitals: 9\n",
        "Number of Primitive Gaussians: 105\n",
        "Integration Complete in 0.0288560390472 seconds"
       ]
      },
      {
       "output_type": "stream",
       "stream": "stdout",
       "text": [
        "\n",
        "Number of Orbitals: 9\n",
        "Number of Primitive Gaussians: 105\n",
        "Integration Complete in 0.0267767906189 seconds\n",
        "Number of Orbitals: 9\n",
        "Number of Primitive Gaussians: 105\n",
        "Integration Complete in 0.0287461280823 seconds"
       ]
      },
      {
       "output_type": "stream",
       "stream": "stdout",
       "text": [
        "\n",
        "Number of Orbitals: 9\n",
        "Number of Primitive Gaussians: 105\n",
        "Integration Complete in 0.026782989502 seconds\n",
        "Number of Orbitals: 9\n",
        "Number of Primitive Gaussians: 105\n",
        "Integration Complete in 0.0287189483643 seconds"
       ]
      },
      {
       "output_type": "stream",
       "stream": "stdout",
       "text": [
        "\n",
        "Number of Orbitals: 9\n",
        "Number of Primitive Gaussians: 105\n",
        "Integration Complete in 0.0267789363861 seconds\n",
        "Number of Orbitals: 9\n",
        "Number of Primitive Gaussians: 105\n",
        "Integration Complete in 0.0286519527435 seconds"
       ]
      },
      {
       "output_type": "stream",
       "stream": "stdout",
       "text": [
        "\n",
        "Number of Orbitals: 9\n",
        "Number of Primitive Gaussians: 105\n",
        "Integration Complete in 0.0267708301544 seconds\n",
        "Number of Orbitals: 9\n",
        "Number of Primitive Gaussians: 105\n",
        "Integration Complete in 0.0287189483643 seconds"
       ]
      },
      {
       "output_type": "stream",
       "stream": "stdout",
       "text": [
        "\n",
        "Number of Orbitals: 9\n",
        "Number of Primitive Gaussians: 105\n",
        "Integration Complete in 0.0267040729523 seconds\n",
        "Number of Orbitals: 9\n",
        "Number of Primitive Gaussians: 105\n",
        "Integration Complete in 0.0286831855774 seconds"
       ]
      },
      {
       "output_type": "stream",
       "stream": "stdout",
       "text": [
        "\n",
        "Number of Orbitals: 9\n",
        "Number of Primitive Gaussians: 105\n",
        "Integration Complete in 0.0267670154572 seconds\n",
        "Number of Orbitals: 9\n",
        "Number of Primitive Gaussians: 105\n",
        "Integration Complete in 0.0287809371948 seconds"
       ]
      },
      {
       "output_type": "stream",
       "stream": "stdout",
       "text": [
        "\n",
        "Number of Orbitals: 9\n",
        "Number of Primitive Gaussians: 105\n",
        "Integration Complete in 0.026880979538 seconds\n",
        "Number of Orbitals: 9\n",
        "Number of Primitive Gaussians: 105\n",
        "Integration Complete in 0.0287578105927 seconds"
       ]
      },
      {
       "output_type": "stream",
       "stream": "stdout",
       "text": [
        "\n",
        "Number of Orbitals: 9\n",
        "Number of Primitive Gaussians: 105\n",
        "Integration Complete in 0.0267820358276 seconds\n",
        "Number of Orbitals: 9\n",
        "Number of Primitive Gaussians: 105\n",
        "Integration Complete in 0.0342447757721 seconds"
       ]
      },
      {
       "output_type": "stream",
       "stream": "stdout",
       "text": [
        "\n",
        "Number of Orbitals: 9\n",
        "Number of Primitive Gaussians: 105\n",
        "Integration Complete in 0.0334498882294 seconds\n",
        "Number of Orbitals: 9\n",
        "Number of Primitive Gaussians: 105\n",
        "Integration Complete in 0.0268819332123 seconds"
       ]
      },
      {
       "output_type": "stream",
       "stream": "stdout",
       "text": [
        "\n",
        "Number of Orbitals: 9\n",
        "Number of Primitive Gaussians: 105\n",
        "Integration Complete in 0.0267250537872 seconds\n",
        "Number of Orbitals: 9\n",
        "Number of Primitive Gaussians: 105\n",
        "Integration Complete in 0.0268340110779 seconds"
       ]
      },
      {
       "output_type": "stream",
       "stream": "stdout",
       "text": [
        "\n",
        "Number of Orbitals: 9\n",
        "Number of Primitive Gaussians: 105\n",
        "Integration Complete in 0.0268540382385 seconds\n",
        "Number of Orbitals: 9\n",
        "Number of Primitive Gaussians: 105\n",
        "Integration Complete in 0.0278830528259 seconds"
       ]
      },
      {
       "output_type": "stream",
       "stream": "stdout",
       "text": [
        "\n",
        "Number of Orbitals: 9\n",
        "Number of Primitive Gaussians: 105\n",
        "Integration Complete in 0.0287079811096 seconds\n",
        "Number of Orbitals: 9\n",
        "Number of Primitive Gaussians: 105\n",
        "Integration Complete in 0.0278871059418 seconds"
       ]
      },
      {
       "output_type": "stream",
       "stream": "stdout",
       "text": [
        "\n",
        "Number of Orbitals: 9\n",
        "Number of Primitive Gaussians: 105\n",
        "Integration Complete in 0.026819229126 seconds\n",
        "Number of Orbitals: 9\n",
        "Number of Primitive Gaussians: 105\n",
        "Integration Complete in 0.0274841785431 seconds"
       ]
      },
      {
       "output_type": "stream",
       "stream": "stdout",
       "text": [
        "\n",
        "Number of Orbitals: 9\n",
        "Number of Primitive Gaussians: 105\n",
        "Integration Complete in 0.02689909935 seconds\n",
        "Number of Orbitals: 9\n",
        "Number of Primitive Gaussians: 105\n",
        "Integration Complete in 0.0274119377136 seconds"
       ]
      },
      {
       "output_type": "stream",
       "stream": "stdout",
       "text": [
        "\n",
        "Number of Orbitals: 9\n",
        "Number of Primitive Gaussians: 105\n",
        "Integration Complete in 0.0269341468811 seconds\n",
        "Number of Orbitals: 9\n",
        "Number of Primitive Gaussians: 105\n",
        "Integration Complete in 0.0274379253387 seconds"
       ]
      },
      {
       "output_type": "stream",
       "stream": "stdout",
       "text": [
        "\n",
        "Number of Orbitals: 9\n",
        "Number of Primitive Gaussians: 105\n",
        "Integration Complete in 0.0268161296844 seconds\n",
        "Number of Orbitals: 9\n",
        "Number of Primitive Gaussians: 105\n",
        "Integration Complete in 0.0274479389191 seconds"
       ]
      },
      {
       "output_type": "stream",
       "stream": "stdout",
       "text": [
        "\n",
        "Number of Orbitals: 9\n",
        "Number of Primitive Gaussians: 105\n",
        "Integration Complete in 0.026762008667 seconds\n",
        "Number of Orbitals: 9\n",
        "Number of Primitive Gaussians: 105\n",
        "Integration Complete in 0.027685880661 seconds"
       ]
      },
      {
       "output_type": "stream",
       "stream": "stdout",
       "text": [
        "\n",
        "Number of Orbitals: 9\n",
        "Number of Primitive Gaussians: 105\n",
        "Integration Complete in 0.0267899036407 seconds\n",
        "Number of Orbitals: 9\n",
        "Number of Primitive Gaussians: 105\n",
        "Integration Complete in 0.0275220870972 seconds"
       ]
      },
      {
       "output_type": "stream",
       "stream": "stdout",
       "text": [
        "\n",
        "Number of Orbitals: 9\n",
        "Number of Primitive Gaussians: 105\n",
        "Integration Complete in 0.0268220901489 seconds\n",
        "Number of Orbitals: 9\n",
        "Number of Primitive Gaussians: 105\n",
        "Integration Complete in 0.0276110172272 seconds"
       ]
      },
      {
       "output_type": "stream",
       "stream": "stdout",
       "text": [
        "\n",
        "Number of Orbitals: 9\n",
        "Number of Primitive Gaussians: 105\n",
        "Integration Complete in 0.0267808437347 seconds\n",
        "Number of Orbitals: 9\n",
        "Number of Primitive Gaussians: 105\n",
        "Integration Complete in 0.0275640487671 seconds"
       ]
      },
      {
       "output_type": "stream",
       "stream": "stdout",
       "text": [
        "\n",
        "Number of Orbitals: 9\n",
        "Number of Primitive Gaussians: 105\n",
        "Integration Complete in 0.0267250537872 seconds\n",
        "Number of Orbitals: 9\n",
        "Number of Primitive Gaussians: 105\n",
        "Integration Complete in 0.027046918869 seconds"
       ]
      },
      {
       "output_type": "stream",
       "stream": "stdout",
       "text": [
        "\n",
        "Number of Orbitals: 9\n",
        "Number of Primitive Gaussians: 105\n",
        "Integration Complete in 0.02681016922 seconds\n",
        "Number of Orbitals: 9\n",
        "Number of Primitive Gaussians: 105\n",
        "Integration Complete in 0.0274138450623 seconds"
       ]
      },
      {
       "output_type": "stream",
       "stream": "stdout",
       "text": [
        "\n",
        "Number of Orbitals: 9\n",
        "Number of Primitive Gaussians: 105\n",
        "Integration Complete in 0.0271899700165 seconds\n",
        "Number of Orbitals: 9\n",
        "Number of Primitive Gaussians: 105\n",
        "Integration Complete in 0.0271809101105 seconds"
       ]
      },
      {
       "output_type": "stream",
       "stream": "stdout",
       "text": [
        "\n",
        "Number of Orbitals: 9\n",
        "Number of Primitive Gaussians: 105\n",
        "Integration Complete in 0.026871919632 seconds\n",
        "Number of Orbitals: 9\n",
        "Number of Primitive Gaussians: 105\n",
        "Integration Complete in 0.0274789333344 seconds"
       ]
      },
      {
       "output_type": "stream",
       "stream": "stdout",
       "text": [
        "\n",
        "Number of Orbitals: 9\n",
        "Number of Primitive Gaussians: 105\n",
        "Integration Complete in 0.0267040729523 seconds\n",
        "Number of Orbitals: 9\n",
        "Number of Primitive Gaussians: 105\n",
        "Integration Complete in 0.0288650989532 seconds"
       ]
      },
      {
       "output_type": "stream",
       "stream": "stdout",
       "text": [
        "\n",
        "Number of Orbitals: 9\n",
        "Number of Primitive Gaussians: 105\n",
        "Integration Complete in 0.0267641544342 seconds\n",
        "Number of Orbitals: 9\n",
        "Number of Primitive Gaussians: 105\n",
        "Integration Complete in 0.0287549495697 seconds"
       ]
      },
      {
       "output_type": "stream",
       "stream": "stdout",
       "text": [
        "\n",
        "Number of Orbitals: 9\n",
        "Number of Primitive Gaussians: 105\n",
        "Integration Complete in 0.026801109314 seconds\n",
        "Number of Orbitals: 9\n",
        "Number of Primitive Gaussians: 105\n",
        "Integration Complete in 0.0282249450684 seconds"
       ]
      },
      {
       "output_type": "stream",
       "stream": "stdout",
       "text": [
        "\n",
        "Number of Orbitals: 9\n",
        "Number of Primitive Gaussians: 105\n",
        "Integration Complete in 0.0277690887451 seconds\n",
        "Number of Orbitals: 9\n",
        "Number of Primitive Gaussians: 105\n",
        "Integration Complete in 0.0280718803406 seconds"
       ]
      },
      {
       "output_type": "stream",
       "stream": "stdout",
       "text": [
        "\n",
        "Number of Orbitals: 9\n",
        "Number of Primitive Gaussians: 105\n",
        "Integration Complete in 0.0267219543457 seconds\n",
        "Number of Orbitals: 9\n",
        "Number of Primitive Gaussians: 105\n",
        "Integration Complete in 0.0283281803131 seconds"
       ]
      },
      {
       "output_type": "stream",
       "stream": "stdout",
       "text": [
        "\n",
        "Number of Orbitals: 9\n",
        "Number of Primitive Gaussians: 105\n",
        "Integration Complete in 0.0267648696899 seconds\n",
        "Number of Orbitals: 9\n",
        "Number of Primitive Gaussians: 105\n",
        "Integration Complete in 0.0282649993896 seconds"
       ]
      },
      {
       "output_type": "stream",
       "stream": "stdout",
       "text": [
        "\n",
        "Number of Orbitals: 9\n",
        "Number of Primitive Gaussians: 105\n",
        "Integration Complete in 0.026878118515 seconds\n",
        "Number of Orbitals: 9\n",
        "Number of Primitive Gaussians: 105\n",
        "Integration Complete in 0.027755022049 seconds"
       ]
      },
      {
       "output_type": "stream",
       "stream": "stdout",
       "text": [
        "\n",
        "Number of Orbitals: 9\n",
        "Number of Primitive Gaussians: 105\n",
        "Integration Complete in 0.0268611907959 seconds\n",
        "Number of Orbitals: 9\n",
        "Number of Primitive Gaussians: 105\n",
        "Integration Complete in 0.0270428657532 seconds"
       ]
      },
      {
       "output_type": "stream",
       "stream": "stdout",
       "text": [
        "\n",
        "Number of Orbitals: 9\n",
        "Number of Primitive Gaussians: 105\n",
        "Integration Complete in 0.0267570018768 seconds\n",
        "Number of Orbitals: 9\n",
        "Number of Primitive Gaussians: 105\n",
        "Integration Complete in 0.0269079208374 seconds"
       ]
      },
      {
       "output_type": "stream",
       "stream": "stdout",
       "text": [
        "\n",
        "Number of Orbitals: 9\n",
        "Number of Primitive Gaussians: 105\n",
        "Integration Complete in 0.026820898056 seconds\n",
        "Number of Orbitals: 9\n",
        "Number of Primitive Gaussians: 105\n",
        "Integration Complete in 0.0276918411255 seconds"
       ]
      },
      {
       "output_type": "stream",
       "stream": "stdout",
       "text": [
        "\n",
        "Number of Orbitals: 9\n",
        "Number of Primitive Gaussians: 105\n",
        "Integration Complete in 0.0268230438232 seconds\n",
        "Number of Orbitals: 9\n",
        "Number of Primitive Gaussians: 105\n",
        "Integration Complete in 0.0269520282745 seconds"
       ]
      },
      {
       "output_type": "stream",
       "stream": "stdout",
       "text": [
        "\n",
        "Number of Orbitals: 9\n",
        "Number of Primitive Gaussians: 105\n",
        "Integration Complete in 0.0317649841309 seconds\n",
        "Number of Orbitals: 9\n",
        "Number of Primitive Gaussians: 105\n",
        "Integration Complete in 0.0266950130463 seconds"
       ]
      },
      {
       "output_type": "stream",
       "stream": "stdout",
       "text": [
        "\n",
        "Number of Orbitals: 9\n",
        "Number of Primitive Gaussians: 105\n",
        "Integration Complete in 0.0276591777802 seconds\n",
        "Number of Orbitals: 9\n",
        "Number of Primitive Gaussians: 105\n",
        "Integration Complete in 0.0269501209259 seconds"
       ]
      },
      {
       "output_type": "stream",
       "stream": "stdout",
       "text": [
        "\n",
        "Number of Orbitals: 9\n",
        "Number of Primitive Gaussians: 105\n",
        "Integration Complete in 0.0278608798981 seconds\n",
        "Number of Orbitals: 9\n",
        "Number of Primitive Gaussians: 105\n",
        "Integration Complete in 0.0279009342194 seconds"
       ]
      },
      {
       "output_type": "stream",
       "stream": "stdout",
       "text": [
        "\n",
        "Number of Orbitals: 9\n",
        "Number of Primitive Gaussians: 105\n",
        "Integration Complete in 0.026862859726 seconds\n",
        "Number of Orbitals: 9\n",
        "Number of Primitive Gaussians: 105\n",
        "Integration Complete in 0.0278060436249 seconds"
       ]
      },
      {
       "output_type": "stream",
       "stream": "stdout",
       "text": [
        "\n",
        "Number of Orbitals: 9\n",
        "Number of Primitive Gaussians: 105\n",
        "Integration Complete in 0.0268330574036 seconds\n",
        "Number of Orbitals: 9\n",
        "Number of Primitive Gaussians: 105\n",
        "Integration Complete in 0.026878118515 seconds"
       ]
      },
      {
       "output_type": "stream",
       "stream": "stdout",
       "text": [
        "\n",
        "Number of Orbitals: 9\n",
        "Number of Primitive Gaussians: 105\n",
        "Integration Complete in 0.0267691612244 seconds\n",
        "Number of Orbitals: 9\n",
        "Number of Primitive Gaussians: 105\n",
        "Integration Complete in 0.0267250537872 seconds"
       ]
      },
      {
       "output_type": "stream",
       "stream": "stdout",
       "text": [
        "\n",
        "Number of Orbitals: 9\n",
        "Number of Primitive Gaussians: 105\n",
        "Integration Complete in 0.0270259380341 seconds\n",
        "Number of Orbitals: 9\n",
        "Number of Primitive Gaussians: 105\n",
        "Integration Complete in 0.0269539356232 seconds"
       ]
      },
      {
       "output_type": "stream",
       "stream": "stdout",
       "text": [
        "\n",
        "Number of Orbitals: 9\n",
        "Number of Primitive Gaussians: 105\n",
        "Integration Complete in 0.0277540683746 seconds\n",
        "Number of Orbitals: 9\n",
        "Number of Primitive Gaussians: 105\n",
        "Integration Complete in 0.030592918396 seconds"
       ]
      },
      {
       "output_type": "stream",
       "stream": "stdout",
       "text": [
        "\n",
        "Number of Orbitals: 9\n",
        "Number of Primitive Gaussians: 105\n",
        "Integration Complete in 0.0281600952148 seconds\n",
        "Number of Orbitals: 9\n",
        "Number of Primitive Gaussians: 105\n",
        "Integration Complete in 0.0323560237885 seconds"
       ]
      },
      {
       "output_type": "stream",
       "stream": "stdout",
       "text": [
        "\n",
        "Number of Orbitals: 9\n",
        "Number of Primitive Gaussians: 105\n",
        "Integration Complete in 0.0267989635468 seconds\n",
        "Number of Orbitals: 9\n",
        "Number of Primitive Gaussians: 105\n",
        "Integration Complete in 0.0268378257751 seconds"
       ]
      },
      {
       "output_type": "stream",
       "stream": "stdout",
       "text": [
        "\n",
        "Number of Orbitals: 9\n",
        "Number of Primitive Gaussians: 105\n",
        "Integration Complete in 0.027468919754 seconds\n",
        "Number of Orbitals: 9\n",
        "Number of Primitive Gaussians: 105\n",
        "Integration Complete in 0.0293309688568 seconds"
       ]
      },
      {
       "output_type": "stream",
       "stream": "stdout",
       "text": [
        "\n",
        "Number of Orbitals: 9\n",
        "Number of Primitive Gaussians: 105\n",
        "Integration Complete in 0.0283198356628 seconds\n",
        "Number of Orbitals: 9\n",
        "Number of Primitive Gaussians: 105\n",
        "Integration Complete in 0.0289220809937 seconds"
       ]
      },
      {
       "output_type": "stream",
       "stream": "stdout",
       "text": [
        "\n",
        "Number of Orbitals: 9\n",
        "Number of Primitive Gaussians: 105\n",
        "Integration Complete in 0.0268371105194 seconds\n",
        "Number of Orbitals: 9\n",
        "Number of Primitive Gaussians: 105\n",
        "Integration Complete in 0.0273909568787 seconds"
       ]
      },
      {
       "output_type": "stream",
       "stream": "stdout",
       "text": [
        "\n",
        "Number of Orbitals: 9\n",
        "Number of Primitive Gaussians: 105\n",
        "Integration Complete in 0.0281858444214 seconds\n",
        "Number of Orbitals: 9\n",
        "Number of Primitive Gaussians: 105\n",
        "Integration Complete in 0.0332319736481 seconds"
       ]
      },
      {
       "output_type": "stream",
       "stream": "stdout",
       "text": [
        "\n",
        "Number of Orbitals: 9\n",
        "Number of Primitive Gaussians: 105\n",
        "Integration Complete in 0.034677028656 seconds\n",
        "Number of Orbitals: 9\n",
        "Number of Primitive Gaussians: 105\n",
        "Integration Complete in 0.0318419933319 seconds"
       ]
      },
      {
       "output_type": "stream",
       "stream": "stdout",
       "text": [
        "\n",
        "Number of Orbitals: 9\n",
        "Number of Primitive Gaussians: 105\n",
        "Integration Complete in 0.0270199775696 seconds\n",
        "Number of Orbitals: 9\n",
        "Number of Primitive Gaussians: 105\n",
        "Integration Complete in 0.0318839550018 seconds"
       ]
      },
      {
       "output_type": "stream",
       "stream": "stdout",
       "text": [
        "\n",
        "Number of Orbitals: 9\n",
        "Number of Primitive Gaussians: 105\n",
        "Integration Complete in 0.0270850658417 seconds\n",
        "Number of Orbitals: 9\n",
        "Number of Primitive Gaussians: 105\n",
        "Integration Complete in 0.0288910865784 seconds"
       ]
      },
      {
       "output_type": "stream",
       "stream": "stdout",
       "text": [
        "\n",
        "Number of Orbitals: 9\n",
        "Number of Primitive Gaussians: 105\n",
        "Integration Complete in 0.0267679691315 seconds\n",
        "Number of Orbitals: 9\n",
        "Number of Primitive Gaussians: 105\n",
        "Integration Complete in 0.0272629261017 seconds"
       ]
      },
      {
       "output_type": "stream",
       "stream": "stdout",
       "text": [
        "\n",
        "Number of Orbitals: 9\n",
        "Number of Primitive Gaussians: 105\n",
        "Integration Complete in 0.0277559757233 seconds\n",
        "Number of Orbitals: 9\n",
        "Number of Primitive Gaussians: 105\n",
        "Integration Complete in 0.0283999443054 seconds"
       ]
      },
      {
       "output_type": "stream",
       "stream": "stdout",
       "text": [
        "\n",
        "Number of Orbitals: 9\n",
        "Number of Primitive Gaussians: 105\n",
        "Integration Complete in 0.026820898056 seconds\n",
        "Number of Orbitals: 9\n",
        "Number of Primitive Gaussians: 105\n",
        "Integration Complete in 0.0276308059692 seconds"
       ]
      },
      {
       "output_type": "stream",
       "stream": "stdout",
       "text": [
        "\n",
        "Number of Orbitals: 9\n",
        "Number of Primitive Gaussians: 105\n",
        "Integration Complete in 0.0268671512604 seconds\n",
        "Number of Orbitals: 9\n",
        "Number of Primitive Gaussians: 105\n",
        "Integration Complete in 0.0280170440674 seconds"
       ]
      },
      {
       "output_type": "stream",
       "stream": "stdout",
       "text": [
        "\n",
        "Number of Orbitals: 9\n",
        "Number of Primitive Gaussians: 105\n",
        "Integration Complete in 0.0267601013184 seconds\n",
        "Number of Orbitals: 9\n",
        "Number of Primitive Gaussians: 105\n",
        "Integration Complete in 0.0277228355408 seconds"
       ]
      },
      {
       "output_type": "stream",
       "stream": "stdout",
       "text": [
        "\n",
        "Number of Orbitals: 9\n",
        "Number of Primitive Gaussians: 105\n",
        "Integration Complete in 0.0267570018768 seconds\n",
        "Number of Orbitals: 9\n",
        "Number of Primitive Gaussians: 105\n",
        "Integration Complete in 0.0350120067596 seconds"
       ]
      },
      {
       "output_type": "stream",
       "stream": "stdout",
       "text": [
        "\n",
        "Number of Orbitals: 9\n",
        "Number of Primitive Gaussians: 105\n",
        "Integration Complete in 0.0451059341431 seconds"
       ]
      },
      {
       "output_type": "stream",
       "stream": "stdout",
       "text": [
        "\n",
        "Number of Orbitals: 9\n",
        "Number of Primitive Gaussians: 105\n",
        "Integration Complete in 0.0357530117035 seconds\n",
        "Number of Orbitals: 9\n",
        "Number of Primitive Gaussians: 105\n",
        "Integration Complete in 0.0269408226013 seconds"
       ]
      },
      {
       "output_type": "stream",
       "stream": "stdout",
       "text": [
        "\n",
        "Number of Orbitals: 9\n",
        "Number of Primitive Gaussians: 105\n",
        "Integration Complete in 0.0303320884705 seconds\n",
        "Number of Orbitals: 9\n",
        "Number of Primitive Gaussians: 105\n",
        "Integration Complete in 0.0279920101166 seconds"
       ]
      },
      {
       "output_type": "stream",
       "stream": "stdout",
       "text": [
        "\n",
        "Number of Orbitals: 9\n",
        "Number of Primitive Gaussians: 105\n",
        "Integration Complete in 0.0338921546936 seconds\n",
        "Number of Orbitals: 9\n",
        "Number of Primitive Gaussians: 105\n",
        "Integration Complete in 0.0275509357452 seconds"
       ]
      },
      {
       "output_type": "stream",
       "stream": "stdout",
       "text": [
        "\n",
        "Number of Orbitals: 9\n",
        "Number of Primitive Gaussians: 105\n",
        "Integration Complete in 0.0321488380432 seconds\n",
        "Number of Orbitals: 9\n",
        "Number of Primitive Gaussians: 105\n",
        "Integration Complete in 0.0331559181213 seconds"
       ]
      },
      {
       "output_type": "stream",
       "stream": "stdout",
       "text": [
        "\n",
        "Number of Orbitals: 9\n",
        "Number of Primitive Gaussians: 105\n",
        "Integration Complete in 0.0284109115601 seconds\n",
        "Number of Orbitals: 9\n",
        "Number of Primitive Gaussians: 105\n",
        "Integration Complete in 0.0278000831604 seconds"
       ]
      },
      {
       "output_type": "stream",
       "stream": "stdout",
       "text": [
        "\n",
        "Number of Orbitals: 9\n",
        "Number of Primitive Gaussians: 105\n",
        "Integration Complete in 0.0307259559631 seconds\n",
        "Number of Orbitals: 9\n",
        "Number of Primitive Gaussians: 105\n",
        "Integration Complete in 0.032732963562 seconds"
       ]
      },
      {
       "output_type": "stream",
       "stream": "stdout",
       "text": [
        "\n",
        "Number of Orbitals: 9\n",
        "Number of Primitive Gaussians: 105\n",
        "Integration Complete in 0.0267379283905 seconds\n",
        "Number of Orbitals: 9\n",
        "Number of Primitive Gaussians: 105\n",
        "Integration Complete in 0.026948928833 seconds"
       ]
      },
      {
       "output_type": "stream",
       "stream": "stdout",
       "text": [
        "\n",
        "Number of Orbitals: 9\n",
        "Number of Primitive Gaussians: 105\n",
        "Integration Complete in 0.0270638465881 seconds\n",
        "Number of Orbitals: 9\n",
        "Number of Primitive Gaussians: 105\n",
        "Integration Complete in 0.0270531177521 seconds"
       ]
      },
      {
       "output_type": "stream",
       "stream": "stdout",
       "text": [
        "\n",
        "Number of Orbitals: 9\n",
        "Number of Primitive Gaussians: 105\n",
        "Integration Complete in 0.0270118713379 seconds\n",
        "Number of Orbitals: 9\n",
        "Number of Primitive Gaussians: 105\n",
        "Integration Complete in 0.0286610126495 seconds"
       ]
      },
      {
       "output_type": "stream",
       "stream": "stdout",
       "text": [
        "\n",
        "Number of Orbitals: 9\n",
        "Number of Primitive Gaussians: 105\n",
        "Integration Complete in 0.0267109870911 seconds\n",
        "Number of Orbitals: 9\n",
        "Number of Primitive Gaussians: 105\n",
        "Integration Complete in 0.0269589424133 seconds"
       ]
      },
      {
       "output_type": "stream",
       "stream": "stdout",
       "text": [
        "\n",
        "Number of Orbitals: 9\n",
        "Number of Primitive Gaussians: 105\n",
        "Integration Complete in 0.0284910202026 seconds\n",
        "Number of Orbitals: 9\n",
        "Number of Primitive Gaussians: 105\n",
        "Integration Complete in 0.0269989967346 seconds"
       ]
      },
      {
       "output_type": "stream",
       "stream": "stdout",
       "text": [
        "\n",
        "Number of Orbitals: 9\n",
        "Number of Primitive Gaussians: 105\n",
        "Integration Complete in 0.0269589424133 seconds\n",
        "Number of Orbitals: 9\n",
        "Number of Primitive Gaussians: 105\n",
        "Integration Complete in 0.0269930362701 seconds"
       ]
      },
      {
       "output_type": "stream",
       "stream": "stdout",
       "text": [
        "\n",
        "Number of Orbitals: 9\n",
        "Number of Primitive Gaussians: 105\n",
        "Integration Complete in 0.0270471572876 seconds\n",
        "Number of Orbitals: 9\n",
        "Number of Primitive Gaussians: 105\n",
        "Integration Complete in 0.0276939868927 seconds"
       ]
      },
      {
       "output_type": "stream",
       "stream": "stdout",
       "text": [
        "\n",
        "Number of Orbitals: 9\n",
        "Number of Primitive Gaussians: 105\n",
        "Integration Complete in 0.0267450809479 seconds\n",
        "Number of Orbitals: 9\n",
        "Number of Primitive Gaussians: 105\n",
        "Integration Complete in 0.0277388095856 seconds"
       ]
      },
      {
       "output_type": "stream",
       "stream": "stdout",
       "text": [
        "\n",
        "Number of Orbitals: 9\n",
        "Number of Primitive Gaussians: 105\n",
        "Integration Complete in 0.0335140228271 seconds\n",
        "Number of Orbitals: 9\n",
        "Number of Primitive Gaussians: 105\n",
        "Integration Complete in 0.0284171104431 seconds"
       ]
      },
      {
       "output_type": "stream",
       "stream": "stdout",
       "text": [
        "\n",
        "Number of Orbitals: 9\n",
        "Number of Primitive Gaussians: 105\n",
        "Integration Complete in 0.0267441272736 seconds\n",
        "Number of Orbitals: 9\n",
        "Number of Primitive Gaussians: 105\n",
        "Integration Complete in 0.0268270969391 seconds"
       ]
      },
      {
       "output_type": "stream",
       "stream": "stdout",
       "text": [
        "\n",
        "Number of Orbitals: 9\n",
        "Number of Primitive Gaussians: 105\n",
        "Integration Complete in 0.0272650718689 seconds\n",
        "Number of Orbitals: 9\n",
        "Number of Primitive Gaussians: 105\n",
        "Integration Complete in 0.0268008708954 seconds"
       ]
      },
      {
       "output_type": "stream",
       "stream": "stdout",
       "text": [
        "\n",
        "Number of Orbitals: 9\n",
        "Number of Primitive Gaussians: 105\n",
        "Integration Complete in 0.0273189544678 seconds\n",
        "Number of Orbitals: 9\n",
        "Number of Primitive Gaussians: 105\n",
        "Integration Complete in 0.027116060257 seconds"
       ]
      },
      {
       "output_type": "stream",
       "stream": "stdout",
       "text": [
        "\n",
        "Number of Orbitals: 9\n",
        "Number of Primitive Gaussians: 105\n",
        "Integration Complete in 0.0275869369507 seconds\n",
        "Number of Orbitals: 9\n",
        "Number of Primitive Gaussians: 105\n",
        "Integration Complete in 0.0269901752472 seconds"
       ]
      },
      {
       "output_type": "stream",
       "stream": "stdout",
       "text": [
        "\n",
        "Number of Orbitals: 9\n",
        "Number of Primitive Gaussians: 105\n",
        "Integration Complete in 0.0296111106873 seconds\n",
        "Number of Orbitals: 9\n",
        "Number of Primitive Gaussians: 105\n",
        "Integration Complete in 0.0270390510559 seconds"
       ]
      },
      {
       "output_type": "stream",
       "stream": "stdout",
       "text": [
        "\n",
        "Number of Orbitals: 9\n",
        "Number of Primitive Gaussians: 105\n",
        "Integration Complete in 0.0269200801849 seconds\n",
        "Number of Orbitals: 9\n",
        "Number of Primitive Gaussians: 105\n",
        "Integration Complete in 0.0270099639893 seconds"
       ]
      },
      {
       "output_type": "stream",
       "stream": "stdout",
       "text": [
        "\n",
        "Number of Orbitals: 9\n",
        "Number of Primitive Gaussians: 105\n",
        "Integration Complete in 0.02698802948 seconds\n",
        "Number of Orbitals: 9\n",
        "Number of Primitive Gaussians: 105\n",
        "Integration Complete in 0.0276839733124 seconds"
       ]
      },
      {
       "output_type": "stream",
       "stream": "stdout",
       "text": [
        "\n",
        "Number of Orbitals: 9\n",
        "Number of Primitive Gaussians: 105\n",
        "Integration Complete in 0.0270209312439 seconds\n",
        "Number of Orbitals: 9\n",
        "Number of Primitive Gaussians: 105\n",
        "Integration Complete in 0.0314719676971 seconds"
       ]
      },
      {
       "output_type": "stream",
       "stream": "stdout",
       "text": [
        "\n",
        "Number of Orbitals: 9\n",
        "Number of Primitive Gaussians: 105\n",
        "Integration Complete in 0.0269041061401 seconds\n",
        "Number of Orbitals: 9\n",
        "Number of Primitive Gaussians: 105\n",
        "Integration Complete in 0.0267648696899 seconds"
       ]
      },
      {
       "output_type": "stream",
       "stream": "stdout",
       "text": [
        "\n",
        "Number of Orbitals: 9\n",
        "Number of Primitive Gaussians: 105\n",
        "Integration Complete in 0.0346648693085 seconds\n",
        "Number of Orbitals: 9\n",
        "Number of Primitive Gaussians: 105\n",
        "Integration Complete in 0.0283529758453 seconds"
       ]
      },
      {
       "output_type": "stream",
       "stream": "stdout",
       "text": [
        "\n",
        "Number of Orbitals: 9\n",
        "Number of Primitive Gaussians: 105\n",
        "Integration Complete in 0.0267000198364 seconds\n",
        "Number of Orbitals: 9\n",
        "Number of Primitive Gaussians: 105\n",
        "Integration Complete in 0.0268168449402 seconds"
       ]
      },
      {
       "output_type": "stream",
       "stream": "stdout",
       "text": [
        "\n",
        "Number of Orbitals: 9\n",
        "Number of Primitive Gaussians: 105\n",
        "Integration Complete in 0.0274410247803 seconds\n",
        "Number of Orbitals: 9\n",
        "Number of Primitive Gaussians: 105\n",
        "Integration Complete in 0.0307760238647 seconds"
       ]
      },
      {
       "output_type": "stream",
       "stream": "stdout",
       "text": [
        "\n",
        "Number of Orbitals: 9\n",
        "Number of Primitive Gaussians: 105\n",
        "Integration Complete in 0.0273630619049 seconds\n",
        "Number of Orbitals: 9\n",
        "Number of Primitive Gaussians: 105\n",
        "Integration Complete in 0.0321309566498 seconds"
       ]
      },
      {
       "output_type": "stream",
       "stream": "stdout",
       "text": [
        "\n",
        "Number of Orbitals: 9\n",
        "Number of Primitive Gaussians: 105\n",
        "Integration Complete in 0.0271511077881 seconds\n",
        "Number of Orbitals: 9\n",
        "Number of Primitive Gaussians: 105\n",
        "Integration Complete in 0.0326931476593 seconds"
       ]
      },
      {
       "output_type": "stream",
       "stream": "stdout",
       "text": [
        "\n",
        "Number of Orbitals: 9\n",
        "Number of Primitive Gaussians: 105\n",
        "Integration Complete in 0.0316028594971 seconds\n",
        "Number of Orbitals: 9\n",
        "Number of Primitive Gaussians: 105\n",
        "Integration Complete in 0.0268490314484 seconds"
       ]
      },
      {
       "output_type": "stream",
       "stream": "stdout",
       "text": [
        "\n",
        "Number of Orbitals: 9\n",
        "Number of Primitive Gaussians: 105\n",
        "Integration Complete in 0.0268280506134 seconds\n",
        "Number of Orbitals: 9\n",
        "Number of Primitive Gaussians: 105\n",
        "Integration Complete in 0.0267729759216 seconds"
       ]
      },
      {
       "output_type": "stream",
       "stream": "stdout",
       "text": [
        "\n",
        "Number of Orbitals: 9\n",
        "Number of Primitive Gaussians: 105\n",
        "Integration Complete in 0.0269739627838 seconds\n",
        "Number of Orbitals: 9\n",
        "Number of Primitive Gaussians: 105\n",
        "Integration Complete in 0.028538942337 seconds"
       ]
      },
      {
       "output_type": "stream",
       "stream": "stdout",
       "text": [
        "\n",
        "Number of Orbitals: 9\n",
        "Number of Primitive Gaussians: 105\n",
        "Integration Complete in 0.0309278964996 seconds\n",
        "Number of Orbitals: 9\n",
        "Number of Primitive Gaussians: 105\n",
        "Integration Complete in 0.0330190658569 seconds"
       ]
      },
      {
       "output_type": "stream",
       "stream": "stdout",
       "text": [
        "\n",
        "Number of Orbitals: 9\n",
        "Number of Primitive Gaussians: 105\n",
        "Integration Complete in 0.0267717838287 seconds\n",
        "Number of Orbitals: 9\n",
        "Number of Primitive Gaussians: 105\n",
        "Integration Complete in 0.0312778949738 seconds"
       ]
      },
      {
       "output_type": "stream",
       "stream": "stdout",
       "text": [
        "\n",
        "Number of Orbitals: 9\n",
        "Number of Primitive Gaussians: 105\n",
        "Integration Complete in 0.0270481109619 seconds\n",
        "Number of Orbitals: 9\n",
        "Number of Primitive Gaussians: 105\n",
        "Integration Complete in 0.0317268371582 seconds"
       ]
      },
      {
       "output_type": "stream",
       "stream": "stdout",
       "text": [
        "\n",
        "Number of Orbitals: 9\n",
        "Number of Primitive Gaussians: 105\n",
        "Integration Complete in 0.0276708602905 seconds\n",
        "Number of Orbitals: 9\n",
        "Number of Primitive Gaussians: 105\n",
        "Integration Complete in 0.0284109115601 seconds"
       ]
      },
      {
       "output_type": "stream",
       "stream": "stdout",
       "text": [
        "\n",
        "Number of Orbitals: 9\n",
        "Number of Primitive Gaussians: 105\n",
        "Integration Complete in 0.0267610549927 seconds\n",
        "Number of Orbitals: 9\n",
        "Number of Primitive Gaussians: 105\n",
        "Integration Complete in 0.027508020401 seconds"
       ]
      },
      {
       "output_type": "stream",
       "stream": "stdout",
       "text": [
        "\n",
        "Number of Orbitals: 9\n",
        "Number of Primitive Gaussians: 105\n",
        "Integration Complete in 0.0284419059753 seconds\n",
        "Number of Orbitals: 9\n",
        "Number of Primitive Gaussians: 105\n",
        "Integration Complete in 0.0267608165741 seconds"
       ]
      },
      {
       "output_type": "stream",
       "stream": "stdout",
       "text": [
        "\n",
        "Number of Orbitals: 9\n",
        "Number of Primitive Gaussians: 105\n",
        "Integration Complete in 0.0286860466003 seconds\n",
        "Number of Orbitals: 9\n",
        "Number of Primitive Gaussians: 105\n",
        "Integration Complete in 0.0275089740753 seconds"
       ]
      },
      {
       "output_type": "stream",
       "stream": "stdout",
       "text": [
        "\n",
        "Number of Orbitals: 9\n",
        "Number of Primitive Gaussians: 105\n",
        "Integration Complete in 0.027724981308 seconds\n",
        "Number of Orbitals: 9\n",
        "Number of Primitive Gaussians: 105\n",
        "Integration Complete in 0.0268678665161 seconds"
       ]
      },
      {
       "output_type": "stream",
       "stream": "stdout",
       "text": [
        "\n",
        "Number of Orbitals: 9\n",
        "Number of Primitive Gaussians: 105\n",
        "Integration Complete in 0.0279388427734 seconds\n",
        "Number of Orbitals: 9\n",
        "Number of Primitive Gaussians: 105\n",
        "Integration Complete in 0.0275599956512 seconds"
       ]
      },
      {
       "output_type": "stream",
       "stream": "stdout",
       "text": [
        "\n",
        "Number of Orbitals: 9\n",
        "Number of Primitive Gaussians: 105\n",
        "Integration Complete in 0.0266370773315 seconds\n",
        "Number of Orbitals: 9\n",
        "Number of Primitive Gaussians: 105\n",
        "Integration Complete in 0.0274360179901 seconds"
       ]
      },
      {
       "output_type": "stream",
       "stream": "stdout",
       "text": [
        "\n",
        "Number of Orbitals: 9\n",
        "Number of Primitive Gaussians: 105\n",
        "Integration Complete in 0.0269930362701 seconds\n",
        "Number of Orbitals: 9\n",
        "Number of Primitive Gaussians: 105\n",
        "Integration Complete in 0.0275089740753 seconds"
       ]
      },
      {
       "output_type": "stream",
       "stream": "stdout",
       "text": [
        "\n",
        "Number of Orbitals: 9\n",
        "Number of Primitive Gaussians: 105\n",
        "Integration Complete in 0.0273189544678 seconds\n",
        "Number of Orbitals: 9\n",
        "Number of Primitive Gaussians: 105\n",
        "Integration Complete in 0.0275378227234 seconds"
       ]
      },
      {
       "output_type": "stream",
       "stream": "stdout",
       "text": [
        "\n",
        "Number of Orbitals: 9\n",
        "Number of Primitive Gaussians: 105\n",
        "Integration Complete in 0.0327439308167 seconds\n",
        "Number of Orbitals: 9\n",
        "Number of Primitive Gaussians: 105\n",
        "Integration Complete in 0.0267889499664 seconds"
       ]
      },
      {
       "output_type": "stream",
       "stream": "stdout",
       "text": [
        "\n",
        "Number of Orbitals: 9\n",
        "Number of Primitive Gaussians: 105\n",
        "Integration Complete in 0.0287718772888 seconds\n",
        "Number of Orbitals: 9\n",
        "Number of Primitive Gaussians: 105\n",
        "Integration Complete in 0.0269441604614 seconds"
       ]
      },
      {
       "output_type": "stream",
       "stream": "stdout",
       "text": [
        "\n",
        "Number of Orbitals: 9\n",
        "Number of Primitive Gaussians: 105\n",
        "Integration Complete in 0.028913974762 seconds\n",
        "Number of Orbitals: 9\n",
        "Number of Primitive Gaussians: 105\n",
        "Integration Complete in 0.0274739265442 seconds"
       ]
      },
      {
       "output_type": "stream",
       "stream": "stdout",
       "text": [
        "\n",
        "Number of Orbitals: 9\n",
        "Number of Primitive Gaussians: 105\n",
        "Integration Complete in 0.02876496315 seconds\n",
        "Number of Orbitals: 9\n",
        "Number of Primitive Gaussians: 105\n",
        "Integration Complete in 0.0274858474731 seconds"
       ]
      },
      {
       "output_type": "stream",
       "stream": "stdout",
       "text": [
        "\n",
        "Number of Orbitals: 9\n",
        "Number of Primitive Gaussians: 105\n",
        "Integration Complete in 0.0287721157074 seconds\n",
        "Number of Orbitals: 9\n",
        "Number of Primitive Gaussians: 105\n",
        "Integration Complete in 0.0275189876556 seconds"
       ]
      },
      {
       "output_type": "stream",
       "stream": "stdout",
       "text": [
        "\n",
        "Number of Orbitals: 9\n",
        "Number of Primitive Gaussians: 105\n",
        "Integration Complete in 0.0289309024811 seconds\n",
        "Number of Orbitals: 9\n",
        "Number of Primitive Gaussians: 105\n",
        "Integration Complete in 0.0275020599365 seconds"
       ]
      },
      {
       "output_type": "stream",
       "stream": "stdout",
       "text": [
        "\n",
        "Number of Orbitals: 9\n",
        "Number of Primitive Gaussians: 105\n",
        "Integration Complete in 0.0266609191895 seconds\n",
        "Number of Orbitals: 9\n",
        "Number of Primitive Gaussians: 105\n",
        "Integration Complete in 0.0275208950043 seconds"
       ]
      },
      {
       "output_type": "stream",
       "stream": "stdout",
       "text": [
        "\n",
        "Number of Orbitals: 9\n",
        "Number of Primitive Gaussians: 105\n",
        "Integration Complete in 0.0275900363922 seconds\n",
        "Number of Orbitals: 9\n",
        "Number of Primitive Gaussians: 105\n",
        "Integration Complete in 0.027529001236 seconds"
       ]
      },
      {
       "output_type": "stream",
       "stream": "stdout",
       "text": [
        "\n",
        "Number of Orbitals: 9\n",
        "Number of Primitive Gaussians: 105\n",
        "Integration Complete in 0.0284678936005 seconds\n",
        "Number of Orbitals: 9\n",
        "Number of Primitive Gaussians: 105\n",
        "Integration Complete in 0.0275950431824 seconds"
       ]
      },
      {
       "output_type": "stream",
       "stream": "stdout",
       "text": [
        "\n",
        "Number of Orbitals: 9\n",
        "Number of Primitive Gaussians: 105\n",
        "Integration Complete in 0.0282728672028 seconds\n",
        "Number of Orbitals: 9\n",
        "Number of Primitive Gaussians: 105\n",
        "Integration Complete in 0.0274589061737 seconds"
       ]
      },
      {
       "output_type": "stream",
       "stream": "stdout",
       "text": [
        "\n",
        "Number of Orbitals: 9\n",
        "Number of Primitive Gaussians: 105\n",
        "Integration Complete in 0.0289239883423 seconds\n",
        "Number of Orbitals: 9\n",
        "Number of Primitive Gaussians: 105\n",
        "Integration Complete in 0.027370929718 seconds"
       ]
      },
      {
       "output_type": "stream",
       "stream": "stdout",
       "text": [
        "\n",
        "Number of Orbitals: 9\n",
        "Number of Primitive Gaussians: 105\n",
        "Integration Complete in 0.027792930603 seconds\n",
        "Number of Orbitals: 9\n",
        "Number of Primitive Gaussians: 105\n",
        "Integration Complete in 0.0269241333008 seconds"
       ]
      },
      {
       "output_type": "stream",
       "stream": "stdout",
       "text": [
        "\n",
        "Number of Orbitals: 9\n",
        "Number of Primitive Gaussians: 105\n",
        "Integration Complete in 0.0284280776978 seconds\n",
        "Number of Orbitals: 9\n",
        "Number of Primitive Gaussians: 105\n",
        "Integration Complete in 0.0267779827118 seconds"
       ]
      },
      {
       "output_type": "stream",
       "stream": "stdout",
       "text": [
        "\n",
        "Number of Orbitals: 9\n",
        "Number of Primitive Gaussians: 105\n",
        "Integration Complete in 0.0284268856049 seconds\n",
        "Number of Orbitals: 9\n",
        "Number of Primitive Gaussians: 105\n",
        "Integration Complete in 0.0268430709839 seconds"
       ]
      },
      {
       "output_type": "stream",
       "stream": "stdout",
       "text": [
        "\n",
        "Number of Orbitals: 9\n",
        "Number of Primitive Gaussians: 105\n",
        "Integration Complete in 0.0286509990692 seconds\n",
        "Number of Orbitals: 9\n",
        "Number of Primitive Gaussians: 105\n",
        "Integration Complete in 0.0269198417664 seconds"
       ]
      },
      {
       "output_type": "stream",
       "stream": "stdout",
       "text": [
        "\n",
        "Number of Orbitals: 9\n",
        "Number of Primitive Gaussians: 105\n",
        "Integration Complete in 0.0286269187927 seconds\n",
        "Number of Orbitals: 9\n",
        "Number of Primitive Gaussians: 105\n",
        "Integration Complete in 0.0269951820374 seconds"
       ]
      },
      {
       "output_type": "stream",
       "stream": "stdout",
       "text": [
        "\n",
        "Number of Orbitals: 9\n",
        "Number of Primitive Gaussians: 105\n",
        "Integration Complete in 0.0303041934967 seconds\n",
        "Number of Orbitals: 9\n",
        "Number of Primitive Gaussians: 105\n",
        "Integration Complete in 0.026890039444 seconds"
       ]
      },
      {
       "output_type": "stream",
       "stream": "stdout",
       "text": [
        "\n",
        "Number of Orbitals: 9\n",
        "Number of Primitive Gaussians: 105\n",
        "Integration Complete in 0.028785943985 seconds\n",
        "Number of Orbitals: 9\n",
        "Number of Primitive Gaussians: 105\n",
        "Integration Complete in 0.0268709659576 seconds"
       ]
      },
      {
       "output_type": "stream",
       "stream": "stdout",
       "text": [
        "\n",
        "Number of Orbitals: 9\n",
        "Number of Primitive Gaussians: 105\n",
        "Integration Complete in 0.027939081192 seconds\n",
        "Number of Orbitals: 9\n",
        "Number of Primitive Gaussians: 105\n",
        "Integration Complete in 0.0267629623413 seconds"
       ]
      },
      {
       "output_type": "stream",
       "stream": "stdout",
       "text": [
        "\n",
        "Number of Orbitals: 9\n",
        "Number of Primitive Gaussians: 105\n",
        "Integration Complete in 0.029424905777 seconds\n",
        "Number of Orbitals: 9\n",
        "Number of Primitive Gaussians: 105\n",
        "Integration Complete in 0.0267550945282 seconds"
       ]
      },
      {
       "output_type": "stream",
       "stream": "stdout",
       "text": [
        "\n",
        "Number of Orbitals: 9\n",
        "Number of Primitive Gaussians: 105\n",
        "Integration Complete in 0.0292718410492 seconds\n",
        "Number of Orbitals: 9\n",
        "Number of Primitive Gaussians: 105\n",
        "Integration Complete in 0.0269129276276 seconds"
       ]
      },
      {
       "output_type": "stream",
       "stream": "stdout",
       "text": [
        "\n",
        "Number of Orbitals: 9\n",
        "Number of Primitive Gaussians: 105\n",
        "Integration Complete in 0.0277419090271 seconds\n",
        "Number of Orbitals: 9\n",
        "Number of Primitive Gaussians: 105\n",
        "Integration Complete in 0.0268840789795 seconds"
       ]
      },
      {
       "output_type": "stream",
       "stream": "stdout",
       "text": [
        "\n",
        "Number of Orbitals: 9\n",
        "Number of Primitive Gaussians: 105\n",
        "Integration Complete in 0.0289299488068 seconds\n",
        "Number of Orbitals: 9\n",
        "Number of Primitive Gaussians: 105\n",
        "Integration Complete in 0.0270321369171 seconds"
       ]
      },
      {
       "output_type": "stream",
       "stream": "stdout",
       "text": [
        "\n",
        "Number of Orbitals: 9\n",
        "Number of Primitive Gaussians: 105\n",
        "Integration Complete in 0.0289850234985 seconds\n",
        "Number of Orbitals: 9\n",
        "Number of Primitive Gaussians: 105\n",
        "Integration Complete in 0.0268921852112 seconds"
       ]
      },
      {
       "output_type": "stream",
       "stream": "stdout",
       "text": [
        "\n",
        "Number of Orbitals: 9\n",
        "Number of Primitive Gaussians: 105\n",
        "Integration Complete in 0.029011964798 seconds\n",
        "Number of Orbitals: 9\n",
        "Number of Primitive Gaussians: 105\n",
        "Integration Complete in 0.0270409584045 seconds"
       ]
      },
      {
       "output_type": "stream",
       "stream": "stdout",
       "text": [
        "\n",
        "Number of Orbitals: 9\n",
        "Number of Primitive Gaussians: 105\n",
        "Integration Complete in 0.0304701328278 seconds\n",
        "Number of Orbitals: 9\n",
        "Number of Primitive Gaussians: 105\n",
        "Integration Complete in 0.0267250537872 seconds"
       ]
      },
      {
       "output_type": "stream",
       "stream": "stdout",
       "text": [
        "\n",
        "Number of Orbitals: 9\n",
        "Number of Primitive Gaussians: 105\n",
        "Integration Complete in 0.0292298793793 seconds\n",
        "Number of Orbitals: 9\n",
        "Number of Primitive Gaussians: 105\n",
        "Integration Complete in 0.0267131328583 seconds"
       ]
      },
      {
       "output_type": "stream",
       "stream": "stdout",
       "text": [
        "\n",
        "Number of Orbitals: 9\n",
        "Number of Primitive Gaussians: 105\n",
        "Integration Complete in 0.0292160511017 seconds\n",
        "Number of Orbitals: 9\n",
        "Number of Primitive Gaussians: 105\n",
        "Integration Complete in 0.026782989502 seconds"
       ]
      },
      {
       "output_type": "stream",
       "stream": "stdout",
       "text": [
        "\n",
        "Number of Orbitals: 9\n",
        "Number of Primitive Gaussians: 105\n",
        "Integration Complete in 0.029128074646 seconds\n",
        "Number of Orbitals: 9\n",
        "Number of Primitive Gaussians: 105\n",
        "Integration Complete in 0.0267360210419 seconds"
       ]
      },
      {
       "output_type": "stream",
       "stream": "stdout",
       "text": [
        "\n",
        "Number of Orbitals: 9\n",
        "Number of Primitive Gaussians: 105\n",
        "Integration Complete in 0.0295469760895 seconds\n",
        "Number of Orbitals: 9\n",
        "Number of Primitive Gaussians: 105\n",
        "Integration Complete in 0.0266940593719 seconds"
       ]
      },
      {
       "output_type": "stream",
       "stream": "stdout",
       "text": [
        "\n",
        "Number of Orbitals: 9\n",
        "Number of Primitive Gaussians: 105\n",
        "Integration Complete in 0.0294110774994 seconds\n",
        "Number of Orbitals: 9\n",
        "Number of Primitive Gaussians: 105\n",
        "Integration Complete in 0.0267341136932 seconds"
       ]
      },
      {
       "output_type": "stream",
       "stream": "stdout",
       "text": [
        "\n",
        "Number of Orbitals: 9\n",
        "Number of Primitive Gaussians: 105\n",
        "Integration Complete in 0.0355751514435 seconds\n",
        "Number of Orbitals: 9\n",
        "Number of Primitive Gaussians: 105\n",
        "Integration Complete in 0.0340650081635 seconds"
       ]
      },
      {
       "output_type": "stream",
       "stream": "stdout",
       "text": [
        "\n",
        "Number of Orbitals: 9\n",
        "Number of Primitive Gaussians: 105\n",
        "Integration Complete in 0.0290288925171 seconds\n",
        "Number of Orbitals: 9\n",
        "Number of Primitive Gaussians: 105\n",
        "Integration Complete in 0.0305640697479 seconds"
       ]
      },
      {
       "output_type": "stream",
       "stream": "stdout",
       "text": [
        "\n",
        "Number of Orbitals: 9\n",
        "Number of Primitive Gaussians: 105\n",
        "Integration Complete in 0.0279071331024 seconds\n",
        "Number of Orbitals: 9\n",
        "Number of Primitive Gaussians: 105\n",
        "Integration Complete in 0.0305261611938 seconds"
       ]
      },
      {
       "output_type": "stream",
       "stream": "stdout",
       "text": [
        "\n",
        "Number of Orbitals: 9\n",
        "Number of Primitive Gaussians: 105\n",
        "Integration Complete in 0.029237985611 seconds\n",
        "Number of Orbitals: 9\n",
        "Number of Primitive Gaussians: 105\n",
        "Integration Complete in 0.0320749282837 seconds"
       ]
      },
      {
       "output_type": "stream",
       "stream": "stdout",
       "text": [
        "\n",
        "Number of Orbitals: 9\n",
        "Number of Primitive Gaussians: 105\n",
        "Integration Complete in 0.0276839733124 seconds\n",
        "Number of Orbitals: 9\n",
        "Number of Primitive Gaussians: 105\n",
        "Integration Complete in 0.0301918983459 seconds"
       ]
      },
      {
       "output_type": "stream",
       "stream": "stdout",
       "text": [
        "\n",
        "Number of Orbitals: 9\n",
        "Number of Primitive Gaussians: 105\n",
        "Integration Complete in 0.0352559089661 seconds\n",
        "Number of Orbitals: 9\n",
        "Number of Primitive Gaussians: 105\n",
        "Integration Complete in 0.0268049240112 seconds"
       ]
      },
      {
       "output_type": "stream",
       "stream": "stdout",
       "text": [
        "\n",
        "Number of Orbitals: 9\n",
        "Number of Primitive Gaussians: 105\n",
        "Integration Complete in 0.030149936676 seconds\n",
        "Number of Orbitals: 9\n",
        "Number of Primitive Gaussians: 105\n",
        "Integration Complete in 0.0269510746002 seconds"
       ]
      },
      {
       "output_type": "stream",
       "stream": "stdout",
       "text": [
        "\n",
        "Number of Orbitals: 9\n",
        "Number of Primitive Gaussians: 105\n",
        "Integration Complete in 0.0275440216064 seconds\n",
        "Number of Orbitals: 9\n",
        "Number of Primitive Gaussians: 105\n",
        "Integration Complete in 0.0269131660461 seconds"
       ]
      },
      {
       "output_type": "stream",
       "stream": "stdout",
       "text": [
        "\n",
        "Number of Orbitals: 9\n",
        "Number of Primitive Gaussians: 105\n",
        "Integration Complete in 0.0277390480042 seconds\n",
        "Number of Orbitals: 9\n",
        "Number of Primitive Gaussians: 105\n",
        "Integration Complete in 0.0268201828003 seconds"
       ]
      },
      {
       "output_type": "stream",
       "stream": "stdout",
       "text": [
        "\n",
        "Number of Orbitals: 9\n",
        "Number of Primitive Gaussians: 105\n",
        "Integration Complete in 0.0278460979462 seconds\n",
        "Number of Orbitals: 9\n",
        "Number of Primitive Gaussians: 105\n",
        "Integration Complete in 0.0268139839172 seconds"
       ]
      },
      {
       "output_type": "stream",
       "stream": "stdout",
       "text": [
        "\n",
        "Number of Orbitals: 9\n",
        "Number of Primitive Gaussians: 105\n",
        "Integration Complete in 0.0351731777191 seconds\n",
        "Number of Orbitals: 9\n",
        "Number of Primitive Gaussians: 105\n",
        "Integration Complete in 0.0271348953247 seconds"
       ]
      },
      {
       "output_type": "stream",
       "stream": "stdout",
       "text": [
        "\n",
        "Number of Orbitals: 9\n",
        "Number of Primitive Gaussians: 105\n",
        "Integration Complete in 0.0268709659576 seconds\n",
        "Number of Orbitals: 9\n",
        "Number of Primitive Gaussians: 105\n",
        "Integration Complete in 0.0270190238953 seconds"
       ]
      },
      {
       "output_type": "stream",
       "stream": "stdout",
       "text": [
        "\n",
        "Number of Orbitals: 9\n",
        "Number of Primitive Gaussians: 105\n",
        "Integration Complete in 0.029107093811 seconds\n",
        "Number of Orbitals: 9\n",
        "Number of Primitive Gaussians: 105\n",
        "Integration Complete in 0.0270102024078 seconds"
       ]
      },
      {
       "output_type": "stream",
       "stream": "stdout",
       "text": [
        "\n",
        "Number of Orbitals: 9\n",
        "Number of Primitive Gaussians: 105\n",
        "Integration Complete in 0.0287189483643 seconds\n",
        "Number of Orbitals: 9\n",
        "Number of Primitive Gaussians: 105\n",
        "Integration Complete in 0.0269649028778 seconds"
       ]
      },
      {
       "output_type": "stream",
       "stream": "stdout",
       "text": [
        "\n",
        "Number of Orbitals: 9\n",
        "Number of Primitive Gaussians: 105\n",
        "Integration Complete in 0.0286049842834 seconds\n",
        "Number of Orbitals: 9\n",
        "Number of Primitive Gaussians: 105\n",
        "Integration Complete in 0.0317840576172 seconds"
       ]
      },
      {
       "output_type": "stream",
       "stream": "stdout",
       "text": [
        "\n",
        "Number of Orbitals: 9\n",
        "Number of Primitive Gaussians: 105\n",
        "Integration Complete in 0.0296070575714 seconds\n",
        "Number of Orbitals: 9\n",
        "Number of Primitive Gaussians: 105\n",
        "Integration Complete in 0.0270209312439 seconds"
       ]
      },
      {
       "output_type": "stream",
       "stream": "stdout",
       "text": [
        "\n",
        "Number of Orbitals: 9\n",
        "Number of Primitive Gaussians: 105\n",
        "Integration Complete in 0.0279757976532 seconds\n",
        "Number of Orbitals: 9\n",
        "Number of Primitive Gaussians: 105\n",
        "Integration Complete in 0.0269370079041 seconds"
       ]
      },
      {
       "output_type": "stream",
       "stream": "stdout",
       "text": [
        "\n",
        "Number of Orbitals: 9\n",
        "Number of Primitive Gaussians: 105\n",
        "Integration Complete in 0.0281291007996 seconds\n",
        "Number of Orbitals: 9\n",
        "Number of Primitive Gaussians: 105\n",
        "Integration Complete in 0.0269842147827 seconds"
       ]
      },
      {
       "output_type": "stream",
       "stream": "stdout",
       "text": [
        "\n",
        "Number of Orbitals: 9\n",
        "Number of Primitive Gaussians: 105\n",
        "Integration Complete in 0.0294909477234 seconds\n",
        "Number of Orbitals: 9\n",
        "Number of Primitive Gaussians: 105\n",
        "Integration Complete in 0.0269620418549 seconds"
       ]
      },
      {
       "output_type": "stream",
       "stream": "stdout",
       "text": [
        "\n",
        "Number of Orbitals: 9\n",
        "Number of Primitive Gaussians: 105\n",
        "Integration Complete in 0.0284740924835 seconds\n",
        "Number of Orbitals: 9\n",
        "Number of Primitive Gaussians: 105\n",
        "Integration Complete in 0.0269381999969 seconds"
       ]
      },
      {
       "output_type": "stream",
       "stream": "stdout",
       "text": [
        "\n",
        "Number of Orbitals: 9\n",
        "Number of Primitive Gaussians: 105\n",
        "Integration Complete in 0.030198097229 seconds\n",
        "Number of Orbitals: 9\n",
        "Number of Primitive Gaussians: 105\n",
        "Integration Complete in 0.0269978046417 seconds"
       ]
      },
      {
       "output_type": "stream",
       "stream": "stdout",
       "text": [
        "\n",
        "Number of Orbitals: 9\n",
        "Number of Primitive Gaussians: 105\n",
        "Integration Complete in 0.0287840366364 seconds\n",
        "Number of Orbitals: 9\n",
        "Number of Primitive Gaussians: 105\n",
        "Integration Complete in 0.0268149375916 seconds"
       ]
      },
      {
       "output_type": "stream",
       "stream": "stdout",
       "text": [
        "\n",
        "Number of Orbitals: 9\n",
        "Number of Primitive Gaussians: 105\n",
        "Integration Complete in 0.0296430587769 seconds\n",
        "Number of Orbitals: 9\n",
        "Number of Primitive Gaussians: 105\n",
        "Integration Complete in 0.028440952301 seconds"
       ]
      },
      {
       "output_type": "stream",
       "stream": "stdout",
       "text": [
        "\n",
        "Number of Orbitals: 9\n",
        "Number of Primitive Gaussians: 105\n",
        "Integration Complete in 0.0317618846893 seconds\n",
        "Number of Orbitals: 9\n",
        "Number of Primitive Gaussians: 105\n",
        "Integration Complete in 0.0267181396484 seconds"
       ]
      },
      {
       "output_type": "stream",
       "stream": "stdout",
       "text": [
        "\n",
        "Number of Orbitals: 9\n",
        "Number of Primitive Gaussians: 105\n",
        "Integration Complete in 0.0297842025757 seconds\n",
        "Number of Orbitals: 9\n",
        "Number of Primitive Gaussians: 105\n",
        "Integration Complete in 0.0268878936768 seconds"
       ]
      },
      {
       "output_type": "stream",
       "stream": "stdout",
       "text": [
        "\n",
        "Number of Orbitals: 9\n",
        "Number of Primitive Gaussians: 105\n",
        "Integration Complete in 0.0302300453186 seconds\n",
        "Number of Orbitals: 9\n",
        "Number of Primitive Gaussians: 105\n",
        "Integration Complete in 0.0267210006714 seconds"
       ]
      },
      {
       "output_type": "stream",
       "stream": "stdout",
       "text": [
        "\n",
        "Number of Orbitals: 9\n",
        "Number of Primitive Gaussians: 105\n",
        "Integration Complete in 0.0295691490173 seconds\n",
        "Number of Orbitals: 9\n",
        "Number of Primitive Gaussians: 105\n",
        "Integration Complete in 0.0267670154572 seconds"
       ]
      },
      {
       "output_type": "stream",
       "stream": "stdout",
       "text": [
        "\n",
        "Number of Orbitals: 9\n",
        "Number of Primitive Gaussians: 105\n",
        "Integration Complete in 0.0295841693878 seconds\n",
        "Number of Orbitals: 9\n",
        "Number of Primitive Gaussians: 105\n",
        "Integration Complete in 0.0267219543457 seconds"
       ]
      },
      {
       "output_type": "stream",
       "stream": "stdout",
       "text": [
        "\n",
        "Number of Orbitals: 9\n",
        "Number of Primitive Gaussians: 105\n",
        "Integration Complete in 0.0296568870544 seconds\n",
        "Number of Orbitals: 9\n",
        "Number of Primitive Gaussians: 105\n",
        "Integration Complete in 0.0267128944397 seconds"
       ]
      },
      {
       "output_type": "stream",
       "stream": "stdout",
       "text": [
        "\n",
        "Number of Orbitals: 9\n",
        "Number of Primitive Gaussians: 105\n",
        "Integration Complete in 0.0295259952545 seconds\n",
        "Number of Orbitals: 9\n",
        "Number of Primitive Gaussians: 105\n",
        "Integration Complete in 0.0267548561096 seconds"
       ]
      },
      {
       "output_type": "stream",
       "stream": "stdout",
       "text": [
        "\n",
        "Number of Orbitals: 9\n",
        "Number of Primitive Gaussians: 105\n",
        "Integration Complete in 0.0375490188599 seconds\n",
        "Number of Orbitals: 9\n",
        "Number of Primitive Gaussians: 105\n",
        "Integration Complete in 0.0267288684845 seconds"
       ]
      },
      {
       "output_type": "stream",
       "stream": "stdout",
       "text": [
        "\n",
        "Number of Orbitals: 9\n",
        "Number of Primitive Gaussians: 105\n",
        "Integration Complete in 0.0293910503387 seconds\n",
        "Number of Orbitals: 9\n",
        "Number of Primitive Gaussians: 105\n",
        "Integration Complete in 0.0267069339752 seconds"
       ]
      },
      {
       "output_type": "stream",
       "stream": "stdout",
       "text": [
        "\n",
        "Number of Orbitals: 9\n",
        "Number of Primitive Gaussians: 105\n",
        "Integration Complete in 0.0292270183563 seconds\n",
        "Number of Orbitals: 9\n",
        "Number of Primitive Gaussians: 105\n",
        "Integration Complete in 0.0268077850342 seconds"
       ]
      },
      {
       "output_type": "stream",
       "stream": "stdout",
       "text": [
        "\n",
        "Number of Orbitals: 9\n",
        "Number of Primitive Gaussians: 105\n",
        "Integration Complete in 0.0292060375214 seconds\n",
        "Number of Orbitals: 9\n",
        "Number of Primitive Gaussians: 105\n",
        "Integration Complete in 0.0267369747162 seconds"
       ]
      },
      {
       "output_type": "stream",
       "stream": "stdout",
       "text": [
        "\n",
        "Number of Orbitals: 9\n",
        "Number of Primitive Gaussians: 105\n",
        "Integration Complete in 0.0291390419006 seconds\n",
        "Number of Orbitals: 9\n",
        "Number of Primitive Gaussians: 105\n",
        "Integration Complete in 0.0267601013184 seconds"
       ]
      },
      {
       "output_type": "stream",
       "stream": "stdout",
       "text": [
        "\n",
        "Number of Orbitals: 9\n",
        "Number of Primitive Gaussians: 105\n",
        "Integration Complete in 0.0292370319366 seconds\n",
        "Number of Orbitals: 9\n",
        "Number of Primitive Gaussians: 105\n",
        "Integration Complete in 0.0268049240112 seconds"
       ]
      },
      {
       "output_type": "stream",
       "stream": "stdout",
       "text": [
        "\n",
        "Number of Orbitals: 9\n",
        "Number of Primitive Gaussians: 105\n",
        "Integration Complete in 0.0292930603027 seconds\n",
        "Number of Orbitals: 9\n",
        "Number of Primitive Gaussians: 105\n",
        "Integration Complete in 0.0268239974976 seconds"
       ]
      },
      {
       "output_type": "stream",
       "stream": "stdout",
       "text": [
        "\n",
        "Number of Orbitals: 9\n",
        "Number of Primitive Gaussians: 105\n",
        "Integration Complete in 0.0292468070984 seconds\n",
        "Number of Orbitals: 9\n",
        "Number of Primitive Gaussians: 105\n",
        "Integration Complete in 0.0268008708954 seconds"
       ]
      },
      {
       "output_type": "stream",
       "stream": "stdout",
       "text": [
        "\n",
        "Number of Orbitals: 9\n",
        "Number of Primitive Gaussians: 105\n",
        "Integration Complete in 0.0291419029236 seconds\n",
        "Number of Orbitals: 9\n",
        "Number of Primitive Gaussians: 105\n",
        "Integration Complete in 0.0268161296844 seconds"
       ]
      },
      {
       "output_type": "stream",
       "stream": "stdout",
       "text": [
        "\n",
        "Number of Orbitals: 9\n",
        "Number of Primitive Gaussians: 105\n",
        "Integration Complete in 0.0286848545074 seconds\n",
        "Number of Orbitals: 9\n",
        "Number of Primitive Gaussians: 105\n",
        "Integration Complete in 0.0268819332123 seconds"
       ]
      },
      {
       "output_type": "stream",
       "stream": "stdout",
       "text": [
        "\n",
        "Number of Orbitals: 9\n",
        "Number of Primitive Gaussians: 105\n",
        "Integration Complete in 0.0278568267822 seconds\n",
        "Number of Orbitals: 9\n",
        "Number of Primitive Gaussians: 105\n",
        "Integration Complete in 0.027204990387 seconds"
       ]
      },
      {
       "output_type": "stream",
       "stream": "stdout",
       "text": [
        "\n",
        "Number of Orbitals: 9\n",
        "Number of Primitive Gaussians: 105\n",
        "Integration Complete in 0.0278799533844 seconds\n",
        "Number of Orbitals: 9\n",
        "Number of Primitive Gaussians: 105\n",
        "Integration Complete in 0.0268881320953 seconds"
       ]
      },
      {
       "output_type": "stream",
       "stream": "stdout",
       "text": [
        "\n",
        "Number of Orbitals: 9\n",
        "Number of Primitive Gaussians: 105\n",
        "Integration Complete in 0.0277462005615 seconds\n",
        "Number of Orbitals: 9\n",
        "Number of Primitive Gaussians: 105\n",
        "Integration Complete in 0.0276939868927 seconds"
       ]
      },
      {
       "output_type": "stream",
       "stream": "stdout",
       "text": [
        "\n",
        "Number of Orbitals: 9\n",
        "Number of Primitive Gaussians: 105\n",
        "Integration Complete in 0.0275480747223 seconds\n",
        "Number of Orbitals: 9\n",
        "Number of Primitive Gaussians: 105\n",
        "Integration Complete in 0.0284821987152 seconds"
       ]
      },
      {
       "output_type": "stream",
       "stream": "stdout",
       "text": [
        "\n",
        "Number of Orbitals: 9\n",
        "Number of Primitive Gaussians: 105\n",
        "Integration Complete in 0.0274758338928 seconds\n",
        "Number of Orbitals: 9\n",
        "Number of Primitive Gaussians: 105\n",
        "Integration Complete in 0.0283410549164 seconds"
       ]
      },
      {
       "output_type": "stream",
       "stream": "stdout",
       "text": [
        "\n",
        "Number of Orbitals: 9\n",
        "Number of Primitive Gaussians: 105\n",
        "Integration Complete in 0.0276160240173 seconds\n",
        "Number of Orbitals: 9\n",
        "Number of Primitive Gaussians: 105\n",
        "Integration Complete in 0.039813041687 seconds"
       ]
      },
      {
       "output_type": "stream",
       "stream": "stdout",
       "text": [
        "\n",
        "Number of Orbitals: 9\n",
        "Number of Primitive Gaussians: 105\n",
        "Integration Complete in 0.0267329216003 seconds\n",
        "Number of Orbitals: 9\n",
        "Number of Primitive Gaussians: 105\n",
        "Integration Complete in 0.0368890762329 seconds"
       ]
      },
      {
       "output_type": "stream",
       "stream": "stdout",
       "text": [
        "\n",
        "Number of Orbitals: 9\n",
        "Number of Primitive Gaussians: 105\n",
        "Integration Complete in 0.0326800346375 seconds\n",
        "Number of Orbitals: 9\n",
        "Number of Primitive Gaussians: 105\n",
        "Integration Complete in 0.0270049571991 seconds"
       ]
      },
      {
       "output_type": "stream",
       "stream": "stdout",
       "text": [
        "\n",
        "Number of Orbitals: 9\n",
        "Number of Primitive Gaussians: 105\n",
        "Integration Complete in 0.0339939594269 seconds\n",
        "Number of Orbitals: 9\n",
        "Number of Primitive Gaussians: 105\n",
        "Integration Complete in 0.0270919799805 seconds"
       ]
      },
      {
       "output_type": "stream",
       "stream": "stdout",
       "text": [
        "\n",
        "Number of Orbitals: 9\n",
        "Number of Primitive Gaussians: 105\n",
        "Integration Complete in 0.03968501091 seconds\n",
        "Number of Orbitals: 9\n",
        "Number of Primitive Gaussians: 105\n",
        "Integration Complete in 0.026927947998 seconds"
       ]
      },
      {
       "output_type": "stream",
       "stream": "stdout",
       "text": [
        "\n",
        "Number of Orbitals: 9\n",
        "Number of Primitive Gaussians: 105\n",
        "Integration Complete in 0.0338799953461 seconds\n",
        "Number of Orbitals: 9\n",
        "Number of Primitive Gaussians: 105\n",
        "Integration Complete in 0.0271079540253 seconds"
       ]
      },
      {
       "output_type": "stream",
       "stream": "stdout",
       "text": [
        "\n",
        "Number of Orbitals: 9\n",
        "Number of Primitive Gaussians: 105\n",
        "Integration Complete in 0.0271189212799 seconds\n",
        "Number of Orbitals: 9\n",
        "Number of Primitive Gaussians: 105\n",
        "Integration Complete in 0.0304291248322 seconds"
       ]
      },
      {
       "output_type": "stream",
       "stream": "stdout",
       "text": [
        "\n",
        "Number of Orbitals: 9\n",
        "Number of Primitive Gaussians: 105\n",
        "Integration Complete in 0.0271661281586 seconds\n",
        "Number of Orbitals: 9\n",
        "Number of Primitive Gaussians: 105\n",
        "Integration Complete in 0.0363261699677 seconds"
       ]
      },
      {
       "output_type": "stream",
       "stream": "stdout",
       "text": [
        "\n",
        "Number of Orbitals: 9\n",
        "Number of Primitive Gaussians: 105\n",
        "Integration Complete in 0.029137134552 seconds\n",
        "Number of Orbitals: 9\n",
        "Number of Primitive Gaussians: 105\n",
        "Integration Complete in 0.0290892124176 seconds"
       ]
      },
      {
       "output_type": "stream",
       "stream": "stdout",
       "text": [
        "\n",
        "Number of Orbitals: 9\n",
        "Number of Primitive Gaussians: 105\n",
        "Integration Complete in 0.0361099243164 seconds\n",
        "Number of Orbitals: 9\n",
        "Number of Primitive Gaussians: 105\n",
        "Integration Complete in 0.0290751457214 seconds"
       ]
      },
      {
       "output_type": "stream",
       "stream": "stdout",
       "text": [
        "\n",
        "Number of Orbitals: 9\n",
        "Number of Primitive Gaussians: 105\n",
        "Integration Complete in 0.0290520191193 seconds\n",
        "Number of Orbitals: 9\n",
        "Number of Primitive Gaussians: 105\n",
        "Integration Complete in 0.0281410217285 seconds"
       ]
      },
      {
       "output_type": "stream",
       "stream": "stdout",
       "text": [
        "\n",
        "Number of Orbitals: 9\n",
        "Number of Primitive Gaussians: 105\n",
        "Integration Complete in 0.0317099094391 seconds\n",
        "Number of Orbitals: 9\n",
        "Number of Primitive Gaussians: 105\n",
        "Integration Complete in 0.028892993927 seconds"
       ]
      },
      {
       "output_type": "stream",
       "stream": "stdout",
       "text": [
        "\n",
        "Number of Orbitals: 9\n",
        "Number of Primitive Gaussians: 105\n",
        "Integration Complete in 0.0286769866943 seconds\n",
        "Number of Orbitals: 9\n",
        "Number of Primitive Gaussians: 105\n",
        "Integration Complete in 0.0286900997162 seconds"
       ]
      },
      {
       "output_type": "stream",
       "stream": "stdout",
       "text": [
        "\n",
        "Number of Orbitals: 9\n",
        "Number of Primitive Gaussians: 105\n",
        "Integration Complete in 0.0323350429535 seconds\n",
        "Number of Orbitals: 9\n",
        "Number of Primitive Gaussians: 105\n",
        "Integration Complete in 0.0289268493652 seconds"
       ]
      },
      {
       "output_type": "stream",
       "stream": "stdout",
       "text": [
        "\n",
        "Number of Orbitals: 9\n",
        "Number of Primitive Gaussians: 105\n",
        "Integration Complete in 0.0296680927277 seconds\n",
        "Number of Orbitals: 9\n",
        "Number of Primitive Gaussians: 105\n",
        "Integration Complete in 0.0301380157471 seconds"
       ]
      },
      {
       "output_type": "stream",
       "stream": "stdout",
       "text": [
        "\n",
        "Number of Orbitals: 9\n",
        "Number of Primitive Gaussians: 105\n",
        "Integration Complete in 0.0316689014435 seconds\n",
        "Number of Orbitals: 9\n",
        "Number of Primitive Gaussians: 105\n",
        "Integration Complete in 0.0286779403687 seconds"
       ]
      },
      {
       "output_type": "stream",
       "stream": "stdout",
       "text": [
        "\n",
        "Number of Orbitals: 9\n",
        "Number of Primitive Gaussians: 105\n",
        "Integration Complete in 0.0286600589752 seconds\n",
        "Number of Orbitals: 9\n",
        "Number of Primitive Gaussians: 105\n",
        "Integration Complete in 0.0292618274689 seconds"
       ]
      },
      {
       "output_type": "stream",
       "stream": "stdout",
       "text": [
        "\n",
        "Number of Orbitals: 9\n",
        "Number of Primitive Gaussians: 105\n",
        "Integration Complete in 0.0319008827209 seconds\n",
        "Number of Orbitals: 9\n",
        "Number of Primitive Gaussians: 105\n",
        "Integration Complete in 0.0280618667603 seconds"
       ]
      },
      {
       "output_type": "stream",
       "stream": "stdout",
       "text": [
        "\n",
        "Number of Orbitals: 9\n",
        "Number of Primitive Gaussians: 105\n",
        "Integration Complete in 0.0443971157074 seconds"
       ]
      },
      {
       "output_type": "stream",
       "stream": "stdout",
       "text": [
        "\n",
        "Number of Orbitals: 9\n",
        "Number of Primitive Gaussians: 105\n",
        "Integration Complete in 0.0456109046936 seconds"
       ]
      },
      {
       "output_type": "stream",
       "stream": "stdout",
       "text": [
        "\n",
        "Number of Orbitals: 9\n",
        "Number of Primitive Gaussians: 105\n",
        "Integration Complete in 0.0409979820251 seconds\n",
        "Number of Orbitals: 9"
       ]
      },
      {
       "output_type": "stream",
       "stream": "stdout",
       "text": [
        "\n",
        "Number of Primitive Gaussians: 105\n",
        "Integration Complete in 0.0269439220428 seconds\n",
        "Number of Orbitals: 9\n",
        "Number of Primitive Gaussians: 105\n",
        "Integration Complete in 0.0269589424133 seconds"
       ]
      },
      {
       "output_type": "stream",
       "stream": "stdout",
       "text": [
        "\n",
        "Number of Orbitals: 9\n",
        "Number of Primitive Gaussians: 105\n",
        "Integration Complete in 0.0268819332123 seconds\n",
        "Number of Orbitals: 9\n",
        "Number of Primitive Gaussians: 105\n",
        "Integration Complete in 0.0267820358276 seconds"
       ]
      },
      {
       "output_type": "stream",
       "stream": "stdout",
       "text": [
        "\n",
        "Number of Orbitals: 9\n",
        "Number of Primitive Gaussians: 105\n",
        "Integration Complete in 0.0269191265106 seconds\n",
        "Number of Orbitals: 9\n",
        "Number of Primitive Gaussians: 105\n",
        "Integration Complete in 0.0271999835968 seconds"
       ]
      },
      {
       "output_type": "stream",
       "stream": "stdout",
       "text": [
        "\n",
        "Number of Orbitals: 9\n",
        "Number of Primitive Gaussians: 105\n",
        "Integration Complete in 0.0288858413696 seconds\n",
        "Number of Orbitals: 9\n",
        "Number of Primitive Gaussians: 105\n",
        "Integration Complete in 0.0267980098724 seconds"
       ]
      },
      {
       "output_type": "stream",
       "stream": "stdout",
       "text": [
        "\n",
        "Number of Orbitals: 9\n",
        "Number of Primitive Gaussians: 105\n",
        "Integration Complete in 0.0269889831543 seconds\n",
        "Number of Orbitals: 9\n",
        "Number of Primitive Gaussians: 105\n",
        "Integration Complete in 0.0269110202789 seconds"
       ]
      },
      {
       "output_type": "stream",
       "stream": "stdout",
       "text": [
        "\n",
        "Number of Orbitals: 9\n",
        "Number of Primitive Gaussians: 105\n",
        "Integration Complete in 0.034255027771 seconds\n",
        "Number of Orbitals: 9\n",
        "Number of Primitive Gaussians: 105\n",
        "Integration Complete in 0.027419090271 seconds"
       ]
      },
      {
       "output_type": "stream",
       "stream": "stdout",
       "text": [
        "\n",
        "Number of Orbitals: 9\n",
        "Number of Primitive Gaussians: 105\n",
        "Integration Complete in 0.0274968147278 seconds\n",
        "Number of Orbitals: 9\n",
        "Number of Primitive Gaussians: 105\n",
        "Integration Complete in 0.0269930362701 seconds"
       ]
      },
      {
       "output_type": "stream",
       "stream": "stdout",
       "text": [
        "\n",
        "Number of Orbitals: 9\n",
        "Number of Primitive Gaussians: 105\n",
        "Integration Complete in 0.0271129608154 seconds\n",
        "Number of Orbitals: 9\n",
        "Number of Primitive Gaussians: 105\n",
        "Integration Complete in 0.0269200801849 seconds"
       ]
      },
      {
       "output_type": "stream",
       "stream": "stdout",
       "text": [
        "\n",
        "Number of Orbitals: 9\n",
        "Number of Primitive Gaussians: 105\n",
        "Integration Complete in 0.0333449840546 seconds\n",
        "Number of Orbitals: 9\n",
        "Number of Primitive Gaussians: 105\n",
        "Integration Complete in 0.0270161628723 seconds"
       ]
      },
      {
       "output_type": "stream",
       "stream": "stdout",
       "text": [
        "\n",
        "Number of Orbitals: 9\n",
        "Number of Primitive Gaussians: 105\n",
        "Integration Complete in 0.0268969535828 seconds\n",
        "Number of Orbitals: 9\n",
        "Number of Primitive Gaussians: 105\n",
        "Integration Complete in 0.0271129608154 seconds"
       ]
      },
      {
       "output_type": "stream",
       "stream": "stdout",
       "text": [
        "\n",
        "Number of Orbitals: 9\n",
        "Number of Primitive Gaussians: 105\n",
        "Integration Complete in 0.0271461009979 seconds\n",
        "Number of Orbitals: 9\n",
        "Number of Primitive Gaussians: 105\n",
        "Integration Complete in 0.0342619419098 seconds"
       ]
      },
      {
       "output_type": "stream",
       "stream": "stdout",
       "text": [
        "\n",
        "Number of Orbitals: 9\n",
        "Number of Primitive Gaussians: 105\n",
        "Integration Complete in 0.0270600318909 seconds\n",
        "Number of Orbitals: 9\n",
        "Number of Primitive Gaussians: 105\n",
        "Integration Complete in 0.0273370742798 seconds"
       ]
      },
      {
       "output_type": "stream",
       "stream": "stdout",
       "text": [
        "\n",
        "Number of Orbitals: 9\n",
        "Number of Primitive Gaussians: 105\n",
        "Integration Complete in 0.026927947998 seconds\n",
        "Number of Orbitals: 9\n",
        "Number of Primitive Gaussians: 105\n",
        "Integration Complete in 0.034952878952 seconds"
       ]
      },
      {
       "output_type": "stream",
       "stream": "stdout",
       "text": [
        "\n",
        "Number of Orbitals: 9\n",
        "Number of Primitive Gaussians: 105\n",
        "Integration Complete in 0.026887178421 seconds\n",
        "Number of Orbitals: 9\n",
        "Number of Primitive Gaussians: 105\n",
        "Integration Complete in 0.0268080234528 seconds"
       ]
      },
      {
       "output_type": "stream",
       "stream": "stdout",
       "text": [
        "\n",
        "Number of Orbitals: 9\n",
        "Number of Primitive Gaussians: 105\n",
        "Integration Complete in 0.0297589302063 seconds\n",
        "Number of Orbitals: 9\n",
        "Number of Primitive Gaussians: 105\n",
        "Integration Complete in 0.0297329425812 seconds"
       ]
      },
      {
       "output_type": "stream",
       "stream": "stdout",
       "text": [
        "\n",
        "Number of Orbitals: 9\n",
        "Number of Primitive Gaussians: 105\n",
        "Integration Complete in 0.0269639492035 seconds\n",
        "Number of Orbitals: 9\n",
        "Number of Primitive Gaussians: 105\n",
        "Integration Complete in 0.0268340110779 seconds"
       ]
      },
      {
       "output_type": "stream",
       "stream": "stdout",
       "text": [
        "\n",
        "Number of Orbitals: 9\n",
        "Number of Primitive Gaussians: 105\n",
        "Integration Complete in 0.0345528125763 seconds\n",
        "Number of Orbitals: 9\n",
        "Number of Primitive Gaussians: 105\n",
        "Integration Complete in 0.0268309116364 seconds"
       ]
      },
      {
       "output_type": "stream",
       "stream": "stdout",
       "text": [
        "\n",
        "Number of Orbitals: 9\n",
        "Number of Primitive Gaussians: 105\n",
        "Integration Complete in 0.0270121097565 seconds\n",
        "Number of Orbitals: 9\n",
        "Number of Primitive Gaussians: 105\n",
        "Integration Complete in 0.0267610549927 seconds"
       ]
      },
      {
       "output_type": "stream",
       "stream": "stdout",
       "text": [
        "\n",
        "Number of Orbitals: 9\n",
        "Number of Primitive Gaussians: 105\n",
        "Integration Complete in 0.0349109172821 seconds\n",
        "Number of Orbitals: 9\n",
        "Number of Primitive Gaussians: 105\n",
        "Integration Complete in 0.0269060134888 seconds"
       ]
      },
      {
       "output_type": "stream",
       "stream": "stdout",
       "text": [
        "\n",
        "Number of Orbitals: 9\n",
        "Number of Primitive Gaussians: 105\n",
        "Integration Complete in 0.0269289016724 seconds\n",
        "Number of Orbitals: 9\n",
        "Number of Primitive Gaussians: 105\n",
        "Integration Complete in 0.0289158821106 seconds"
       ]
      },
      {
       "output_type": "stream",
       "stream": "stdout",
       "text": [
        "\n",
        "Number of Orbitals: 9\n",
        "Number of Primitive Gaussians: 105\n",
        "Integration Complete in 0.0302858352661 seconds\n",
        "Number of Orbitals: 9\n",
        "Number of Primitive Gaussians: 105\n",
        "Integration Complete in 0.0269470214844 seconds"
       ]
      },
      {
       "output_type": "stream",
       "stream": "stdout",
       "text": [
        "\n",
        "Number of Orbitals: 9\n",
        "Number of Primitive Gaussians: 105\n",
        "Integration Complete in 0.0268650054932 seconds\n",
        "Number of Orbitals: 9\n",
        "Number of Primitive Gaussians: 105\n",
        "Integration Complete in 0.0342690944672 seconds"
       ]
      },
      {
       "output_type": "stream",
       "stream": "stdout",
       "text": [
        "\n",
        "Number of Orbitals: 9\n",
        "Number of Primitive Gaussians: 105\n",
        "Integration Complete in 0.0371670722961 seconds\n",
        "Number of Orbitals: 9\n",
        "Number of Primitive Gaussians: 105\n",
        "Integration Complete in 0.0349700450897 seconds"
       ]
      },
      {
       "output_type": "stream",
       "stream": "stdout",
       "text": [
        "\n",
        "Number of Orbitals: 9\n",
        "Number of Primitive Gaussians: 105\n",
        "Integration Complete in 0.0279259681702 seconds\n",
        "Number of Orbitals: 9\n",
        "Number of Primitive Gaussians: 105\n",
        "Integration Complete in 0.0317280292511 seconds"
       ]
      },
      {
       "output_type": "stream",
       "stream": "stdout",
       "text": [
        "\n",
        "Number of Orbitals: 9\n",
        "Number of Primitive Gaussians: 105\n",
        "Integration Complete in 0.0306529998779 seconds\n",
        "Number of Orbitals: 9\n",
        "Number of Primitive Gaussians: 105\n",
        "Integration Complete in 0.0293200016022 seconds"
       ]
      },
      {
       "output_type": "stream",
       "stream": "stdout",
       "text": [
        "\n",
        "Number of Orbitals: 9\n",
        "Number of Primitive Gaussians: 105\n",
        "Integration Complete in 0.0317220687866 seconds\n",
        "Number of Orbitals: 9\n",
        "Number of Primitive Gaussians: 105\n",
        "Integration Complete in 0.0272538661957 seconds"
       ]
      },
      {
       "output_type": "stream",
       "stream": "stdout",
       "text": [
        "\n",
        "Number of Orbitals: 9\n",
        "Number of Primitive Gaussians: 105\n",
        "Integration Complete in 0.034627199173 seconds\n",
        "Number of Orbitals: 9\n",
        "Number of Primitive Gaussians: 105\n",
        "Integration Complete in 0.0268669128418 seconds"
       ]
      },
      {
       "output_type": "stream",
       "stream": "stdout",
       "text": [
        "\n",
        "Number of Orbitals: 9\n",
        "Number of Primitive Gaussians: 105\n",
        "Integration Complete in 0.0346360206604 seconds\n",
        "Number of Orbitals: 9\n",
        "Number of Primitive Gaussians: 105\n",
        "Integration Complete in 0.0268449783325 seconds"
       ]
      },
      {
       "output_type": "stream",
       "stream": "stdout",
       "text": [
        "\n",
        "Number of Orbitals: 9\n",
        "Number of Primitive Gaussians: 105\n",
        "Integration Complete in 0.0352468490601 seconds\n",
        "Number of Orbitals: 9\n",
        "Number of Primitive Gaussians: 105\n",
        "Integration Complete in 0.0267310142517 seconds"
       ]
      },
      {
       "output_type": "stream",
       "stream": "stdout",
       "text": [
        "\n",
        "Number of Orbitals: 9\n",
        "Number of Primitive Gaussians: 105\n",
        "Integration Complete in 0.0341620445251 seconds\n",
        "Number of Orbitals: 9\n",
        "Number of Primitive Gaussians: 105\n",
        "Integration Complete in 0.0270328521729 seconds"
       ]
      },
      {
       "output_type": "stream",
       "stream": "stdout",
       "text": [
        "\n",
        "Number of Orbitals: 9\n",
        "Number of Primitive Gaussians: 105\n",
        "Integration Complete in 0.0310900211334 seconds\n",
        "Number of Orbitals: 9\n",
        "Number of Primitive Gaussians: 105\n",
        "Integration Complete in 0.0270030498505 seconds"
       ]
      },
      {
       "output_type": "stream",
       "stream": "stdout",
       "text": [
        "\n",
        "Number of Orbitals: 9\n",
        "Number of Primitive Gaussians: 105\n",
        "Integration Complete in 0.0321199893951 seconds\n",
        "Number of Orbitals: 9\n",
        "Number of Primitive Gaussians: 105\n",
        "Integration Complete in 0.0290739536285 seconds"
       ]
      },
      {
       "output_type": "stream",
       "stream": "stdout",
       "text": [
        "\n",
        "Number of Orbitals: 9\n",
        "Number of Primitive Gaussians: 105\n",
        "Integration Complete in 0.0308599472046 seconds\n",
        "Number of Orbitals: 9\n",
        "Number of Primitive Gaussians: 105\n",
        "Integration Complete in 0.0272669792175 seconds"
       ]
      },
      {
       "output_type": "stream",
       "stream": "stdout",
       "text": [
        "\n",
        "Number of Orbitals: 9\n",
        "Number of Primitive Gaussians: 105\n",
        "Integration Complete in 0.0298709869385 seconds\n",
        "Number of Orbitals: 9\n",
        "Number of Primitive Gaussians: 105\n",
        "Integration Complete in 0.0272130966187 seconds"
       ]
      },
      {
       "output_type": "stream",
       "stream": "stdout",
       "text": [
        "\n",
        "Number of Orbitals: 9\n",
        "Number of Primitive Gaussians: 105\n",
        "Integration Complete in 0.0421121120453 seconds\n",
        "Number of Orbitals: 9"
       ]
      },
      {
       "output_type": "stream",
       "stream": "stdout",
       "text": [
        "\n",
        "Number of Primitive Gaussians: 105\n",
        "Integration Complete in 0.0334060192108 seconds\n",
        "Number of Orbitals: 9\n",
        "Number of Primitive Gaussians: 105\n",
        "Integration Complete in 0.0270290374756 seconds"
       ]
      },
      {
       "output_type": "stream",
       "stream": "stdout",
       "text": [
        "\n",
        "Number of Orbitals: 9\n",
        "Number of Primitive Gaussians: 105\n",
        "Integration Complete in 0.0277650356293 seconds\n",
        "Number of Orbitals: 9\n",
        "Number of Primitive Gaussians: 105\n",
        "Integration Complete in 0.0370330810547 seconds"
       ]
      },
      {
       "output_type": "stream",
       "stream": "stdout",
       "text": [
        "\n",
        "Number of Orbitals: 9\n",
        "Number of Primitive Gaussians: 105\n",
        "Integration Complete in 0.0281319618225 seconds\n",
        "Number of Orbitals: 9\n",
        "Number of Primitive Gaussians: 105\n",
        "Integration Complete in 0.0361981391907 seconds"
       ]
      },
      {
       "output_type": "stream",
       "stream": "stdout",
       "text": [
        "\n",
        "Number of Orbitals: 9\n",
        "Number of Primitive Gaussians: 105\n",
        "Integration Complete in 0.027951002121 seconds\n",
        "Number of Orbitals: 9\n",
        "Number of Primitive Gaussians: 105\n",
        "Integration Complete in 0.032557964325 seconds"
       ]
      },
      {
       "output_type": "stream",
       "stream": "stdout",
       "text": [
        "\n",
        "Number of Orbitals: 9\n",
        "Number of Primitive Gaussians: 105\n",
        "Integration Complete in 0.0293879508972 seconds\n",
        "Number of Orbitals: 9\n",
        "Number of Primitive Gaussians: 105\n",
        "Integration Complete in 0.0309529304504 seconds"
       ]
      },
      {
       "output_type": "stream",
       "stream": "stdout",
       "text": [
        "\n",
        "Number of Orbitals: 9\n",
        "Number of Primitive Gaussians: 105\n",
        "Integration Complete in 0.0324621200562 seconds\n",
        "Number of Orbitals: 9\n",
        "Number of Primitive Gaussians: 105\n",
        "Integration Complete in 0.0286118984222 seconds"
       ]
      },
      {
       "output_type": "stream",
       "stream": "stdout",
       "text": [
        "\n",
        "Number of Orbitals: 9\n",
        "Number of Primitive Gaussians: 105\n",
        "Integration Complete in 0.0304350852966 seconds\n",
        "Number of Orbitals: 9\n",
        "Number of Primitive Gaussians: 105\n",
        "Integration Complete in 0.0285120010376 seconds"
       ]
      },
      {
       "output_type": "stream",
       "stream": "stdout",
       "text": [
        "\n",
        "Number of Orbitals: 9\n",
        "Number of Primitive Gaussians: 105\n",
        "Integration Complete in 0.0297238826752 seconds\n",
        "Number of Orbitals: 9\n",
        "Number of Primitive Gaussians: 105\n",
        "Integration Complete in 0.0270221233368 seconds"
       ]
      },
      {
       "output_type": "stream",
       "stream": "stdout",
       "text": [
        "\n",
        "Number of Orbitals: 9\n",
        "Number of Primitive Gaussians: 105\n",
        "Integration Complete in 0.0277349948883 seconds\n",
        "Number of Orbitals: 9\n",
        "Number of Primitive Gaussians: 105\n",
        "Integration Complete in 0.0286090373993 seconds"
       ]
      },
      {
       "output_type": "stream",
       "stream": "stdout",
       "text": [
        "\n",
        "Number of Orbitals: 9\n",
        "Number of Primitive Gaussians: 105\n",
        "Integration Complete in 0.0272018909454 seconds\n",
        "Number of Orbitals: 9\n",
        "Number of Primitive Gaussians: 105\n",
        "Integration Complete in 0.0314080715179 seconds"
       ]
      },
      {
       "output_type": "stream",
       "stream": "stdout",
       "text": [
        "\n",
        "Number of Orbitals: 9\n",
        "Number of Primitive Gaussians: 105\n",
        "Integration Complete in 0.0269539356232 seconds\n",
        "Number of Orbitals: 9\n",
        "Number of Primitive Gaussians: 105\n",
        "Integration Complete in 0.0291731357574 seconds"
       ]
      },
      {
       "output_type": "stream",
       "stream": "stdout",
       "text": [
        "\n",
        "Number of Orbitals: 9\n",
        "Number of Primitive Gaussians: 105\n",
        "Integration Complete in 0.0268130302429 seconds\n",
        "Number of Orbitals: 9\n",
        "Number of Primitive Gaussians: 105\n",
        "Integration Complete in 0.0327599048615 seconds"
       ]
      },
      {
       "output_type": "stream",
       "stream": "stdout",
       "text": [
        "\n",
        "Number of Orbitals: 9\n",
        "Number of Primitive Gaussians: 105\n",
        "Integration Complete in 0.0284378528595 seconds\n",
        "Number of Orbitals: 9\n",
        "Number of Primitive Gaussians: 105\n",
        "Integration Complete in 0.0292689800262 seconds"
       ]
      },
      {
       "output_type": "stream",
       "stream": "stdout",
       "text": [
        "\n",
        "Number of Orbitals: 9\n",
        "Number of Primitive Gaussians: 105\n",
        "Integration Complete in 0.0268549919128 seconds\n",
        "Number of Orbitals: 9\n",
        "Number of Primitive Gaussians: 105\n",
        "Integration Complete in 0.0297000408173 seconds"
       ]
      },
      {
       "output_type": "stream",
       "stream": "stdout",
       "text": [
        "\n",
        "Number of Orbitals: 9\n",
        "Number of Primitive Gaussians: 105\n",
        "Integration Complete in 0.0275099277496 seconds\n",
        "Number of Orbitals: 9\n",
        "Number of Primitive Gaussians: 105\n",
        "Integration Complete in 0.0349659919739 seconds"
       ]
      },
      {
       "output_type": "stream",
       "stream": "stdout",
       "text": [
        "\n",
        "Number of Orbitals: 9\n",
        "Number of Primitive Gaussians: 105\n",
        "Integration Complete in 0.0270390510559 seconds\n",
        "Number of Orbitals: 9\n",
        "Number of Primitive Gaussians: 105\n",
        "Integration Complete in 0.0360541343689 seconds"
       ]
      },
      {
       "output_type": "stream",
       "stream": "stdout",
       "text": [
        "\n",
        "Number of Orbitals: 9\n",
        "Number of Primitive Gaussians: 105\n",
        "Integration Complete in 0.0272190570831 seconds\n",
        "Number of Orbitals: 9\n",
        "Number of Primitive Gaussians: 105\n",
        "Integration Complete in 0.0344860553741 seconds"
       ]
      },
      {
       "output_type": "stream",
       "stream": "stdout",
       "text": [
        "\n",
        "Number of Orbitals: 9\n",
        "Number of Primitive Gaussians: 105\n",
        "Integration Complete in 0.0291540622711 seconds\n",
        "Number of Orbitals: 9\n",
        "Number of Primitive Gaussians: 105\n",
        "Integration Complete in 0.0320219993591 seconds"
       ]
      },
      {
       "output_type": "stream",
       "stream": "stdout",
       "text": [
        "\n",
        "Number of Orbitals: 9\n",
        "Number of Primitive Gaussians: 105\n",
        "Integration Complete in 0.0331418514252 seconds\n",
        "Number of Orbitals: 9\n",
        "Number of Primitive Gaussians: 105\n",
        "Integration Complete in 0.0282800197601 seconds"
       ]
      },
      {
       "output_type": "stream",
       "stream": "stdout",
       "text": [
        "\n",
        "Number of Orbitals: 9\n",
        "Number of Primitive Gaussians: 105\n",
        "Integration Complete in 0.0292448997498 seconds\n",
        "Number of Orbitals: 9\n",
        "Number of Primitive Gaussians: 105\n",
        "Integration Complete in 0.0362529754639 seconds"
       ]
      },
      {
       "output_type": "stream",
       "stream": "stdout",
       "text": [
        "\n",
        "Number of Orbitals: 9\n",
        "Number of Primitive Gaussians: 105\n",
        "Integration Complete in 0.0281920433044 seconds\n",
        "Number of Orbitals: 9\n",
        "Number of Primitive Gaussians: 105\n",
        "Integration Complete in 0.0275421142578 seconds"
       ]
      },
      {
       "output_type": "stream",
       "stream": "stdout",
       "text": [
        "\n",
        "Number of Orbitals: 9\n",
        "Number of Primitive Gaussians: 105\n",
        "Integration Complete in 0.0277757644653 seconds\n",
        "Number of Orbitals: 9\n",
        "Number of Primitive Gaussians: 105\n",
        "Integration Complete in 0.0286829471588 seconds"
       ]
      },
      {
       "output_type": "stream",
       "stream": "stdout",
       "text": [
        "\n",
        "Number of Orbitals: 9\n",
        "Number of Primitive Gaussians: 105\n",
        "Integration Complete in 0.027086019516 seconds\n",
        "Number of Orbitals: 9\n",
        "Number of Primitive Gaussians: 105\n",
        "Integration Complete in 0.0274379253387 seconds"
       ]
      },
      {
       "output_type": "stream",
       "stream": "stdout",
       "text": [
        "\n",
        "Number of Orbitals: 9\n",
        "Number of Primitive Gaussians: 105\n",
        "Integration Complete in 0.0302169322968 seconds\n",
        "Number of Orbitals: 9\n",
        "Number of Primitive Gaussians: 105\n",
        "Integration Complete in 0.0353810787201 seconds"
       ]
      },
      {
       "output_type": "stream",
       "stream": "stdout",
       "text": [
        "\n",
        "Number of Orbitals: 9\n",
        "Number of Primitive Gaussians: 105\n",
        "Integration Complete in 0.0293371677399 seconds\n",
        "Number of Orbitals: 9\n",
        "Number of Primitive Gaussians: 105\n",
        "Integration Complete in 0.035001039505 seconds"
       ]
      },
      {
       "output_type": "stream",
       "stream": "stdout",
       "text": [
        "\n",
        "Number of Orbitals: 9\n",
        "Number of Primitive Gaussians: 105\n",
        "Integration Complete in 0.0316970348358 seconds\n",
        "Number of Orbitals: 9\n",
        "Number of Primitive Gaussians: 105\n",
        "Integration Complete in 0.0306701660156 seconds"
       ]
      },
      {
       "output_type": "stream",
       "stream": "stdout",
       "text": [
        "\n",
        "Number of Orbitals: 9\n",
        "Number of Primitive Gaussians: 105\n",
        "Integration Complete in 0.0282938480377 seconds\n",
        "Number of Orbitals: 9\n",
        "Number of Primitive Gaussians: 105\n",
        "Integration Complete in 0.0311648845673 seconds"
       ]
      },
      {
       "output_type": "stream",
       "stream": "stdout",
       "text": [
        "\n",
        "Number of Orbitals: 9\n",
        "Number of Primitive Gaussians: 105\n",
        "Integration Complete in 0.0303580760956 seconds\n",
        "Number of Orbitals: 9\n",
        "Number of Primitive Gaussians: 105\n",
        "Integration Complete in 0.0336179733276 seconds"
       ]
      },
      {
       "output_type": "stream",
       "stream": "stdout",
       "text": [
        "\n",
        "Number of Orbitals: 9\n",
        "Number of Primitive Gaussians: 105\n",
        "Integration Complete in 0.0303189754486 seconds\n",
        "Number of Orbitals: 9\n",
        "Number of Primitive Gaussians: 105\n",
        "Integration Complete in 0.0285711288452 seconds"
       ]
      },
      {
       "output_type": "stream",
       "stream": "stdout",
       "text": [
        "\n",
        "Number of Orbitals: 9\n",
        "Number of Primitive Gaussians: 105\n",
        "Integration Complete in 0.0275502204895 seconds\n",
        "Number of Orbitals: 9\n",
        "Number of Primitive Gaussians: 105\n",
        "Integration Complete in 0.0304639339447 seconds"
       ]
      },
      {
       "output_type": "stream",
       "stream": "stdout",
       "text": [
        "\n",
        "Number of Orbitals: 9\n",
        "Number of Primitive Gaussians: 105\n",
        "Integration Complete in 0.0270040035248 seconds\n",
        "Number of Orbitals: 9\n",
        "Number of Primitive Gaussians: 105\n",
        "Integration Complete in 0.0296590328217 seconds"
       ]
      },
      {
       "output_type": "stream",
       "stream": "stdout",
       "text": [
        "\n",
        "Number of Orbitals: 9\n",
        "Number of Primitive Gaussians: 105\n",
        "Integration Complete in 0.0270218849182 seconds\n",
        "Number of Orbitals: 9\n",
        "Number of Primitive Gaussians: 105\n",
        "Integration Complete in 0.029373884201 seconds"
       ]
      },
      {
       "output_type": "stream",
       "stream": "stdout",
       "text": [
        "\n",
        "Number of Orbitals: 9\n",
        "Number of Primitive Gaussians: 105\n",
        "Integration Complete in 0.0269989967346 seconds\n",
        "Number of Orbitals: 9\n",
        "Number of Primitive Gaussians: 105\n",
        "Integration Complete in 0.0363900661469 seconds"
       ]
      },
      {
       "output_type": "stream",
       "stream": "stdout",
       "text": [
        "\n",
        "Number of Orbitals: 9\n",
        "Number of Primitive Gaussians: 105\n",
        "Integration Complete in 0.0306708812714 seconds\n",
        "Number of Orbitals: 9\n",
        "Number of Primitive Gaussians: 105\n",
        "Integration Complete in 0.0395908355713 seconds"
       ]
      },
      {
       "output_type": "stream",
       "stream": "stdout",
       "text": [
        "\n",
        "Number of Orbitals: 9\n",
        "Number of Primitive Gaussians: 105\n",
        "Integration Complete in 0.028156042099 seconds\n",
        "Number of Orbitals: 9\n",
        "Number of Primitive Gaussians: 105\n",
        "Integration Complete in 0.0361180305481 seconds"
       ]
      },
      {
       "output_type": "stream",
       "stream": "stdout",
       "text": [
        "\n",
        "Number of Orbitals: 9\n",
        "Number of Primitive Gaussians: 105\n",
        "Integration Complete in 0.0270631313324 seconds\n",
        "Number of Orbitals: 9\n",
        "Number of Primitive Gaussians: 105\n",
        "Integration Complete in 0.0288581848145 seconds"
       ]
      },
      {
       "output_type": "stream",
       "stream": "stdout",
       "text": [
        "\n",
        "Number of Orbitals: 9\n",
        "Number of Primitive Gaussians: 105\n",
        "Integration Complete in 0.0267269611359 seconds\n",
        "Number of Orbitals: 9\n",
        "Number of Primitive Gaussians: 105\n",
        "Integration Complete in 0.0308659076691 seconds"
       ]
      },
      {
       "output_type": "stream",
       "stream": "stdout",
       "text": [
        "\n",
        "Number of Orbitals: 9\n",
        "Number of Primitive Gaussians: 105\n",
        "Integration Complete in 0.0268130302429 seconds\n",
        "Number of Orbitals: 9\n",
        "Number of Primitive Gaussians: 105\n",
        "Integration Complete in 0.0368349552155 seconds"
       ]
      },
      {
       "output_type": "stream",
       "stream": "stdout",
       "text": [
        "\n",
        "Number of Orbitals: 9\n",
        "Number of Primitive Gaussians: 105\n",
        "Integration Complete in 0.0268018245697 seconds\n",
        "Number of Orbitals: 9\n",
        "Number of Primitive Gaussians: 105\n",
        "Integration Complete in 0.035973072052 seconds"
       ]
      },
      {
       "output_type": "stream",
       "stream": "stdout",
       "text": [
        "\n",
        "Number of Orbitals: 9\n",
        "Number of Primitive Gaussians: 105\n",
        "Integration Complete in 0.0298368930817 seconds\n",
        "Number of Orbitals: 9\n",
        "Number of Primitive Gaussians: 105\n",
        "Integration Complete in 0.0302069187164 seconds"
       ]
      },
      {
       "output_type": "stream",
       "stream": "stdout",
       "text": [
        "\n",
        "Number of Orbitals: 9\n",
        "Number of Primitive Gaussians: 105\n",
        "Integration Complete in 0.0317649841309 seconds\n",
        "Number of Orbitals: 9\n",
        "Number of Primitive Gaussians: 105\n",
        "Integration Complete in 0.029237985611 seconds"
       ]
      },
      {
       "output_type": "stream",
       "stream": "stdout",
       "text": [
        "\n",
        "Number of Orbitals: 9\n",
        "Number of Primitive Gaussians: 105\n",
        "Integration Complete in 0.0293309688568 seconds\n",
        "Number of Orbitals: 9\n",
        "Number of Primitive Gaussians: 105\n",
        "Integration Complete in 0.0275061130524 seconds"
       ]
      },
      {
       "output_type": "stream",
       "stream": "stdout",
       "text": [
        "\n",
        "Number of Orbitals: 9\n",
        "Number of Primitive Gaussians: 105\n",
        "Integration Complete in 0.0272371768951 seconds\n",
        "Number of Orbitals: 9\n",
        "Number of Primitive Gaussians: 105\n",
        "Integration Complete in 0.0299317836761 seconds"
       ]
      },
      {
       "output_type": "stream",
       "stream": "stdout",
       "text": [
        "\n",
        "Number of Orbitals: 9\n",
        "Number of Primitive Gaussians: 105\n",
        "Integration Complete in 0.0269079208374 seconds\n",
        "Number of Orbitals: 9\n",
        "Number of Primitive Gaussians: 105\n",
        "Integration Complete in 0.029415845871 seconds"
       ]
      },
      {
       "output_type": "stream",
       "stream": "stdout",
       "text": [
        "\n",
        "Number of Orbitals: 9\n",
        "Number of Primitive Gaussians: 105\n",
        "Integration Complete in 0.0268259048462 seconds\n",
        "Number of Orbitals: 9\n",
        "Number of Primitive Gaussians: 105\n",
        "Integration Complete in 0.0294528007507 seconds"
       ]
      },
      {
       "output_type": "stream",
       "stream": "stdout",
       "text": [
        "\n",
        "Number of Orbitals: 9\n",
        "Number of Primitive Gaussians: 105\n",
        "Integration Complete in 0.0314431190491 seconds\n",
        "Number of Orbitals: 9\n",
        "Number of Primitive Gaussians: 105\n",
        "Integration Complete in 0.0299530029297 seconds"
       ]
      },
      {
       "output_type": "stream",
       "stream": "stdout",
       "text": [
        "\n",
        "Number of Orbitals: 9\n",
        "Number of Primitive Gaussians: 105\n",
        "Integration Complete in 0.0268380641937 seconds\n",
        "Number of Orbitals: 9\n",
        "Number of Primitive Gaussians: 105\n",
        "Integration Complete in 0.0281329154968 seconds"
       ]
      },
      {
       "output_type": "stream",
       "stream": "stdout",
       "text": [
        "\n",
        "Number of Orbitals: 9\n",
        "Number of Primitive Gaussians: 105\n",
        "Integration Complete in 0.0272669792175 seconds\n",
        "Number of Orbitals: 9\n",
        "Number of Primitive Gaussians: 105\n",
        "Integration Complete in 0.0318970680237 seconds"
       ]
      },
      {
       "output_type": "stream",
       "stream": "stdout",
       "text": [
        "\n",
        "Number of Orbitals: 9\n",
        "Number of Primitive Gaussians: 105\n",
        "Integration Complete in 0.0268731117249 seconds\n",
        "Number of Orbitals: 9\n",
        "Number of Primitive Gaussians: 105\n",
        "Integration Complete in 0.0289340019226 seconds"
       ]
      },
      {
       "output_type": "stream",
       "stream": "stdout",
       "text": [
        "\n",
        "Number of Orbitals: 9\n",
        "Number of Primitive Gaussians: 105\n",
        "Integration Complete in 0.0273599624634 seconds\n",
        "Number of Orbitals: 9\n",
        "Number of Primitive Gaussians: 105\n",
        "Integration Complete in 0.0271670818329 seconds"
       ]
      },
      {
       "output_type": "stream",
       "stream": "stdout",
       "text": [
        "\n",
        "Number of Orbitals: 9\n",
        "Number of Primitive Gaussians: 105\n",
        "Integration Complete in 0.0271830558777 seconds\n",
        "Number of Orbitals: 9\n",
        "Number of Primitive Gaussians: 105\n",
        "Integration Complete in 0.0294239521027 seconds"
       ]
      },
      {
       "output_type": "stream",
       "stream": "stdout",
       "text": [
        "\n",
        "Number of Orbitals: 9\n",
        "Number of Primitive Gaussians: 105\n",
        "Integration Complete in 0.0285851955414 seconds\n",
        "Number of Orbitals: 9\n",
        "Number of Primitive Gaussians: 105\n",
        "Integration Complete in 0.0279598236084 seconds"
       ]
      },
      {
       "output_type": "stream",
       "stream": "stdout",
       "text": [
        "\n",
        "Number of Orbitals: 9\n",
        "Number of Primitive Gaussians: 105\n",
        "Integration Complete in 0.0270099639893 seconds\n",
        "Number of Orbitals: 9\n",
        "Number of Primitive Gaussians: 105\n",
        "Integration Complete in 0.0291738510132 seconds"
       ]
      },
      {
       "output_type": "stream",
       "stream": "stdout",
       "text": [
        "\n",
        "Number of Orbitals: 9\n",
        "Number of Primitive Gaussians: 105\n",
        "Integration Complete in 0.0313827991486 seconds\n",
        "Number of Orbitals: 9\n",
        "Number of Primitive Gaussians: 105\n",
        "Integration Complete in 0.0275540351868 seconds"
       ]
      },
      {
       "output_type": "stream",
       "stream": "stdout",
       "text": [
        "\n",
        "Number of Orbitals: 9\n",
        "Number of Primitive Gaussians: 105\n",
        "Integration Complete in 0.0281240940094 seconds\n",
        "Number of Orbitals: 9\n",
        "Number of Primitive Gaussians: 105\n",
        "Integration Complete in 0.0342597961426 seconds"
       ]
      },
      {
       "output_type": "stream",
       "stream": "stdout",
       "text": [
        "\n",
        "Number of Orbitals: 9\n",
        "Number of Primitive Gaussians: 105\n",
        "Integration Complete in 0.0268268585205 seconds\n",
        "Number of Orbitals: 9\n",
        "Number of Primitive Gaussians: 105\n",
        "Integration Complete in 0.0356330871582 seconds"
       ]
      },
      {
       "output_type": "stream",
       "stream": "stdout",
       "text": [
        "\n",
        "Number of Orbitals: 9\n",
        "Number of Primitive Gaussians: 105\n",
        "Integration Complete in 0.0280339717865 seconds\n",
        "Number of Orbitals: 9\n",
        "Number of Primitive Gaussians: 105\n",
        "Integration Complete in 0.0347471237183 seconds"
       ]
      },
      {
       "output_type": "stream",
       "stream": "stdout",
       "text": [
        "\n",
        "Number of Orbitals: 9\n",
        "Number of Primitive Gaussians: 105\n",
        "Integration Complete in 0.0274920463562 seconds\n",
        "Number of Orbitals: 9\n",
        "Number of Primitive Gaussians: 105\n",
        "Integration Complete in 0.0358560085297 seconds"
       ]
      },
      {
       "output_type": "stream",
       "stream": "stdout",
       "text": [
        "\n",
        "Number of Orbitals: 9\n",
        "Number of Primitive Gaussians: 105\n",
        "Integration Complete in 0.0269560813904 seconds\n",
        "Number of Orbitals: 9\n",
        "Number of Primitive Gaussians: 105\n",
        "Integration Complete in 0.0364429950714 seconds"
       ]
      },
      {
       "output_type": "stream",
       "stream": "stdout",
       "text": [
        "\n",
        "Number of Orbitals: 9\n",
        "Number of Primitive Gaussians: 105\n",
        "Integration Complete in 0.0269460678101 seconds\n",
        "Number of Orbitals: 9\n",
        "Number of Primitive Gaussians: 105\n",
        "Integration Complete in 0.0352971553802 seconds"
       ]
      },
      {
       "output_type": "stream",
       "stream": "stdout",
       "text": [
        "\n",
        "Number of Orbitals: 9\n",
        "Number of Primitive Gaussians: 105\n",
        "Integration Complete in 0.0275630950928 seconds\n",
        "Number of Orbitals: 9\n",
        "Number of Primitive Gaussians: 105\n",
        "Integration Complete in 0.0339579582214 seconds"
       ]
      },
      {
       "output_type": "stream",
       "stream": "stdout",
       "text": [
        "\n",
        "Number of Orbitals: 9\n",
        "Number of Primitive Gaussians: 105\n",
        "Integration Complete in 0.02956199646 seconds\n",
        "Number of Orbitals: 9\n",
        "Number of Primitive Gaussians: 105\n",
        "Integration Complete in 0.0309100151062 seconds"
       ]
      },
      {
       "output_type": "stream",
       "stream": "stdout",
       "text": [
        "\n",
        "Number of Orbitals: 9\n",
        "Number of Primitive Gaussians: 105\n",
        "Integration Complete in 0.0306289196014 seconds\n",
        "Number of Orbitals: 9\n",
        "Number of Primitive Gaussians: 105\n",
        "Integration Complete in 0.0297038555145 seconds"
       ]
      },
      {
       "output_type": "stream",
       "stream": "stdout",
       "text": [
        "\n",
        "Number of Orbitals: 9\n",
        "Number of Primitive Gaussians: 105\n",
        "Integration Complete in 0.0279610157013 seconds\n",
        "Number of Orbitals: 9\n",
        "Number of Primitive Gaussians: 105\n",
        "Integration Complete in 0.0329229831696 seconds"
       ]
      },
      {
       "output_type": "stream",
       "stream": "stdout",
       "text": [
        "\n",
        "Number of Orbitals: 9\n",
        "Number of Primitive Gaussians: 105\n",
        "Integration Complete in 0.0292670726776 seconds\n",
        "Number of Orbitals: 9\n",
        "Number of Primitive Gaussians: 105\n",
        "Integration Complete in 0.031534910202 seconds"
       ]
      },
      {
       "output_type": "stream",
       "stream": "stdout",
       "text": [
        "\n",
        "Number of Orbitals: 9\n",
        "Number of Primitive Gaussians: 105\n",
        "Integration Complete in 0.0277369022369 seconds\n",
        "Number of Orbitals: 9\n",
        "Number of Primitive Gaussians: 105\n",
        "Integration Complete in 0.0290179252625 seconds"
       ]
      },
      {
       "output_type": "stream",
       "stream": "stdout",
       "text": [
        "\n",
        "Number of Orbitals: 9\n",
        "Number of Primitive Gaussians: 105\n",
        "Integration Complete in 0.0269820690155 seconds\n",
        "Number of Orbitals: 9\n",
        "Number of Primitive Gaussians: 105\n",
        "Integration Complete in 0.029886007309 seconds"
       ]
      },
      {
       "output_type": "stream",
       "stream": "stdout",
       "text": [
        "\n",
        "Number of Orbitals: 9\n",
        "Number of Primitive Gaussians: 105\n",
        "Integration Complete in 0.0269508361816 seconds\n",
        "Number of Orbitals: 9\n",
        "Number of Primitive Gaussians: 105\n",
        "Integration Complete in 0.0317068099976 seconds"
       ]
      },
      {
       "output_type": "stream",
       "stream": "stdout",
       "text": [
        "\n",
        "Number of Orbitals: 9\n",
        "Number of Primitive Gaussians: 105\n",
        "Integration Complete in 0.0269210338593 seconds\n",
        "Number of Orbitals: 9\n",
        "Number of Primitive Gaussians: 105\n",
        "Integration Complete in 0.0328569412231 seconds"
       ]
      },
      {
       "output_type": "stream",
       "stream": "stdout",
       "text": [
        "\n",
        "Number of Orbitals: 9\n",
        "Number of Primitive Gaussians: 105\n",
        "Integration Complete in 0.0269200801849 seconds\n",
        "Number of Orbitals: 9\n",
        "Number of Primitive Gaussians: 105\n",
        "Integration Complete in 0.035521030426 seconds"
       ]
      },
      {
       "output_type": "stream",
       "stream": "stdout",
       "text": [
        "\n",
        "Number of Orbitals: 9\n",
        "Number of Primitive Gaussians: 105\n",
        "Integration Complete in 0.026880979538 seconds\n",
        "Number of Orbitals: 9\n",
        "Number of Primitive Gaussians: 105\n",
        "Integration Complete in 0.0357320308685 seconds"
       ]
      },
      {
       "output_type": "stream",
       "stream": "stdout",
       "text": [
        "\n",
        "Number of Orbitals: 9\n",
        "Number of Primitive Gaussians: 105\n",
        "Integration Complete in 0.0275390148163 seconds\n",
        "Number of Orbitals: 9\n",
        "Number of Primitive Gaussians: 105\n",
        "Integration Complete in 0.0357201099396 seconds"
       ]
      },
      {
       "output_type": "stream",
       "stream": "stdout",
       "text": [
        "\n",
        "Number of Orbitals: 9\n",
        "Number of Primitive Gaussians: 105\n",
        "Integration Complete in 0.0269689559937 seconds\n",
        "Number of Orbitals: 9\n",
        "Number of Primitive Gaussians: 105\n",
        "Integration Complete in 0.0348260402679 seconds"
       ]
      },
      {
       "output_type": "stream",
       "stream": "stdout",
       "text": [
        "\n",
        "Number of Orbitals: 9\n",
        "Number of Primitive Gaussians: 105\n",
        "Integration Complete in 0.0274369716644 seconds\n",
        "Number of Orbitals: 9\n",
        "Number of Primitive Gaussians: 105\n",
        "Integration Complete in 0.029139995575 seconds"
       ]
      },
      {
       "output_type": "stream",
       "stream": "stdout",
       "text": [
        "\n",
        "Number of Orbitals: 9\n",
        "Number of Primitive Gaussians: 105\n",
        "Integration Complete in 0.0269179344177 seconds\n",
        "Number of Orbitals: 9\n",
        "Number of Primitive Gaussians: 105\n",
        "Integration Complete in 0.0349569320679 seconds"
       ]
      },
      {
       "output_type": "stream",
       "stream": "stdout",
       "text": [
        "\n",
        "Number of Orbitals: 9\n",
        "Number of Primitive Gaussians: 105\n",
        "Integration Complete in 0.0271501541138 seconds\n",
        "Number of Orbitals: 9\n",
        "Number of Primitive Gaussians: 105\n",
        "Integration Complete in 0.0312769412994 seconds"
       ]
      },
      {
       "output_type": "stream",
       "stream": "stdout",
       "text": [
        "\n",
        "Number of Orbitals: 9\n",
        "Number of Primitive Gaussians: 105\n",
        "Integration Complete in 0.0273330211639 seconds\n",
        "Number of Orbitals: 9\n",
        "Number of Primitive Gaussians: 105\n",
        "Integration Complete in 0.0305390357971 seconds"
       ]
      },
      {
       "output_type": "stream",
       "stream": "stdout",
       "text": [
        "\n",
        "Number of Orbitals: 9\n",
        "Number of Primitive Gaussians: 105\n",
        "Integration Complete in 0.0352439880371 seconds\n",
        "Number of Orbitals: 9\n",
        "Number of Primitive Gaussians: 105\n",
        "Integration Complete in 0.0375728607178 seconds"
       ]
      },
      {
       "output_type": "stream",
       "stream": "stdout",
       "text": [
        "\n",
        "Number of Orbitals: 9\n",
        "Number of Primitive Gaussians: 105\n",
        "Integration Complete in 0.0274040699005 seconds\n",
        "Number of Orbitals: 9\n",
        "Number of Primitive Gaussians: 105\n",
        "Integration Complete in 0.0273020267487 seconds"
       ]
      },
      {
       "output_type": "stream",
       "stream": "stdout",
       "text": [
        "\n",
        "Number of Orbitals: 9\n",
        "Number of Primitive Gaussians: 105\n",
        "Integration Complete in 0.0277750492096 seconds\n",
        "Number of Orbitals: 9\n",
        "Number of Primitive Gaussians: 105\n",
        "Integration Complete in 0.029736995697 seconds"
       ]
      },
      {
       "output_type": "stream",
       "stream": "stdout",
       "text": [
        "\n",
        "Number of Orbitals: 9\n",
        "Number of Primitive Gaussians: 105\n",
        "Integration Complete in 0.0268778800964 seconds\n",
        "Number of Orbitals: 9\n",
        "Number of Primitive Gaussians: 105\n",
        "Integration Complete in 0.0279788970947 seconds"
       ]
      },
      {
       "output_type": "stream",
       "stream": "stdout",
       "text": [
        "\n",
        "Number of Orbitals: 9\n",
        "Number of Primitive Gaussians: 105\n",
        "Integration Complete in 0.0268731117249 seconds\n",
        "Number of Orbitals: 9\n",
        "Number of Primitive Gaussians: 105\n",
        "Integration Complete in 0.0279998779297 seconds"
       ]
      },
      {
       "output_type": "stream",
       "stream": "stdout",
       "text": [
        "\n",
        "Number of Orbitals: 9\n",
        "Number of Primitive Gaussians: 105\n",
        "Integration Complete in 0.0287380218506 seconds\n",
        "Number of Orbitals: 9\n",
        "Number of Primitive Gaussians: 105\n",
        "Integration Complete in 0.0268850326538 seconds"
       ]
      },
      {
       "output_type": "stream",
       "stream": "stdout",
       "text": [
        "\n",
        "Number of Orbitals: 9\n",
        "Number of Primitive Gaussians: 105\n",
        "Integration Complete in 0.0309550762177 seconds\n",
        "Number of Orbitals: 9\n",
        "Number of Primitive Gaussians: 105\n",
        "Integration Complete in 0.0269160270691 seconds"
       ]
      },
      {
       "output_type": "stream",
       "stream": "stdout",
       "text": [
        "\n",
        "Number of Orbitals: 9\n",
        "Number of Primitive Gaussians: 105\n",
        "Integration Complete in 0.0268840789795 seconds\n",
        "Number of Orbitals: 9\n",
        "Number of Primitive Gaussians: 105\n",
        "Integration Complete in 0.0271279811859 seconds"
       ]
      },
      {
       "output_type": "stream",
       "stream": "stdout",
       "text": [
        "\n",
        "Number of Orbitals: 9\n",
        "Number of Primitive Gaussians: 105\n",
        "Integration Complete in 0.0289838314056 seconds\n",
        "Number of Orbitals: 9\n",
        "Number of Primitive Gaussians: 105\n",
        "Integration Complete in 0.0283739566803 seconds"
       ]
      },
      {
       "output_type": "stream",
       "stream": "stdout",
       "text": [
        "\n",
        "Number of Orbitals: 9\n",
        "Number of Primitive Gaussians: 105\n",
        "Integration Complete in 0.0279870033264 seconds\n",
        "Number of Orbitals: 9\n",
        "Number of Primitive Gaussians: 105\n",
        "Integration Complete in 0.027204990387 seconds"
       ]
      },
      {
       "output_type": "stream",
       "stream": "stdout",
       "text": [
        "\n",
        "Number of Orbitals: 9\n",
        "Number of Primitive Gaussians: 105\n",
        "Integration Complete in 0.0270659923553 seconds\n",
        "Number of Orbitals: 9\n",
        "Number of Primitive Gaussians: 105\n",
        "Integration Complete in 0.0268218517303 seconds"
       ]
      },
      {
       "output_type": "stream",
       "stream": "stdout",
       "text": [
        "\n",
        "Number of Orbitals: 9\n",
        "Number of Primitive Gaussians: 105\n",
        "Integration Complete in 0.0308408737183 seconds\n",
        "Number of Orbitals: 9\n",
        "Number of Primitive Gaussians: 105\n",
        "Integration Complete in 0.0271110534668 seconds"
       ]
      },
      {
       "output_type": "stream",
       "stream": "stdout",
       "text": [
        "\n",
        "Number of Orbitals: 9\n",
        "Number of Primitive Gaussians: 105\n",
        "Integration Complete in 0.0271980762482 seconds\n",
        "Number of Orbitals: 9\n",
        "Number of Primitive Gaussians: 105\n",
        "Integration Complete in 0.0270018577576 seconds"
       ]
      },
      {
       "output_type": "stream",
       "stream": "stdout",
       "text": [
        "\n",
        "Number of Orbitals: 9\n",
        "Number of Primitive Gaussians: 105\n",
        "Integration Complete in 0.0269291400909 seconds\n",
        "Number of Orbitals: 9\n",
        "Number of Primitive Gaussians: 105\n",
        "Integration Complete in 0.0270068645477 seconds"
       ]
      },
      {
       "output_type": "stream",
       "stream": "stdout",
       "text": [
        "\n",
        "Number of Orbitals: 9\n",
        "Number of Primitive Gaussians: 105\n",
        "Integration Complete in 0.03200507164 seconds\n",
        "Number of Orbitals: 9\n",
        "Number of Primitive Gaussians: 105\n",
        "Integration Complete in 0.0270068645477 seconds"
       ]
      },
      {
       "output_type": "stream",
       "stream": "stdout",
       "text": [
        "\n",
        "Number of Orbitals: 9\n",
        "Number of Primitive Gaussians: 105\n",
        "Integration Complete in 0.0301840305328 seconds\n",
        "Number of Orbitals: 9\n",
        "Number of Primitive Gaussians: 105\n",
        "Integration Complete in 0.026859998703 seconds"
       ]
      },
      {
       "output_type": "stream",
       "stream": "stdout",
       "text": [
        "\n",
        "Number of Orbitals: 9\n",
        "Number of Primitive Gaussians: 105\n",
        "Integration Complete in 0.0269620418549 seconds\n",
        "Number of Orbitals: 9\n",
        "Number of Primitive Gaussians: 105\n",
        "Integration Complete in 0.0283539295197 seconds"
       ]
      },
      {
       "output_type": "stream",
       "stream": "stdout",
       "text": [
        "\n",
        "Number of Orbitals: 9\n",
        "Number of Primitive Gaussians: 105\n",
        "Integration Complete in 0.0270218849182 seconds\n",
        "Number of Orbitals: 9\n",
        "Number of Primitive Gaussians: 105\n",
        "Integration Complete in 0.0295150279999 seconds"
       ]
      },
      {
       "output_type": "stream",
       "stream": "stdout",
       "text": [
        "\n",
        "Number of Orbitals: 9\n",
        "Number of Primitive Gaussians: 105\n",
        "Integration Complete in 0.0268070697784 seconds\n",
        "Number of Orbitals: 9\n",
        "Number of Primitive Gaussians: 105\n",
        "Integration Complete in 0.027067899704 seconds"
       ]
      },
      {
       "output_type": "stream",
       "stream": "stdout",
       "text": [
        "\n",
        "Number of Orbitals: 9\n",
        "Number of Primitive Gaussians: 105\n",
        "Integration Complete in 0.0267720222473 seconds\n",
        "Number of Orbitals: 9\n",
        "Number of Primitive Gaussians: 105\n",
        "Integration Complete in 0.02698802948 seconds"
       ]
      },
      {
       "output_type": "stream",
       "stream": "stdout",
       "text": [
        "\n",
        "Number of Orbitals: 9\n",
        "Number of Primitive Gaussians: 105\n",
        "Integration Complete in 0.0272808074951 seconds\n",
        "Number of Orbitals: 9\n",
        "Number of Primitive Gaussians: 105\n",
        "Integration Complete in 0.0282189846039 seconds"
       ]
      },
      {
       "output_type": "stream",
       "stream": "stdout",
       "text": [
        "\n",
        "Number of Orbitals: 9\n",
        "Number of Primitive Gaussians: 105\n",
        "Integration Complete in 0.027811050415 seconds\n",
        "Number of Orbitals: 9\n",
        "Number of Primitive Gaussians: 105\n",
        "Integration Complete in 0.0272238254547 seconds"
       ]
      },
      {
       "output_type": "stream",
       "stream": "stdout",
       "text": [
        "\n",
        "Number of Orbitals: 9\n",
        "Number of Primitive Gaussians: 105\n",
        "Integration Complete in 0.026927947998 seconds\n",
        "Number of Orbitals: 9\n",
        "Number of Primitive Gaussians: 105\n",
        "Integration Complete in 0.0269639492035 seconds"
       ]
      },
      {
       "output_type": "stream",
       "stream": "stdout",
       "text": [
        "\n",
        "Number of Orbitals: 9\n",
        "Number of Primitive Gaussians: 105\n",
        "Integration Complete in 0.0268731117249 seconds\n",
        "Number of Orbitals: 9\n",
        "Number of Primitive Gaussians: 105\n",
        "Integration Complete in 0.0290899276733 seconds"
       ]
      },
      {
       "output_type": "stream",
       "stream": "stdout",
       "text": [
        "\n",
        "Number of Orbitals: 9\n",
        "Number of Primitive Gaussians: 105\n",
        "Integration Complete in 0.0269711017609 seconds\n",
        "Number of Orbitals: 9\n",
        "Number of Primitive Gaussians: 105\n",
        "Integration Complete in 0.026969909668 seconds"
       ]
      },
      {
       "output_type": "stream",
       "stream": "stdout",
       "text": [
        "\n",
        "Number of Orbitals: 9\n",
        "Number of Primitive Gaussians: 105\n",
        "Integration Complete in 0.0298309326172 seconds\n",
        "Number of Orbitals: 9\n",
        "Number of Primitive Gaussians: 105\n",
        "Integration Complete in 0.0269260406494 seconds"
       ]
      },
      {
       "output_type": "stream",
       "stream": "stdout",
       "text": [
        "\n",
        "Number of Orbitals: 9\n",
        "Number of Primitive Gaussians: 105\n",
        "Integration Complete in 0.0282018184662 seconds\n",
        "Number of Orbitals: 9\n",
        "Number of Primitive Gaussians: 105\n",
        "Integration Complete in 0.0268552303314 seconds"
       ]
      },
      {
       "output_type": "stream",
       "stream": "stdout",
       "text": [
        "\n",
        "Number of Orbitals: 9\n",
        "Number of Primitive Gaussians: 105\n",
        "Integration Complete in 0.0269370079041 seconds\n",
        "Number of Orbitals: 9\n",
        "Number of Primitive Gaussians: 105\n",
        "Integration Complete in 0.0268270969391 seconds"
       ]
      },
      {
       "output_type": "stream",
       "stream": "stdout",
       "text": [
        "\n",
        "Number of Orbitals: 9\n",
        "Number of Primitive Gaussians: 105\n",
        "Integration Complete in 0.0269269943237 seconds\n",
        "Number of Orbitals: 9\n",
        "Number of Primitive Gaussians: 105\n",
        "Integration Complete in 0.0268149375916 seconds"
       ]
      },
      {
       "output_type": "stream",
       "stream": "stdout",
       "text": [
        "\n",
        "Number of Orbitals: 9\n",
        "Number of Primitive Gaussians: 105\n",
        "Integration Complete in 0.0276918411255 seconds\n",
        "Number of Orbitals: 9\n",
        "Number of Primitive Gaussians: 105\n",
        "Integration Complete in 0.0289340019226 seconds"
       ]
      },
      {
       "output_type": "stream",
       "stream": "stdout",
       "text": [
        "\n",
        "Number of Orbitals: 9\n",
        "Number of Primitive Gaussians: 105\n",
        "Integration Complete in 0.0268731117249 seconds\n",
        "Number of Orbitals: 9\n",
        "Number of Primitive Gaussians: 105\n",
        "Integration Complete in 0.0284991264343 seconds"
       ]
      },
      {
       "output_type": "stream",
       "stream": "stdout",
       "text": [
        "\n",
        "Number of Orbitals: 9\n",
        "Number of Primitive Gaussians: 105\n",
        "Integration Complete in 0.0266981124878 seconds\n",
        "Number of Orbitals: 9\n",
        "Number of Primitive Gaussians: 105\n",
        "Integration Complete in 0.0269958972931 seconds"
       ]
      },
      {
       "output_type": "stream",
       "stream": "stdout",
       "text": [
        "\n",
        "Number of Orbitals: 9\n",
        "Number of Primitive Gaussians: 105\n",
        "Integration Complete in 0.0271499156952 seconds\n",
        "Number of Orbitals: 9\n",
        "Number of Primitive Gaussians: 105\n",
        "Integration Complete in 0.0439610481262 seconds"
       ]
      },
      {
       "output_type": "stream",
       "stream": "stdout",
       "text": [
        "\n",
        "Number of Orbitals: 9\n",
        "Number of Primitive Gaussians: 105\n",
        "Integration Complete in 0.0269649028778 seconds\n",
        "Number of Orbitals: 9\n",
        "Number of Primitive Gaussians: 105\n",
        "Integration Complete in 0.0308139324188 seconds"
       ]
      },
      {
       "output_type": "stream",
       "stream": "stdout",
       "text": [
        "\n",
        "Number of Orbitals: 9\n",
        "Number of Primitive Gaussians: 105\n",
        "Integration Complete in 0.0279130935669 seconds\n",
        "Number of Orbitals: 9\n",
        "Number of Primitive Gaussians: 105\n",
        "Integration Complete in 0.0280590057373 seconds"
       ]
      },
      {
       "output_type": "stream",
       "stream": "stdout",
       "text": [
        "\n",
        "Number of Orbitals: 9\n",
        "Number of Primitive Gaussians: 105\n",
        "Integration Complete in 0.0280129909515 seconds\n",
        "Number of Orbitals: 9\n",
        "Number of Primitive Gaussians: 105\n",
        "Integration Complete in 0.0271339416504 seconds"
       ]
      },
      {
       "output_type": "stream",
       "stream": "stdout",
       "text": [
        "\n",
        "Number of Orbitals: 9\n",
        "Number of Primitive Gaussians: 105\n",
        "Integration Complete in 0.0269749164581 seconds\n",
        "Number of Orbitals: 9\n",
        "Number of Primitive Gaussians: 105\n",
        "Integration Complete in 0.0280010700226 seconds"
       ]
      },
      {
       "output_type": "stream",
       "stream": "stdout",
       "text": [
        "\n",
        "Number of Orbitals: 9\n",
        "Number of Primitive Gaussians: 105\n",
        "Integration Complete in 0.0268239974976 seconds\n",
        "Number of Orbitals: 9\n",
        "Number of Primitive Gaussians: 105\n",
        "Integration Complete in 0.032066822052 seconds"
       ]
      },
      {
       "output_type": "stream",
       "stream": "stdout",
       "text": [
        "\n",
        "Number of Orbitals: 9\n",
        "Number of Primitive Gaussians: 105\n",
        "Integration Complete in 0.0289170742035 seconds\n",
        "Number of Orbitals: 9\n",
        "Number of Primitive Gaussians: 105\n",
        "Integration Complete in 0.0268731117249 seconds"
       ]
      },
      {
       "output_type": "stream",
       "stream": "stdout",
       "text": [
        "\n",
        "Number of Orbitals: 9\n",
        "Number of Primitive Gaussians: 105\n",
        "Integration Complete in 0.0379960536957 seconds\n",
        "Number of Orbitals: 9\n",
        "Number of Primitive Gaussians: 105\n",
        "Integration Complete in 0.0279948711395 seconds"
       ]
      },
      {
       "output_type": "stream",
       "stream": "stdout",
       "text": [
        "\n",
        "Number of Orbitals: 9\n",
        "Number of Primitive Gaussians: 105\n",
        "Integration Complete in 0.0272271633148 seconds\n",
        "Number of Orbitals: 9\n",
        "Number of Primitive Gaussians: 105\n",
        "Integration Complete in 0.0271921157837 seconds"
       ]
      },
      {
       "output_type": "stream",
       "stream": "stdout",
       "text": [
        "\n",
        "Number of Orbitals: 9\n",
        "Number of Primitive Gaussians: 105\n",
        "Integration Complete in 0.0277528762817 seconds\n",
        "Number of Orbitals: 9\n",
        "Number of Primitive Gaussians: 105\n",
        "Integration Complete in 0.0270159244537 seconds"
       ]
      },
      {
       "output_type": "stream",
       "stream": "stdout",
       "text": [
        "\n",
        "Number of Orbitals: 9\n",
        "Number of Primitive Gaussians: 105\n",
        "Integration Complete in 0.0270340442657 seconds\n",
        "Number of Orbitals: 9\n",
        "Number of Primitive Gaussians: 105\n",
        "Integration Complete in 0.0269520282745 seconds"
       ]
      },
      {
       "output_type": "stream",
       "stream": "stdout",
       "text": [
        "\n",
        "Number of Orbitals: 9\n",
        "Number of Primitive Gaussians: 105\n",
        "Integration Complete in 0.0364978313446 seconds\n",
        "Number of Orbitals: 9\n",
        "Number of Primitive Gaussians: 105\n",
        "Integration Complete in 0.0269389152527 seconds"
       ]
      },
      {
       "output_type": "stream",
       "stream": "stdout",
       "text": [
        "\n",
        "Number of Orbitals: 9\n",
        "Number of Primitive Gaussians: 105\n",
        "Integration Complete in 0.0269651412964 seconds\n",
        "Number of Orbitals: 9\n",
        "Number of Primitive Gaussians: 105\n",
        "Integration Complete in 0.0270731449127 seconds"
       ]
      },
      {
       "output_type": "stream",
       "stream": "stdout",
       "text": [
        "\n",
        "Number of Orbitals: 9\n",
        "Number of Primitive Gaussians: 105\n",
        "Integration Complete in 0.0270040035248 seconds\n",
        "Number of Orbitals: 9\n",
        "Number of Primitive Gaussians: 105\n",
        "Integration Complete in 0.0311131477356 seconds"
       ]
      },
      {
       "output_type": "stream",
       "stream": "stdout",
       "text": [
        "\n",
        "Number of Orbitals: 9\n",
        "Number of Primitive Gaussians: 105\n",
        "Integration Complete in 0.0287520885468 seconds\n",
        "Number of Orbitals: 9\n",
        "Number of Primitive Gaussians: 105\n",
        "Integration Complete in 0.0268449783325 seconds"
       ]
      },
      {
       "output_type": "stream",
       "stream": "stdout",
       "text": [
        "\n",
        "Number of Orbitals: 9\n",
        "Number of Primitive Gaussians: 105\n",
        "Integration Complete in 0.0272269248962 seconds\n",
        "Number of Orbitals: 9\n",
        "Number of Primitive Gaussians: 105\n",
        "Integration Complete in 0.0268609523773 seconds"
       ]
      },
      {
       "output_type": "stream",
       "stream": "stdout",
       "text": [
        "\n",
        "Number of Orbitals: 9\n",
        "Number of Primitive Gaussians: 105\n",
        "Integration Complete in 0.0364029407501 seconds\n",
        "Number of Orbitals: 9\n",
        "Number of Primitive Gaussians: 105\n",
        "Integration Complete in 0.0277779102325 seconds"
       ]
      },
      {
       "output_type": "stream",
       "stream": "stdout",
       "text": [
        "\n",
        "Number of Orbitals: 9\n",
        "Number of Primitive Gaussians: 105\n",
        "Integration Complete in 0.0269358158112 seconds\n",
        "Number of Orbitals: 9\n",
        "Number of Primitive Gaussians: 105\n",
        "Integration Complete in 0.0269539356232 seconds"
       ]
      },
      {
       "output_type": "stream",
       "stream": "stdout",
       "text": [
        "\n",
        "Number of Orbitals: 9\n",
        "Number of Primitive Gaussians: 105\n",
        "Integration Complete in 0.0268847942352 seconds\n",
        "Number of Orbitals: 9\n",
        "Number of Primitive Gaussians: 105\n",
        "Integration Complete in 0.0270531177521 seconds"
       ]
      },
      {
       "output_type": "stream",
       "stream": "stdout",
       "text": [
        "\n",
        "Number of Orbitals: 9\n",
        "Number of Primitive Gaussians: 105\n",
        "Integration Complete in 0.0303521156311 seconds\n",
        "Number of Orbitals: 9\n",
        "Number of Primitive Gaussians: 105\n",
        "Integration Complete in 0.0269138813019 seconds"
       ]
      },
      {
       "output_type": "stream",
       "stream": "stdout",
       "text": [
        "\n",
        "Number of Orbitals: 9\n",
        "Number of Primitive Gaussians: 105\n",
        "Integration Complete in 0.0270898342133 seconds\n",
        "Number of Orbitals: 9\n",
        "Number of Primitive Gaussians: 105\n",
        "Integration Complete in 0.0269000530243 seconds"
       ]
      },
      {
       "output_type": "stream",
       "stream": "stdout",
       "text": [
        "\n",
        "Number of Orbitals: 9\n",
        "Number of Primitive Gaussians: 105\n",
        "Integration Complete in 0.027036190033 seconds\n",
        "Number of Orbitals: 9\n",
        "Number of Primitive Gaussians: 105\n",
        "Integration Complete in 0.0342190265656 seconds"
       ]
      },
      {
       "output_type": "stream",
       "stream": "stdout",
       "text": [
        "\n",
        "Number of Orbitals: 9\n",
        "Number of Primitive Gaussians: 105\n",
        "Integration Complete in 0.0269000530243 seconds\n",
        "Number of Orbitals: 9\n",
        "Number of Primitive Gaussians: 105\n",
        "Integration Complete in 0.0268630981445 seconds"
       ]
      },
      {
       "output_type": "stream",
       "stream": "stdout",
       "text": [
        "\n",
        "Number of Orbitals: 9\n",
        "Number of Primitive Gaussians: 105\n",
        "Integration Complete in 0.0272800922394 seconds\n",
        "Number of Orbitals: 9\n",
        "Number of Primitive Gaussians: 105\n",
        "Integration Complete in 0.0274322032928 seconds"
       ]
      },
      {
       "output_type": "stream",
       "stream": "stdout",
       "text": [
        "\n",
        "Number of Orbitals: 9\n",
        "Number of Primitive Gaussians: 105\n",
        "Integration Complete in 0.0268640518188 seconds\n",
        "Number of Orbitals: 9\n",
        "Number of Primitive Gaussians: 105\n",
        "Integration Complete in 0.0270450115204 seconds"
       ]
      },
      {
       "output_type": "stream",
       "stream": "stdout",
       "text": [
        "\n",
        "Number of Orbitals: 9\n",
        "Number of Primitive Gaussians: 105\n",
        "Integration Complete in 0.0268459320068 seconds\n",
        "Number of Orbitals: 9\n",
        "Number of Primitive Gaussians: 105\n",
        "Integration Complete in 0.0271139144897 seconds"
       ]
      },
      {
       "output_type": "stream",
       "stream": "stdout",
       "text": [
        "\n",
        "Number of Orbitals: 9\n",
        "Number of Primitive Gaussians: 105\n",
        "Integration Complete in 0.0269420146942 seconds\n",
        "Number of Orbitals: 9\n",
        "Number of Primitive Gaussians: 105\n",
        "Integration Complete in 0.034716129303 seconds"
       ]
      },
      {
       "output_type": "stream",
       "stream": "stdout",
       "text": [
        "\n",
        "Number of Orbitals: 9\n",
        "Number of Primitive Gaussians: 105\n",
        "Integration Complete in 0.0269711017609 seconds\n",
        "Number of Orbitals: 9\n",
        "Number of Primitive Gaussians: 105\n",
        "Integration Complete in 0.0271229743958 seconds"
       ]
      },
      {
       "output_type": "stream",
       "stream": "stdout",
       "text": [
        "\n",
        "Number of Orbitals: 9\n",
        "Number of Primitive Gaussians: 105\n",
        "Integration Complete in 0.0291090011597 seconds\n",
        "Number of Orbitals: 9\n",
        "Number of Primitive Gaussians: 105\n",
        "Integration Complete in 0.0272188186646 seconds"
       ]
      },
      {
       "output_type": "stream",
       "stream": "stdout",
       "text": [
        "\n",
        "Number of Orbitals: 9\n",
        "Number of Primitive Gaussians: 105\n",
        "Integration Complete in 0.0269811153412 seconds\n",
        "Number of Orbitals: 9\n",
        "Number of Primitive Gaussians: 105\n",
        "Integration Complete in 0.0289051532745 seconds"
       ]
      },
      {
       "output_type": "stream",
       "stream": "stdout",
       "text": [
        "\n",
        "Number of Orbitals: 9\n",
        "Number of Primitive Gaussians: 105\n",
        "Integration Complete in 0.0268650054932 seconds\n",
        "Number of Orbitals: 9\n",
        "Number of Primitive Gaussians: 105\n",
        "Integration Complete in 0.0273740291595 seconds"
       ]
      },
      {
       "output_type": "stream",
       "stream": "stdout",
       "text": [
        "\n",
        "Number of Orbitals: 9\n",
        "Number of Primitive Gaussians: 105\n",
        "Integration Complete in 0.0268340110779 seconds\n",
        "Number of Orbitals: 9\n",
        "Number of Primitive Gaussians: 105\n",
        "Integration Complete in 0.0268089771271 seconds"
       ]
      },
      {
       "output_type": "stream",
       "stream": "stdout",
       "text": [
        "\n",
        "Number of Orbitals: 9\n",
        "Number of Primitive Gaussians: 105\n",
        "Integration Complete in 0.0350959300995 seconds\n",
        "Number of Orbitals: 9\n",
        "Number of Primitive Gaussians: 105\n",
        "Integration Complete in 0.0268938541412 seconds"
       ]
      },
      {
       "output_type": "stream",
       "stream": "stdout",
       "text": [
        "\n",
        "Number of Orbitals: 9\n",
        "Number of Primitive Gaussians: 105\n",
        "Integration Complete in 0.0269060134888 seconds\n",
        "Number of Orbitals: 9\n",
        "Number of Primitive Gaussians: 105\n",
        "Integration Complete in 0.0268449783325 seconds"
       ]
      },
      {
       "output_type": "stream",
       "stream": "stdout",
       "text": [
        "\n",
        "Number of Orbitals: 9\n",
        "Number of Primitive Gaussians: 105\n",
        "Integration Complete in 0.0268309116364 seconds\n",
        "Number of Orbitals: 9\n",
        "Number of Primitive Gaussians: 105\n",
        "Integration Complete in 0.0268540382385 seconds"
       ]
      },
      {
       "output_type": "stream",
       "stream": "stdout",
       "text": [
        "\n",
        "Number of Orbitals: 9\n",
        "Number of Primitive Gaussians: 105\n",
        "Integration Complete in 0.0268459320068 seconds\n",
        "Number of Orbitals: 9\n",
        "Number of Primitive Gaussians: 105\n",
        "Integration Complete in 0.0268478393555 seconds"
       ]
      },
      {
       "output_type": "stream",
       "stream": "stdout",
       "text": [
        "\n",
        "Number of Orbitals: 9\n",
        "Number of Primitive Gaussians: 105\n",
        "Integration Complete in 0.026918888092 seconds\n",
        "Number of Orbitals: 9\n",
        "Number of Primitive Gaussians: 105\n",
        "Integration Complete in 0.0268499851227 seconds"
       ]
      },
      {
       "output_type": "stream",
       "stream": "stdout",
       "text": [
        "\n",
        "Number of Orbitals: 9\n",
        "Number of Primitive Gaussians: 105\n",
        "Integration Complete in 0.0268950462341 seconds\n",
        "Number of Orbitals: 9\n",
        "Number of Primitive Gaussians: 105\n",
        "Integration Complete in 0.0284309387207 seconds"
       ]
      },
      {
       "output_type": "stream",
       "stream": "stdout",
       "text": [
        "\n",
        "Number of Orbitals: 9\n",
        "Number of Primitive Gaussians: 105\n",
        "Integration Complete in 0.0276510715485 seconds\n",
        "Number of Orbitals: 9\n",
        "Number of Primitive Gaussians: 105\n",
        "Integration Complete in 0.0414741039276 seconds"
       ]
      },
      {
       "output_type": "stream",
       "stream": "stdout",
       "text": [
        "\n",
        "Number of Orbitals: 9\n",
        "Number of Primitive Gaussians: 105\n",
        "Integration Complete in 0.0376842021942 seconds\n",
        "Number of Orbitals: 9\n",
        "Number of Primitive Gaussians: 105\n",
        "Integration Complete in 0.0417921543121 seconds"
       ]
      },
      {
       "output_type": "stream",
       "stream": "stdout",
       "text": [
        "\n",
        "Number of Orbitals: 9\n",
        "Number of Primitive Gaussians: 105\n",
        "Integration Complete in 0.0368211269379 seconds\n",
        "Number of Orbitals: 9\n",
        "Number of Primitive Gaussians: 105\n",
        "Integration Complete in 0.0274438858032 seconds"
       ]
      },
      {
       "output_type": "stream",
       "stream": "stdout",
       "text": [
        "\n",
        "Number of Orbitals: 9\n",
        "Number of Primitive Gaussians: 105\n",
        "Integration Complete in 0.0283138751984 seconds\n",
        "Number of Orbitals: 9\n",
        "Number of Primitive Gaussians: 105\n",
        "Integration Complete in 0.0269229412079 seconds"
       ]
      },
      {
       "output_type": "stream",
       "stream": "stdout",
       "text": [
        "\n",
        "Number of Orbitals: 9\n",
        "Number of Primitive Gaussians: 105\n",
        "Integration Complete in 0.0268819332123 seconds\n",
        "Number of Orbitals: 9\n",
        "Number of Primitive Gaussians: 105\n",
        "Integration Complete in 0.0268061161041 seconds"
       ]
      },
      {
       "output_type": "stream",
       "stream": "stdout",
       "text": [
        "\n",
        "Number of Orbitals: 9\n",
        "Number of Primitive Gaussians: 105\n",
        "Integration Complete in 0.0270109176636 seconds\n",
        "Number of Orbitals: 9\n",
        "Number of Primitive Gaussians: 105\n",
        "Integration Complete in 0.0269200801849 seconds"
       ]
      },
      {
       "output_type": "stream",
       "stream": "stdout",
       "text": [
        "\n",
        "Number of Orbitals: 9\n",
        "Number of Primitive Gaussians: 105\n",
        "Integration Complete in 0.0298731327057 seconds\n",
        "Number of Orbitals: 9\n",
        "Number of Primitive Gaussians: 105\n",
        "Integration Complete in 0.0353710651398 seconds"
       ]
      },
      {
       "output_type": "stream",
       "stream": "stdout",
       "text": [
        "\n",
        "Number of Orbitals: 9\n",
        "Number of Primitive Gaussians: 105\n",
        "Integration Complete in 0.0267860889435 seconds\n",
        "Number of Orbitals: 9\n",
        "Number of Primitive Gaussians: 105\n",
        "Integration Complete in 0.0273170471191 seconds"
       ]
      },
      {
       "output_type": "stream",
       "stream": "stdout",
       "text": [
        "\n",
        "Number of Orbitals: 9\n",
        "Number of Primitive Gaussians: 105\n",
        "Integration Complete in 0.0267291069031 seconds\n",
        "Number of Orbitals: 9\n",
        "Number of Primitive Gaussians: 105\n",
        "Integration Complete in 0.0267889499664 seconds"
       ]
      },
      {
       "output_type": "stream",
       "stream": "stdout",
       "text": [
        "\n",
        "Number of Orbitals: 9\n",
        "Number of Primitive Gaussians: 105\n",
        "Integration Complete in 0.0266361236572 seconds\n",
        "Number of Orbitals: 9\n",
        "Number of Primitive Gaussians: 105\n",
        "Integration Complete in 0.0268750190735 seconds"
       ]
      },
      {
       "output_type": "stream",
       "stream": "stdout",
       "text": [
        "\n",
        "Number of Orbitals: 9\n",
        "Number of Primitive Gaussians: 105\n",
        "Integration Complete in 0.0267798900604 seconds\n",
        "Number of Orbitals: 9\n",
        "Number of Primitive Gaussians: 105\n",
        "Integration Complete in 0.0268099308014 seconds"
       ]
      },
      {
       "output_type": "stream",
       "stream": "stdout",
       "text": [
        "\n",
        "Number of Orbitals: 9\n",
        "Number of Primitive Gaussians: 105\n",
        "Integration Complete in 0.0267329216003 seconds\n",
        "Number of Orbitals: 9\n",
        "Number of Primitive Gaussians: 105\n",
        "Integration Complete in 0.0267407894135 seconds"
       ]
      },
      {
       "output_type": "stream",
       "stream": "stdout",
       "text": [
        "\n",
        "Number of Orbitals: 9\n",
        "Number of Primitive Gaussians: 105\n",
        "Integration Complete in 0.0269379615784 seconds\n",
        "Number of Orbitals: 9\n",
        "Number of Primitive Gaussians: 105\n",
        "Integration Complete in 0.0371870994568 seconds"
       ]
      },
      {
       "output_type": "stream",
       "stream": "stdout",
       "text": [
        "\n",
        "Number of Orbitals: 9\n",
        "Number of Primitive Gaussians: 105\n",
        "Integration Complete in 0.0404558181763 seconds\n",
        "Number of Orbitals: 9"
       ]
      },
      {
       "output_type": "stream",
       "stream": "stdout",
       "text": [
        "\n",
        "Number of Primitive Gaussians: 105\n",
        "Integration Complete in 0.0271987915039 seconds\n",
        "Number of Orbitals: 9\n",
        "Number of Primitive Gaussians: 105\n",
        "Integration Complete in 0.0270619392395 seconds"
       ]
      },
      {
       "output_type": "stream",
       "stream": "stdout",
       "text": [
        "\n",
        "Number of Orbitals: 9\n",
        "Number of Primitive Gaussians: 105\n",
        "Integration Complete in 0.0347619056702 seconds\n",
        "Number of Orbitals: 9"
       ]
      },
      {
       "output_type": "stream",
       "stream": "stdout",
       "text": [
        "\n",
        "Number of Primitive Gaussians: 105\n",
        "Integration Complete in 0.0267081260681 seconds\n",
        "Number of Orbitals: 9\n",
        "Number of Primitive Gaussians: 105\n",
        "Integration Complete in 0.0268430709839 seconds"
       ]
      },
      {
       "output_type": "stream",
       "stream": "stdout",
       "text": [
        "\n",
        "Number of Orbitals: 9\n",
        "Number of Primitive Gaussians: 105\n",
        "Integration Complete in 0.0267579555511 seconds\n",
        "Number of Orbitals: 9\n",
        "Number of Primitive Gaussians: 105\n",
        "Integration Complete in 0.0268537998199 seconds"
       ]
      },
      {
       "output_type": "stream",
       "stream": "stdout",
       "text": [
        "\n",
        "Number of Orbitals: 9\n",
        "Number of Primitive Gaussians: 105\n",
        "Integration Complete in 0.0281660556793 seconds\n",
        "Number of Orbitals: 9\n",
        "Number of Primitive Gaussians: 105\n",
        "Integration Complete in 0.0418560504913 seconds"
       ]
      },
      {
       "output_type": "stream",
       "stream": "stdout",
       "text": [
        "\n",
        "Number of Orbitals: 9\n",
        "Number of Primitive Gaussians: 105\n",
        "Integration Complete in 0.026713848114 seconds\n",
        "Number of Orbitals: 9\n",
        "Number of Primitive Gaussians: 105\n",
        "Integration Complete in 0.0270040035248 seconds"
       ]
      },
      {
       "output_type": "stream",
       "stream": "stdout",
       "text": [
        "\n",
        "Number of Orbitals: 9\n",
        "Number of Primitive Gaussians: 105\n",
        "Integration Complete in 0.0266969203949 seconds\n",
        "Number of Orbitals: 9\n",
        "Number of Primitive Gaussians: 105\n",
        "Integration Complete in 0.0270140171051 seconds"
       ]
      },
      {
       "output_type": "stream",
       "stream": "stdout",
       "text": [
        "\n",
        "Number of Orbitals: 9\n",
        "Number of Primitive Gaussians: 105\n",
        "Integration Complete in 0.0281829833984 seconds\n",
        "Number of Orbitals: 9\n",
        "Number of Primitive Gaussians: 105\n",
        "Integration Complete in 0.0305471420288 seconds"
       ]
      },
      {
       "output_type": "stream",
       "stream": "stdout",
       "text": [
        "\n",
        "Number of Orbitals: 9\n",
        "Number of Primitive Gaussians: 105\n",
        "Integration Complete in 0.0322248935699 seconds\n",
        "Number of Orbitals: 9\n",
        "Number of Primitive Gaussians: 105\n",
        "Integration Complete in 0.0268201828003 seconds"
       ]
      },
      {
       "output_type": "stream",
       "stream": "stdout",
       "text": [
        "\n",
        "Number of Orbitals: 9\n",
        "Number of Primitive Gaussians: 105\n",
        "Integration Complete in 0.0267009735107 seconds\n",
        "Number of Orbitals: 9\n",
        "Number of Primitive Gaussians: 105\n",
        "Integration Complete in 0.0268080234528 seconds"
       ]
      },
      {
       "output_type": "stream",
       "stream": "stdout",
       "text": [
        "\n",
        "Number of Orbitals: 9\n",
        "Number of Primitive Gaussians: 105\n",
        "Integration Complete in 0.0268790721893 seconds\n",
        "Number of Orbitals: 9\n",
        "Number of Primitive Gaussians: 105\n",
        "Integration Complete in 0.0266909599304 seconds"
       ]
      },
      {
       "output_type": "stream",
       "stream": "stdout",
       "text": [
        "\n",
        "Number of Orbitals: 9\n",
        "Number of Primitive Gaussians: 105\n",
        "Integration Complete in 0.0267300605774 seconds\n",
        "Number of Orbitals: 9\n",
        "Number of Primitive Gaussians: 105\n",
        "Integration Complete in 0.0266449451447 seconds"
       ]
      },
      {
       "output_type": "stream",
       "stream": "stdout",
       "text": [
        "\n",
        "Number of Orbitals: 9\n",
        "Number of Primitive Gaussians: 105\n",
        "Integration Complete in 0.0267310142517 seconds\n",
        "Number of Orbitals: 9\n",
        "Number of Primitive Gaussians: 105\n",
        "Integration Complete in 0.0267081260681 seconds"
       ]
      },
      {
       "output_type": "stream",
       "stream": "stdout",
       "text": [
        "\n",
        "Number of Orbitals: 9\n",
        "Number of Primitive Gaussians: 105\n",
        "Integration Complete in 0.026801109314 seconds\n",
        "Number of Orbitals: 9\n",
        "Number of Primitive Gaussians: 105\n",
        "Integration Complete in 0.0267279148102 seconds"
       ]
      },
      {
       "output_type": "stream",
       "stream": "stdout",
       "text": [
        "\n",
        "Number of Orbitals: 9\n",
        "Number of Primitive Gaussians: 105\n",
        "Integration Complete in 0.0266771316528 seconds\n",
        "Number of Orbitals: 9\n",
        "Number of Primitive Gaussians: 105\n",
        "Integration Complete in 0.0267879962921 seconds"
       ]
      },
      {
       "output_type": "stream",
       "stream": "stdout",
       "text": [
        "\n",
        "Number of Orbitals: 9\n",
        "Number of Primitive Gaussians: 105\n",
        "Integration Complete in 0.0268619060516 seconds\n",
        "Number of Orbitals: 9\n",
        "Number of Primitive Gaussians: 105\n",
        "Integration Complete in 0.0267930030823 seconds"
       ]
      },
      {
       "output_type": "stream",
       "stream": "stdout",
       "text": [
        "\n",
        "Number of Orbitals: 9\n",
        "Number of Primitive Gaussians: 105\n",
        "Integration Complete in 0.0267550945282 seconds\n",
        "Number of Orbitals: 9\n",
        "Number of Primitive Gaussians: 105\n",
        "Integration Complete in 0.0267989635468 seconds"
       ]
      },
      {
       "output_type": "stream",
       "stream": "stdout",
       "text": [
        "\n",
        "Number of Orbitals: 9\n",
        "Number of Primitive Gaussians: 105\n",
        "Integration Complete in 0.0270400047302 seconds\n",
        "Number of Orbitals: 9\n",
        "Number of Primitive Gaussians: 105\n",
        "Integration Complete in 0.0309188365936 seconds"
       ]
      },
      {
       "output_type": "stream",
       "stream": "stdout",
       "text": [
        "\n",
        "Number of Orbitals: 9\n",
        "Number of Primitive Gaussians: 105\n",
        "Integration Complete in 0.0289008617401 seconds\n",
        "Number of Orbitals: 9\n",
        "Number of Primitive Gaussians: 105\n",
        "Integration Complete in 0.0267248153687 seconds"
       ]
      },
      {
       "output_type": "stream",
       "stream": "stdout",
       "text": [
        "\n",
        "Number of Orbitals: 9\n",
        "Number of Primitive Gaussians: 105\n",
        "Integration Complete in 0.0268130302429 seconds\n",
        "Number of Orbitals: 9\n",
        "Number of Primitive Gaussians: 105\n",
        "Integration Complete in 0.0266759395599 seconds"
       ]
      },
      {
       "output_type": "stream",
       "stream": "stdout",
       "text": [
        "\n",
        "Number of Orbitals: 9\n",
        "Number of Primitive Gaussians: 105\n",
        "Integration Complete in 0.0267288684845 seconds\n",
        "Number of Orbitals: 9\n",
        "Number of Primitive Gaussians: 105\n",
        "Integration Complete in 0.0267140865326 seconds"
       ]
      },
      {
       "output_type": "stream",
       "stream": "stdout",
       "text": [
        "\n",
        "Number of Orbitals: 9\n",
        "Number of Primitive Gaussians: 105\n",
        "Integration Complete in 0.026792049408 seconds\n",
        "Number of Orbitals: 9\n",
        "Number of Primitive Gaussians: 105\n",
        "Integration Complete in 0.0266978740692 seconds"
       ]
      },
      {
       "output_type": "stream",
       "stream": "stdout",
       "text": [
        "\n",
        "Number of Orbitals: 9\n",
        "Number of Primitive Gaussians: 105\n",
        "Integration Complete in 0.0268588066101 seconds\n",
        "Number of Orbitals: 9\n",
        "Number of Primitive Gaussians: 105\n",
        "Integration Complete in 0.0296459197998 seconds"
       ]
      },
      {
       "output_type": "stream",
       "stream": "stdout",
       "text": [
        "\n",
        "Number of Orbitals: 9\n",
        "Number of Primitive Gaussians: 105\n",
        "Integration Complete in 0.0266270637512 seconds\n",
        "Number of Orbitals: 9\n",
        "Number of Primitive Gaussians: 105\n",
        "Integration Complete in 0.026789188385 seconds"
       ]
      },
      {
       "output_type": "stream",
       "stream": "stdout",
       "text": [
        "\n",
        "Number of Orbitals: 9\n",
        "Number of Primitive Gaussians: 105\n",
        "Integration Complete in 0.0298018455505 seconds\n",
        "Number of Orbitals: 9\n",
        "Number of Primitive Gaussians: 105\n",
        "Integration Complete in 0.0267729759216 seconds"
       ]
      },
      {
       "output_type": "stream",
       "stream": "stdout",
       "text": [
        "\n",
        "Number of Orbitals: 9\n",
        "Number of Primitive Gaussians: 105\n",
        "Integration Complete in 0.0270509719849 seconds\n",
        "Number of Orbitals: 9\n",
        "Number of Primitive Gaussians: 105\n",
        "Integration Complete in 0.0268080234528 seconds"
       ]
      },
      {
       "output_type": "stream",
       "stream": "stdout",
       "text": [
        "\n",
        "Number of Orbitals: 9\n",
        "Number of Primitive Gaussians: 105\n",
        "Integration Complete in 0.0267419815063 seconds\n",
        "Number of Orbitals: 9\n",
        "Number of Primitive Gaussians: 105\n",
        "Integration Complete in 0.0267879962921 seconds"
       ]
      },
      {
       "output_type": "stream",
       "stream": "stdout",
       "text": [
        "\n",
        "Number of Orbitals: 9\n",
        "Number of Primitive Gaussians: 105\n",
        "Integration Complete in 0.0267059803009 seconds\n",
        "Number of Orbitals: 9\n",
        "Number of Primitive Gaussians: 105\n",
        "Integration Complete in 0.0266308784485 seconds"
       ]
      },
      {
       "output_type": "stream",
       "stream": "stdout",
       "text": [
        "\n",
        "Number of Orbitals: 9\n",
        "Number of Primitive Gaussians: 105\n",
        "Integration Complete in 0.0267250537872 seconds\n",
        "Number of Orbitals: 9\n",
        "Number of Primitive Gaussians: 105\n",
        "Integration Complete in 0.026771068573 seconds"
       ]
      },
      {
       "output_type": "stream",
       "stream": "stdout",
       "text": [
        "\n",
        "Number of Orbitals: 9\n",
        "Number of Primitive Gaussians: 105\n",
        "Integration Complete in 0.0352308750153 seconds\n",
        "Number of Orbitals: 9\n",
        "Number of Primitive Gaussians: 105\n",
        "Integration Complete in 0.0267100334167 seconds"
       ]
      },
      {
       "output_type": "stream",
       "stream": "stdout",
       "text": [
        "\n",
        "Number of Orbitals: 9\n",
        "Number of Primitive Gaussians: 105\n",
        "Integration Complete in 0.0267450809479 seconds\n",
        "Number of Orbitals: 9\n",
        "Number of Primitive Gaussians: 105\n",
        "Integration Complete in 0.0267150402069 seconds"
       ]
      },
      {
       "output_type": "stream",
       "stream": "stdout",
       "text": [
        "\n",
        "Number of Orbitals: 9\n",
        "Number of Primitive Gaussians: 105\n",
        "Integration Complete in 0.0266962051392 seconds\n",
        "Number of Orbitals: 9\n",
        "Number of Primitive Gaussians: 105\n",
        "Integration Complete in 0.0269238948822 seconds"
       ]
      },
      {
       "output_type": "stream",
       "stream": "stdout",
       "text": [
        "\n",
        "Number of Orbitals: 9\n",
        "Number of Primitive Gaussians: 105\n",
        "Integration Complete in 0.0266399383545 seconds\n",
        "Number of Orbitals: 9\n",
        "Number of Primitive Gaussians: 105\n",
        "Integration Complete in 0.0267691612244 seconds"
       ]
      },
      {
       "output_type": "stream",
       "stream": "stdout",
       "text": [
        "\n",
        "Number of Orbitals: 9\n",
        "Number of Primitive Gaussians: 105\n",
        "Integration Complete in 0.0267510414124 seconds\n",
        "Number of Orbitals: 9\n",
        "Number of Primitive Gaussians: 105\n",
        "Integration Complete in 0.0276560783386 seconds"
       ]
      },
      {
       "output_type": "stream",
       "stream": "stdout",
       "text": [
        "\n",
        "Number of Orbitals: 9\n",
        "Number of Primitive Gaussians: 105\n",
        "Integration Complete in 0.0266330242157 seconds\n",
        "Number of Orbitals: 9\n",
        "Number of Primitive Gaussians: 105\n",
        "Integration Complete in 0.0268290042877 seconds"
       ]
      },
      {
       "output_type": "stream",
       "stream": "stdout",
       "text": [
        "\n",
        "Number of Orbitals: 9\n",
        "Number of Primitive Gaussians: 105\n",
        "Integration Complete in 0.0266399383545 seconds\n",
        "Number of Orbitals: 9\n",
        "Number of Primitive Gaussians: 105\n",
        "Integration Complete in 0.0266909599304 seconds"
       ]
      },
      {
       "output_type": "stream",
       "stream": "stdout",
       "text": [
        "\n",
        "Number of Orbitals: 9\n",
        "Number of Primitive Gaussians: 105\n",
        "Integration Complete in 0.0266499519348 seconds\n",
        "Number of Orbitals: 9\n",
        "Number of Primitive Gaussians: 105\n",
        "Integration Complete in 0.0267310142517 seconds"
       ]
      },
      {
       "output_type": "stream",
       "stream": "stdout",
       "text": [
        "\n",
        "Number of Orbitals: 9\n",
        "Number of Primitive Gaussians: 105\n",
        "Integration Complete in 0.0268189907074 seconds\n",
        "Number of Orbitals: 9\n",
        "Number of Primitive Gaussians: 105\n",
        "Integration Complete in 0.0267200469971 seconds"
       ]
      },
      {
       "output_type": "stream",
       "stream": "stdout",
       "text": [
        "\n",
        "Number of Orbitals: 9\n",
        "Number of Primitive Gaussians: 105\n",
        "Integration Complete in 0.0271201133728 seconds\n",
        "Number of Orbitals: 9\n",
        "Number of Primitive Gaussians: 105\n",
        "Integration Complete in 0.028126001358 seconds"
       ]
      },
      {
       "output_type": "stream",
       "stream": "stdout",
       "text": [
        "\n",
        "Number of Orbitals: 9\n",
        "Number of Primitive Gaussians: 105\n",
        "Integration Complete in 0.0267279148102 seconds\n",
        "Number of Orbitals: 9\n",
        "Number of Primitive Gaussians: 105\n",
        "Integration Complete in 0.0267391204834 seconds"
       ]
      },
      {
       "output_type": "stream",
       "stream": "stdout",
       "text": [
        "\n",
        "Number of Orbitals: 9\n",
        "Number of Primitive Gaussians: 105\n",
        "Integration Complete in 0.0302309989929 seconds\n",
        "Number of Orbitals: 9\n",
        "Number of Primitive Gaussians: 105\n",
        "Integration Complete in 0.026750087738 seconds"
       ]
      },
      {
       "output_type": "stream",
       "stream": "stdout",
       "text": [
        "\n",
        "Number of Orbitals: 9\n",
        "Number of Primitive Gaussians: 105\n",
        "Integration Complete in 0.0269241333008 seconds\n",
        "Number of Orbitals: 9\n",
        "Number of Primitive Gaussians: 105\n",
        "Integration Complete in 0.0303750038147 seconds"
       ]
      },
      {
       "output_type": "stream",
       "stream": "stdout",
       "text": [
        "\n",
        "Number of Orbitals: 9\n",
        "Number of Primitive Gaussians: 105\n",
        "Integration Complete in 0.0266590118408 seconds\n",
        "Number of Orbitals: 9\n",
        "Number of Primitive Gaussians: 105\n",
        "Integration Complete in 0.0268430709839 seconds"
       ]
      },
      {
       "output_type": "stream",
       "stream": "stdout",
       "text": [
        "\n",
        "Number of Orbitals: 9\n",
        "Number of Primitive Gaussians: 105\n",
        "Integration Complete in 0.0266590118408 seconds\n",
        "Number of Orbitals: 9\n",
        "Number of Primitive Gaussians: 105\n",
        "Integration Complete in 0.0266749858856 seconds"
       ]
      },
      {
       "output_type": "stream",
       "stream": "stdout",
       "text": [
        "\n",
        "Number of Orbitals: 9\n",
        "Number of Primitive Gaussians: 105\n",
        "Integration Complete in 0.0266439914703 seconds\n",
        "Number of Orbitals: 9\n",
        "Number of Primitive Gaussians: 105\n",
        "Integration Complete in 0.0267419815063 seconds"
       ]
      },
      {
       "output_type": "stream",
       "stream": "stdout",
       "text": [
        "\n",
        "Number of Orbitals: 9\n",
        "Number of Primitive Gaussians: 105\n",
        "Integration Complete in 0.0267779827118 seconds\n",
        "Number of Orbitals: 9\n",
        "Number of Primitive Gaussians: 105\n",
        "Integration Complete in 0.0267758369446 seconds"
       ]
      },
      {
       "output_type": "stream",
       "stream": "stdout",
       "text": [
        "\n",
        "Number of Orbitals: 9\n",
        "Number of Primitive Gaussians: 105\n",
        "Integration Complete in 0.0268220901489 seconds\n",
        "Number of Orbitals: 9\n",
        "Number of Primitive Gaussians: 105\n",
        "Integration Complete in 0.0267310142517 seconds"
       ]
      },
      {
       "output_type": "stream",
       "stream": "stdout",
       "text": [
        "\n",
        "Number of Orbitals: 9\n",
        "Number of Primitive Gaussians: 105\n",
        "Integration Complete in 0.026759147644 seconds\n",
        "Number of Orbitals: 9\n",
        "Number of Primitive Gaussians: 105\n",
        "Integration Complete in 0.0267989635468 seconds"
       ]
      },
      {
       "output_type": "stream",
       "stream": "stdout",
       "text": [
        "\n",
        "Number of Orbitals: 9\n",
        "Number of Primitive Gaussians: 105\n",
        "Integration Complete in 0.0266799926758 seconds\n",
        "Number of Orbitals: 9\n",
        "Number of Primitive Gaussians: 105\n",
        "Integration Complete in 0.0267970561981 seconds"
       ]
      },
      {
       "output_type": "stream",
       "stream": "stdout",
       "text": [
        "\n",
        "Number of Orbitals: 9\n",
        "Number of Primitive Gaussians: 105\n",
        "Integration Complete in 0.0266749858856 seconds\n",
        "Number of Orbitals: 9\n",
        "Number of Primitive Gaussians: 105\n",
        "Integration Complete in 0.0268371105194 seconds"
       ]
      },
      {
       "output_type": "stream",
       "stream": "stdout",
       "text": [
        "\n",
        "Number of Orbitals: 9\n",
        "Number of Primitive Gaussians: 105\n",
        "Integration Complete in 0.0273818969727 seconds\n",
        "Number of Orbitals: 9\n",
        "Number of Primitive Gaussians: 105\n",
        "Integration Complete in 0.0271439552307 seconds"
       ]
      },
      {
       "output_type": "stream",
       "stream": "stdout",
       "text": [
        "\n",
        "Number of Orbitals: 9\n",
        "Number of Primitive Gaussians: 105\n",
        "Integration Complete in 0.0265960693359 seconds\n",
        "Number of Orbitals: 9\n",
        "Number of Primitive Gaussians: 105\n",
        "Integration Complete in 0.0267899036407 seconds"
       ]
      },
      {
       "output_type": "stream",
       "stream": "stdout",
       "text": [
        "\n",
        "Number of Orbitals: 9\n",
        "Number of Primitive Gaussians: 105\n",
        "Integration Complete in 0.0267910957336 seconds\n",
        "Number of Orbitals: 9\n",
        "Number of Primitive Gaussians: 105\n",
        "Integration Complete in 0.0267260074615 seconds"
       ]
      },
      {
       "output_type": "stream",
       "stream": "stdout",
       "text": [
        "\n",
        "Number of Orbitals: 9\n",
        "Number of Primitive Gaussians: 105\n",
        "Integration Complete in 0.0267670154572 seconds\n",
        "Number of Orbitals: 9\n",
        "Number of Primitive Gaussians: 105\n",
        "Integration Complete in 0.026750087738 seconds"
       ]
      },
      {
       "output_type": "stream",
       "stream": "stdout",
       "text": [
        "\n",
        "Number of Orbitals: 9\n",
        "Number of Primitive Gaussians: 105\n",
        "Integration Complete in 0.0267379283905 seconds\n",
        "Number of Orbitals: 9\n",
        "Number of Primitive Gaussians: 105\n",
        "Integration Complete in 0.0284790992737 seconds"
       ]
      },
      {
       "output_type": "stream",
       "stream": "stdout",
       "text": [
        "\n",
        "Number of Orbitals: 9\n",
        "Number of Primitive Gaussians: 105\n",
        "Integration Complete in 0.0272181034088 seconds\n",
        "Number of Orbitals: 9\n",
        "Number of Primitive Gaussians: 105\n",
        "Integration Complete in 0.0329649448395 seconds"
       ]
      },
      {
       "output_type": "stream",
       "stream": "stdout",
       "text": [
        "\n",
        "Number of Orbitals: 9\n",
        "Number of Primitive Gaussians: 105\n",
        "Integration Complete in 0.0303800106049 seconds\n",
        "Number of Orbitals: 9\n",
        "Number of Primitive Gaussians: 105\n",
        "Integration Complete in 0.026743888855 seconds"
       ]
      },
      {
       "output_type": "stream",
       "stream": "stdout",
       "text": [
        "\n",
        "Number of Orbitals: 9\n",
        "Number of Primitive Gaussians: 105\n",
        "Integration Complete in 0.0269751548767 seconds\n",
        "Number of Orbitals: 9\n",
        "Number of Primitive Gaussians: 105\n",
        "Integration Complete in 0.0268948078156 seconds"
       ]
      },
      {
       "output_type": "stream",
       "stream": "stdout",
       "text": [
        "\n",
        "Number of Orbitals: 9\n",
        "Number of Primitive Gaussians: 105\n",
        "Integration Complete in 0.0266141891479 seconds\n",
        "Number of Orbitals: 9\n",
        "Number of Primitive Gaussians: 105\n",
        "Integration Complete in 0.0270049571991 seconds"
       ]
      },
      {
       "output_type": "stream",
       "stream": "stdout",
       "text": [
        "\n",
        "Number of Orbitals: 9\n",
        "Number of Primitive Gaussians: 105\n",
        "Integration Complete in 0.0265851020813 seconds\n",
        "Number of Orbitals: 9\n",
        "Number of Primitive Gaussians: 105\n",
        "Integration Complete in 0.0266358852386 seconds"
       ]
      },
      {
       "output_type": "stream",
       "stream": "stdout",
       "text": [
        "\n",
        "Number of Orbitals: 9\n",
        "Number of Primitive Gaussians: 105\n",
        "Integration Complete in 0.0266020298004 seconds\n",
        "Number of Orbitals: 9\n",
        "Number of Primitive Gaussians: 105\n",
        "Integration Complete in 0.0266699790955 seconds"
       ]
      },
      {
       "output_type": "stream",
       "stream": "stdout",
       "text": [
        "\n",
        "Number of Orbitals: 9\n",
        "Number of Primitive Gaussians: 105\n",
        "Integration Complete in 0.0267968177795 seconds\n",
        "Number of Orbitals: 9\n",
        "Number of Primitive Gaussians: 105\n",
        "Integration Complete in 0.0267150402069 seconds"
       ]
      },
      {
       "output_type": "stream",
       "stream": "stdout",
       "text": [
        "\n",
        "Number of Orbitals: 9\n",
        "Number of Primitive Gaussians: 105\n",
        "Integration Complete in 0.0266790390015 seconds\n",
        "Number of Orbitals: 9\n",
        "Number of Primitive Gaussians: 105\n",
        "Integration Complete in 0.0267169475555 seconds"
       ]
      },
      {
       "output_type": "stream",
       "stream": "stdout",
       "text": [
        "\n",
        "Number of Orbitals: 9\n",
        "Number of Primitive Gaussians: 105\n",
        "Integration Complete in 0.0266399383545 seconds\n",
        "Number of Orbitals: 9\n",
        "Number of Primitive Gaussians: 105\n",
        "Integration Complete in 0.0268909931183 seconds"
       ]
      },
      {
       "output_type": "stream",
       "stream": "stdout",
       "text": [
        "\n",
        "Number of Orbitals: 9\n",
        "Number of Primitive Gaussians: 105\n",
        "Integration Complete in 0.0266859531403 seconds\n",
        "Number of Orbitals: 9\n",
        "Number of Primitive Gaussians: 105\n",
        "Integration Complete in 0.0269289016724 seconds"
       ]
      },
      {
       "output_type": "stream",
       "stream": "stdout",
       "text": [
        "\n",
        "Number of Orbitals: 9\n",
        "Number of Primitive Gaussians: 105\n",
        "Integration Complete in 0.0267388820648 seconds\n",
        "Number of Orbitals: 9\n",
        "Number of Primitive Gaussians: 105\n",
        "Integration Complete in 0.027330160141 seconds"
       ]
      },
      {
       "output_type": "stream",
       "stream": "stdout",
       "text": [
        "\n",
        "Number of Orbitals: 9\n",
        "Number of Primitive Gaussians: 105\n",
        "Integration Complete in 0.0266962051392 seconds\n",
        "Number of Orbitals: 9\n",
        "Number of Primitive Gaussians: 105\n",
        "Integration Complete in 0.0272591114044 seconds"
       ]
      },
      {
       "output_type": "stream",
       "stream": "stdout",
       "text": [
        "\n",
        "Number of Orbitals: 9\n",
        "Number of Primitive Gaussians: 105\n",
        "Integration Complete in 0.0267329216003 seconds\n",
        "Number of Orbitals: 9\n",
        "Number of Primitive Gaussians: 105\n",
        "Integration Complete in 0.0267169475555 seconds"
       ]
      },
      {
       "output_type": "stream",
       "stream": "stdout",
       "text": [
        "\n",
        "Number of Orbitals: 9\n",
        "Number of Primitive Gaussians: 105\n",
        "Integration Complete in 0.0267269611359 seconds\n",
        "Number of Orbitals: 9\n",
        "Number of Primitive Gaussians: 105\n",
        "Integration Complete in 0.0270199775696 seconds"
       ]
      },
      {
       "output_type": "stream",
       "stream": "stdout",
       "text": [
        "\n",
        "Number of Orbitals: 9\n",
        "Number of Primitive Gaussians: 105\n",
        "Integration Complete in 0.0267400741577 seconds\n",
        "Number of Orbitals: 9\n",
        "Number of Primitive Gaussians: 105\n",
        "Integration Complete in 0.0266900062561 seconds"
       ]
      },
      {
       "output_type": "stream",
       "stream": "stdout",
       "text": [
        "\n",
        "Number of Orbitals: 9\n",
        "Number of Primitive Gaussians: 105\n",
        "Integration Complete in 0.0266869068146 seconds\n",
        "Number of Orbitals: 9\n",
        "Number of Primitive Gaussians: 105\n",
        "Integration Complete in 0.0284688472748 seconds"
       ]
      },
      {
       "output_type": "stream",
       "stream": "stdout",
       "text": [
        "\n",
        "Number of Orbitals: 9\n",
        "Number of Primitive Gaussians: 105\n",
        "Integration Complete in 0.0265991687775 seconds\n",
        "Number of Orbitals: 9\n",
        "Number of Primitive Gaussians: 105\n",
        "Integration Complete in 0.0294630527496 seconds"
       ]
      },
      {
       "output_type": "stream",
       "stream": "stdout",
       "text": [
        "\n",
        "Number of Orbitals: 9\n",
        "Number of Primitive Gaussians: 105\n",
        "Integration Complete in 0.0300469398499 seconds\n",
        "Number of Orbitals: 9\n",
        "Number of Primitive Gaussians: 105\n",
        "Integration Complete in 0.026801109314 seconds"
       ]
      },
      {
       "output_type": "stream",
       "stream": "stdout",
       "text": [
        "\n",
        "Number of Orbitals: 9\n",
        "Number of Primitive Gaussians: 105\n",
        "Integration Complete in 0.0269429683685 seconds\n",
        "Number of Orbitals: 9\n",
        "Number of Primitive Gaussians: 105\n",
        "Integration Complete in 0.0268568992615 seconds"
       ]
      },
      {
       "output_type": "stream",
       "stream": "stdout",
       "text": [
        "\n",
        "Number of Orbitals: 9\n",
        "Number of Primitive Gaussians: 105\n",
        "Integration Complete in 0.0268568992615 seconds\n",
        "Number of Orbitals: 9\n",
        "Number of Primitive Gaussians: 105\n",
        "Integration Complete in 0.0268380641937 seconds"
       ]
      },
      {
       "output_type": "stream",
       "stream": "stdout",
       "text": [
        "\n",
        "Number of Orbitals: 9\n",
        "Number of Primitive Gaussians: 105\n",
        "Integration Complete in 0.0267739295959 seconds\n",
        "Number of Orbitals: 9\n",
        "Number of Primitive Gaussians: 105\n",
        "Integration Complete in 0.0267260074615 seconds"
       ]
      },
      {
       "output_type": "stream",
       "stream": "stdout",
       "text": [
        "\n",
        "Number of Orbitals: 9\n",
        "Number of Primitive Gaussians: 105\n",
        "Integration Complete in 0.0267510414124 seconds\n",
        "Number of Orbitals: 9\n",
        "Number of Primitive Gaussians: 105\n",
        "Integration Complete in 0.0267369747162 seconds"
       ]
      },
      {
       "output_type": "stream",
       "stream": "stdout",
       "text": [
        "\n",
        "Number of Orbitals: 9\n",
        "Number of Primitive Gaussians: 105\n",
        "Integration Complete in 0.0266678333282 seconds\n",
        "Number of Orbitals: 9\n",
        "Number of Primitive Gaussians: 105\n",
        "Integration Complete in 0.0270419120789 seconds"
       ]
      },
      {
       "output_type": "stream",
       "stream": "stdout",
       "text": [
        "\n",
        "Number of Orbitals: 9\n",
        "Number of Primitive Gaussians: 105\n",
        "Integration Complete in 0.0266420841217 seconds\n",
        "Number of Orbitals: 9\n",
        "Number of Primitive Gaussians: 105\n",
        "Integration Complete in 0.0268259048462 seconds"
       ]
      },
      {
       "output_type": "stream",
       "stream": "stdout",
       "text": [
        "\n",
        "Number of Orbitals: 9\n",
        "Number of Primitive Gaussians: 105\n",
        "Integration Complete in 0.0266859531403 seconds\n",
        "Number of Orbitals: 9\n",
        "Number of Primitive Gaussians: 105\n",
        "Integration Complete in 0.0269231796265 seconds"
       ]
      },
      {
       "output_type": "stream",
       "stream": "stdout",
       "text": [
        "\n",
        "Number of Orbitals: 9\n",
        "Number of Primitive Gaussians: 105\n",
        "Integration Complete in 0.0267698764801 seconds\n",
        "Number of Orbitals: 9\n",
        "Number of Primitive Gaussians: 105\n",
        "Integration Complete in 0.0268349647522 seconds"
       ]
      },
      {
       "output_type": "stream",
       "stream": "stdout",
       "text": [
        "\n",
        "Number of Orbitals: 9\n",
        "Number of Primitive Gaussians: 105\n",
        "Integration Complete in 0.0403900146484 seconds\n",
        "Number of Orbitals: 9"
       ]
      },
      {
       "output_type": "stream",
       "stream": "stdout",
       "text": [
        "\n",
        "Number of Primitive Gaussians: 105\n",
        "Integration Complete in 0.0388479232788 seconds\n",
        "Number of Orbitals: 9\n",
        "Number of Primitive Gaussians: 105\n",
        "Integration Complete in 0.0267660617828 seconds"
       ]
      },
      {
       "output_type": "stream",
       "stream": "stdout",
       "text": [
        "\n",
        "Number of Orbitals: 9\n",
        "Number of Primitive Gaussians: 105\n",
        "Integration Complete in 0.0268430709839 seconds\n",
        "Number of Orbitals: 9\n",
        "Number of Primitive Gaussians: 105\n",
        "Integration Complete in 0.0268931388855 seconds"
       ]
      },
      {
       "output_type": "stream",
       "stream": "stdout",
       "text": [
        "\n",
        "Number of Orbitals: 9\n",
        "Number of Primitive Gaussians: 105\n",
        "Integration Complete in 0.026841878891 seconds\n",
        "Number of Orbitals: 9\n",
        "Number of Primitive Gaussians: 105\n",
        "Integration Complete in 0.026762008667 seconds"
       ]
      },
      {
       "output_type": "stream",
       "stream": "stdout",
       "text": [
        "\n",
        "Number of Orbitals: 9\n",
        "Number of Primitive Gaussians: 105\n",
        "Integration Complete in 0.0268030166626 seconds\n",
        "Number of Orbitals: 9\n",
        "Number of Primitive Gaussians: 105\n",
        "Integration Complete in 0.0267951488495 seconds"
       ]
      },
      {
       "output_type": "stream",
       "stream": "stdout",
       "text": [
        "\n",
        "Number of Orbitals: 9\n",
        "Number of Primitive Gaussians: 105\n",
        "Integration Complete in 0.026859998703 seconds\n",
        "Number of Orbitals: 9\n",
        "Number of Primitive Gaussians: 105\n",
        "Integration Complete in 0.0284998416901 seconds"
       ]
      },
      {
       "output_type": "stream",
       "stream": "stdout",
       "text": [
        "\n",
        "Number of Orbitals: 9\n",
        "Number of Primitive Gaussians: 105\n",
        "Integration Complete in 0.0269038677216 seconds\n",
        "Number of Orbitals: 9\n",
        "Number of Primitive Gaussians: 105\n",
        "Integration Complete in 0.02672290802 seconds"
       ]
      },
      {
       "output_type": "stream",
       "stream": "stdout",
       "text": [
        "\n",
        "Number of Orbitals: 9\n",
        "Number of Primitive Gaussians: 105\n",
        "Integration Complete in 0.0303831100464 seconds\n",
        "Number of Orbitals: 9\n",
        "Number of Primitive Gaussians: 105\n",
        "Integration Complete in 0.0266308784485 seconds"
       ]
      },
      {
       "output_type": "stream",
       "stream": "stdout",
       "text": [
        "\n",
        "Number of Orbitals: 9\n",
        "Number of Primitive Gaussians: 105\n",
        "Integration Complete in 0.0270562171936 seconds\n",
        "Number of Orbitals: 9\n",
        "Number of Primitive Gaussians: 105\n",
        "Integration Complete in 0.0267400741577 seconds"
       ]
      },
      {
       "output_type": "stream",
       "stream": "stdout",
       "text": [
        "\n",
        "Number of Orbitals: 9\n",
        "Number of Primitive Gaussians: 105\n",
        "Integration Complete in 0.0267190933228 seconds\n",
        "Number of Orbitals: 9\n",
        "Number of Primitive Gaussians: 105\n",
        "Integration Complete in 0.0295259952545 seconds"
       ]
      },
      {
       "output_type": "stream",
       "stream": "stdout",
       "text": [
        "\n",
        "Number of Orbitals: 9\n",
        "Number of Primitive Gaussians: 105\n",
        "Integration Complete in 0.0268828868866 seconds\n",
        "Number of Orbitals: 9\n",
        "Number of Primitive Gaussians: 105\n",
        "Integration Complete in 0.0266380310059 seconds"
       ]
      },
      {
       "output_type": "stream",
       "stream": "stdout",
       "text": [
        "\n",
        "Number of Orbitals: 9\n",
        "Number of Primitive Gaussians: 105\n",
        "Integration Complete in 0.0272278785706 seconds\n",
        "Number of Orbitals: 9\n",
        "Number of Primitive Gaussians: 105\n",
        "Integration Complete in 0.0266089439392 seconds"
       ]
      },
      {
       "output_type": "stream",
       "stream": "stdout",
       "text": [
        "\n",
        "Number of Orbitals: 9\n",
        "Number of Primitive Gaussians: 105\n",
        "Integration Complete in 0.026820898056 seconds\n",
        "Number of Orbitals: 9\n",
        "Number of Primitive Gaussians: 105\n",
        "Integration Complete in 0.0266809463501 seconds"
       ]
      },
      {
       "output_type": "stream",
       "stream": "stdout",
       "text": [
        "\n",
        "Number of Orbitals: 9\n",
        "Number of Primitive Gaussians: 105\n",
        "Integration Complete in 0.0269849300385 seconds\n",
        "Number of Orbitals: 9\n",
        "Number of Primitive Gaussians: 105\n",
        "Integration Complete in 0.0266070365906 seconds"
       ]
      },
      {
       "output_type": "stream",
       "stream": "stdout",
       "text": [
        "\n",
        "Number of Orbitals: 9\n",
        "Number of Primitive Gaussians: 105\n",
        "Integration Complete in 0.0267159938812 seconds\n",
        "Number of Orbitals: 9\n",
        "Number of Primitive Gaussians: 105\n",
        "Integration Complete in 0.0267899036407 seconds"
       ]
      },
      {
       "output_type": "stream",
       "stream": "stdout",
       "text": [
        "\n",
        "Number of Orbitals: 9\n",
        "Number of Primitive Gaussians: 105\n",
        "Integration Complete in 0.0266859531403 seconds\n",
        "Number of Orbitals: 9\n",
        "Number of Primitive Gaussians: 105\n",
        "Integration Complete in 0.0267260074615 seconds"
       ]
      },
      {
       "output_type": "stream",
       "stream": "stdout",
       "text": [
        "\n",
        "Number of Orbitals: 9\n",
        "Number of Primitive Gaussians: 105\n",
        "Integration Complete in 0.0270621776581 seconds\n",
        "Number of Orbitals: 9\n",
        "Number of Primitive Gaussians: 105\n",
        "Integration Complete in 0.0271718502045 seconds"
       ]
      },
      {
       "output_type": "stream",
       "stream": "stdout",
       "text": [
        "\n",
        "Number of Orbitals: 9\n",
        "Number of Primitive Gaussians: 105\n",
        "Integration Complete in 0.0267510414124 seconds\n",
        "Number of Orbitals: 9\n",
        "Number of Primitive Gaussians: 105\n",
        "Integration Complete in 0.0266871452332 seconds"
       ]
      },
      {
       "output_type": "stream",
       "stream": "stdout",
       "text": [
        "\n",
        "Number of Orbitals: 9\n",
        "Number of Primitive Gaussians: 105\n",
        "Integration Complete in 0.0268399715424 seconds\n",
        "Number of Orbitals: 9\n",
        "Number of Primitive Gaussians: 105\n",
        "Integration Complete in 0.0266211032867 seconds"
       ]
      },
      {
       "output_type": "stream",
       "stream": "stdout",
       "text": [
        "\n",
        "Number of Orbitals: 9\n",
        "Number of Primitive Gaussians: 105\n",
        "Integration Complete in 0.0268051624298 seconds\n",
        "Number of Orbitals: 9\n",
        "Number of Primitive Gaussians: 105\n",
        "Integration Complete in 0.026652097702 seconds"
       ]
      },
      {
       "output_type": "stream",
       "stream": "stdout",
       "text": [
        "\n",
        "Number of Orbitals: 9\n",
        "Number of Primitive Gaussians: 105\n",
        "Integration Complete in 0.0268130302429 seconds\n",
        "Number of Orbitals: 9\n",
        "Number of Primitive Gaussians: 105\n",
        "Integration Complete in 0.0268659591675 seconds"
       ]
      },
      {
       "output_type": "stream",
       "stream": "stdout",
       "text": [
        "\n",
        "Number of Orbitals: 9\n",
        "Number of Primitive Gaussians: 105\n",
        "Integration Complete in 0.026762008667 seconds\n",
        "Number of Orbitals: 9\n",
        "Number of Primitive Gaussians: 105\n",
        "Integration Complete in 0.0269470214844 seconds"
       ]
      },
      {
       "output_type": "stream",
       "stream": "stdout",
       "text": [
        "\n",
        "Number of Orbitals: 9\n",
        "Number of Primitive Gaussians: 105\n",
        "Integration Complete in 0.0268058776855 seconds\n",
        "Number of Orbitals: 9\n",
        "Number of Primitive Gaussians: 105\n",
        "Integration Complete in 0.0266139507294 seconds"
       ]
      },
      {
       "output_type": "stream",
       "stream": "stdout",
       "text": [
        "\n",
        "Number of Orbitals: 9\n",
        "Number of Primitive Gaussians: 105\n",
        "Integration Complete in 0.0301668643951 seconds\n",
        "Number of Orbitals: 9\n",
        "Number of Primitive Gaussians: 105\n",
        "Integration Complete in 0.0266370773315 seconds"
       ]
      },
      {
       "output_type": "stream",
       "stream": "stdout",
       "text": [
        "\n",
        "Number of Orbitals: 9\n",
        "Number of Primitive Gaussians: 105\n",
        "Integration Complete in 0.0268778800964 seconds\n",
        "Number of Orbitals: 9\n",
        "Number of Primitive Gaussians: 105\n",
        "Integration Complete in 0.0266218185425 seconds"
       ]
      },
      {
       "output_type": "stream",
       "stream": "stdout",
       "text": [
        "\n",
        "Number of Orbitals: 9\n",
        "Number of Primitive Gaussians: 105\n",
        "Integration Complete in 0.0268311500549 seconds\n",
        "Number of Orbitals: 9\n",
        "Number of Primitive Gaussians: 105\n",
        "Integration Complete in 0.0266439914703 seconds"
       ]
      },
      {
       "output_type": "stream",
       "stream": "stdout",
       "text": [
        "\n",
        "Number of Orbitals: 9\n",
        "Number of Primitive Gaussians: 105\n",
        "Integration Complete in 0.0267188549042 seconds\n",
        "Number of Orbitals: 9\n",
        "Number of Primitive Gaussians: 105\n",
        "Integration Complete in 0.0267369747162 seconds"
       ]
      },
      {
       "output_type": "stream",
       "stream": "stdout",
       "text": [
        "\n",
        "Number of Orbitals: 9\n",
        "Number of Primitive Gaussians: 105\n",
        "Integration Complete in 0.0267329216003 seconds\n",
        "Number of Orbitals: 9\n",
        "Number of Primitive Gaussians: 105\n",
        "Integration Complete in 0.0275509357452 seconds"
       ]
      },
      {
       "output_type": "stream",
       "stream": "stdout",
       "text": [
        "\n",
        "Number of Orbitals: 9\n",
        "Number of Primitive Gaussians: 105\n",
        "Integration Complete in 0.0267419815063 seconds\n",
        "Number of Orbitals: 9\n",
        "Number of Primitive Gaussians: 105\n",
        "Integration Complete in 0.0267000198364 seconds"
       ]
      },
      {
       "output_type": "stream",
       "stream": "stdout",
       "text": [
        "\n",
        "Number of Orbitals: 9\n",
        "Number of Primitive Gaussians: 105\n",
        "Integration Complete in 0.0268840789795 seconds\n",
        "Number of Orbitals: 9\n",
        "Number of Primitive Gaussians: 105\n",
        "Integration Complete in 0.0267550945282 seconds"
       ]
      },
      {
       "output_type": "stream",
       "stream": "stdout",
       "text": [
        "\n",
        "Number of Orbitals: 9\n",
        "Number of Primitive Gaussians: 105\n",
        "Integration Complete in 0.0268161296844 seconds\n",
        "Number of Orbitals: 9\n",
        "Number of Primitive Gaussians: 105\n",
        "Integration Complete in 0.0267860889435 seconds"
       ]
      },
      {
       "output_type": "stream",
       "stream": "stdout",
       "text": [
        "\n",
        "Number of Orbitals: 9\n",
        "Number of Primitive Gaussians: 105\n",
        "Integration Complete in 0.0267238616943 seconds\n",
        "Number of Orbitals: 9\n",
        "Number of Primitive Gaussians: 105\n",
        "Integration Complete in 0.026792049408 seconds"
       ]
      },
      {
       "output_type": "stream",
       "stream": "stdout",
       "text": [
        "\n",
        "Number of Orbitals: 9\n",
        "Number of Primitive Gaussians: 105\n",
        "Integration Complete in 0.0267460346222 seconds\n",
        "Number of Orbitals: 9\n",
        "Number of Primitive Gaussians: 105\n",
        "Integration Complete in 0.0278050899506 seconds"
       ]
      },
      {
       "output_type": "stream",
       "stream": "stdout",
       "text": [
        "\n",
        "Number of Orbitals: 9\n",
        "Number of Primitive Gaussians: 105\n",
        "Integration Complete in 0.0272238254547 seconds\n",
        "Number of Orbitals: 9\n",
        "Number of Primitive Gaussians: 105\n",
        "Integration Complete in 0.0266439914703 seconds"
       ]
      },
      {
       "output_type": "stream",
       "stream": "stdout",
       "text": [
        "\n",
        "Number of Orbitals: 9\n",
        "Number of Primitive Gaussians: 105\n",
        "Integration Complete in 0.0268120765686 seconds\n",
        "Number of Orbitals: 9\n",
        "Number of Primitive Gaussians: 105\n",
        "Integration Complete in 0.0266258716583 seconds"
       ]
      },
      {
       "output_type": "stream",
       "stream": "stdout",
       "text": [
        "\n",
        "Number of Orbitals: 9\n",
        "Number of Primitive Gaussians: 105\n",
        "Integration Complete in 0.0267951488495 seconds\n",
        "Number of Orbitals: 9\n",
        "Number of Primitive Gaussians: 105\n",
        "Integration Complete in 0.0266292095184 seconds"
       ]
      },
      {
       "output_type": "stream",
       "stream": "stdout",
       "text": [
        "\n",
        "Number of Orbitals: 9\n",
        "Number of Primitive Gaussians: 105\n",
        "Integration Complete in 0.0267832279205 seconds\n",
        "Number of Orbitals: 9\n",
        "Number of Primitive Gaussians: 105\n",
        "Integration Complete in 0.0266950130463 seconds"
       ]
      },
      {
       "output_type": "stream",
       "stream": "stdout",
       "text": [
        "\n",
        "Number of Orbitals: 9\n",
        "Number of Primitive Gaussians: 105\n",
        "Integration Complete in 0.0269019603729 seconds\n",
        "Number of Orbitals: 9\n",
        "Number of Primitive Gaussians: 105\n",
        "Integration Complete in 0.0268959999084 seconds"
       ]
      },
      {
       "output_type": "stream",
       "stream": "stdout",
       "text": [
        "\n",
        "Number of Orbitals: 9\n",
        "Number of Primitive Gaussians: 105\n",
        "Integration Complete in 0.0267908573151 seconds\n",
        "Number of Orbitals: 9\n",
        "Number of Primitive Gaussians: 105\n",
        "Integration Complete in 0.0268461704254 seconds"
       ]
      },
      {
       "output_type": "stream",
       "stream": "stdout",
       "text": [
        "\n",
        "Number of Orbitals: 9\n",
        "Number of Primitive Gaussians: 105\n",
        "Integration Complete in 0.027379989624 seconds\n",
        "Number of Orbitals: 9\n",
        "Number of Primitive Gaussians: 105\n",
        "Integration Complete in 0.026978969574 seconds"
       ]
      },
      {
       "output_type": "stream",
       "stream": "stdout",
       "text": [
        "\n",
        "Number of Orbitals: 9\n",
        "Number of Primitive Gaussians: 105\n",
        "Integration Complete in 0.0269839763641 seconds\n",
        "Number of Orbitals: 9\n",
        "Number of Primitive Gaussians: 105\n",
        "Integration Complete in 0.026967048645 seconds"
       ]
      },
      {
       "output_type": "stream",
       "stream": "stdout",
       "text": [
        "\n",
        "Number of Orbitals: 9\n",
        "Number of Primitive Gaussians: 105\n",
        "Integration Complete in 0.0268609523773 seconds\n",
        "Number of Orbitals: 9\n",
        "Number of Primitive Gaussians: 105\n",
        "Integration Complete in 0.0266239643097 seconds"
       ]
      },
      {
       "output_type": "stream",
       "stream": "stdout",
       "text": [
        "\n",
        "Number of Orbitals: 9\n",
        "Number of Primitive Gaussians: 105\n",
        "Integration Complete in 0.0267498493195 seconds\n",
        "Number of Orbitals: 9\n",
        "Number of Primitive Gaussians: 105\n",
        "Integration Complete in 0.0268180370331 seconds"
       ]
      },
      {
       "output_type": "stream",
       "stream": "stdout",
       "text": [
        "\n",
        "Number of Orbitals: 9\n",
        "Number of Primitive Gaussians: 105\n",
        "Integration Complete in 0.0267038345337 seconds\n",
        "Number of Orbitals: 9\n",
        "Number of Primitive Gaussians: 105\n",
        "Integration Complete in 0.0267341136932 seconds"
       ]
      },
      {
       "output_type": "stream",
       "stream": "stdout",
       "text": [
        "\n",
        "Number of Orbitals: 9\n",
        "Number of Primitive Gaussians: 105\n",
        "Integration Complete in 0.0271980762482 seconds\n",
        "Number of Orbitals: 9\n",
        "Number of Primitive Gaussians: 105\n",
        "Integration Complete in 0.0267708301544 seconds"
       ]
      },
      {
       "output_type": "stream",
       "stream": "stdout",
       "text": [
        "\n",
        "Number of Orbitals: 9\n",
        "Number of Primitive Gaussians: 105\n",
        "Integration Complete in 0.0268270969391 seconds\n",
        "Number of Orbitals: 9\n",
        "Number of Primitive Gaussians: 105\n",
        "Integration Complete in 0.026741027832 seconds"
       ]
      },
      {
       "output_type": "stream",
       "stream": "stdout",
       "text": [
        "\n",
        "Number of Orbitals: 9\n",
        "Number of Primitive Gaussians: 105\n",
        "Integration Complete in 0.0269038677216 seconds\n",
        "Number of Orbitals: 9\n",
        "Number of Primitive Gaussians: 105\n",
        "Integration Complete in 0.0266358852386 seconds"
       ]
      },
      {
       "output_type": "stream",
       "stream": "stdout",
       "text": [
        "\n",
        "Number of Orbitals: 9\n",
        "Number of Primitive Gaussians: 105\n",
        "Integration Complete in 0.026859998703 seconds\n",
        "Number of Orbitals: 9\n",
        "Number of Primitive Gaussians: 105\n",
        "Integration Complete in 0.0267009735107 seconds"
       ]
      },
      {
       "output_type": "stream",
       "stream": "stdout",
       "text": [
        "\n",
        "Number of Orbitals: 9\n",
        "Number of Primitive Gaussians: 105\n",
        "Integration Complete in 0.026841878891 seconds\n",
        "Number of Orbitals: 9\n",
        "Number of Primitive Gaussians: 105\n",
        "Integration Complete in 0.0267970561981 seconds"
       ]
      },
      {
       "output_type": "stream",
       "stream": "stdout",
       "text": [
        "\n",
        "Number of Orbitals: 9\n",
        "Number of Primitive Gaussians: 105\n",
        "Integration Complete in 0.0270118713379 seconds\n",
        "Number of Orbitals: 9\n",
        "Number of Primitive Gaussians: 105\n",
        "Integration Complete in 0.0267610549927 seconds"
       ]
      },
      {
       "output_type": "stream",
       "stream": "stdout",
       "text": [
        "\n",
        "Number of Orbitals: 9\n",
        "Number of Primitive Gaussians: 105\n",
        "Integration Complete in 0.0267660617828 seconds\n",
        "Number of Orbitals: 9\n",
        "Number of Primitive Gaussians: 105\n",
        "Integration Complete in 0.0266928672791 seconds"
       ]
      },
      {
       "output_type": "stream",
       "stream": "stdout",
       "text": [
        "\n",
        "Number of Orbitals: 9\n",
        "Number of Primitive Gaussians: 105\n",
        "Integration Complete in 0.0268149375916 seconds\n",
        "Number of Orbitals: 9\n",
        "Number of Primitive Gaussians: 105\n",
        "Integration Complete in 0.0265779495239 seconds"
       ]
      },
      {
       "output_type": "stream",
       "stream": "stdout",
       "text": [
        "\n",
        "Number of Orbitals: 9\n",
        "Number of Primitive Gaussians: 105\n",
        "Integration Complete in 0.0268199443817 seconds\n",
        "Number of Orbitals: 9\n",
        "Number of Primitive Gaussians: 105\n",
        "Integration Complete in 0.0266809463501 seconds"
       ]
      },
      {
       "output_type": "stream",
       "stream": "stdout",
       "text": [
        "\n",
        "Number of Orbitals: 9\n",
        "Number of Primitive Gaussians: 105\n",
        "Integration Complete in 0.0267689228058 seconds\n",
        "Number of Orbitals: 9\n",
        "Number of Primitive Gaussians: 105\n",
        "Integration Complete in 0.0267970561981 seconds"
       ]
      },
      {
       "output_type": "stream",
       "stream": "stdout",
       "text": [
        "\n",
        "Number of Orbitals: 9\n",
        "Number of Primitive Gaussians: 105\n",
        "Integration Complete in 0.0267469882965 seconds\n",
        "Number of Orbitals: 9\n",
        "Number of Primitive Gaussians: 105\n",
        "Integration Complete in 0.0267779827118 seconds"
       ]
      },
      {
       "output_type": "stream",
       "stream": "stdout",
       "text": [
        "\n",
        "Number of Orbitals: 9\n",
        "Number of Primitive Gaussians: 105\n",
        "Integration Complete in 0.0267159938812 seconds\n",
        "Number of Orbitals: 9\n",
        "Number of Primitive Gaussians: 105\n",
        "Integration Complete in 0.0301041603088 seconds"
       ]
      },
      {
       "output_type": "stream",
       "stream": "stdout",
       "text": [
        "\n",
        "Number of Orbitals: 9\n",
        "Number of Primitive Gaussians: 105\n",
        "Integration Complete in 0.0267419815063 seconds\n",
        "Number of Orbitals: 9\n",
        "Number of Primitive Gaussians: 105\n",
        "Integration Complete in 0.0269000530243 seconds"
       ]
      },
      {
       "output_type": "stream",
       "stream": "stdout",
       "text": [
        "\n",
        "Number of Orbitals: 9\n",
        "Number of Primitive Gaussians: 105\n",
        "Integration Complete in 0.0269610881805 seconds\n",
        "Number of Orbitals: 9\n",
        "Number of Primitive Gaussians: 105\n",
        "Integration Complete in 0.0266630649567 seconds"
       ]
      },
      {
       "output_type": "stream",
       "stream": "stdout",
       "text": [
        "\n",
        "Number of Orbitals: 9\n",
        "Number of Primitive Gaussians: 105\n",
        "Integration Complete in 0.0268740653992 seconds\n",
        "Number of Orbitals: 9\n",
        "Number of Primitive Gaussians: 105\n",
        "Integration Complete in 0.0265839099884 seconds"
       ]
      },
      {
       "output_type": "stream",
       "stream": "stdout",
       "text": [
        "\n",
        "Number of Orbitals: 9\n",
        "Number of Primitive Gaussians: 105\n",
        "Integration Complete in 0.0266590118408 seconds\n",
        "Number of Orbitals: 9\n",
        "Number of Primitive Gaussians: 105\n",
        "Integration Complete in 0.026801109314 seconds"
       ]
      },
      {
       "output_type": "stream",
       "stream": "stdout",
       "text": [
        "\n",
        "Number of Orbitals: 9\n",
        "Number of Primitive Gaussians: 105\n",
        "Integration Complete in 0.0267090797424 seconds\n",
        "Number of Orbitals: 9\n",
        "Number of Primitive Gaussians: 105\n",
        "Integration Complete in 0.026782989502 seconds"
       ]
      },
      {
       "output_type": "stream",
       "stream": "stdout",
       "text": [
        "\n",
        "Number of Orbitals: 9\n",
        "Number of Primitive Gaussians: 105\n",
        "Integration Complete in 0.0267598628998 seconds\n",
        "Number of Orbitals: 9\n",
        "Number of Primitive Gaussians: 105\n",
        "Integration Complete in 0.026673078537 seconds"
       ]
      },
      {
       "output_type": "stream",
       "stream": "stdout",
       "text": [
        "\n",
        "Number of Orbitals: 9\n",
        "Number of Primitive Gaussians: 105\n",
        "Integration Complete in 0.0272397994995 seconds\n",
        "Number of Orbitals: 9\n",
        "Number of Primitive Gaussians: 105\n",
        "Integration Complete in 0.0267269611359 seconds"
       ]
      },
      {
       "output_type": "stream",
       "stream": "stdout",
       "text": [
        "\n",
        "Number of Orbitals: 9\n",
        "Number of Primitive Gaussians: 105\n",
        "Integration Complete in 0.0268189907074 seconds\n",
        "Number of Orbitals: 9\n",
        "Number of Primitive Gaussians: 105\n",
        "Integration Complete in 0.0268039703369 seconds"
       ]
      },
      {
       "output_type": "stream",
       "stream": "stdout",
       "text": [
        "\n",
        "Number of Orbitals: 9\n",
        "Number of Primitive Gaussians: 105\n",
        "Integration Complete in 0.0269389152527 seconds\n",
        "Number of Orbitals: 9\n",
        "Number of Primitive Gaussians: 105\n",
        "Integration Complete in 0.0267770290375 seconds"
       ]
      },
      {
       "output_type": "stream",
       "stream": "stdout",
       "text": [
        "\n",
        "Number of Orbitals: 9\n",
        "Number of Primitive Gaussians: 105\n",
        "Integration Complete in 0.0274858474731 seconds\n",
        "Number of Orbitals: 9\n",
        "Number of Primitive Gaussians: 105\n",
        "Integration Complete in 0.0266759395599 seconds"
       ]
      },
      {
       "output_type": "stream",
       "stream": "stdout",
       "text": [
        "\n",
        "Number of Orbitals: 9\n",
        "Number of Primitive Gaussians: 105\n",
        "Integration Complete in 0.0270531177521 seconds\n",
        "Number of Orbitals: 9\n",
        "Number of Primitive Gaussians: 105\n",
        "Integration Complete in 0.0268111228943 seconds"
       ]
      },
      {
       "output_type": "stream",
       "stream": "stdout",
       "text": [
        "\n",
        "Number of Orbitals: 9\n",
        "Number of Primitive Gaussians: 105\n",
        "Integration Complete in 0.0268089771271 seconds\n",
        "Number of Orbitals: 9\n",
        "Number of Primitive Gaussians: 105\n",
        "Integration Complete in 0.0266191959381 seconds"
       ]
      },
      {
       "output_type": "stream",
       "stream": "stdout",
       "text": [
        "\n",
        "Number of Orbitals: 9\n",
        "Number of Primitive Gaussians: 105\n",
        "Integration Complete in 0.0268130302429 seconds\n",
        "Number of Orbitals: 9\n",
        "Number of Primitive Gaussians: 105\n",
        "Integration Complete in 0.0268030166626 seconds"
       ]
      },
      {
       "output_type": "stream",
       "stream": "stdout",
       "text": [
        "\n",
        "Number of Orbitals: 9\n",
        "Number of Primitive Gaussians: 105\n",
        "Integration Complete in 0.026743888855 seconds\n",
        "Number of Orbitals: 9\n",
        "Number of Primitive Gaussians: 105\n",
        "Integration Complete in 0.0295507907867 seconds"
       ]
      },
      {
       "output_type": "stream",
       "stream": "stdout",
       "text": [
        "\n",
        "Number of Orbitals: 9\n",
        "Number of Primitive Gaussians: 105\n",
        "Integration Complete in 0.026750087738 seconds\n",
        "Number of Orbitals: 9\n",
        "Number of Primitive Gaussians: 105\n",
        "Integration Complete in 0.0266869068146 seconds"
       ]
      },
      {
       "output_type": "stream",
       "stream": "stdout",
       "text": [
        "\n",
        "Number of Orbitals: 9\n",
        "Number of Primitive Gaussians: 105\n",
        "Integration Complete in 0.0267250537872 seconds\n",
        "Number of Orbitals: 9\n",
        "Number of Primitive Gaussians: 105\n",
        "Integration Complete in 0.027291059494 seconds"
       ]
      },
      {
       "output_type": "stream",
       "stream": "stdout",
       "text": [
        "\n",
        "Number of Orbitals: 9\n",
        "Number of Primitive Gaussians: 105\n",
        "Integration Complete in 0.0269589424133 seconds\n",
        "Number of Orbitals: 9\n",
        "Number of Primitive Gaussians: 105\n",
        "Integration Complete in 0.0269610881805 seconds"
       ]
      },
      {
       "output_type": "stream",
       "stream": "stdout",
       "text": [
        "\n",
        "Number of Orbitals: 9\n",
        "Number of Primitive Gaussians: 105\n",
        "Integration Complete in 0.0271050930023 seconds\n",
        "Number of Orbitals: 9\n",
        "Number of Primitive Gaussians: 105\n",
        "Integration Complete in 0.0266609191895 seconds"
       ]
      },
      {
       "output_type": "stream",
       "stream": "stdout",
       "text": [
        "\n",
        "Number of Orbitals: 9\n",
        "Number of Primitive Gaussians: 105\n",
        "Integration Complete in 0.0267398357391 seconds\n",
        "Number of Orbitals: 9\n",
        "Number of Primitive Gaussians: 105\n",
        "Integration Complete in 0.0267271995544 seconds"
       ]
      },
      {
       "output_type": "stream",
       "stream": "stdout",
       "text": [
        "\n",
        "Number of Orbitals: 9\n",
        "Number of Primitive Gaussians: 105\n",
        "Integration Complete in 0.0266571044922 seconds\n",
        "Number of Orbitals: 9\n",
        "Number of Primitive Gaussians: 105\n",
        "Integration Complete in 0.0266370773315 seconds"
       ]
      },
      {
       "output_type": "stream",
       "stream": "stdout",
       "text": [
        "\n",
        "Number of Orbitals: 9\n",
        "Number of Primitive Gaussians: 105\n",
        "Integration Complete in 0.0267760753632 seconds\n",
        "Number of Orbitals: 9\n",
        "Number of Primitive Gaussians: 105\n",
        "Integration Complete in 0.0267329216003 seconds"
       ]
      },
      {
       "output_type": "stream",
       "stream": "stdout",
       "text": [
        "\n",
        "Number of Orbitals: 9\n",
        "Number of Primitive Gaussians: 105\n",
        "Integration Complete in 0.0268859863281 seconds\n",
        "Number of Orbitals: 9\n",
        "Number of Primitive Gaussians: 105\n",
        "Integration Complete in 0.0267429351807 seconds"
       ]
      },
      {
       "output_type": "stream",
       "stream": "stdout",
       "text": [
        "\n",
        "Number of Orbitals: 9\n",
        "Number of Primitive Gaussians: 105\n",
        "Integration Complete in 0.0267868041992 seconds\n",
        "Number of Orbitals: 9\n",
        "Number of Primitive Gaussians: 105\n",
        "Integration Complete in 0.0266540050507 seconds"
       ]
      },
      {
       "output_type": "stream",
       "stream": "stdout",
       "text": [
        "\n",
        "Number of Orbitals: 9\n",
        "Number of Primitive Gaussians: 105\n",
        "Integration Complete in 0.0267541408539 seconds\n",
        "Number of Orbitals: 9\n",
        "Number of Primitive Gaussians: 105\n",
        "Integration Complete in 0.0268177986145 seconds"
       ]
      },
      {
       "output_type": "stream",
       "stream": "stdout",
       "text": [
        "\n",
        "Number of Orbitals: 9\n",
        "Number of Primitive Gaussians: 105\n",
        "Integration Complete in 0.0267770290375 seconds\n",
        "Number of Orbitals: 9\n",
        "Number of Primitive Gaussians: 105\n",
        "Integration Complete in 0.0273909568787 seconds"
       ]
      },
      {
       "output_type": "stream",
       "stream": "stdout",
       "text": [
        "\n",
        "Number of Orbitals: 9\n",
        "Number of Primitive Gaussians: 105\n",
        "Integration Complete in 0.0273740291595 seconds\n",
        "Number of Orbitals: 9\n",
        "Number of Primitive Gaussians: 105\n",
        "Integration Complete in 0.0266380310059 seconds"
       ]
      },
      {
       "output_type": "stream",
       "stream": "stdout",
       "text": [
        "\n",
        "Number of Orbitals: 9\n",
        "Number of Primitive Gaussians: 105\n",
        "Integration Complete in 0.0268449783325 seconds\n",
        "Number of Orbitals: 9\n",
        "Number of Primitive Gaussians: 105\n",
        "Integration Complete in 0.0266859531403 seconds"
       ]
      },
      {
       "output_type": "stream",
       "stream": "stdout",
       "text": [
        "\n",
        "Number of Orbitals: 9\n",
        "Number of Primitive Gaussians: 105\n",
        "Integration Complete in 0.0267310142517 seconds\n",
        "Number of Orbitals: 9\n",
        "Number of Primitive Gaussians: 105\n",
        "Integration Complete in 0.0266749858856 seconds"
       ]
      },
      {
       "output_type": "stream",
       "stream": "stdout",
       "text": [
        "\n",
        "Number of Orbitals: 9\n",
        "Number of Primitive Gaussians: 105\n",
        "Integration Complete in 0.0267419815063 seconds\n",
        "Number of Orbitals: 9\n",
        "Number of Primitive Gaussians: 105\n",
        "Integration Complete in 0.0271151065826 seconds"
       ]
      },
      {
       "output_type": "stream",
       "stream": "stdout",
       "text": [
        "\n",
        "Number of Orbitals: 9\n",
        "Number of Primitive Gaussians: 105\n",
        "Integration Complete in 0.0284280776978 seconds\n",
        "Number of Orbitals: 9\n",
        "Number of Primitive Gaussians: 105\n",
        "Integration Complete in 0.026741027832 seconds"
       ]
      },
      {
       "output_type": "stream",
       "stream": "stdout",
       "text": [
        "\n",
        "Number of Orbitals: 9\n",
        "Number of Primitive Gaussians: 105\n",
        "Integration Complete in 0.0268929004669 seconds\n",
        "Number of Orbitals: 9\n",
        "Number of Primitive Gaussians: 105\n",
        "Integration Complete in 0.0266218185425 seconds"
       ]
      },
      {
       "output_type": "stream",
       "stream": "stdout",
       "text": [
        "\n",
        "Number of Orbitals: 9\n",
        "Number of Primitive Gaussians: 105\n",
        "Integration Complete in 0.0267879962921 seconds\n",
        "Number of Orbitals: 9\n",
        "Number of Primitive Gaussians: 105\n",
        "Integration Complete in 0.0273928642273 seconds"
       ]
      },
      {
       "output_type": "stream",
       "stream": "stdout",
       "text": [
        "\n",
        "Number of Orbitals: 9\n",
        "Number of Primitive Gaussians: 105\n",
        "Integration Complete in 0.0267581939697 seconds\n",
        "Number of Orbitals: 9\n",
        "Number of Primitive Gaussians: 105\n",
        "Integration Complete in 0.0271790027618 seconds"
       ]
      },
      {
       "output_type": "stream",
       "stream": "stdout",
       "text": [
        "\n",
        "Number of Orbitals: 9\n",
        "Number of Primitive Gaussians: 105\n",
        "Integration Complete in 0.0268080234528 seconds\n",
        "Number of Orbitals: 9\n",
        "Number of Primitive Gaussians: 105\n",
        "Integration Complete in 0.0266468524933 seconds"
       ]
      },
      {
       "output_type": "stream",
       "stream": "stdout",
       "text": [
        "\n",
        "Number of Orbitals: 9\n",
        "Number of Primitive Gaussians: 105\n",
        "Integration Complete in 0.0268259048462 seconds\n",
        "Number of Orbitals: 9\n",
        "Number of Primitive Gaussians: 105\n",
        "Integration Complete in 0.0267059803009 seconds"
       ]
      },
      {
       "output_type": "stream",
       "stream": "stdout",
       "text": [
        "\n",
        "Number of Orbitals: 9\n",
        "Number of Primitive Gaussians: 105\n",
        "Integration Complete in 0.0277020931244 seconds\n",
        "Number of Orbitals: 9\n",
        "Number of Primitive Gaussians: 105\n",
        "Integration Complete in 0.0266840457916 seconds"
       ]
      },
      {
       "output_type": "stream",
       "stream": "stdout",
       "text": [
        "\n",
        "Number of Orbitals: 9\n",
        "Number of Primitive Gaussians: 105\n",
        "Integration Complete in 0.0268449783325 seconds\n",
        "Number of Orbitals: 9\n",
        "Number of Primitive Gaussians: 105\n",
        "Integration Complete in 0.0268609523773 seconds"
       ]
      },
      {
       "output_type": "stream",
       "stream": "stdout",
       "text": [
        "\n",
        "Number of Orbitals: 9\n",
        "Number of Primitive Gaussians: 105\n",
        "Integration Complete in 0.0267560482025 seconds\n",
        "Number of Orbitals: 9\n",
        "Number of Primitive Gaussians: 105\n",
        "Integration Complete in 0.0268008708954 seconds"
       ]
      },
      {
       "output_type": "stream",
       "stream": "stdout",
       "text": [
        "\n",
        "Number of Orbitals: 9\n",
        "Number of Primitive Gaussians: 105\n",
        "Integration Complete in 0.0267379283905 seconds\n",
        "Number of Orbitals: 9\n",
        "Number of Primitive Gaussians: 105\n",
        "Integration Complete in 0.0268120765686 seconds"
       ]
      },
      {
       "output_type": "stream",
       "stream": "stdout",
       "text": [
        "\n",
        "Number of Orbitals: 9\n",
        "Number of Primitive Gaussians: 105\n",
        "Integration Complete in 0.0268929004669 seconds\n",
        "Number of Orbitals: 9\n",
        "Number of Primitive Gaussians: 105\n",
        "Integration Complete in 0.0267629623413 seconds"
       ]
      },
      {
       "output_type": "stream",
       "stream": "stdout",
       "text": [
        "\n",
        "Number of Orbitals: 9\n",
        "Number of Primitive Gaussians: 105\n",
        "Integration Complete in 0.0269298553467 seconds\n",
        "Number of Orbitals: 9\n",
        "Number of Primitive Gaussians: 105\n",
        "Integration Complete in 0.0267548561096 seconds"
       ]
      },
      {
       "output_type": "stream",
       "stream": "stdout",
       "text": [
        "\n",
        "Number of Orbitals: 9\n",
        "Number of Primitive Gaussians: 105\n",
        "Integration Complete in 0.0273771286011 seconds\n",
        "Number of Orbitals: 9\n",
        "Number of Primitive Gaussians: 105\n",
        "Integration Complete in 0.0268459320068 seconds"
       ]
      },
      {
       "output_type": "stream",
       "stream": "stdout",
       "text": [
        "\n",
        "Number of Orbitals: 9\n",
        "Number of Primitive Gaussians: 105\n",
        "Integration Complete in 0.0268959999084 seconds\n",
        "Number of Orbitals: 9\n",
        "Number of Primitive Gaussians: 105\n",
        "Integration Complete in 0.0344250202179 seconds"
       ]
      },
      {
       "output_type": "stream",
       "stream": "stdout",
       "text": [
        "\n",
        "Number of Orbitals: 9\n",
        "Number of Primitive Gaussians: 105\n",
        "Integration Complete in 0.0267488956451 seconds\n",
        "Number of Orbitals: 9\n",
        "Number of Primitive Gaussians: 105\n",
        "Integration Complete in 0.0266840457916 seconds"
       ]
      },
      {
       "output_type": "stream",
       "stream": "stdout",
       "text": [
        "\n",
        "Number of Orbitals: 9\n",
        "Number of Primitive Gaussians: 105\n",
        "Integration Complete in 0.0269091129303 seconds\n",
        "Number of Orbitals: 9\n",
        "Number of Primitive Gaussians: 105\n",
        "Integration Complete in 0.0267579555511 seconds"
       ]
      },
      {
       "output_type": "stream",
       "stream": "stdout",
       "text": [
        "\n",
        "Number of Orbitals: 9\n",
        "Number of Primitive Gaussians: 105\n",
        "Integration Complete in 0.0269219875336 seconds\n",
        "Number of Orbitals: 9\n",
        "Number of Primitive Gaussians: 105\n",
        "Integration Complete in 0.0289890766144 seconds"
       ]
      },
      {
       "output_type": "stream",
       "stream": "stdout",
       "text": [
        "\n",
        "Number of Orbitals: 9\n",
        "Number of Primitive Gaussians: 105\n",
        "Integration Complete in 0.0278940200806 seconds\n",
        "Number of Orbitals: 9\n",
        "Number of Primitive Gaussians: 105\n",
        "Integration Complete in 0.0266819000244 seconds"
       ]
      },
      {
       "output_type": "stream",
       "stream": "stdout",
       "text": [
        "\n",
        "Number of Orbitals: 9\n",
        "Number of Primitive Gaussians: 105\n",
        "Integration Complete in 0.0267910957336 seconds\n",
        "Number of Orbitals: 9\n",
        "Number of Primitive Gaussians: 105\n",
        "Integration Complete in 0.0274438858032 seconds"
       ]
      },
      {
       "output_type": "stream",
       "stream": "stdout",
       "text": [
        "\n",
        "Number of Orbitals: 9\n",
        "Number of Primitive Gaussians: 105\n",
        "Integration Complete in 0.0267820358276 seconds\n",
        "Number of Orbitals: 9\n",
        "Number of Primitive Gaussians: 105\n",
        "Integration Complete in 0.0270521640778 seconds"
       ]
      },
      {
       "output_type": "stream",
       "stream": "stdout",
       "text": [
        "\n",
        "Number of Orbitals: 9\n",
        "Number of Primitive Gaussians: 105\n",
        "Integration Complete in 0.026841878891 seconds\n",
        "Number of Orbitals: 9\n",
        "Number of Primitive Gaussians: 105\n",
        "Integration Complete in 0.0267701148987 seconds"
       ]
      },
      {
       "output_type": "stream",
       "stream": "stdout",
       "text": [
        "\n",
        "Number of Orbitals: 9\n",
        "Number of Primitive Gaussians: 105\n",
        "Integration Complete in 0.0268840789795 seconds\n",
        "Number of Orbitals: 9\n",
        "Number of Primitive Gaussians: 105\n",
        "Integration Complete in 0.0266079902649 seconds"
       ]
      },
      {
       "output_type": "stream",
       "stream": "stdout",
       "text": [
        "\n",
        "Number of Orbitals: 9\n",
        "Number of Primitive Gaussians: 105\n",
        "Integration Complete in 0.0267400741577 seconds\n",
        "Number of Orbitals: 9\n",
        "Number of Primitive Gaussians: 105\n",
        "Integration Complete in 0.0267679691315 seconds"
       ]
      },
      {
       "output_type": "stream",
       "stream": "stdout",
       "text": [
        "\n",
        "Number of Orbitals: 9\n",
        "Number of Primitive Gaussians: 105\n",
        "Integration Complete in 0.0268139839172 seconds\n",
        "Number of Orbitals: 9\n",
        "Number of Primitive Gaussians: 105\n",
        "Integration Complete in 0.0268919467926 seconds"
       ]
      },
      {
       "output_type": "stream",
       "stream": "stdout",
       "text": [
        "\n",
        "Number of Orbitals: 9\n",
        "Number of Primitive Gaussians: 105\n",
        "Integration Complete in 0.026820898056 seconds\n",
        "Number of Orbitals: 9\n",
        "Number of Primitive Gaussians: 105\n",
        "Integration Complete in 0.0267441272736 seconds"
       ]
      },
      {
       "output_type": "stream",
       "stream": "stdout",
       "text": [
        "\n"
       ]
      }
     ],
     "prompt_number": 5
    },
    {
     "cell_type": "code",
     "collapsed": false,
     "input": [
      "render = renderMolecule(CartArray,BadMeth)"
     ],
     "language": "python",
     "metadata": {},
     "outputs": []
    },
    {
     "cell_type": "code",
     "collapsed": false,
     "input": [
      "CartArray = [BadMeth.getCartMatrix()]"
     ],
     "language": "python",
     "metadata": {},
     "outputs": [],
     "prompt_number": 5
    },
    {
     "cell_type": "code",
     "collapsed": false,
     "input": [],
     "language": "python",
     "metadata": {},
     "outputs": []
    }
   ],
   "metadata": {}
  }
 ]
}