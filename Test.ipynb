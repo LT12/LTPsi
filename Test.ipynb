{
 "metadata": {
  "name": "",
  "signature": "sha256:468f010b34da32b8aaaddc649d90d2f13721fe00fe9b5024afb65b48c4d62709"
 },
 "nbformat": 3,
 "nbformat_minor": 0,
 "worksheets": [
  {
   "cells": [
    {
     "cell_type": "code",
     "collapsed": false,
     "input": [
      "#reload(sys.modules['SCF'])\n",
      "from SCF import SCF\n",
      "from Molecule import Molecule\n",
      "import sys\n",
      "water = Molecule('Molecules/wat.mol')\n",
      "meth  = Molecule('Molecules/meth.mol',units='angstrom')\n",
      "Ox = Molecule('Molecules/O.mol')\n",
      "ethane = Molecule('Molecules/ethane.mol',units='angstrom')\n",
      "from visual import *\n",
      "from atomicParam import *"
     ],
     "language": "python",
     "metadata": {},
     "outputs": [],
     "prompt_number": 1
    },
    {
     "cell_type": "code",
     "collapsed": false,
     "input": [
      "res = SCF(water)\n",
      "res.SCFEnergy"
     ],
     "language": "python",
     "metadata": {},
     "outputs": [
      {
       "metadata": {},
       "output_type": "pyout",
       "prompt_number": 3,
       "text": [
        "-74.942079928192314"
       ]
      }
     ],
     "prompt_number": 3
    },
    {
     "cell_type": "code",
     "collapsed": false,
     "input": [
      "res = SCF(meth,basis=\"6-31++G\")\n",
      "res.SCFEnergy"
     ],
     "language": "python",
     "metadata": {},
     "outputs": [
      {
       "metadata": {},
       "output_type": "pyout",
       "prompt_number": 8,
       "text": [
        "-40.181210724721197"
       ]
      }
     ],
     "prompt_number": 8
    },
    {
     "cell_type": "code",
     "collapsed": false,
     "input": [
      "res.orbList[11].qnums"
     ],
     "language": "python",
     "metadata": {},
     "outputs": [
      {
       "metadata": {},
       "output_type": "pyout",
       "prompt_number": 20,
       "text": [
        "(0, 2, 0)"
       ]
      }
     ],
     "prompt_number": 20
    },
    {
     "cell_type": "code",
     "collapsed": false,
     "input": [
      "from RotationalParam import RotationalParam\n",
      "meth.toBohr()\n",
      "#rot = RotationalParam(ethane.cartMatrix,ethane.atomType)\n",
      "#ethane.cartMatrix = rot.cartMatrix\n",
      "meth.cartMatrix"
     ],
     "language": "python",
     "metadata": {},
     "outputs": [
      {
       "metadata": {},
       "output_type": "pyout",
       "prompt_number": 7,
       "text": [
        "array([[ 0.        ,  0.        ,  0.        ],\n",
        "       [ 1.17881116,  1.17881116,  1.17881116],\n",
        "       [-1.17881116, -1.17881116,  1.17881116],\n",
        "       [-1.17881116,  1.17881116, -1.17881116],\n",
        "       [ 1.17881116, -1.17881116, -1.17881116]])"
       ]
      }
     ],
     "prompt_number": 7
    },
    {
     "cell_type": "code",
     "collapsed": false,
     "input": [
      "from renderMolecule import renderMolecule\n",
      "cA = [ethane.cartMatrix]\n",
      "c[3].apply(renderMolecule(cA,ethane))"
     ],
     "language": "python",
     "metadata": {},
     "outputs": []
    },
    {
     "cell_type": "code",
     "collapsed": false,
     "input": [
      "import matplotlib.pyplot as plt\n",
      "import numpy as np\n",
      "%matplotlib inline"
     ],
     "language": "python",
     "metadata": {},
     "outputs": [],
     "prompt_number": 12
    },
    {
     "cell_type": "code",
     "collapsed": false,
     "input": [
      "for idx,i in enumerate(water.cartMatrix):\n",
      "    col = tuple(getAtomColor(water.atomType[idx])[0:3])\n",
      "    print col\n",
      "    rad = getAtomRadius(water.atomType[idx])\n",
      "    sphere(pos = i, radius = rad,color=col)"
     ],
     "language": "python",
     "metadata": {},
     "outputs": [
      {
       "output_type": "stream",
       "stream": "stdout",
       "text": [
        "(1, 0, 0)\n",
        "(1.5, 1.5, 1.5)"
       ]
      },
      {
       "output_type": "stream",
       "stream": "stdout",
       "text": [
        "\n",
        "(1.5, 1.5, 1.5)\n"
       ]
      }
     ],
     "prompt_number": 2
    },
    {
     "cell_type": "code",
     "collapsed": false,
     "input": [
      "import numpy\n",
      "numpy.set_printoptions(linewidth=200)"
     ],
     "language": "python",
     "metadata": {},
     "outputs": [],
     "prompt_number": 3
    },
    {
     "cell_type": "code",
     "collapsed": false,
     "input": [],
     "language": "python",
     "metadata": {},
     "outputs": []
    }
   ],
   "metadata": {}
  }
 ]
}