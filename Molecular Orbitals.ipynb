{
 "metadata": {
  "name": "",
  "signature": "sha256:bf27054071b0b8414118edd55a58b3387ac6356a2265ea442351911f49c1b821"
 },
 "nbformat": 3,
 "nbformat_minor": 0,
 "worksheets": [
  {
   "cells": [
    {
     "cell_type": "code",
     "collapsed": false,
     "input": [
      "from Molecule import Molecule\n",
      "from SCF import SCF\n",
      "import numpy as np\n",
      "from mayavi import mlab\n",
      "import timeit\n",
      "%load_ext cythonmagic"
     ],
     "language": "python",
     "metadata": {},
     "outputs": [
      {
       "ename": "ImportError",
       "evalue": "No module named mayavi",
       "output_type": "pyerr",
       "traceback": [
        "\u001b[1;31m---------------------------------------------------------------------------\u001b[0m\n\u001b[1;31mImportError\u001b[0m                               Traceback (most recent call last)",
        "\u001b[1;32m<ipython-input-1-83f6146086c1>\u001b[0m in \u001b[0;36m<module>\u001b[1;34m()\u001b[0m\n\u001b[0;32m      2\u001b[0m \u001b[1;32mfrom\u001b[0m \u001b[0mSCF\u001b[0m \u001b[1;32mimport\u001b[0m \u001b[0mSCF\u001b[0m\u001b[1;33m\u001b[0m\u001b[0m\n\u001b[0;32m      3\u001b[0m \u001b[1;32mimport\u001b[0m \u001b[0mnumpy\u001b[0m \u001b[1;32mas\u001b[0m \u001b[0mnp\u001b[0m\u001b[1;33m\u001b[0m\u001b[0m\n\u001b[1;32m----> 4\u001b[1;33m \u001b[1;32mfrom\u001b[0m \u001b[0mmayavi\u001b[0m \u001b[1;32mimport\u001b[0m \u001b[0mmlab\u001b[0m\u001b[1;33m\u001b[0m\u001b[0m\n\u001b[0m\u001b[0;32m      5\u001b[0m \u001b[1;32mimport\u001b[0m \u001b[0mtimeit\u001b[0m\u001b[1;33m\u001b[0m\u001b[0m\n\u001b[0;32m      6\u001b[0m \u001b[0mget_ipython\u001b[0m\u001b[1;33m(\u001b[0m\u001b[1;33m)\u001b[0m\u001b[1;33m.\u001b[0m\u001b[0mmagic\u001b[0m\u001b[1;33m(\u001b[0m\u001b[1;34mu'load_ext cythonmagic'\u001b[0m\u001b[1;33m)\u001b[0m\u001b[1;33m\u001b[0m\u001b[0m\n",
        "\u001b[1;31mImportError\u001b[0m: No module named mayavi"
       ]
      }
     ],
     "prompt_number": 1
    },
    {
     "cell_type": "code",
     "collapsed": false,
     "input": [
      "water = Molecule(\"Molecules/wat.mol\")"
     ],
     "language": "python",
     "metadata": {},
     "outputs": [],
     "prompt_number": 2
    },
    {
     "cell_type": "code",
     "collapsed": false,
     "input": [
      "res = SCF(water,basis='6-31G')"
     ],
     "language": "python",
     "metadata": {},
     "outputs": [],
     "prompt_number": 4
    },
    {
     "cell_type": "code",
     "collapsed": false,
     "input": [
      "X,Y,Z = np.mgrid[-10:10:100j,-10:10:100j,-10:10:100j]"
     ],
     "language": "python",
     "metadata": {},
     "outputs": [],
     "prompt_number": 5
    },
    {
     "cell_type": "code",
     "collapsed": true,
     "input": [
      "%%cython --compile-args=-O3,-ffast-math\n",
      "cimport cython\n",
      "from libc.math cimport pow , exp\n",
      "\n",
      "@cython.nonecheck(False)\n",
      "@cython.boundscheck(False)\n",
      "@cython.wraparound(False)\n",
      "cpdef double cProb(double x, double y, double z, object orbList,double [:] C, int nOrb):\n",
      "    cdef int i, j, xnum, ynum, znum, nPrim\n",
      "    cdef object orb\n",
      "    cdef double phi = 0\n",
      "    cdef double xN, yN, zN, R2, Const, ang\n",
      "    cdef double [:] cent, a, d\n",
      "    for i in xrange(nOrb):\n",
      "        orb = orbList[i]\n",
      "        xnum, ynum, znum = orb.qnums\n",
      "        cent = orb.Center\n",
      "        xN, yN, zN = x - cent[0], y - cent[1], z - cent[2]\n",
      "        ang = pow(xN, xnum) * pow(yN, ynum) * pow(zN, znum)\n",
      "        Const = C[i] * ang\n",
      "        R_2 = xN * xN + yN * yN + zN * zN\n",
      "        nPrim = orb.nPrim\n",
      "        d, a = orb.d, orb.a\n",
      "        for j in xrange(nPrim):\n",
      "            phi += Const * d[j] * exp(-a[j] * R_2)\n",
      "    return phi"
     ],
     "language": "python",
     "metadata": {},
     "outputs": [],
     "prompt_number": 6
    },
    {
     "cell_type": "code",
     "collapsed": false,
     "input": [
      "def Prob(x,y,z):\n",
      "    return cProb(x,y,z,res.orbList,res.AOcoefs[:,12],res.nOrb)            "
     ],
     "language": "python",
     "metadata": {},
     "outputs": [],
     "prompt_number": 7
    },
    {
     "cell_type": "code",
     "collapsed": false,
     "input": [
      "v_Prob = np.vectorize(Prob)"
     ],
     "language": "python",
     "metadata": {},
     "outputs": [],
     "prompt_number": 9
    },
    {
     "cell_type": "code",
     "collapsed": false,
     "input": [
      "P = v_Prob(X,Y,Z)"
     ],
     "language": "python",
     "metadata": {},
     "outputs": [],
     "prompt_number": 10
    },
    {
     "cell_type": "code",
     "collapsed": false,
     "input": [
      "mlab.contour3d(X,Y,Z,P,contours=16,transparent=True)"
     ],
     "language": "python",
     "metadata": {},
     "outputs": [
      {
       "metadata": {},
       "output_type": "pyout",
       "prompt_number": 11,
       "text": [
        "<mayavi.modules.iso_surface.IsoSurface at 0x8d5be30>"
       ]
      }
     ]
    },
    {
     "cell_type": "code",
     "collapsed": false,
     "input": [
      "mlab.show()"
     ],
     "language": "python",
     "metadata": {},
     "outputs": []
    },
    {
     "cell_type": "code",
     "collapsed": false,
     "input": [],
     "language": "python",
     "metadata": {},
     "outputs": []
    }
   ],
   "metadata": {}
  }
 ]
}