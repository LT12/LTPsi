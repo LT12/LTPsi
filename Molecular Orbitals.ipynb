{
 "metadata": {
  "name": "",
  "signature": "sha256:4efeccd72ef8b6a72787903b89edd518b895e8f96222788438e12e5e73edaac4"
 },
 "nbformat": 3,
 "nbformat_minor": 0,
 "worksheets": [
  {
   "cells": [
    {
     "cell_type": "code",
     "collapsed": false,
     "input": [
      "from Molecule import Molecule\n",
      "from SCF import SCF\n",
      "import numpy as np\n",
      "from mayavi import mlab\n",
      "import timeit\n",
      "%load_ext cythonmagic"
     ],
     "language": "python",
     "metadata": {},
     "outputs": [
      {
       "output_type": "stream",
       "stream": "stderr",
       "text": [
        "WARNING:traits.has_traits:DEPRECATED: traits.has_traits.wrapped_class, 'the 'implements' class advisor has been deprecated. Use the 'provides' class decorator.\n"
       ]
      }
     ],
     "prompt_number": 1
    },
    {
     "cell_type": "code",
     "collapsed": false,
     "input": [
      "water = Molecule(\"Molecules/wat.mol\")"
     ],
     "language": "python",
     "metadata": {},
     "outputs": [],
     "prompt_number": 3
    },
    {
     "cell_type": "code",
     "collapsed": false,
     "input": [
      "res = SCF(water,basis='6-31G')"
     ],
     "language": "python",
     "metadata": {},
     "outputs": [],
     "prompt_number": 4
    },
    {
     "cell_type": "code",
     "collapsed": false,
     "input": [
      "X,Y,Z = np.mgrid[-10:10:100j,-10:10:100j,-10:10:100j]"
     ],
     "language": "python",
     "metadata": {},
     "outputs": [],
     "prompt_number": 5
    },
    {
     "cell_type": "code",
     "collapsed": true,
     "input": [
      "%%cython --compile-args=-O3,-ffast-math\n",
      "cimport cython\n",
      "from libc.math cimport pow , exp\n",
      "\n",
      "@cython.nonecheck(False)\n",
      "@cython.boundscheck(False)\n",
      "@cython.wraparound(False)\n",
      "cpdef double cProb(double x, double y, double z, object orbList,double [:] C, int nOrb):\n",
      "    cdef int i, j, xnum, ynum, znum, nPrim\n",
      "    cdef object orb\n",
      "    cdef double phi = 0\n",
      "    cdef double xN, yN, zN, R2, Const, ang\n",
      "    cdef double [:] cent, a, d\n",
      "    for i in xrange(nOrb):\n",
      "        orb = orbList[i]\n",
      "        xnum, ynum, znum = orb.qnums\n",
      "        cent = orb.Center\n",
      "        xN, yN, zN = x - cent[0], y - cent[1], z - cent[2]\n",
      "        ang = pow(xN, xnum) * pow(yN, ynum) * pow(zN, znum)\n",
      "        Const = C[i] * ang\n",
      "        R_2 = xN * xN + yN * yN + zN * zN\n",
      "        nPrim = orb.nPrim\n",
      "        d, a = orb.d, orb.a\n",
      "        for j in xrange(nPrim):\n",
      "            phi += Const * d[j] * exp(-a[j] * R_2)\n",
      "    return phi"
     ],
     "language": "python",
     "metadata": {},
     "outputs": [],
     "prompt_number": 6
    },
    {
     "cell_type": "code",
     "collapsed": false,
     "input": [
      "def Prob(x,y,z):\n",
      "    return cProb(x,y,z,res.orbList,res.AOcoefs[:,12],res.nOrb)            "
     ],
     "language": "python",
     "metadata": {},
     "outputs": [],
     "prompt_number": 7
    },
    {
     "cell_type": "code",
     "collapsed": false,
     "input": [
      "v_Prob = np.vectorize(Prob)"
     ],
     "language": "python",
     "metadata": {},
     "outputs": [],
     "prompt_number": 9
    },
    {
     "cell_type": "code",
     "collapsed": false,
     "input": [
      "P = v_Prob(X,Y,Z)"
     ],
     "language": "python",
     "metadata": {},
     "outputs": [],
     "prompt_number": 10
    },
    {
     "cell_type": "code",
     "collapsed": false,
     "input": [
      "mlab.contour3d(X,Y,Z,P,contours=16,transparent=True)"
     ],
     "language": "python",
     "metadata": {},
     "outputs": [
      {
       "metadata": {},
       "output_type": "pyout",
       "prompt_number": 11,
       "text": [
        "<mayavi.modules.iso_surface.IsoSurface at 0x8d5be30>"
       ]
      }
     ]
    },
    {
     "cell_type": "code",
     "collapsed": false,
     "input": [
      "mlab.show()"
     ],
     "language": "python",
     "metadata": {},
     "outputs": []
    },
    {
     "cell_type": "code",
     "collapsed": false,
     "input": [],
     "language": "python",
     "metadata": {},
     "outputs": []
    }
   ],
   "metadata": {}
  }
 ]
}