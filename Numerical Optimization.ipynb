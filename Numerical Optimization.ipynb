{
 "metadata": {
  "name": "",
  "signature": "sha256:aeb46f811fdb84d828a8fdccc50c78a616c77519ef2f8a844210865502216f34"
 },
 "nbformat": 3,
 "nbformat_minor": 0,
 "worksheets": [
  {
   "cells": [
    {
     "cell_type": "code",
     "collapsed": false,
     "input": [
      "from Molecule import Molecule\n",
      "from renderMolecule import renderMolecule\n",
      "import NumericalDerivative as nd\n",
      "from SCF import SCF\n",
      "meth = Molecule('Molecules/badmeth.mol')\n",
      "hyd = Molecule('Molecules/hyd.mol')\n",
      "import numpy as np"
     ],
     "language": "python",
     "metadata": {},
     "outputs": [],
     "prompt_number": 2
    },
    {
     "cell_type": "code",
     "collapsed": false,
     "input": [
      "hyd.cartMatrix[0,2] = 0\n",
      "hyd.cartMatrix[1,2] = 3\n",
      "rend = renderMolecule(hyd)"
     ],
     "language": "python",
     "metadata": {},
     "outputs": [],
     "prompt_number": 3
    },
    {
     "cell_type": "code",
     "collapsed": false,
     "input": [
      "nd.Optimize(hyd,rend = rend)"
     ],
     "language": "python",
     "metadata": {},
     "outputs": [
      {
       "output_type": "stream",
       "stream": "stdout",
       "text": [
        "0.213436798741\n",
        "0.231240862182\n",
        "0.239739772656"
       ]
      },
      {
       "output_type": "stream",
       "stream": "stdout",
       "text": [
        "\n",
        "0.226462285784\n",
        "0.175278841718"
       ]
      },
      {
       "output_type": "stream",
       "stream": "stdout",
       "text": [
        "\n",
        "0.0796617810762\n",
        "0.00431461407646"
       ]
      },
      {
       "output_type": "stream",
       "stream": "stdout",
       "text": [
        "\n",
        "0.0005966351343\n",
        "9.18537636701e-05"
       ]
      },
      {
       "output_type": "stream",
       "stream": "stdout",
       "text": [
        "\n",
        "7.10889595793e-06\n"
       ]
      },
      {
       "metadata": {},
       "output_type": "pyout",
       "prompt_number": 4,
       "text": [
        "[array([[ 0.        ,  0.        ,  0.15092261],\n",
        "        [ 0.        ,  0.        ,  2.84907739]]),\n",
        " array([[ 0.        ,  0.        ,  0.3144357 ],\n",
        "        [ 0.        ,  0.        ,  2.68556652]]),\n",
        " array([[ 0.        ,  0.        ,  0.48395676],\n",
        "        [ 0.        ,  0.        ,  2.51604435]]),\n",
        " array([[ 0.        ,  0.        ,  0.64408867],\n",
        "        [ 0.        ,  0.        ,  2.35591022]]),\n",
        " array([[ 0.        ,  0.        ,  0.76802953],\n",
        "        [ 0.        ,  0.        ,  2.23196936]]),\n",
        " array([[ 0.        ,  0.        ,  0.82435891],\n",
        "        [ 0.        ,  0.        ,  2.17563998]]),\n",
        " array([[ 0.        ,  0.        ,  0.82740981],\n",
        "        [ 0.        ,  0.        ,  2.17258908]]),\n",
        " array([[ 0.        ,  0.        ,  0.82698792],\n",
        "        [ 0.        ,  0.        ,  2.17301097]]),\n",
        " array([[ 0.        ,  0.        ,  0.82705232],\n",
        "        [ 0.        ,  0.        ,  2.17294546]]),\n",
        " array([[ 0.        ,  0.        ,  0.82704676],\n",
        "        [ 0.        ,  0.        ,  2.1729499 ]])]"
       ]
      }
     ],
     "prompt_number": 4
    },
    {
     "cell_type": "code",
     "collapsed": false,
     "input": [
      "water = Molecule('Molecules/wat.mol')"
     ],
     "language": "python",
     "metadata": {},
     "outputs": [],
     "prompt_number": 3
    },
    {
     "cell_type": "code",
     "collapsed": false,
     "input": [
      "res = SCF(water)\n",
      "res.TotalEnergy"
     ],
     "language": "python",
     "metadata": {},
     "outputs": [
      {
       "metadata": {},
       "output_type": "pyout",
       "prompt_number": 6,
       "text": [
        "-74.942079928192314"
       ]
      }
     ],
     "prompt_number": 6
    },
    {
     "cell_type": "code",
     "collapsed": false,
     "input": [],
     "language": "python",
     "metadata": {},
     "outputs": []
    }
   ],
   "metadata": {}
  }
 ]
}