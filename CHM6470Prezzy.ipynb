{
 "metadata": {
  "celltoolbar": "Slideshow",
  "name": "",
  "signature": "sha256:abe9dee4025edeadc0c5d00cf6f5c24a3e1d118b63bfb706dd69f5df7499f3c1"
 },
 "nbformat": 3,
 "nbformat_minor": 0,
 "worksheets": [
  {
   "cells": [
    {
     "cell_type": "markdown",
     "metadata": {
      "slideshow": {
       "slide_type": "slide"
      }
     },
     "source": [
      "<center>Molecular Geometry Optimization using Direct Restricted Hartree - Fock<center\\>\n",
      "=============================================================================\n",
      "<br>\n",
      "<center>Larry Tesler<center\\>\n",
      "<br>\n",
      "<center>CHM6470<center\\>\n",
      "<br>\n",
      "<center>Fall 2014<center\\>"
     ]
    },
    {
     "cell_type": "markdown",
     "metadata": {
      "slideshow": {
       "slide_type": "slide"
      }
     },
     "source": [
      "LTPsi - Basic Quantum Chemistry Suite in Python\n",
      "------------------------------------------------\n",
      "\n",
      "Current Features:\n",
      "\n",
      "- Restricted Hartree Fock (RHF)\n",
      "    - DIIS Convergence Acceleration\n",
      "\n",
      "\n",
      "- Several Basis Sets\n",
      "    - STO-3G, STO-6G, 3-21G, 6-31G, 6-31G, 6-31++G \n",
      "\n",
      "\n",
      "- Fast Two-Electron Integrals using Rys Polynomials\n",
      "    - Implemented in Cython for speed!!!\n",
      "    - Numerical Rys Quadrature\n",
      "    - Chebyshev-Gauss Quadrature for f orbitals\n",
      "\n",
      "\n",
      "- Dipole Moment Calculation\n",
      "\n",
      "\n",
      "- Gradient Descent Optimization\n",
      "\n",
      "\n",
      "- Mulliken Population Analysis\n",
      "\n",
      "\n",
      "- M&oslash;ller - Plesset Pertubation Theory (MP2) Energy Correction\n",
      "\n",
      "\n",
      "- Molecule Rendering with OpenGL\n",
      "\n",
      "\n",
      "- Molecular orbital visulization with Mayavi\n",
      "\n",
      "\n",
      "Can clone from GitHub: https://github.com/LT12/LTPsi\n"
     ]
    },
    {
     "cell_type": "markdown",
     "metadata": {
      "slideshow": {
       "slide_type": "subslide"
      }
     },
     "source": [
      "References\n",
      "----------\n",
      "###Restricted Hartree - Fock / MP2 / DIIS / Molecular Properties:\n",
      "- Crawdad Chemistry Programming Tutorial\n",
      "    - http://sirius.chem.vt.edu/wiki/doku.php?id=crawdad:programming\n",
      "\n",
      "\n",
      "- Modern Quantum Chemistry by Szabo and Ostlund\n",
      "\n",
      "### One - Electron Integrals:\n",
      "- Overlap Integral: http://www.mathematica-journal.com/2012/02/evaluation-of-gaussian-molecular-integrals/\n",
      "\n",
      "\n",
      "- Kinetic Energy Integral: H. Taketa, S. Huzinaga, K. O-ohata, *Gaussian-Expansion Methods for Molecular Integrals*, J. Phys. Soc. Japan, 21 (1966), p. 2312\n",
      "\n",
      "\n",
      "\n",
      "\n",
      "- Nuclear - Electron Attraction Integral: http://www.mathematica-journal.com/2014/09/evaluation-of-gaussian-molecular-integrals-3/\n",
      "\n",
      "\n",
      "- Dipole Integral: http://www.chem.helsinki.fi/~manninen/aqc2012/Session180412.pdf\n",
      "\n",
      "### Two - Electron Integrals:\n",
      "-  Flocke N. , Lotrich V.,*Efficient electronic integrals and their generalized derivatives for object oriented implementations of electronic structure calculations.*,J. Comput Chem. 2008 Dec;29(16):2722-36. doi: 10.1002/jcc.21018.\n",
      "\n"
     ]
    },
    {
     "cell_type": "markdown",
     "metadata": {
      "slideshow": {
       "slide_type": "slide"
      }
     },
     "source": [
      "#Step 1 - Calculate Nuclear - Nuclear Repulsion Energy:\n",
      "\n",
      "$$ V_{NN} = \\sum_{i}^{N}\\sum_{j}^{i-1}\\frac{Z_{i}Z_{j}}{|\\vec{r_{i}}-\\vec{r_{j}}|}$$"
     ]
    },
    {
     "cell_type": "code",
     "collapsed": false,
     "input": [
      "\n",
      "def calcNuclRepulsion(self):\n",
      "\n",
      "    self.NuclRepEnergy = 0\n",
      "    Z = getAtomicCharge\n",
      "\n",
      "    if self.numAtom > 1:\n",
      "        for i in xrange(self.numAtom):\n",
      "            for j in xrange(i):\n",
      "\n",
      "                R_ij =  self.cartMatrix[i,:] - self.cartMatrix[j,:]\n",
      "                nR_ij = np.sqrt(np.dot(R_ij,R_ij))\n",
      "\n",
      "                Z_iZ_j = Z(self.atomType[i]) * Z(self.atomType[j])\n",
      "\n",
      "                self.NuclRepEnergy += Z_iZ_j/nR_ij"
     ],
     "language": "python",
     "metadata": {
      "slideshow": {
       "slide_type": "fragment"
      }
     },
     "outputs": []
    },
    {
     "cell_type": "markdown",
     "metadata": {
      "slideshow": {
       "slide_type": "slide"
      }
     },
     "source": [
      "#Step 2 - Calculate Molecular Integrals:\n",
      "$$S_{ij}, \\,\\,\\, H^{\\text{Core}}_{ij},\\,\\,\\, (ij|kl)$$"
     ]
    },
    {
     "cell_type": "code",
     "collapsed": false,
     "input": [
      "Ints = MolecularIntegrals(self.orbList, self.atomType, self.cartMatrix, 1)\n",
      "\n",
      "self.CoreHam, self.OverlapMatrix, self.ERT = Ints.CoreHam, Ints.OLMatrix, Ints.ERT\n",
      "    "
     ],
     "language": "python",
     "metadata": {
      "slideshow": {
       "slide_type": "fragment"
      }
     },
     "outputs": []
    },
    {
     "cell_type": "markdown",
     "metadata": {
      "slideshow": {
       "slide_type": "slide"
      }
     },
     "source": [
      "#Step 3 - Calculate Orthogonalization Matrix:\n",
      "\n",
      "- We need to solve Roothaan-Hall Equations:\n",
      "\n",
      "$$\\mathbf{FC}=\\mathbf{SC\\epsilon}$$\n",
      "\n",
      "- In an orthonormal AO basis, the overlap matrix is the identity matrix, hence the Roothan Equations become:\n",
      "\n",
      "$$\\mathbf{F'C'}=\\mathbf{C'\\epsilon}$$\n",
      "\n",
      "- In order to convert the Fock matrix into an orthonormal basis set, we must calculate the orthogonalization matrix as follows:\n",
      "\n",
      "$$ S^{-\\frac{1}{2}}=\\mathbf{V\\Lambda ^ {-\\frac{1}{2}}V^{T}}$$"
     ]
    },
    {
     "cell_type": "code",
     "collapsed": false,
     "input": [
      "def symOrthogMatrix(self):\n",
      "\n",
      "    eig, eigVM = eigh(self.OverlapMatrix,turbo = True)\n",
      "\n",
      "    eigT = np.diag(np.reciprocal(np.sqrt(eig)))\n",
      "\n",
      "    self.symS = np.dot(eigVM, np.dot(eigT, eigVM.T))"
     ],
     "language": "python",
     "metadata": {
      "slideshow": {
       "slide_type": "fragment"
      }
     },
     "outputs": []
    },
    {
     "cell_type": "markdown",
     "metadata": {
      "slideshow": {
       "slide_type": "slide"
      }
     },
     "source": [
      "#Step 4 - Transform Fock Matrix into Orthonormal Basis and Calculate AO Coefficients\n",
      "\n",
      "- Transform Fock matrix into orthonormal AO basis\n",
      "\n",
      "$$ F' = S^{-\\frac{1}{2}^{T}} F S^{-\\frac{1}{2}} $$\n",
      "\n",
      "- Solve Roothaan Equation:\n",
      "\n",
      "$$ \\mathbf{F'C'}=\\mathbf{C'}\\epsilon$$\n",
      "\n",
      "- Convert AO coefficents back to non-orthonormal AO basis:\n",
      "\n",
      "$$ C = S^{-\\frac{1}{2}}C'$$"
     ]
    },
    {
     "cell_type": "code",
     "collapsed": false,
     "input": [
      "def transFock(self, Fock):\n",
      "\n",
      "    self.transFockM = np.dot(self.symS.T,np.dot(Fock,self.symS))\n",
      "\n",
      "    self.eig,eigVM = eigh(self.transFockM,turbo=True)\n",
      "\n",
      "    self.AOcoefs = np.dot(self.symS,eigVM)"
     ],
     "language": "python",
     "metadata": {
      "slideshow": {
       "slide_type": "fragment"
      }
     },
     "outputs": []
    },
    {
     "cell_type": "markdown",
     "metadata": {
      "slideshow": {
       "slide_type": "slide"
      }
     },
     "source": [
      "#Step 5 - Calculate Density Matrix\n",
      "\n",
      "$$D_{ij} = \\sum_{\\phi}^{\\text{Occ. }\\phi}C_{i}^{\\phi}C_{j}^{\\phi}$$ \n",
      "\n"
     ]
    },
    {
     "cell_type": "code",
     "collapsed": false,
     "input": [
      "def compDensityMatrix(self):\n",
      "    self.densityM = np.einsum('im ,jm ->ij', self.AOcoefs[:,:self.nOcc],\n",
      "                                             self.AOcoefs[:,:self.nOcc])"
     ],
     "language": "python",
     "metadata": {
      "slideshow": {
       "slide_type": "fragment"
      }
     },
     "outputs": []
    },
    {
     "cell_type": "markdown",
     "metadata": {
      "slideshow": {
       "slide_type": "slide"
      }
     },
     "source": [
      "#Step 6 - Calculate SCF Electronic Energy\n",
      "\n",
      "$$E_{e^{-}} = \\sum_{i}^{N}\\sum_{j}^{N}D_{ij}(H^{\\text{core}}_{ij}+F_{ij})$$\n"
     ]
    },
    {
     "cell_type": "markdown",
     "metadata": {
      "slideshow": {
       "slide_type": "fragment"
      }
     },
     "source": [
      "-In order to utilize Numpy's einsum function, sum will be distributed:\n",
      "\n",
      "\n",
      "$$E_{e^{-}} = \\sum_{i}^{N}\\sum_{j}^{N}D_{ij}H^{\\text{core}}_{ij}+\\sum_{i}^{N}\\sum_{j}^{N}D_{ij}F_{ij}$$"
     ]
    },
    {
     "cell_type": "code",
     "collapsed": false,
     "input": [
      "def compElectronicEnergy(self, Fock):\n",
      "    self.ElectrEnergy = np.einsum('ij,ij', self.densityM,\n",
      "                                           self.CoreHam + Fock)"
     ],
     "language": "python",
     "metadata": {
      "slideshow": {
       "slide_type": "fragment"
      }
     },
     "outputs": []
    },
    {
     "cell_type": "markdown",
     "metadata": {
      "slideshow": {
       "slide_type": "slide"
      }
     },
     "source": [
      "#Step 7 - Calculate New Fock Matrix\n",
      "$$ F = H^{\\text{core}} + \\sum_{k}^N\\sum_{l}^N D_{kl}(\\,2(ij|kl)-(ik|jl)\\,)$$"
     ]
    },
    {
     "cell_type": "code",
     "collapsed": false,
     "input": [
      "def compFock(self):\n",
      "\n",
      "    self.FockM = self.CoreHam +\\\n",
      "                 2 * np.einsum('kl,ijkl->ij',self.densityM,self.ERT)\\\n",
      "                  - np.einsum('kl,ikjl->ij',self.densityM,self.ERT)\n",
      "\n",
      "    #Storing Fock Matricies for DIIS    \n",
      "    self._fockList[self._FockCount % 6] = np.copy(self.FockM)\n",
      "    self._FockCount += 1\n",
      "    if self.itercount>2:\n",
      "        self._DIIS_switch = True\n",
      "        self._Fock_switch = True"
     ],
     "language": "python",
     "metadata": {
      "slideshow": {
       "slide_type": "fragment"
      }
     },
     "outputs": []
    },
    {
     "cell_type": "markdown",
     "metadata": {
      "slideshow": {
       "slide_type": "slide"
      }
     },
     "source": [
      "# Iterate Until Convergence is reached:"
     ]
    },
    {
     "cell_type": "code",
     "collapsed": false,
     "input": [
      "def SCF(self):\n",
      "\n",
      "    self.symOrthogMatrix()\n",
      "\n",
      "    #initial density guess\n",
      "    if self.densityM is None:\n",
      "        self.transFock(self.CoreHam)\n",
      "        self.compDensityMatrix()\n",
      "\n",
      "    self.compElectronicEnergy(self.CoreHam)\n",
      "\n",
      "    self.itercount, prevElecEnergy, self._DIIS_switch, self._FockCount = 0, 0, False, 0\n",
      "    self._fockList,self._errorList = np.ndarray(6,dtype=np.ndarray),np.ndarray(6,dtype=np.ndarray)\n",
      "    self._Fock_switch = True\n",
      "\n",
      "    while True:\n",
      "\n",
      "        if abs(self.ElectrEnergy-prevElecEnergy) < 1E-12: break\n",
      "        prevElecEnergy = self.ElectrEnergy\n",
      "\n",
      "        if self.itercount == 2:\n",
      "            self._DIIS_switch = True\n",
      "            self._Fock_switch = False\n",
      "\n",
      "        if self._DIIS_switch == True:\n",
      "            self.DIIS()\n",
      "        else:\n",
      "            self.compFock()\n",
      "\n",
      "        if self._Fock_switch == True:\n",
      "            self.compErrorMatrix()\n",
      "\n",
      "        self.transFock(self.FockM)\n",
      "        self.compDensityMatrix()\n",
      "        self.compElectronicEnergy(self.FockM)\n",
      "        self.itercount += 1\n",
      "\n",
      "    self.SCFEnergy = self.ElectrEnergy + self.NuclRepEnergy\n",
      "    self.TotalEnergy = self.SCFEnergy\n"
     ],
     "language": "python",
     "metadata": {
      "slideshow": {
       "slide_type": "fragment"
      }
     },
     "outputs": []
    },
    {
     "cell_type": "markdown",
     "metadata": {
      "slideshow": {
       "slide_type": "slide"
      }
     },
     "source": [
      "#MP2\n",
      "\n",
      "- First, we need to transform two-electron integrals from AO basis into MO basis\n",
      "\n",
      "    - This can be done naively ($O(N^{8})$) as follows:\n",
      "    \n",
      "    $$ (pq|rs) = \\sum_{i}\\sum_{j}\\sum_{k}\\sum_{l}C_{i}^{p}C_{j}^{q}C_{k}^{r}C_{l}^{s}(ij|kl)$$\n",
      "    \n",
      "    - A smarter way ($O(N^{5})$) would be to use partial quarter transformations:\n",
      "    \n",
      "    $$ (pq|rs) = \\sum_{i}C_{i}^{p}\\left[\\sum_{j}C_{j}^{q}\\left[\\sum_{k}C_{k}^{r}\\left[\\sum_{l}C_{l}^{s}(ij|kl)\\right]\\right]\\right]$$\n",
      "        "
     ]
    },
    {
     "cell_type": "code",
     "collapsed": false,
     "input": [
      "#Convert Electron Repulsion Tensor from AO basis to MO basis\n",
      "MOERT = np.einsum('ijkl, ls -> ijks',MOERT,C)\n",
      "MOERT = np.einsum('ijks, kr -> ijrs',MOERT,C)\n",
      "MOERT = np.einsum('ijrs, jq -> iqrs',MOERT,C)\n",
      "MOERT = np.einsum('iqrs, ip -> pqrs',MOERT,C)"
     ],
     "language": "python",
     "metadata": {
      "slideshow": {
       "slide_type": "fragment"
      }
     },
     "outputs": []
    },
    {
     "cell_type": "markdown",
     "metadata": {
      "slideshow": {
       "slide_type": "subslide"
      }
     },
     "source": [
      "- Now the MP2 energy correction can be calculated:\n",
      "\n",
      "$$E_{\\text{MP2}} = \\sum_{i}^{\\text{Occ. }\\phi}\\sum_{j}^{\\text{Occ. }\\phi}\\sum_{a}^{\\text{UnOcc. }\\phi}\\sum_{b}^{\\text{UnOcc. }\\phi}\\frac{(ij|ab)(2(ij|ab)-(ib|ja))}{(\\epsilon_{i}+\\epsilon_{i})-(\\epsilon_{a}+\\epsilon_{b})}$$"
     ]
    },
    {
     "cell_type": "code",
     "collapsed": false,
     "input": [
      "for i,j,a,b in itertools.product(xrange(nOcc),xrange(nOcc),\n",
      "                                 xrange(nOcc,N),xrange(nOcc,N)):\n",
      "\n",
      "    self.MP2Energy += MOERT[i,a,j,b] *\\\n",
      "                      (2 * MOERT[i,a,j,b] - MOERT[i,b,j,a])/\\\n",
      "                      (OrbEnergy[i] + OrbEnergy[j]\n",
      "                       - OrbEnergy[a] - OrbEnergy[b])\n"
     ],
     "language": "python",
     "metadata": {
      "slideshow": {
       "slide_type": "fragment"
      }
     },
     "outputs": []
    },
    {
     "cell_type": "code",
     "collapsed": false,
     "input": [
      "def MP2(self):\n",
      "\n",
      "    #define N-number of orbitals, nOcc-number of occupied orbitals,\n",
      "    #MOERT-ERT in MO basis, Orbenergy- energy of each orbital in\n",
      "    #ordered manner, C-Matrix of AO coefficients\n",
      "    N,nOcc,MOERT,OrbEnergy,C = len(self.orbList),self.nOcc,\\\n",
      "                               np.copy(self.ERT),self.eig,\\\n",
      "                               self.AOcoefs\n",
      "\n",
      "    #Convert Electron Repulsion Tensor from AO basis to MO basis\n",
      "    MOERT = np.einsum('ijkl, ls -> ijks',MOERT,C)\n",
      "    MOERT = np.einsum('ijks, kr -> ijrs',MOERT,C)\n",
      "    MOERT = np.einsum('ijrs, jq -> iqrs',MOERT,C)\n",
      "    MOERT = np.einsum('iqrs, ip -> pqrs',MOERT,C)\n",
      "\n",
      "    self.MP2Energy = 0\n",
      "\n",
      "    for i,j,a,b in itertools.product(xrange(nOcc),xrange(nOcc),\n",
      "                                     xrange(nOcc,N),xrange(nOcc,N)):\n",
      "\n",
      "        self.MP2Energy += MOERT[i,a,j,b] *\\\n",
      "                          (2 * MOERT[i,a,j,b] - MOERT[i,b,j,a])/\\\n",
      "                          (OrbEnergy[i] + OrbEnergy[j]\n",
      "                           - OrbEnergy[a] - OrbEnergy[b])\n",
      "\n",
      "    self.TotalEnergy += self.MP2Energy"
     ],
     "language": "python",
     "metadata": {
      "slideshow": {
       "slide_type": "slide"
      }
     },
     "outputs": []
    }
   ],
   "metadata": {}
  }
 ]
}