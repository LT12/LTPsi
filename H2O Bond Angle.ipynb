{
 "metadata": {
  "name": "",
  "signature": "sha256:faf0a58908e3b3865ac6fb29d6d4c8c0f964784c5fcdfe1e0f34840e986c529b"
 },
 "nbformat": 3,
 "nbformat_minor": 0,
 "worksheets": [
  {
   "cells": [
    {
     "cell_type": "code",
     "collapsed": false,
     "input": [
      "from Molecule import Molecule\n",
      "from SCF import SCF\n",
      "import scipy as sp\n",
      "from renderMolecule import renderMolecule\n",
      "import matplotlib.pyplot as plt\n",
      "%matplotlib inline"
     ],
     "language": "python",
     "metadata": {},
     "outputs": [],
     "prompt_number": 1
    },
    {
     "cell_type": "code",
     "collapsed": false,
     "input": [
      "water = Molecule(\"Molecules/wat.mol\")"
     ],
     "language": "python",
     "metadata": {},
     "outputs": [],
     "prompt_number": 2
    },
    {
     "cell_type": "code",
     "collapsed": false,
     "input": [
      "theta = sp.linspace(20,160,400)"
     ],
     "language": "python",
     "metadata": {},
     "outputs": [],
     "prompt_number": 3
    },
    {
     "cell_type": "code",
     "collapsed": false,
     "input": [
      "def coordinates(theta):\n",
      "    return sp.array([[0,0,0],[1.88972612*sp.cos(theta*sp.pi/180.),1.88972612*sp.sin(theta*sp.pi/180.),0],\n",
      "                             [1.88972612*sp.cos(theta*sp.pi/180.), -1.88972612*sp.sin(theta*sp.pi/180.),0]])"
     ],
     "language": "python",
     "metadata": {},
     "outputs": [],
     "prompt_number": 4
    },
    {
     "cell_type": "code",
     "collapsed": false,
     "input": [
      "coordinates(90)"
     ],
     "language": "python",
     "metadata": {},
     "outputs": [
      {
       "metadata": {},
       "output_type": "pyout",
       "prompt_number": 5,
       "text": [
        "array([[  0.00000000e+00,   0.00000000e+00,   0.00000000e+00],\n",
        "       [  1.15712352e-16,   1.88972612e+00,   0.00000000e+00],\n",
        "       [  1.15712352e-16,  -1.88972612e+00,   0.00000000e+00]])"
       ]
      }
     ],
     "prompt_number": 5
    },
    {
     "cell_type": "code",
     "collapsed": false,
     "input": [
      "v_coordinates = sp.vectorize(coordinates,otypes=[sp.ndarray])\n",
      "coordArray = v_coordinates(theta)"
     ],
     "language": "python",
     "metadata": {},
     "outputs": [],
     "prompt_number": 6
    },
    {
     "cell_type": "code",
     "collapsed": false,
     "input": [
      "def EnergyVal(coord):\n",
      "    res = SCF(water,MP2=True,basis=\"DZP\",cartMatrix=coord)\n",
      "    return res.TotalEnergy"
     ],
     "language": "python",
     "metadata": {},
     "outputs": [],
     "prompt_number": 19
    },
    {
     "cell_type": "code",
     "collapsed": false,
     "input": [
      "v_EnergyVal = sp.vectorize(EnergyVal,otypes=[sp.float64])\n",
      "Energies = v_EnergyVal(coordArray) "
     ],
     "language": "python",
     "metadata": {},
     "outputs": []
    },
    {
     "cell_type": "code",
     "collapsed": false,
     "input": [
      "plt.xkcd()\n",
      "plt.ylabel(\"RHF Energy (Hartrees)\")\n",
      "plt.xlabel(\"H-O-H Bond Angle ($^\\circ$)\")\n",
      "plt.plot(2 * theta,Energies)"
     ],
     "language": "python",
     "metadata": {},
     "outputs": []
    },
    {
     "cell_type": "code",
     "collapsed": false,
     "input": [
      "print \"Optimal H-O-H angle is equal to: \" +str(2*theta[sp.argmin(Energies[:theta.size/2])])"
     ],
     "language": "python",
     "metadata": {},
     "outputs": []
    },
    {
     "cell_type": "code",
     "collapsed": false,
     "input": [],
     "language": "python",
     "metadata": {},
     "outputs": []
    }
   ],
   "metadata": {}
  }
 ]
}